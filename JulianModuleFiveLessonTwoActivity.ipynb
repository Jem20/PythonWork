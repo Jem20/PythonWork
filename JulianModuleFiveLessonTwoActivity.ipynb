{
 "cells": [
  {
   "cell_type": "markdown",
   "metadata": {},
   "source": [
    "# Module Five Lesson Two Practice Activity\n",
    "# Julian Monsalve 3/3/2022\n",
    "# In this lesson I've learned how to control while loops.\n",
    "# No difficulties.\n",
    "## `while()` Boolean Loops\n",
    "- While `True`  or forever loops\n",
    "- Incrementing in loops\n",
    "- **Boolean operators in while loops**\n",
    "\n",
    "### Student will be able to\n",
    "- Create forever loops using `while` and `break`\n",
    "- Use incrementing variables in a while loop\n",
    "- **Control while loops using Boolean operators**"
   ]
  },
  {
   "cell_type": "markdown",
   "metadata": {
    "collapsed": true
   },
   "source": [
    "## Concept: `while` with Boolean Comparison\n",
    "[View While Boolean Comparison video](https://ncvps.yuja.com/V/Video?v=4514376&node=15054255&a=1930443262&autoplay=1)\n",
    "\n",
    "### `while`  with Boolean comparison operator\n",
    "#### `while x &lt; 5:`\n",
    "With increment we use **`break`** when count becomes greater than some number.\n",
    "\n",
    "The same result can be achieved by using **`while x &lt; 5:`**."
   ]
  },
  {
   "cell_type": "markdown",
   "metadata": {},
   "source": [
    "### Examples\n",
    "  \n"
   ]
  },
  {
   "cell_type": "code",
   "execution_count": 1,
   "metadata": {},
   "outputs": [
    {
     "name": "stdout",
     "output_type": "stream",
     "text": [
      "5 !\n",
      "4 !\n",
      "3 !\n",
      "2 !\n",
      "1 !\n",
      "\n",
      "IGNITION!\n"
     ]
    }
   ],
   "source": [
    "# review and run GREET COUNT\n",
    "greet_count = 5\n",
    "\n",
    "# loop while count is greater than 0\n",
    "while greet_count > 0:\n",
    "    print(greet_count, \"!\")\n",
    "    greet_count -= 1\n",
    "print(\"\\nIGNITION!\")"
   ]
  },
  {
   "cell_type": "markdown",
   "metadata": {},
   "source": [
    "## Task 1: `while` with comparison operator \n",
    "### Program: Animal Names\n",
    "- Use **`while`** to get the user input, animal_name, of 4 animals \n",
    "  - Use a counter, num_animals, in the while loop condition\n",
    "  - Append the names to a string variable, all_animals\n",
    "  - User can exit early by typing \"exit\" (check if animal_name is \"exit\" and break)\n",
    "- When the loop finishes, print the names of all_animals\n",
    "\n",
    "- Bonus: print \"no animals\" if animal_name is empty after exiting the loop\n",
    "\n",
    "**Tip:** Think about Sequence and variables that need to be initialized before the while loop"
   ]
  },
  {
   "cell_type": "code",
   "execution_count": 30,
   "metadata": {},
   "outputs": [
    {
     "name": "stdout",
     "output_type": "stream",
     "text": [
      "cow added\n",
      "zebra added\n",
      "crab added\n",
      "toad added\n",
      "Animals entered:    Cow   Zebra   Crab   Toad\n"
     ]
    }
   ],
   "source": [
    "# [ ] Create the Animal Names program, run tests\n",
    "\n",
    "num_animals = 4\n",
    "all_animals = ''\n",
    "\n",
    "\n",
    "while num_animals > 0:\n",
    "      animal_name = input('Please enter the name of an animal or \"exit\" to leave: ').lower()\n",
    "      if animal_name.startswith(\"exit\"):\n",
    "         print(\"No more animals entered\\n\")\n",
    "         break\n",
    "\n",
    "      else:\n",
    "         print(animal_name,\"added\")\n",
    "         all_animals += '   ' + animal_name.title()\n",
    "         num_animals -= 1\n",
    "\n",
    "\n",
    "if all_animals == '':\n",
    "    print(\"no animals entered\")\n",
    "else:\n",
    "    print(\"Animals entered:\",all_animals)"
   ]
  },
  {
   "cell_type": "markdown",
   "metadata": {
    "collapsed": true
   },
   "source": [
    "## Concept: `while` with Boolean String Tests\n",
    "[View While Boolean String video](https://ncvps.yuja.com/V/Video?v=4514380&node=15054271&a=1729339378&autoplay=1)\n",
    "\n",
    "### Using `while` with a Boolean String Tests\n",
    "A while loop can be controlled by Boolean strings such as `while name.isalpha() == False:`"
   ]
  },
  {
   "cell_type": "markdown",
   "metadata": {},
   "source": [
    "### Example"
   ]
  },
  {
   "cell_type": "code",
   "execution_count": 34,
   "metadata": {},
   "outputs": [
    {
     "name": "stdout",
     "output_type": "stream",
     "text": [
      "\n",
      "Juan has been entered as first name\n"
     ]
    }
   ],
   "source": [
    "# review and run example that loops until a valid first name format is entered\n",
    "student_fname = \"\"\n",
    "while student_fname.isalpha() == False:\n",
    "    student_fname = input(\"enter student\\'s first (Letters only, No spaces): \")\n",
    "print(\"\\n\" + student_fname.title(),\"has been entered as first name\")"
   ]
  },
  {
   "cell_type": "markdown",
   "metadata": {},
   "source": [
    "## Task 2: Using `while` with a Boolean String\n",
    "### Program: Long Number\n",
    "#### Create variables\n",
    "- **`int_num`** and get user input **string** of only digits  \n",
    "- **`long_num`** and initialize it as an empty string  \n",
    "\n",
    "#### Create a while loop that runs as long as the input is all digits  \n",
    "\n",
    "#### Inside the while loop   \n",
    "- Add **`int_num`** to the end of **`long_num`**\n",
    "- Get user input for **`int_num`** again (*inside while loop this time*)  \n",
    "\n",
    "#### After the loop exits \n",
    "- Print the value of **`long_num`**   "
   ]
  },
  {
   "cell_type": "code",
   "execution_count": 43,
   "metadata": {},
   "outputs": [
    {
     "name": "stdout",
     "output_type": "stream",
     "text": [
      "123346612\n"
     ]
    }
   ],
   "source": [
    "# [ ] Create the program, run tests\n",
    "\n",
    "int_num = input('Please put in a number')\n",
    "long_num = ''\n",
    "\n",
    "while int_num.isdigit():\n",
    "    long_num = long_num + int_num\n",
    "    int_num = input('Please put in a number')\n",
    "print (long_num)"
   ]
  },
  {
   "cell_type": "markdown",
   "metadata": {},
   "source": [
    "## Task 3: Fix the Errors\n",
    "This loop never runs.\n",
    "### This is a logic error - there is no ErrorMessage, but the code *doesn't work*"
   ]
  },
  {
   "cell_type": "code",
   "execution_count": 36,
   "metadata": {},
   "outputs": [
    {
     "name": "stdout",
     "output_type": "stream",
     "text": [
      "1 x 1 = 1\n",
      "2 x 2 = 4\n",
      "3 x 3 = 9\n",
      "4 x 4 = 16\n",
      "5 x 5 = 25\n"
     ]
    }
   ],
   "source": [
    "# [ ] review the code, run, fix the Logic error\n",
    "count = 1\n",
    "\n",
    "# loop 5 times\n",
    "while count < 6:\n",
    "    print(count, \"x\", count, \"=\", count*count)\n",
    "    count +=1\n"
   ]
  },
  {
   "cell_type": "markdown",
   "metadata": {},
   "source": [
    "[Terms of use](http://go.microsoft.com/fwlink/?LinkID=206977)   [Privacy &amp; cookies](https://go.microsoft.com/fwlink/?LinkId=521839)   © 2017 Microsoft"
   ]
  }
 ],
 "metadata": {
  "anaconda-cloud": {},
  "kernelspec": {
   "display_name": "Python 3",
   "language": "python",
   "name": "python3"
  },
  "language_info": {
   "codemirror_mode": {
    "name": "ipython",
    "version": 3
   },
   "file_extension": ".py",
   "mimetype": "text/x-python",
   "name": "python",
   "nbconvert_exporter": "python",
   "pygments_lexer": "ipython3",
   "version": "3.10.2"
  }
 },
 "nbformat": 4,
 "nbformat_minor": 1
}
