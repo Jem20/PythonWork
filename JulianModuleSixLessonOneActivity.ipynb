{
 "cells": [
  {
   "cell_type": "markdown",
   "metadata": {},
   "source": [
    "# Module Six Lesson One Practice Activity\n",
    "# Julian Monsalve\n",
    "# In this lesson I've learned how to slice strings into substrings.\n",
    "# No difficulties.\n",
    "## String Sequences\n",
    "- **Accessing string characters with index**\n",
    "- Accessing substrings with index slicing\n",
    "- Iterating through characters of a string\n",
    "- More string methods\n",
    "\n",
    "----- \n",
    "\n",
    "### Student will be able to\n",
    "- **Work with string characters by index**\n",
    "- Slice strings into substrings\n",
    "- Iterate through string characters\n",
    "- Use string methods"
   ]
  },
  {
   "cell_type": "markdown",
   "metadata": {
    "collapsed": true
   },
   "source": [
    "## Concept: Accessing a Single String Character\n",
    "[View String Index Address video](https://ncvps.yuja.com/V/Video?v=4514479&node=15054545&a=202035518&autoplay=1)\n",
    "### Addressing a string index\n",
    "Strings are sequences of characters.  Another common sequence type used in this course is a **list**.  Sequences index items counting from 0 for the first item.\n",
    "\n",
    "\n",
    "```python\n",
    "# assign string to student_name\n",
    "student_name = \"Alton\"\n",
    "# first character is at index 0\n",
    "student_name[0]\n",
    "```  \n"
   ]
  },
  {
   "cell_type": "markdown",
   "metadata": {},
   "source": [
    "### Examples"
   ]
  },
  {
   "cell_type": "code",
   "execution_count": 1,
   "metadata": {
    "collapsed": true
   },
   "outputs": [
    {
     "name": "stdout",
     "output_type": "stream",
     "text": [
      "A <-- first character at index 0\n",
      "l\n",
      "t\n",
      "o\n",
      "n\n"
     ]
    }
   ],
   "source": [
    "# [ ] review and run example - note the first element is always index = 0\n",
    "student_name = \"Alton\"\n",
    "print(student_name[0], \"<-- first character at index 0\")\n",
    "print(student_name[1])\n",
    "print(student_name[2])\n",
    "print(student_name[3])\n",
    "print(student_name[4])"
   ]
  },
  {
   "cell_type": "code",
   "execution_count": 2,
   "metadata": {},
   "outputs": [
    {
     "name": "stdout",
     "output_type": "stream",
     "text": [
      "Winner! Name starts with J: Jin\n"
     ]
    }
   ],
   "source": [
    "# [ ] review and run example\n",
    "student_name = \"Jin\"\n",
    "if student_name[0].lower() == \"a\":\n",
    "    print('Winner! Name starts with A:', student_name)\n",
    "elif student_name[0].lower() == \"j\":\n",
    "    print('Winner! Name starts with J:', student_name)\n",
    "else:\n",
    "    print('Not a match, try again tomorrow:', student_name)"
   ]
  },
  {
   "cell_type": "code",
   "execution_count": 5,
   "metadata": {},
   "outputs": [
    {
     "name": "stdout",
     "output_type": "stream",
     "text": [
      "s\n"
     ]
    }
   ],
   "source": [
    "# [ ] review and run ERROR example\n",
    "# cannot index out of range\n",
    "student_name = \"Tobias\"\n",
    "print(student_name[5])"
   ]
  },
  {
   "cell_type": "markdown",
   "metadata": {
    "collapsed": true
   },
   "source": [
    "## Task 1: Work with individual string characters  \n",
    "\n",
    "|                                                                 |\n",
    "|-----------------------------------------------------------------|\n",
    "| **Remember:** The first character in a string is at **index 0**.|\n",
    "|                                                                 |\n"
   ]
  },
  {
   "cell_type": "code",
   "execution_count": 11,
   "metadata": {},
   "outputs": [
    {
     "name": "stdout",
     "output_type": "stream",
     "text": [
      "C <-- first character at index 0\n",
      "a\n",
      "p\n",
      "i\n",
      "t\n",
      "a\n",
      "l\n",
      " \n",
      "B\n",
      "l\n",
      "v\n",
      "d\n"
     ]
    }
   ],
   "source": [
    "# [ ] assign a string 5 or more letters long to the variable: street_name\n",
    "# [ ] print the 1st, 3rd and 5th characters\n",
    "\n",
    "street_name = \"Capital Blvd\"\n",
    "print(street_name[0], \"<-- first character at index 0\")\n",
    "print(street_name[1])\n",
    "print(street_name[2])\n",
    "print(street_name[3])\n",
    "print(street_name[4])\n",
    "print(street_name[5])\n",
    "print(street_name[6])\n",
    "print(street_name[7])\n",
    "print(street_name[8])\n",
    "print(street_name[9])\n",
    "print(street_name[10])\n",
    "print(street_name[11])"
   ]
  },
  {
   "cell_type": "code",
   "execution_count": 24,
   "metadata": {},
   "outputs": [
    {
     "name": "stdout",
     "output_type": "stream",
     "text": [
      "You're title is correct!! Go ahead and use it for your team.\n"
     ]
    }
   ],
   "source": [
    "# [ ] Create an input variable: team_name - ask that second letter = \"i\", \"o\", or \"u\"\n",
    "# [ ] Test if team_name 2nd character = \"i\", \"o\", or \"u\" and print a message\n",
    "# note: use if, elif and else\n",
    "\n",
    "team_name = input( 'Enter a team name that has \"i\", \"o\", or \"u\" as its 2nd letter: ' )\n",
    "\n",
    "if team_name.lower()[1]== \"i\":\n",
    "    print(\"You're title is correct!! Go ahead and use it for your team.\")\n",
    "elif team_name.lower()[1]== \"o\":\n",
    "    print(\"You're title is correct!! Go ahead and use it for your team.\")\n",
    "elif team_name.lower()[1]== \"u\":\n",
    "    print(\"You're title is correct!! Go ahead and use it for your team.\")\n",
    "else:\n",
    "    print(\"Sorry, your title is not valid.\\nTry Again\")"
   ]
  },
  {
   "cell_type": "markdown",
   "metadata": {},
   "source": [
    "## Concept: Using a Negative Index \n",
    "[View Using a Negative Index video](https://ncvps.yuja.com/V/Video?v=4514483&node=15054550&a=1203894078&autoplay=1])\n",
    "### Access the end of a string using -1\n",
    "Strings assign an **index** number address to each string character\n",
    "\n",
    "- First character in a string is index 0\n",
    "- Last character in a string is index **-1**\n",
    "\n",
    "\n",
    "To access the last character in a string:\n",
    "```python\n",
    "student_name[-1]\n",
    "```\n"
   ]
  },
  {
   "cell_type": "markdown",
   "metadata": {},
   "source": [
    "### Examples\n",
    "\n"
   ]
  },
  {
   "cell_type": "markdown",
   "metadata": {},
   "source": [
    "#### access the last character with the -1 index\n",
    "negative index counts back from the last character in a string  "
   ]
  },
  {
   "cell_type": "code",
   "execution_count": 25,
   "metadata": {},
   "outputs": [
    {
     "name": "stdout",
     "output_type": "stream",
     "text": [
      "Joana ends with 'a'\n"
     ]
    }
   ],
   "source": [
    "# [ ] review and run example\n",
    "student_name = \"Joana\"\n",
    "\n",
    "# get last letter\n",
    "end_letter = student_name[-1]\n",
    "print(student_name,\"ends with\", \"'\" + end_letter + \"'\")"
   ]
  },
  {
   "cell_type": "code",
   "execution_count": 26,
   "metadata": {},
   "outputs": [
    {
     "name": "stdout",
     "output_type": "stream",
     "text": [
      "Joana has 2nd to last letter of 'n'\n"
     ]
    }
   ],
   "source": [
    "# [ ] review and run example\n",
    "# get second to last letter\n",
    "second_last_letter = student_name[-2]\n",
    "print(student_name,\"has 2nd to last letter of\", \"'\" + second_last_letter + \"'\")"
   ]
  },
  {
   "cell_type": "code",
   "execution_count": 27,
   "metadata": {},
   "outputs": [
    {
     "name": "stdout",
     "output_type": "stream",
     "text": [
      "for Joana\n",
      "index 3 = 'n'\n",
      "index -2 = 'n'\n"
     ]
    }
   ],
   "source": [
    "# [ ] review and run example\n",
    "# you can get to the same letter with index counting + or -\n",
    "print(\"for\", student_name)\n",
    "print(\"index 3 =\", \"'\" + student_name[3] + \"'\")\n",
    "print(\"index -2 =\",\"'\" + student_name[-2] + \"'\")"
   ]
  },
  {
   "cell_type": "markdown",
   "metadata": {
    "collapsed": true
   },
   "source": [
    "## Task 2\n"
   ]
  },
  {
   "cell_type": "code",
   "execution_count": 29,
   "metadata": {},
   "outputs": [
    {
     "name": "stdout",
     "output_type": "stream",
     "text": [
      "for Snowy\n",
      "3rd to last letter: o\n",
      "2nd to last letter: w\n",
      "Last letter: y\n"
     ]
    }
   ],
   "source": [
    "# [ ] assign a string 5 or more letters long to the variable: street_name\n",
    "# [ ] print the last 3 characters of street_name\n",
    "\n",
    "street_name = \"Snowy\"\n",
    "\n",
    "print(\"for\",street_name)\n",
    "print(\"3rd to last letter:\",street_name[-3])\n",
    "print(\"2nd to last letter:\",street_name[-2])\n",
    "print(\"Last letter:\",street_name[-1])"
   ]
  },
  {
   "cell_type": "code",
   "execution_count": 33,
   "metadata": {},
   "outputs": [
    {
     "name": "stdout",
     "output_type": "stream",
     "text": [
      "For Steve:\n",
      "First letter: S\n",
      "Last letter: e\n"
     ]
    }
   ],
   "source": [
    "# [ ] create and assign string variable: first_name\n",
    "\n",
    "# [ ] print the first and last letters of name\n",
    "\n",
    "first_name = \"Steve\"\n",
    "\n",
    "print(\"For\",first_name + \":\")\n",
    "print(\"First letter:\", first_name[0])\n",
    "print(\"Last letter:\", first_name[-1])"
   ]
  },
  {
   "cell_type": "markdown",
   "metadata": {
    "collapsed": true
   },
   "source": [
    "## Task 3: Fix the errors"
   ]
  },
  {
   "cell_type": "code",
   "execution_count": 35,
   "metadata": {},
   "outputs": [
    {
     "name": "stdout",
     "output_type": "stream",
     "text": [
      "s\n"
     ]
    }
   ],
   "source": [
    "# [ ] Review, Run, Fix the error using string index\n",
    "shoe = \"tennis\"\n",
    "# print the last letter\n",
    "print(shoe[-1])"
   ]
  },
  {
   "cell_type": "markdown",
   "metadata": {},
   "source": [
    "[Terms of use](http://go.microsoft.com/fwlink/?LinkID=206977)   [Privacy &amp; cookies](https://go.microsoft.com/fwlink/?LinkId=521839)   © 2017 Microsoft"
   ]
  }
 ],
 "metadata": {
  "anaconda-cloud": {},
  "kernelspec": {
   "display_name": "Python 3",
   "language": "python",
   "name": "python3"
  },
  "language_info": {
   "codemirror_mode": {
    "name": "ipython",
    "version": 3
   },
   "file_extension": ".py",
   "mimetype": "text/x-python",
   "name": "python",
   "nbconvert_exporter": "python",
   "pygments_lexer": "ipython3",
   "version": "3.5.4"
  }
 },
 "nbformat": 4,
 "nbformat_minor": 1
}
