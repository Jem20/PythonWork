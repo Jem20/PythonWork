{
  "cells": [
    {
      "cell_type": "markdown",
      "metadata": {
        "collapsed": true
      },
      "source": [
        "#  Module 4 Project\n",
        "# Julian Monsalve 2/24/2022\n",
        "# In this lesson I've learned how to print a outpust using numeric inputs.\n",
        "# No difficulties.\n",
        "Course 40460: Introduction to Python, Unit 1 \n",
        "\n",
        "The activity is based on Modules 1 - 4 and is similar to the Jupyter Notebook for Module 4 lab, which you may have completed.\n",
        "\n",
        "&gt; **NOTE:** This program requires the use of **`if, elif, else`**, and casting between strings and numbers. The program should use the various code syntax covered in Module 4.  \n",
        "&gt;  \n",
        "&gt;The program must result in print output using numeric input similar to that shown in the sample below.\n",
        "\n",
        "## Program: Cheese Order    \n",
        "\n",
        "- Set values for maximum and minimum order variables  \n",
        "- Set value for price variable\n",
        "- Get order_amount input and cast to a number  \n",
        "- Check order_amount and give message checking against  \n",
        "  - over maximum\n",
        "  - under minimum\n",
        "- Else within maximum and minimum give message with calculated price \n",
        "\n",
        "\n",
        "Sample input and output:\n",
        "```\n",
        "Enter cheese order weight (numeric value): 113\n",
        "113.0 is more than currently available stock\n",
        "```\n",
        "\n",
        "```\n",
        "Enter cheese order weight (numeric value): .15\n",
        "0.15 is below minimum order amount\n",
        "```  \n",
        "\n",
        "```\n",
        "Enter cheese order weight (numeric value): 2\n",
        "2.0 costs $15.98\n",
        "```  \n",
        "\n",
        "#### Before submission: Remember you need to add descriptive comments in each cell (examples AND tasks) that explains what your code is doing.  "
      ]
    },
    {
      "cell_type": "code",
      "execution_count": 11,
      "metadata": {
        "trusted": false
      },
      "outputs": [
        {
          "name": "stdout",
          "output_type": "stream",
          "text": [
            "24.0 costs $191.76\n"
          ]
        }
      ],
      "source": [
        "# set values for maximum order variables\n",
        "maximum = 100.0\n",
        "# set values for minimum order variables\n",
        "minimum = 1.0\n",
        "# setting value for price variable\n",
        "price = 7.99\n",
        "# get order_amount input and cast to a number(float)\n",
        "order_amount = input(\"Enter cheese order weight (numeric value): \")\n",
        "# if order_amount is greater than maximum value\n",
        "if float(order_amount) > maximum:\n",
        "# print the message\n",
        "    print((float(order_amount)), \"is over maximum than current available stock\")\n",
        "# else if order_amount is less than minimum value\n",
        "elif float(order_amount) < minimum:\n",
        "# print the message\n",
        "    print((float(order_amount)), \"is under minimum available order amount\")\n",
        "# else order_amount is in between\n",
        "else:\n",
        "# calculate the cost and then print the cost upto two decimal point\n",
        "    costs = float(order_amount)*price\n",
        "# print the final output\n",
        "    print(float(order_amount), \"costs $\"+str(costs))"
      ]
    },
    {
      "cell_type": "markdown",
      "metadata": {},
      "source": [
        "[Terms of use](http://go.microsoft.com/fwlink/?LinkID=206977)   [Privacy &amp; cookies](https://go.microsoft.com/fwlink/?LinkId=521839)   © 2017 Microsoft"
      ]
    }
  ],
  "metadata": {
    "anaconda-cloud": {},
    "kernelspec": {
      "display_name": "Python 3",
      "language": "python",
      "name": "python3"
    },
    "language_info": {
      "codemirror_mode": {
        "name": "ipython",
        "version": 3
      },
      "file_extension": ".py",
      "mimetype": "text/x-python",
      "name": "python",
      "nbconvert_exporter": "python",
      "pygments_lexer": "ipython3",
      "version": "3.10.2"
    }
  },
  "nbformat": 4,
  "nbformat_minor": 1
}
