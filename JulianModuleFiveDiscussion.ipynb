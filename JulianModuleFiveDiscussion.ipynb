{
 "cells": [
  {
   "cell_type": "code",
   "execution_count": 2,
   "metadata": {},
   "outputs": [
    {
     "name": "stdout",
     "output_type": "stream",
     "text": [
      "The Bathroom is a title\n"
     ]
    }
   ],
   "source": [
    "while True:\n",
    "    title = input(\"Enter a title:\")\n",
    "\n",
    "    if title != title.title():\n",
    "        print(title, \"is not a correct title. Try again.\")\n",
    "    elif title == title.title():\n",
    "        print(title, \"is a title\")\n",
    "        break"
   ]
  }
 ],
 "metadata": {
  "interpreter": {
   "hash": "b1f2ad900a3e0f99e1eaee72793fbab729a54e9f234f742c12417b7447d5b7e6"
  },
  "kernelspec": {
   "display_name": "Python 3.10.2 64-bit",
   "language": "python",
   "name": "python3"
  },
  "language_info": {
   "codemirror_mode": {
    "name": "ipython",
    "version": 3
   },
   "file_extension": ".py",
   "mimetype": "text/x-python",
   "name": "python",
   "nbconvert_exporter": "python",
   "pygments_lexer": "ipython3",
   "version": "3.10.2"
  },
  "orig_nbformat": 4
 },
 "nbformat": 4,
 "nbformat_minor": 2
}
