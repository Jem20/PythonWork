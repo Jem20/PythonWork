{
 "cells": [
  {
   "cell_type": "markdown",
   "metadata": {},
   "source": [
    "# Module Six Lesson Four Practice Activity One\n",
    "# Julian Monsalve 3/17/2022\n",
    "# In this lesson I've learned how to create lists and access items in a list.\n",
    "# No difficulties.\n",
    "## List Sequences\n",
    "- **List Creation**\n",
    "- **List Access**\n",
    "- List Append\n",
    "- List Insert\n",
    "- List Delete\n",
    "\n",
    "----- \n",
    "\n",
    "### Student will be able to\n",
    "- **Create lists**\n",
    "- **Access items in a list**\n",
    "- Add items to the end of a list\n",
    "- Modify and insert items into a list\n",
    "- Delete items from a list"
   ]
  },
  {
   "cell_type": "markdown",
   "metadata": {},
   "source": [
    "## Concept: Creating Lists\n",
    "[View Creating Lists video](https://ncvps.yuja.com/V/Video?v=4514546&node=15054664&a=824416378&autoplay=1)\n",
    "  \n",
    "  \n",
    "A simple lists contains **comma separated** objects enclosed in **square brackets**.\n",
    "```python\n",
    "empty_list = [ ]\n",
    "sample_list = [1, 1, 2, 3, 3, 3, 3, 4, 5, 5, 5, 5, 5]\n",
    "```\n",
    "\n",
    "List object types are not restricted so a mix of object types can be in single list\n",
    "```python\n",
    "mixed_list = [1, 1, \"one\", \"two\", 2.0, sample_list, \"Hello World\"]\n",
    "```"
   ]
  },
  {
   "cell_type": "markdown",
   "metadata": {},
   "source": [
    "### Examples"
   ]
  },
  {
   "cell_type": "code",
   "execution_count": 1,
   "metadata": {},
   "outputs": [
    {
     "name": "stdout",
     "output_type": "stream",
     "text": [
      "ft_bones:  <class 'list'>\n",
      "['calcaneus', 'talus', 'cuboid', 'navicular', 'lateral cuneiform', 'intermediate cuneiform', 'medial cuneiform']\n"
     ]
    }
   ],
   "source": [
    "# [ ] review and run example\n",
    "# define list of strings\n",
    "ft_bones = [\"calcaneus\", \"talus\", \"cuboid\", \"navicular\", \"lateral cuneiform\", \"intermediate cuneiform\", \"medial cuneiform\"]\n",
    "\n",
    "# display type information\n",
    "print(\"ft_bones: \", type(ft_bones))\n",
    "\n",
    "# print the list\n",
    "print(ft_bones)"
   ]
  },
  {
   "cell_type": "code",
   "execution_count": 2,
   "metadata": {},
   "outputs": [
    {
     "name": "stdout",
     "output_type": "stream",
     "text": [
      "age_survey:  <class 'list'>\n",
      "[12, 14, 12, 29, 12, 14, 12, 12, 13, 12, 14, 13, 13, 46, 13, 12, 12, 13, 13, 12, 12]\n"
     ]
    }
   ],
   "source": [
    "# [ ] review and run example\n",
    "# define list of integers\n",
    "age_survey = [12, 14, 12, 29, 12, 14, 12, 12, 13, 12, 14, 13, 13, 46, 13, 12, 12, 13, 13, 12, 12]\n",
    "\n",
    "# display type information\n",
    "print(\"age_survey: \", type(age_survey))\n",
    "\n",
    "# print the list\n",
    "print(age_survey)"
   ]
  },
  {
   "cell_type": "code",
   "execution_count": 3,
   "metadata": {},
   "outputs": [
    {
     "name": "stdout",
     "output_type": "stream",
     "text": [
      "mixed_list:  <class 'list'>\n",
      "[1, 34, 0.999, 'dog', 'cat', ['calcaneus', 'talus', 'cuboid', 'navicular', 'lateral cuneiform', 'intermediate cuneiform', 'medial cuneiform'], [12, 14, 12, 29, 12, 14, 12, 12, 13, 12, 14, 13, 13, 46, 13, 12, 12, 13, 13, 12, 12]]\n"
     ]
    }
   ],
   "source": [
    "# [ ] review and run example\n",
    "# define list of mixed data type\n",
    "mixed_list = [1, 34, 0.999, \"dog\", \"cat\", ft_bones, age_survey]\n",
    "\n",
    "# display type information\n",
    "print(\"mixed_list: \", type(mixed_list))\n",
    "\n",
    "# print the list\n",
    "print(mixed_list)"
   ]
  },
  {
   "cell_type": "markdown",
   "metadata": {
    "collapsed": true
   },
   "source": [
    "## Task 1: Create Lists"
   ]
  },
  {
   "cell_type": "code",
   "execution_count": 4,
   "metadata": {},
   "outputs": [
    {
     "name": "stdout",
     "output_type": "stream",
     "text": [
      "['Astros', 'Gators', 'Cubs', 'Elephants']\n"
     ]
    }
   ],
   "source": [
    "# [ ] create team_names list and populate with 3-5 team name strings\n",
    "\n",
    "# [ ] print the list\n",
    "\n",
    "team_names = [\"Astros\", \"Gators\", \"Cubs\", \"Elephants\"]\n",
    "print(team_names)"
   ]
  },
  {
   "cell_type": "code",
   "execution_count": 5,
   "metadata": {},
   "outputs": [
    {
     "name": "stdout",
     "output_type": "stream",
     "text": [
      "['one', 2, 'three', 4, 'five', 6]\n"
     ]
    }
   ],
   "source": [
    "# [ ] Create a list mix_list with numbers and strings with 4-6 items\n",
    "\n",
    "# [ ] print the list\n",
    "\n",
    "mix_list = [\"one\", 2, \"three\", 4, \"five\", 6]\n",
    "print(mix_list)"
   ]
  },
  {
   "cell_type": "markdown",
   "metadata": {},
   "source": [
    "## Concept: List Access \n",
    "[View Accessing Lists video](https://ncvps.yuja.com/V/Video?v=4514550&node=15054677&a=1013326284&autoplay=1)\n",
    "### Counting like a computer\n",
    "#### To access a list we need to count like a computer, and that means starting with zero (0)\n",
    "Lists give an **index** number to each list item.\n",
    "\n",
    "- first element in a list is index 0\n",
    "- second element in a list is index 1\n",
    "\n",
    "To access the first item in a list use the list name, followed by square brackets containing the index number.\n",
    "```python\n",
    "age_survey[0]\n",
    "```\n"
   ]
  },
  {
   "cell_type": "markdown",
   "metadata": {},
   "source": [
    "### Examples\n",
    "\n",
    "|run previous examples before running the examples below|\n",
    "|-----------------------------------------------------------|\n"
   ]
  },
  {
   "cell_type": "code",
   "execution_count": 6,
   "metadata": {},
   "outputs": [
    {
     "name": "stdout",
     "output_type": "stream",
     "text": [
      "calcaneus is the 1st bone on the list\n",
      "cuboid is the 3rd bone on the list\n",
      "medial cuneiform is the last bone on the list\n"
     ]
    }
   ],
   "source": [
    "# [ ] review and run example\n",
    "print(ft_bones[0], \"is the 1st bone on the list\")\n",
    "print(ft_bones[2], \"is the 3rd bone on the list\")\n",
    "print(ft_bones[-1], \"is the last bone on the list\")"
   ]
  },
  {
   "cell_type": "code",
   "execution_count": 7,
   "metadata": {},
   "outputs": [
    {
     "name": "stdout",
     "output_type": "stream",
     "text": [
      "talus is connected to the navicular\n"
     ]
    }
   ],
   "source": [
    "# [ ] review and run example\n",
    "print(ft_bones[1], \"is connected to the\",ft_bones[3])"
   ]
  },
  {
   "cell_type": "code",
   "execution_count": 8,
   "metadata": {},
   "outputs": [
    {
     "name": "stdout",
     "output_type": "stream",
     "text": [
      "The first three ages total 38\n"
     ]
    }
   ],
   "source": [
    "# [ ] review and run example\n",
    "three_ages_sum = age_survey[0] + age_survey[1] + age_survey[2]\n",
    "print(\"The first three ages total\", three_ages_sum)"
   ]
  },
  {
   "cell_type": "markdown",
   "metadata": {
    "collapsed": true
   },
   "source": [
    "## Task 2"
   ]
  },
  {
   "cell_type": "code",
   "execution_count": 12,
   "metadata": {},
   "outputs": [
    {
     "name": "stdout",
     "output_type": "stream",
     "text": [
      "['Green Level Church', 'Smokey Woods', 'Oak Street', 'Okelly Chapel', '77 Lane']\n"
     ]
    }
   ],
   "source": [
    "# [ ] Create a list, streets, that lists the name of 5 street name strings\n",
    "\n",
    "# [ ] print a message that there is \"No Parking\" on index 0 or index 4 streets\n",
    "\n",
    "streets = [\"Green Level Church\", \"Smokey Woods\", \"Oak Street\", \"Okelly Chapel\", \"77 Lane\"]\n",
    "if streets[4]:\n",
    "    print(streets)\n",
    "else:\n",
    "    print(\"No Parking\")"
   ]
  },
  {
   "cell_type": "code",
   "execution_count": 13,
   "metadata": {},
   "outputs": [
    {
     "name": "stdout",
     "output_type": "stream",
     "text": [
      "67\n"
     ]
    }
   ],
   "source": [
    "# [ ] Create a list, num_2_add, made of 5 different numbers between 0 - 25\n",
    "\n",
    "# [ ] print the sum of the numbers\n",
    "\n",
    "num_2_add = [4, 18, 15, 21, 9]\n",
    "sum = 4 + 18 + 15 + 21 + 9\n",
    "print(sum)"
   ]
  },
  {
   "cell_type": "markdown",
   "metadata": {
    "collapsed": true
   },
   "source": [
    "## Task 3: Fix the errors"
   ]
  },
  {
   "cell_type": "code",
   "execution_count": 14,
   "metadata": {},
   "outputs": [
    {
     "ename": "NameError",
     "evalue": "name 'pay_checks' is not defined",
     "output_type": "error",
     "traceback": [
      "\u001b[1;31m---------------------------------------------------------------------------\u001b[0m",
      "\u001b[1;31mNameError\u001b[0m                                 Traceback (most recent call last)",
      "\u001b[1;32mc:\\Users\\Jem\\Desktop\\School Work (Python)\\ModuleSixLessonFourActivityOne.ipynb Cell 19'\u001b[0m in \u001b[0;36m<cell line: 4>\u001b[1;34m()\u001b[0m\n\u001b[0;32m      <a href='vscode-notebook-cell:/c%3A/Users/Jem/Desktop/School%20Work%20%28Python%29/ModuleSixLessonFourActivityOne.ipynb#ch0000018?line=0'>1</a>\u001b[0m \u001b[39m# [ ] Review & Run, but ***Do Not Edit*** this code cell\u001b[39;00m\n\u001b[0;32m      <a href='vscode-notebook-cell:/c%3A/Users/Jem/Desktop/School%20Work%20%28Python%29/ModuleSixLessonFourActivityOne.ipynb#ch0000018?line=1'>2</a>\u001b[0m \u001b[39m# [ ] Fix the error by only editing and running the block below\u001b[39;00m\n\u001b[1;32m----> <a href='vscode-notebook-cell:/c%3A/Users/Jem/Desktop/School%20Work%20%28Python%29/ModuleSixLessonFourActivityOne.ipynb#ch0000018?line=3'>4</a>\u001b[0m \u001b[39mprint\u001b[39m(\u001b[39m\"\u001b[39m\u001b[39m Total of checks 3 & 4 = $\u001b[39m\u001b[39m\"\u001b[39m, pay_checks[\u001b[39m2\u001b[39m] \u001b[39m+\u001b[39m pay_checks[\u001b[39m3\u001b[39m])\n",
      "\u001b[1;31mNameError\u001b[0m: name 'pay_checks' is not defined"
     ]
    }
   ],
   "source": [
    "# [ ] Review & Run, but ***Do Not Edit*** this code cell\n",
    "# [ ] Fix the error by only editing and running the block below\n",
    "\n",
    "print(\" Total of checks 3 & 4 = $\", pay_checks[2] + pay_checks[3])"
   ]
  },
  {
   "cell_type": "code",
   "execution_count": 24,
   "metadata": {},
   "outputs": [
    {
     "name": "stdout",
     "output_type": "stream",
     "text": [
      "Total of checks 3 & 4 = $ 7\n"
     ]
    }
   ],
   "source": [
    "# [ ] Fix the error above by creating and running code in this cell\n",
    "\n",
    "pay_checks = [1, 2, 3, 4]\n",
    "print(\"Total of checks 3 & 4 = $\", pay_checks[2] + pay_checks[3])"
   ]
  },
  {
   "cell_type": "markdown",
   "metadata": {},
   "source": [
    "[Terms of use](http://go.microsoft.com/fwlink/?LinkID=206977)   [Privacy &amp; cookies](https://go.microsoft.com/fwlink/?LinkId=521839)   © 2017 Microsoft"
   ]
  }
 ],
 "metadata": {
  "anaconda-cloud": {},
  "kernelspec": {
   "display_name": "Python 3",
   "language": "python",
   "name": "python3"
  },
  "language_info": {
   "codemirror_mode": {
    "name": "ipython",
    "version": 3
   },
   "file_extension": ".py",
   "mimetype": "text/x-python",
   "name": "python",
   "nbconvert_exporter": "python",
   "pygments_lexer": "ipython3",
   "version": "3.5.4"
  }
 },
 "nbformat": 4,
 "nbformat_minor": 1
}
