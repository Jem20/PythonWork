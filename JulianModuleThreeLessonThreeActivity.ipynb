{
  "cells": [
    {
      "cell_type": "markdown",
      "metadata": {
        "colab_type": "text",
        "id": "FJqfCTyvFXW7"
      },
      "source": [
        "# Module Three Lesson Three Practice Activity\n",
        "# Julian Monsalve 2/10/2022\n",
        "# In this lesson I have learned on how to create functions with parameters and more.\n",
        "# No difficulties.\n",
        "## Functions, Arguments, and Parameters\n",
        "- Creating a simple function with parameters\n",
        "- Exploring functions with `return` values \n",
        "- Creating functions with multiple parameters\n",
        "- **Sequence in python**  \n",
        "\n",
        "-----\n",
        "\n",
        "### Student will be able to\n",
        "- Create functions with a parameter  \n",
        "- Create functions with a `return` value \n",
        "- Create functions with multiple parameters\n",
        "- **Use knowledge of sequence in coding tasks**  \n",
        "- **Use coding best practices** \n",
        "\n",
        "#### Before submission: Remember you need to add descriptive comments in each cell (examples AND tasks) that explains what your code is doing.  "
      ]
    },
    {
      "cell_type": "markdown",
      "metadata": {
        "colab_type": "text",
        "id": "eD-VhQt5FXW9"
      },
      "source": [
        "## Concept: Sequence\n",
        "In programming, **sequence** refers to the order that code is processed.  Objects in Python, such as variables and functions, are not available until they have been processed. \n",
        "\n",
        "Processing sequence flows from the top of a page of code to the bottom. This often means that **Function definitions are placed at the beginning of a page of code.**\n",
        "\n",
        "[![view video](https://iajupyterprodblobs.blob.core.windows.net/imagecontainer/common/play_video.png)]( http://edxinteractivepage.blob.core.windows.net/edxpages/f7cff1a7-5601-48a1-95a6-fd1fdfabd20e.html?details=[{\"src\":\"http://jupyternootbookwams.streaming.mediaservices.windows.net/29ebdee3-33e8-487f-9c73-621219e5e6d2/Unit1_Section3.3-Object_Sequence.ism/manifest\",\"type\":\"application/vnd.ms-sstr+xml\"}],[{\"src\":\"http://jupyternootbookwams.streaming.mediaservices.windows.net/29ebdee3-33e8-487f-9c73-621219e5e6d2/Unit1_Section3.3-Object_Sequence.vtt\",\"srclang\":\"en\",\"kind\":\"subtitles\",\"label\":\"english\"}])\n",
        "\n",
        "In the sample below, the function **`hat_color`** cannot be accessed since it is initialized after it is called at the bottom of the code.  \n",
        "```python\n",
        "have_hat = hat_available('green')  \n",
        "  \n",
        "print('hat available is', have_hat)\n",
        "\n",
        "def hat_available(color):\n",
        "    hat_colors = 'black, red, blue, green, white, grey, brown, pink'\n",
        "    return(color.lower() in hat_colors)\n",
        "```  \n",
        "This results in an error - the code flows from top to bottom is in the incorrect **sequence**. \n",
        "```python\n",
        "NameError: name 'hat_available' is not defined\n",
        "```\n",
        "In the statement   **`have_hat = hat_available('green')`**   the function   **`hat_available()`**   needs to be called after the function has been defined.\n",
        "&gt; **Note:** an argument or variable is said to be **hard coded** when assigned a literal or constant value.  \n",
        "    It is a good habit to avoid creating hard coded values in functions, such as  \n",
        "    `hat_colors = 'black, red, blue, green, white, grey, brown, pink'`."
      ]
    },
    {
      "cell_type": "markdown",
      "metadata": {
        "colab_type": "text",
        "id": "2mj_uFf5FXW-"
      },
      "source": [
        "### Examples"
      ]
    },
    {
      "cell_type": "code",
      "execution_count": 1,
      "metadata": {
        "colab": {},
        "colab_type": "code",
        "id": "27TgZt2cFXW_",
        "trusted": false
      },
      "outputs": [
        {
          "ename": "NameError",
          "evalue": "name 'hat_available' is not defined",
          "output_type": "error",
          "traceback": [
            "\u001b[1;31m---------------------------------------------------------------------------\u001b[0m",
            "\u001b[1;31mNameError\u001b[0m                                 Traceback (most recent call last)",
            "\u001b[1;32mc:\\Users\\Jem\\Desktop\\School Work (Python)\\ModuleThreeLessonThreeActivity.ipynb Cell 4'\u001b[0m in \u001b[0;36m<module>\u001b[1;34m\u001b[0m\n\u001b[0;32m      <a href='vscode-notebook-cell:/c%3A/Users/Jem/Desktop/School%20Work%20%28Python%29/ModuleThreeLessonThreeActivity.ipynb#ch0000003?line=0'>1</a>\u001b[0m \u001b[39m# review and run code - note: fix error in the following \"tasks\" section\u001b[39;00m\n\u001b[1;32m----> <a href='vscode-notebook-cell:/c%3A/Users/Jem/Desktop/School%20Work%20%28Python%29/ModuleThreeLessonThreeActivity.ipynb#ch0000003?line=1'>2</a>\u001b[0m have_hat \u001b[39m=\u001b[39m hat_available(\u001b[39m'\u001b[39m\u001b[39mgreen\u001b[39m\u001b[39m'\u001b[39m)  \n\u001b[0;32m      <a href='vscode-notebook-cell:/c%3A/Users/Jem/Desktop/School%20Work%20%28Python%29/ModuleThreeLessonThreeActivity.ipynb#ch0000003?line=3'>4</a>\u001b[0m \u001b[39mprint\u001b[39m(\u001b[39m'\u001b[39m\u001b[39mhat available is\u001b[39m\u001b[39m'\u001b[39m, have_hat)\n\u001b[0;32m      <a href='vscode-notebook-cell:/c%3A/Users/Jem/Desktop/School%20Work%20%28Python%29/ModuleThreeLessonThreeActivity.ipynb#ch0000003?line=5'>6</a>\u001b[0m \u001b[39mdef\u001b[39;00m \u001b[39mhat_available\u001b[39m(color):\n",
            "\u001b[1;31mNameError\u001b[0m: name 'hat_available' is not defined"
          ]
        }
      ],
      "source": [
        "# review and run code - note: fix error in the following \"tasks\" section\n",
        "have_hat = hat_available('green')  \n",
        "  \n",
        "print('hat available is', have_hat)\n",
        "\n",
        "def hat_available(color):\n",
        "    hat_colors = 'black, red, blue, green, white, grey, brown, pink'\n",
        "    # return Boolean\n",
        "    return(color.lower() in hat_colors)"
      ]
    },
    {
      "cell_type": "markdown",
      "metadata": {
        "colab_type": "text",
        "id": "DsJU0r9IFXXC"
      },
      "source": [
        "## Task 1: Change the Sequence to fix the `NameError`\n",
        "- [ ] Fix the code **sequence** so the  **`hat_available()`**  function is available when called and the code runs without error"
      ]
    },
    {
      "cell_type": "code",
      "execution_count": 5,
      "metadata": {
        "colab": {},
        "colab_type": "code",
        "id": "g6PDiKuZFXXD",
        "trusted": false
      },
      "outputs": [
        {
          "name": "stdout",
          "output_type": "stream",
          "text": [
            "hat available is True\n"
          ]
        }
      ],
      "source": [
        "def hat_available(color):\n",
        "    hat_colors = 'black, red, blue, green, white, grey, brown, pink'\n",
        "    return(color.lower() in hat_colors)\n",
        "\n",
        "have_hat = hat_available('green')  \n",
        "print('hat available is', have_hat)"
      ]
    },
    {
      "cell_type": "markdown",
      "metadata": {
        "colab_type": "text",
        "id": "tUXS1XUVFXXF"
      },
      "source": [
        "## Concept: Avoid Hard-Coding\n",
        "### \"Hard-coding\" is placing data values directly into code\n",
        "An example of hard-coding from above is **`have_hat = hat_available('green')`**  where the argument `'green'` is hard-coded.\n",
        "\n",
        "A programming best practice is to **avoid hard-coding values when possible**.\n",
        "- Use variables and verse hard-coded \n",
        "- Often preferable to use input such as a configuration file (advanced topic) or user input.\n",
        "These practices allow changing the data without disturbing the main code and makes code more reusable.\n"
      ]
    },
    {
      "cell_type": "markdown",
      "metadata": {
        "colab_type": "text",
        "id": "t2LaQRJ7FXXG"
      },
      "source": [
        "## Task 2 (program): bird_available\n",
        "The program should ask for user to \"input a bird name to check for availability\" and print a statement informing of availability.\n",
        "[![view video](https://iajupyterprodblobs.blob.core.windows.net/imagecontainer/common/play_video.png)]( http://edxinteractivepage.blob.core.windows.net/edxpages/f7cff1a7-5601-48a1-95a6-fd1fdfabd20e.html?details=[{\"src\":\"http://jupyternootbookwams.streaming.mediaservices.windows.net/767e4db3-7909-4829-99db-fd6750ea5d54/Unit1_Section3.3-Bird_Available.ism/manifest\",\"type\":\"application/vnd.ms-sstr+xml\"}],[{\"src\":\"http://jupyternootbookwams.streaming.mediaservices.windows.net/767e4db3-7909-4829-99db-fd6750ea5d54/Unit1_Section3.3-Bird_Available.vtt\",\"srclang\":\"en\",\"kind\":\"subtitles\",\"label\":\"english\"}])\n",
        "### Create this program with a Boolean function `bird_available()`\n",
        "- Has parameter that takes the name of a type of bird\n",
        "- For this exercise the variable `bird_types = 'crow robin parrot eagle sandpiper hawk piegon'`\n",
        "- Return `True` or `False` (we are making a Boolean Function)\n",
        "- Call the function using the name of a bird type from user input\n",
        "- Print a sentence that indicates the availablity of the type of bird checked\n"
      ]
    },
    {
      "cell_type": "code",
      "execution_count": 8,
      "metadata": {
        "colab": {},
        "colab_type": "code",
        "id": "m0UllUVtFXXG",
        "trusted": false
      },
      "outputs": [
        {
          "name": "stdout",
          "output_type": "stream",
          "text": [
            "It is True that a(n) Crow is a type of bird!\n"
          ]
        }
      ],
      "source": [
        "def bird_available(bird):\n",
        "    bird_types = 'crow robin parrot eagle sandpiper hawk pigeon'\n",
        "    return(bird.lower() in bird_types)\n",
        "\n",
        "bird = input(\"Enter bird: \")\n",
        "birdThere = bird_available(bird)\n",
        "print(\"It is\", birdThere, \"that a(n)\", bird, \"is a type of bird!\")"
      ]
    },
    {
      "cell_type": "markdown",
      "metadata": {
        "colab_type": "text",
        "collapsed": true,
        "id": "XCS7twYfFXXJ"
      },
      "source": [
        "## Task 3: Fix the error\n",
        "In addition to commenting on what the code does, inyour comments, describe what the error was and how you fixed it. "
      ]
    },
    {
      "cell_type": "code",
      "execution_count": 10,
      "metadata": {
        "colab": {},
        "colab_type": "code",
        "id": "CzijAmRyFXXK",
        "trusted": false
      },
      "outputs": [
        {
          "name": "stdout",
          "output_type": "stream",
          "text": [
            "14 will be ordered\n"
          ]
        }
      ],
      "source": [
        "# All I did was basically add a def to how_many since it wasn't being described.\n",
        "\n",
        "def how_many():\n",
        "    requested = input(\"enter how many you want: \")\n",
        "    return requested\n",
        "\n",
        "number_needed = how_many()\n",
        "print(number_needed, \"will be ordered\")\n"
      ]
    },
    {
      "cell_type": "markdown",
      "metadata": {
        "colab_type": "text",
        "collapsed": true,
        "id": "ftWzUMZ9FXXM"
      },
      "source": [
        "[Terms of use](http://go.microsoft.com/fwlink/?LinkID=206977)   [Privacy &amp; cookies](https://go.microsoft.com/fwlink/?LinkId=521839)   © 2017 Microsoft"
      ]
    }
  ],
  "metadata": {
    "anaconda-cloud": {},
    "colab": {
      "name": "ModuleThreeLessonThreePracticeActivity(1).ipynb",
      "provenance": []
    },
    "kernelspec": {
      "display_name": "Python 3",
      "language": "python",
      "name": "python3"
    },
    "language_info": {
      "codemirror_mode": {
        "name": "ipython",
        "version": 3
      },
      "file_extension": ".py",
      "mimetype": "text/x-python",
      "name": "python",
      "nbconvert_exporter": "python",
      "pygments_lexer": "ipython3",
      "version": "3.10.2"
    }
  },
  "nbformat": 4,
  "nbformat_minor": 0
}
