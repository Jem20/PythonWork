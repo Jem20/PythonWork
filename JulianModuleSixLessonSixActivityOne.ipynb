{
 "cells": [
  {
   "cell_type": "markdown",
   "metadata": {},
   "source": [
    "# Module Six Lesson Six Practice Activity One\n",
    "# Julian Monsalve 3/22/2022\n",
    "# In this lesson I've learned how to iterate through lists.\n",
    "# No difficulties.\n",
    "## The Power of List Iteration\n",
    "- **for in: `for` loop using `in`**\n",
    "- for range: `for range(start,stop,step)` \n",
    "- More list methods: `.extend()`, `+, .reverse(), .sort()` \n",
    "- Strings to lists,`.split()`, and list to strings, `.join()` \n",
    "----- \n",
    "\n",
    "### Student will be able to\n",
    "- **Iterate through lists using `for` with `in`**\n",
    "- Use `for range()` in looping operations \n",
    "- Use list methods `.extend()`, `+, .reverse(), .sort()` \n",
    "- Convert between lists and strings using `.split()` and `.join()` "
   ]
  },
  {
   "cell_type": "markdown",
   "metadata": {
    "collapsed": true
   },
   "source": [
    "## Concept: Iterate through Lists using ` for in`\n",
    "[View Iterate Through Lists video](https://ncvps.yuja.com/V/Video?v=4514588&node=15054737&a=323223561&autoplay=1)\n",
    "```python\n",
    "cities = [\"New York\", \"Shanghai\", \"Munich\", \"Tokyo\", \"Dubai\", \"Mexico City\", \"São Paulo\", \"Hyderabad\"]\n",
    "\n",
    "for city in cities:\n",
    "    print(city)\n",
    "```"
   ]
  },
  {
   "cell_type": "markdown",
   "metadata": {},
   "source": [
    "### Examples"
   ]
  },
  {
   "cell_type": "code",
   "execution_count": 17,
   "metadata": {},
   "outputs": [
    {
     "name": "stdout",
     "output_type": "stream",
     "text": [
      "New York\n",
      "Shanghai\n",
      "Munich\n",
      "Tokyo\n",
      "Dubai\n",
      "Mexico City\n",
      "São Paulo\n",
      "Hyderabad\n"
     ]
    }
   ],
   "source": [
    "# [ ] review and run example\n",
    "cities = [\"New York\", \"Shanghai\", \"Munich\", \"Tokyo\", \"Dubai\", \"Mexico City\", \"São Paulo\", \"Hyderabad\"]\n",
    "\n",
    "for city in cities:\n",
    "    print(city)"
   ]
  },
  {
   "cell_type": "code",
   "execution_count": 2,
   "metadata": {},
   "outputs": [
    {
     "name": "stdout",
     "output_type": "stream",
     "text": [
      "total sales: 124\n"
     ]
    }
   ],
   "source": [
    "# [ ] review and run example\n",
    "sales = [6, 8, 9, 11, 12, 17, 19, 20, 22]\n",
    "total = 0\n",
    "\n",
    "for sale in sales:\n",
    "    total += sale\n",
    "    \n",
    "print(\"total sales:\", total)\n",
    "    \n"
   ]
  },
  {
   "cell_type": "markdown",
   "metadata": {},
   "source": [
    "change the iterator variable name from \"sale\" to \"dollars\" or to any valid name"
   ]
  },
  {
   "cell_type": "code",
   "execution_count": 5,
   "metadata": {},
   "outputs": [
    {
     "name": "stdout",
     "output_type": "stream",
     "text": [
      "total sales: 124\n"
     ]
    }
   ],
   "source": [
    "# [ ] review and run example \n",
    "sales = [6, 8, 9, 11, 12, 17, 19, 20, 22]\n",
    "total = 0\n",
    "\n",
    "for dollars in sales:\n",
    "    total += dollars\n",
    "    \n",
    "print(\"total sales:\", total)"
   ]
  },
  {
   "cell_type": "markdown",
   "metadata": {
    "collapsed": true
   },
   "source": [
    "## Task 1: Iterate through Lists using `in`"
   ]
  },
  {
   "cell_type": "code",
   "execution_count": 6,
   "metadata": {},
   "outputs": [
    {
     "name": "stdout",
     "output_type": "stream",
     "text": [
      "hawk\n",
      "robin\n",
      "bluejay\n",
      "mockingbird\n",
      "chicken\n"
     ]
    }
   ],
   "source": [
    "# [ ] create a list of 4 to 6 strings: birds\n",
    "# print each bird in the list\n",
    "\n",
    "bird_list = [\"hawk\", \"robin\", \"bluejay\", \"mockingbird\", \"chicken\"]\n",
    "for bird in bird_list:\n",
    "    print(bird)"
   ]
  },
  {
   "cell_type": "code",
   "execution_count": 7,
   "metadata": {},
   "outputs": [
    {
     "name": "stdout",
     "output_type": "stream",
     "text": [
      "14\n",
      "28\n",
      "40\n",
      "52\n",
      "66\n",
      "72\n",
      "84\n"
     ]
    }
   ],
   "source": [
    "# [ ]  create a list of 7 integers: player_points\n",
    "# [ ] print double the points for each point value\n",
    "\n",
    "player_points = [7, 14, 20, 26, 33, 36, 42]\n",
    "for points in player_points:\n",
    "    print(points*2)"
   ]
  },
  {
   "cell_type": "code",
   "execution_count": 8,
   "metadata": {},
   "outputs": [
    {
     "name": "stdout",
     "output_type": "stream",
     "text": [
      "hawkrobinbluejaymockingbirdchicken\n"
     ]
    }
   ],
   "source": [
    "# [ ] create long_string by concatenating the items in the \"birds\" list previously created\n",
    "# print long_string - make sure to put a space betweeen the bird names\n",
    "\n",
    "long_string = \"\"\n",
    "for bird in bird_list:\n",
    "    long_string += bird\n",
    "print(long_string)"
   ]
  },
  {
   "cell_type": "markdown",
   "metadata": {},
   "source": [
    "## Concept: Sort and Filter\n",
    "\n",
    "[View Sort and Filter video](https://ncvps.yuja.com/V/Video?v=4514590&node=15054746&a=570721234&autoplay=1)\n",
    "### use comparison operators while iterating lists\n"
   ]
  },
  {
   "cell_type": "markdown",
   "metadata": {},
   "source": [
    "### Examples"
   ]
  },
  {
   "cell_type": "code",
   "execution_count": 9,
   "metadata": {},
   "outputs": [
    {
     "name": "stdout",
     "output_type": "stream",
     "text": [
      "\n",
      "calcaneus\n",
      "talus\n",
      "cuboid\n",
      "navicular\n",
      "\n",
      "lateral cuneiform\n",
      "intermediate cuneiform\n",
      "medial cuneiform\n"
     ]
    }
   ],
   "source": [
    "# [ ] review and run example of sorting into strings to display\n",
    "foot_bones = [\"calcaneus\", \"talus\", \"cuboid\", \"navicular\", \"lateral cuneiform\", \n",
    "            \"intermediate cuneiform\", \"medial cuneiform\"]\n",
    "longer_names = \"\"\n",
    "shorter_names = \"\"\n",
    "\n",
    "for bone_name in foot_bones:\n",
    "    if len(bone_name) < 10:\n",
    "        shorter_names += \"\\n\" + bone_name\n",
    "    else:\n",
    "        longer_names += \"\\n\" + bone_name\n",
    "\n",
    "print(shorter_names)\n",
    "print(longer_names)\n"
   ]
  },
  {
   "cell_type": "code",
   "execution_count": 10,
   "metadata": {},
   "outputs": [
    {
     "name": "stdout",
     "output_type": "stream",
     "text": [
      "['calcaneus', 'talus', 'cuboid', 'navicular']\n",
      "['lateral cuneiform', 'intermediate cuneiform', 'medial cuneiform']\n"
     ]
    }
   ],
   "source": [
    "# [ ] review and run example of sorting into lists\n",
    "foot_bones = [\"calcaneus\", \"talus\", \"cuboid\", \"navicular\", \"lateral cuneiform\", \n",
    "            \"intermediate cuneiform\", \"medial cuneiform\"]\n",
    "longer_names = []\n",
    "shorter_names = []\n",
    "\n",
    "for bone_name in foot_bones:\n",
    "    if len(bone_name) < 10:\n",
    "        shorter_names.append(bone_name)\n",
    "    else:\n",
    "        longer_names.append(bone_name)\n",
    "\n",
    "print(shorter_names)\n",
    "print(longer_names)"
   ]
  },
  {
   "cell_type": "markdown",
   "metadata": {
    "collapsed": true
   },
   "source": [
    "## Task 2: Sort and filter"
   ]
  },
  {
   "cell_type": "code",
   "execution_count": 11,
   "metadata": {},
   "outputs": [
    {
     "name": "stdout",
     "output_type": "stream",
     "text": [
      "Munich\n",
      "Mexico City\n"
     ]
    }
   ],
   "source": [
    "# [ ] Using cities from the example above iterate throught the list using \"for\"/\"in\"\n",
    "# [ ] Print only cities starting with \"m\"\n",
    "\n",
    "for city in cities[2:8:3]:\n",
    "    print(city)"
   ]
  },
  {
   "cell_type": "code",
   "execution_count": 15,
   "metadata": {},
   "outputs": [
    {
     "name": "stdout",
     "output_type": "stream",
     "text": [
      "['Aew York']\n",
      "['Shanghai', 'Munich', 'Tokyo', 'Dubai', 'Mexico City', 'São Paulo', 'Hyderabad']\n"
     ]
    }
   ],
   "source": [
    "# [ ] Using cities from the example above iterate throught the list using \"for\"/\"in\"\n",
    "# cities = [\"New York\", \"Shanghai\", \"Munich\", \"Tokyo\", \"Dubai\", \"Mexico City\", \"São Paulo\", \"Hyderabad\"]\n",
    "# [ ] sort into lists with \"A\" in the city name and without \"A\" in the name: a_city & no_a_city\n",
    "\n",
    "a_city = []\n",
    "no_a_city = []\n",
    "\n",
    "for city in cities:\n",
    "    if city.lower().startswith(\"a\"):\n",
    "        a_city.append(city)\n",
    "    else:\n",
    "        no_a_city.append(city)\n",
    "    \n",
    "print(a_city)\n",
    "print(no_a_city)"
   ]
  },
  {
   "cell_type": "markdown",
   "metadata": {
    "collapsed": true
   },
   "source": [
    "## Concept: More List Iteration\n",
    "### - Counting\n",
    "### - Searching\n",
    "\n",
    "[View Count in Iteration video](https://ncvps.yuja.com/V/Video?v=4514595&node=15054757&a=196556041&autoplay=1)\n",
    "### use string methods while iterating lists"
   ]
  },
  {
   "cell_type": "markdown",
   "metadata": {},
   "source": [
    "### Examples"
   ]
  },
  {
   "cell_type": "code",
   "execution_count": 18,
   "metadata": {},
   "outputs": [
    {
     "name": "stdout",
     "output_type": "stream",
     "text": [
      "The total # of \"a\" found in the list is 6\n"
     ]
    }
   ],
   "source": [
    "# [ ] review and run example\n",
    "# iterates the \"cities\" list, count & sum letter \"a\" in each city name\n",
    "\n",
    "cities = [\"New York\", \"Shanghai\", \"Munich\", \"Tokyo\", \"Dubai\", \"Mexico City\", \"São Paulo\", \"Hyderabad\"]\n",
    "search_letter = \"a\"\n",
    "total = 0\n",
    "\n",
    "for city_name in cities:\n",
    "    total += city_name.lower().count(search_letter)\n",
    "\n",
    "print(\"The total # of \\\"\" + search_letter + \"\\\" found in the list is\", total)"
   ]
  },
  {
   "cell_type": "markdown",
   "metadata": {},
   "source": [
    "### Search function\n",
    "[View City Search Function video](https://ncvps.yuja.com/V/Video?v=4515253&node=15056351&a=1981921898&autoplay=1)\n"
   ]
  },
  {
   "cell_type": "code",
   "execution_count": 19,
   "metadata": {},
   "outputs": [
    {
     "name": "stdout",
     "output_type": "stream",
     "text": [
      "Tokyo in default cities is True\n",
      "Tokyo in visitied_cites list is True\n"
     ]
    }
   ],
   "source": [
    "# [ ] review and run example\n",
    "# city_search function has a default list of cities to search\n",
    "def city_search(search_item, cities = [\"New York\", \"Shanghai\", \"Munich\", \"Tokyo\"] ):\n",
    "    for city in cities:\n",
    "        if city.lower() == search_item.lower():\n",
    "            return True\n",
    "        else:\n",
    "            # go to the next item\n",
    "            pass\n",
    "    # no more items in list\n",
    "    return False\n",
    "\n",
    "# a list of cities\n",
    "visited_cities = [\"New York\", \"Shanghai\", \"Munich\", \"Tokyo\", \"Dubai\", \"Mexico City\", \"São Paulo\", \"Hyderabad\"]\n",
    "\n",
    "search = input(\"enter a city visited: \")\n",
    "\n",
    "# Search the default city list\n",
    "print(search, \"in default cities is\", city_search(search))\n",
    "\n",
    "# search the list visited_cities using 2nd argument\n",
    "print(search, \"in visitied_cites list is\", city_search(search,visited_cities))"
   ]
  },
  {
   "cell_type": "markdown",
   "metadata": {},
   "source": [
    "## Task 3 (program): Paint Stock  \n",
    "Check a list for a paint color request and print status of color \"found\"/\"not found\".\n",
    "- Create list, paint_colors, with 5+ colors\n",
    "- Get user input of string:color_request\n",
    "- Iterate through each color in paint_colors to check for a match with color_request"
   ]
  },
  {
   "cell_type": "code",
   "execution_count": 20,
   "metadata": {},
   "outputs": [
    {
     "name": "stdout",
     "output_type": "stream",
     "text": [
      "purple color found\n"
     ]
    }
   ],
   "source": [
    "# [ ] complete paint stock\n",
    "\n",
    "def paint_search(search_color, paint_colors = [\"pink\",\"blue\",\"purple\", \"turquoise\", \"white\"] ):\n",
    "    for color in paint_colors:\n",
    "        if color == search_color.lower():\n",
    "            return \"color found\"\n",
    "        else:\n",
    "            pass\n",
    "    return \"color not found\"\n",
    "\n",
    "color_request = input(\"Enter the paint color you need:\").lower()\n",
    "\n",
    "print(color_request, paint_search(color_request))"
   ]
  },
  {
   "cell_type": "markdown",
   "metadata": {
    "collapsed": true
   },
   "source": [
    "## Task 4 (program): Foot Bones Quiz\n",
    "**Create a function** that will iterate through foot_bones looking for a match of a string argument\n",
    "- Call the function 2 times with the name of a footbone \n",
    "- print immediate feedback for each answer (correct - incorrect)\n",
    "- print the total # of foot_bones identified\n",
    "\n",
    "\n",
    "The program will use the foot_bones list:\n",
    "```python \n",
    "foot_bones = [\"calcaneus\", \"talus\", \"cuboid\", \"navicular\", \"lateral cuneiform\",\n",
    "             \"intermediate cuneiform\", \"medial cuneiform\"]\n",
    "```\n",
    "Bonus: remove correct response item from list if correct so user cannot answer same item twice"
   ]
  },
  {
   "cell_type": "code",
   "execution_count": 21,
   "metadata": {},
   "outputs": [
    {
     "name": "stdout",
     "output_type": "stream",
     "text": [
      "Is talus in the foor_bone list?: correct\n",
      "Is distal in the foor_bone list?: incorrect\n",
      "Total number of identified bones: 1\n"
     ]
    }
   ],
   "source": [
    "# [ ] Complete Foot Bones Quiz\n",
    "# foot_bones = [\"calcaneus\", \"talus\", \"cuboid\", \"navicular\", \"lateral cuneiform\",\n",
    "#             \"intermediate cuneiform\", \"medial cuneiform\"]\n",
    "\n",
    "foot_bones = [\"calcaneus\", \"talus\", \"cuboid\", \"navicular\", \"lateral cuneiform\",\n",
    "             \"intermediate cuneiform\", \"medial cuneiform\"]\n",
    "identified = 0 \n",
    "\n",
    "def bone_search(search_bone):\n",
    "    global identified\n",
    "    for bone in foot_bones:\n",
    "        if bone == search_bone.lower():\n",
    "            identified += bone.count(bone)\n",
    "            return \"correct\"\n",
    "        else:\n",
    "            pass\n",
    "    return \"incorrect\"\n",
    "\n",
    "print(\"Is talus in the foor_bone list?:\", bone_search(\"talus\"))\n",
    "print(\"Is distal in the foor_bone list?:\", bone_search(\"distal\"))\n",
    "\n",
    "print(\"Total number of identified bones:\", identified)"
   ]
  },
  {
   "cell_type": "code",
   "execution_count": 23,
   "metadata": {},
   "outputs": [
    {
     "name": "stdout",
     "output_type": "stream",
     "text": [
      "correct\n",
      "not found\n",
      "['calcaneus', 'cuboid', 'navicular', 'lateral cuneiform', 'intermediate cuneiform', 'medial cuneiform']\n",
      "You have identified 1 correctly\n"
     ]
    }
   ],
   "source": [
    "# [ ] bonus version\n",
    "\n",
    "foot_bones = [\"calcaneus\", \"talus\", \"cuboid\", \"navicular\", \"lateral cuneiform\",\n",
    "             \"intermediate cuneiform\", \"medial cuneiform\"]\n",
    " \n",
    "def quiz():\n",
    "    identified = 0\n",
    "    for i in range(2):\n",
    "        footbone = input(\"Enter a foot bone: \")\n",
    "        if footbone in foot_bones:\n",
    "            print('correct')\n",
    "            identified += 1\n",
    "            foot_bones.remove(footbone)\n",
    "        else:\n",
    "            print(\"not found\")\n",
    "    return identified\n",
    "  \n",
    "identified = quiz()\n",
    "print(foot_bones)\n",
    "print('You have identified {} correctly'.format(identified))"
   ]
  },
  {
   "cell_type": "markdown",
   "metadata": {
    "collapsed": true
   },
   "source": [
    "[Terms of use](http://go.microsoft.com/fwlink/?LinkID=206977)   [Privacy &amp; cookies](https://go.microsoft.com/fwlink/?LinkId=521839)   © 2017 Microsoft"
   ]
  }
 ],
 "metadata": {
  "anaconda-cloud": {},
  "kernelspec": {
   "display_name": "Python 3",
   "language": "python",
   "name": "python3"
  },
  "language_info": {
   "codemirror_mode": {
    "name": "ipython",
    "version": 3
   },
   "file_extension": ".py",
   "mimetype": "text/x-python",
   "name": "python",
   "nbconvert_exporter": "python",
   "pygments_lexer": "ipython3",
   "version": "3.10.2"
  }
 },
 "nbformat": 4,
 "nbformat_minor": 1
}
