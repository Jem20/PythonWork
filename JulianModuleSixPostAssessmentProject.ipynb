{
  "cells": [
    {
      "cell_type": "markdown",
      "metadata": {
        "id": "Gs7xeyJyeShw"
      },
      "source": [
        "# Module Six Post Assessment\n",
        "## Sequence Manipulation Practice\n",
        "\n",
        "-----\n",
        "\n",
        "### Student will be able to\n",
        "- Create lists\n",
        "- Access items in a list\n",
        "- Add items to the end of a list\n",
        "- Insert items into a list\n",
        "- Delete items from a list"
      ]
    },
    {
      "cell_type": "markdown",
      "metadata": {
        "id": "PCjIciJKeSh1"
      },
      "source": [
        "## Create Lists"
      ]
    },
    {
      "cell_type": "code",
      "execution_count": 6,
      "metadata": {
        "id": "MdWb2bsTeSh1"
      },
      "outputs": [
        {
          "name": "stdout",
          "output_type": "stream",
          "text": [
            "['Monday', 'Tuesday', 'Wednesday', 'Thursday', 'Friday', 'Saturday', 'Sunday']\n"
          ]
        }
      ],
      "source": [
        "# [ ] create and populate list called days_of_week then print it\n",
        "\n",
        "days_of_week = [\"Monday\", \"Tuesday\", \"Wednesday\", \"Thursday\", \"Friday\", \"Saturday\", \"Sunday\"]\n",
        "print(days_of_week)"
      ]
    },
    {
      "cell_type": "code",
      "execution_count": 7,
      "metadata": {
        "id": "woAnKMtReSh2"
      },
      "outputs": [
        {
          "name": "stdout",
          "output_type": "stream",
          "text": [
            "['Monday', 'Wednesday', 'Friday', 'Sunday']\n"
          ]
        }
      ],
      "source": [
        "# [ ] after days_of_week is run above, print the days in the list at odd indexes 1,3,5\n",
        "\n",
        "print(days_of_week[0:7:2])"
      ]
    },
    {
      "cell_type": "markdown",
      "metadata": {
        "id": "LO-e-4kseSh2"
      },
      "source": [
        "## Phone Letters\n",
        "\n",
        "![phone-g349c4d02a_640.png](data:image/png;base64,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)\n",
        "\n",
        "Create a list, **`phone_letters`**, where the index 0 - 9 contains the letters for keys 0 - 9.  \n",
        "\n",
        "- 0 = ' ' (a space)\n",
        "- 1 = '' (empty)\n",
        "- 2 = 'ABC'\n",
        "- 3 = 'DEF'\n",
        "- etc...\n"
      ]
    },
    {
      "cell_type": "code",
      "execution_count": 8,
      "metadata": {
        "id": "sJBGnORGeSh2"
      },
      "outputs": [
        {
          "name": "stdout",
          "output_type": "stream",
          "text": [
            "[' ', '', 'ABC', 'DEF', 'GHIJKL', 'MNO', 'PQR', 'STU', 'VWX']\n"
          ]
        }
      ],
      "source": [
        "# [ ] create and populate list called phone_letters then print it\n",
        "\n",
        "phone_letters = [\" \", \"\", \"ABC\", \"DEF\", \"GHI\" \"JKL\", \"MNO\", \"PQR\", \"STU\", \"VWX\"]\n",
        "print(phone_letters)"
      ]
    },
    {
      "cell_type": "markdown",
      "metadata": {
        "collapsed": true,
        "id": "PtcpF48peSh3"
      },
      "source": [
        "## Access Lists\n",
        "### for the 2 cells below\n",
        "- Use days_of_week list created above\n",
        "- Run the cell above to make the list available"
      ]
    },
    {
      "cell_type": "code",
      "execution_count": 12,
      "metadata": {
        "id": "WXQArDbMeSh3"
      },
      "outputs": [
        {
          "name": "stdout",
          "output_type": "stream",
          "text": [
            "Tuesday\n"
          ]
        }
      ],
      "source": [
        "# [ ] create a variable: day, assign day to \"Tuesday\" using days_of_week[]\n",
        "# [ ] print day variable\n",
        "\n",
        "day = days_of_week[1]\n",
        "print(day)"
      ]
    },
    {
      "cell_type": "code",
      "execution_count": 11,
      "metadata": {
        "id": "epufi-HHeSh3"
      },
      "outputs": [
        {
          "name": "stdout",
          "output_type": "stream",
          "text": [
            "Saturday\n"
          ]
        }
      ],
      "source": [
        "# PART 2\n",
        "# [ ] assign day to days_of_week index = 5\n",
        "# [ ] print day\n",
        "\n",
        "day = days_of_week[5]\n",
        "print(day)"
      ]
    },
    {
      "cell_type": "markdown",
      "metadata": {
        "id": "UvO4eKoXeSh3"
      },
      "source": [
        "## Append and Insert Items into a List\n",
        "\n",
        "### Endsday, Midsday, Resterday\n",
        "#### for the exercises below\n",
        "- Use days_of_week list created above\n",
        "- Run the cell defining days_of_week above to make the list available"
      ]
    },
    {
      "cell_type": "code",
      "execution_count": 13,
      "metadata": {
        "id": "S33GIdZfeSh4"
      },
      "outputs": [
        {
          "name": "stdout",
          "output_type": "stream",
          "text": [
            "['Monday', 'Tuesday', 'Wednesday', 'Thursday', 'Friday', 'Saturday', 'Sunday', 'Iceday']\n"
          ]
        }
      ],
      "source": [
        "# [ ] Make up a new day! - append an 8th day of the week to days_of_week \n",
        "# [ ] print days_of_week\n",
        "\n",
        "days_of_week.append(\"Iceday\")\n",
        "print(days_of_week)"
      ]
    },
    {
      "cell_type": "markdown",
      "metadata": {
        "id": "NWtwxpSjeSh4"
      },
      "source": [
        "### Question  \n",
        "- What happens if you keep running the cell above?  \n",
        "- How can you return to the initial state with the regular 7 days in days_of_week? "
      ]
    },
    {
      "cell_type": "code",
      "execution_count": 14,
      "metadata": {
        "id": "2jeVz79-eSh4"
      },
      "outputs": [
        {
          "name": "stdout",
          "output_type": "stream",
          "text": [
            "['Monday', 'Tuesday', 'Wednesday', 'Frostday', 'Thursday', 'Friday', 'Saturday', 'Sunday', 'Iceday']\n"
          ]
        }
      ],
      "source": [
        "# [ ] Make up another new day - insert a new day into the middle of days_of_week between Wed - Thurs\n",
        "# [ ] print days_of_week\n",
        "\n",
        "days_of_week.insert(3,\"Frostday\")\n",
        "print(days_of_week)"
      ]
    },
    {
      "cell_type": "code",
      "execution_count": 15,
      "metadata": {
        "id": "57LmvS_zeSh4"
      },
      "outputs": [
        {
          "name": "stdout",
          "output_type": "stream",
          "text": [
            "['Monday', 'Tuesday', 'Wednesday', 'Thursday', 'Friday', 'Saturday', 'Landay', 'Sunday']\n"
          ]
        }
      ],
      "source": [
        "# [ ]  Extend the weekend - insert a day between Fri & Sat in the days_of_week list\n",
        "# [ ] print days_of_week\n",
        "\n",
        "days_of_week = [\"Monday\",\"Tuesday\",\"Wednesday\",\"Thursday\",\"Friday\",\"Saturday\",\"Sunday\"]\n",
        "days_of_week.insert(6,\"Landay\")\n",
        "print(days_of_week)"
      ]
    },
    {
      "cell_type": "markdown",
      "metadata": {
        "id": "lgEvXeqHeSh4"
      },
      "source": [
        "## Delete Items from a List\n",
        "### `del` & `.pop()` some bad ideas\n",
        "#### Exercises below assume days_of_week appended/inserted 3 extra days in previous exercises"
      ]
    },
    {
      "cell_type": "code",
      "execution_count": 16,
      "metadata": {
        "id": "Wc8BDkubeSh5"
      },
      "outputs": [
        {
          "name": "stdout",
          "output_type": "stream",
          "text": [
            "['Monday', 'Tuesday', 'Wednesday', 'Frostday', 'Thursday', 'Friday', 'Landay', 'Saturday', 'Sunday', 'Iceday']\n",
            "['Monday', 'Tuesday', 'Wednesday', 'Frostday', 'Thursday', 'Friday', 'Landay', 'Saturday', 'Sunday']\n"
          ]
        }
      ],
      "source": [
        "# [ ] print days_of_week \n",
        "# [ ] modified week is too long - pop() the last index of days_of_week & print .pop() value\n",
        "# [ ] print days_of_week\n",
        "\n",
        "days_of_week = [\"Monday\",\"Tuesday\",\"Wednesday\",\"Thursday\",\"Friday\",\"Saturday\",\"Sunday\"]\n",
        "days_of_week.append(\"Iceday\")\n",
        "days_of_week.insert(3,\"Frostday\")\n",
        "days_of_week.insert(6,\"Landay\")\n",
        "print(days_of_week)\n",
        "days_of_week.pop(-1)\n",
        "print(days_of_week)"
      ]
    },
    {
      "cell_type": "code",
      "execution_count": 17,
      "metadata": {
        "id": "SypPSpzleSh5"
      },
      "outputs": [
        {
          "name": "stdout",
          "output_type": "stream",
          "text": [
            "['Monday', 'Tuesday', 'Wednesday', 'Frostday', 'Thursday', 'Friday', 'Landay', 'Saturday', 'Sunday']\n",
            "['Monday', 'Tuesday', 'Wednesday', 'Frostday', 'Friday', 'Landay', 'Saturday', 'Sunday']\n"
          ]
        }
      ],
      "source": [
        "# [ ] print days_of_week \n",
        "# [ ] delete (del) the new day added to the middle of the week \n",
        "# [ ] print days_of_week\n",
        "\n",
        "print(days_of_week)\n",
        "del days_of_week[4]\n",
        "print(days_of_week)"
      ]
    },
    {
      "cell_type": "code",
      "execution_count": 18,
      "metadata": {
        "id": "oUxjST5heSh5"
      },
      "outputs": [
        {
          "name": "stdout",
          "output_type": "stream",
          "text": [
            "['Monday', 'Tuesday', 'Wednesday', 'Frostday', 'Friday', 'Landay', 'Saturday', 'Sunday']\n",
            "['Monday', 'Tuesday', 'Wednesday', 'Frostday', 'Friday', 'Landay', 'Saturday']\n"
          ]
        }
      ],
      "source": [
        "# [ ] print days_of_week \n",
        "# [ ] programmers choice - pop() any day in days_of week & print .pop() value\n",
        "# [ ] print days_of_week\n",
        "\n",
        "print(days_of_week)\n",
        "days_of_week.pop()\n",
        "print(days_of_week)"
      ]
    },
    {
      "cell_type": "markdown",
      "metadata": {
        "id": "ivNVzs_veSh5"
      },
      "source": [
        "## Program:  Letter to Number Function\n",
        "### For the exercise below\n",
        "- Use phone_letters list created above\n",
        "- Run the cell above to make the list available \n",
        "\n",
        "#### Recall using **`in`** to search for a string in a string\n",
        "```python\n",
        "if \"e\" in \"open\":\n",
        "    print(\"e found\")\n",
        "else:\n",
        "   print(\"e not found\")\n",
        "```\n",
        "\n",
        "![phone-g349c4d02a_640.png](data:image/png;base64,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)\n",
        "\n",
        "### Create funtion let_to_num()\n",
        "- let_to_num() takes input of a single letter, space or empty string stored in an argument variable: letter\n",
        "  - use `while key < 10:` to try numbers 0 - 9 as index for `phone_letters` (\"key\" = phone dial pad key)\n",
        "  - check if `letter` variable is in the index of `phone_letters[key]` \n",
        "```python\n",
        "key = 0\n",
        "while key < 10:\n",
        "    if # Create Code: determine if letter is **`in`** any of the phone_letters[key] where key is the index 0 -9:\n",
        "        return key\n",
        "    else:\n",
        "        key = key + 1\n",
        "return \"Not Found\"\n",
        "```\n",
        "- return the number or \"Not Found\"\n",
        "- **call** let_to_num() to test the function so it prints the argument and return value with:\n",
        "  - space\n",
        "  - lowercase letter\n",
        "  - different letter, uppercase\n",
        "  - a number\n",
        "  \n",
        "**Bonus**: create a special case to check if empty string (`\"\"`) was submitted   \n",
        "the problem is that an empty string will be found in all strings as  \n",
        "```python\n",
        "if \"\" in \"ABC\": \n",
        "```  \n",
        "is True, and is true for any phone_letters, but should `return 1`"
      ]
    },
    {
      "cell_type": "code",
      "execution_count": 23,
      "metadata": {
        "id": "pZ0A9LDWeSh5"
      },
      "outputs": [
        {
          "name": "stdout",
          "output_type": "stream",
          "text": [
            "8\n"
          ]
        }
      ],
      "source": [
        "# [ ] create let_to_num()\n",
        "\n",
        "def let_to_num():\n",
        "    letter=input(\"Enter single letter, space or empty: \")\n",
        "    key = 0\n",
        "    while key < 10:\n",
        "        if letter in phone_letters[key]:\n",
        "                return key\n",
        "        else:\n",
        "            key = key + 1\n",
        "    return (\"Not found\")\n",
        "print(let_to_num())"
      ]
    },
    {
      "cell_type": "markdown",
      "metadata": {
        "id": "Zwx6atBueSh6"
      },
      "source": [
        "## Challenge: Reverse a string from a list\n",
        "Create a list variable and assign at least 5 items to it.\n",
        "\n",
        "Create an empty string\n",
        "### Using \n",
        "- while\n",
        "- .pop()\n",
        "- insert()  \n",
        "\n",
        "**`pop()`** the **first item** in the list and add to the beginning of a new string.\n",
        "\n",
        "Display the list and the reversed string"
      ]
    },
    {
      "cell_type": "code",
      "execution_count": 24,
      "metadata": {
        "collapsed": true,
        "id": "ywmmw_PneSh6"
      },
      "outputs": [
        {
          "name": "stdout",
          "output_type": "stream",
          "text": [
            "List: ['Happy', 'Sad', 'Excited', 'Mad']\n",
            "Reversed string: Mad, Excited, Sad, Happy\n"
          ]
        }
      ],
      "source": [
        "# [ ] Challenge: write the code for \"reverse a string from a list\"\n",
        "\n",
        "string = [\"Happy\", \"Sad\", \"Excited\", \"Mad\"]\n",
        "rev_str = []\n",
        "print(\"List:\", string)\n",
        "\n",
        "while string:\n",
        "  rev = string.pop(0)\n",
        "  rev_str.insert(0,rev)\n",
        "\n",
        "print(\"Reversed string:\", \", \".join(rev_str))"
      ]
    },
    {
      "cell_type": "markdown",
      "metadata": {
        "collapsed": false,
        "id": "0Bt8yXHPeSh6"
      },
      "source": [
        "[Terms of use](http://go.microsoft.com/fwlink/?LinkID=206977) &nbsp; [Privacy & cookies](https://go.microsoft.com/fwlink/?LinkId=521839) &nbsp; © 2017 Microsoft"
      ]
    }
  ],
  "metadata": {
    "anaconda-cloud": {},
    "colab": {
      "collapsed_sections": [],
      "name": "ModuleSixPostAssessmentProject.ipynb",
      "provenance": []
    },
    "kernelspec": {
      "display_name": "Python 3",
      "language": "python",
      "name": "python3"
    },
    "language_info": {
      "codemirror_mode": {
        "name": "ipython",
        "version": 3
      },
      "file_extension": ".py",
      "mimetype": "text/x-python",
      "name": "python",
      "nbconvert_exporter": "python",
      "pygments_lexer": "ipython3",
      "version": "3.10.4"
    }
  },
  "nbformat": 4,
  "nbformat_minor": 0
}
