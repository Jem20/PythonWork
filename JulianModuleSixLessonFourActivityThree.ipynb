{
 "cells": [
  {
   "cell_type": "markdown",
   "metadata": {},
   "source": [
    "# Module Six Lesson Four Practice Activity Three\n",
    "# Julian Monsalve 3/17/2022\n",
    "# In this lesson I've learned how to modify and insert items into a list.\n",
    "# No difficulties.\n",
    "## List Insert \n",
    "\n",
    "- List Creation\n",
    "- List Access\n",
    "- List Append\n",
    "- **List Modify and Insert**\n",
    "- List Delete\n",
    "----- \n",
    "\n",
    "### Student will be able to\n",
    "- Create lists\n",
    "- Access items in a list\n",
    "- Add items to the end of a list\n",
    "- **Modify and insert items into a list**\n",
    "- Delete items from a list"
   ]
  },
  {
   "cell_type": "markdown",
   "metadata": {},
   "source": [
    "## Concept: Insert a new value for an index\n",
    "[View Overwriting an Index video](https://ncvps.yuja.com/V/Video?v=4514559&node=15054689&a=1512982373&autoplay=1)\n",
    "### Overwrite a specific index in a list\n",
    "```python\n",
    "party_list[2] = \"Tobias\"\n",
    "```\n",
    "- **Overwrites** existing index\n",
    "- **Cannot** use to **Append** a new index to the list\n"
   ]
  },
  {
   "cell_type": "markdown",
   "metadata": {},
   "source": [
    "### Examples"
   ]
  },
  {
   "cell_type": "code",
   "execution_count": 1,
   "metadata": {},
   "outputs": [
    {
     "name": "stdout",
     "output_type": "stream",
     "text": [
      "party_list before:  ['Joana', 'Alton', 'Tobias']\n",
      "party_list after:   ['Joana', 'Colette', 'Tobias']\n"
     ]
    }
   ],
   "source": [
    "# [ ] review and run example\n",
    "# the list before Insert\n",
    "party_list = [\"Joana\", \"Alton\", \"Tobias\"]\n",
    "print(\"party_list before: \", party_list)\n",
    "\n",
    "# the list after Insert\n",
    "party_list[1] = \"Colette\"\n",
    "print(\"party_list after:  \", party_list)"
   ]
  },
  {
   "cell_type": "code",
   "execution_count": 2,
   "metadata": {},
   "outputs": [
    {
     "name": "stdout",
     "output_type": "stream",
     "text": [
      "before: ['Joana', 'Alton', 'Tobias']\n",
      "\n",
      "after: ['Joana', 'Alton Derosa', 'Tobias']\n"
     ]
    }
   ],
   "source": [
    "# [ ] review and run example\n",
    "party_list = [\"Joana\", \"Alton\", \"Tobias\"]\n",
    "print(\"before:\",party_list)\n",
    "\n",
    "# modify index value\n",
    "party_list[1] = party_list[1] + \" Derosa\"\n",
    "print(\"\\nafter:\", party_list)"
   ]
  },
  {
   "cell_type": "markdown",
   "metadata": {},
   "source": [
    "### Example: **IndexError**  "
   ]
  },
  {
   "cell_type": "code",
   "execution_count": 3,
   "metadata": {},
   "outputs": [
    {
     "ename": "IndexError",
     "evalue": "list assignment index out of range",
     "output_type": "error",
     "traceback": [
      "\u001b[1;31m---------------------------------------------------------------------------\u001b[0m",
      "\u001b[1;31mIndexError\u001b[0m                                Traceback (most recent call last)",
      "\u001b[1;32mc:\\Users\\Jem\\Desktop\\School Work (Python)\\ModuleSixLessonFourActivityThree.ipynb Cell 7'\u001b[0m in \u001b[0;36m<cell line: 6>\u001b[1;34m()\u001b[0m\n\u001b[0;32m      <a href='vscode-notebook-cell:/c%3A/Users/Jem/Desktop/School%20Work%20%28Python%29/ModuleSixLessonFourActivityThree.ipynb#ch0000006?line=0'>1</a>\u001b[0m \u001b[39m# IndexError Example\u001b[39;00m\n\u001b[0;32m      <a href='vscode-notebook-cell:/c%3A/Users/Jem/Desktop/School%20Work%20%28Python%29/ModuleSixLessonFourActivityThree.ipynb#ch0000006?line=1'>2</a>\u001b[0m \u001b[39m# [ ] review and run example which results in an IndexError\u001b[39;00m\n\u001b[0;32m      <a href='vscode-notebook-cell:/c%3A/Users/Jem/Desktop/School%20Work%20%28Python%29/ModuleSixLessonFourActivityThree.ipynb#ch0000006?line=2'>3</a>\u001b[0m \u001b[39m# if result is NameError run cell above before running this cell\u001b[39;00m\n\u001b[0;32m      <a href='vscode-notebook-cell:/c%3A/Users/Jem/Desktop/School%20Work%20%28Python%29/ModuleSixLessonFourActivityThree.ipynb#ch0000006?line=3'>4</a>\u001b[0m \n\u001b[0;32m      <a href='vscode-notebook-cell:/c%3A/Users/Jem/Desktop/School%20Work%20%28Python%29/ModuleSixLessonFourActivityThree.ipynb#ch0000006?line=4'>5</a>\u001b[0m \u001b[39m# IndexError trying to append to end of list\u001b[39;00m\n\u001b[1;32m----> <a href='vscode-notebook-cell:/c%3A/Users/Jem/Desktop/School%20Work%20%28Python%29/ModuleSixLessonFourActivityThree.ipynb#ch0000006?line=5'>6</a>\u001b[0m party_list[\u001b[39m3\u001b[39m] \u001b[39m=\u001b[39m \u001b[39m\"\u001b[39m\u001b[39mAlton\u001b[39m\u001b[39m\"\u001b[39m\n\u001b[0;32m      <a href='vscode-notebook-cell:/c%3A/Users/Jem/Desktop/School%20Work%20%28Python%29/ModuleSixLessonFourActivityThree.ipynb#ch0000006?line=6'>7</a>\u001b[0m \u001b[39mprint\u001b[39m(party_list)\n",
      "\u001b[1;31mIndexError\u001b[0m: list assignment index out of range"
     ]
    }
   ],
   "source": [
    "# IndexError Example\n",
    "# [ ] review and run example which results in an IndexError\n",
    "# if result is NameError run cell above before running this cell\n",
    "\n",
    "# IndexError trying to append to end of list\n",
    "party_list[3] = \"Alton\"\n",
    "print(party_list)"
   ]
  },
  {
   "cell_type": "code",
   "execution_count": 4,
   "metadata": {},
   "outputs": [
    {
     "name": "stdout",
     "output_type": "stream",
     "text": [
      "single_digits:  ['zero', 'one', 'two', 'three', 'four', 'five', 'six', 'seven', 'eight', 'nine']\n",
      "single_digits[3]:  three <class 'str'> \n",
      "\n",
      "single_digits:  ['zero', 'one', 'two', 3, 'four', 'five', 'six', 'seven', 'eight', 'nine']\n",
      "single_digits[3]:  3 <class 'int'>\n"
     ]
    }
   ],
   "source": [
    "# [ ] review and run example changes the data type of an element\n",
    "# replace a string with a number (int)\n",
    "single_digits = [\"zero\", \"one\", \"two\", \"three\", \"four\", \"five\", \"six\", \"seven\", \"eight\", \"nine\"] \n",
    "print(\"single_digits: \", single_digits)\n",
    "print(\"single_digits[3]: \", single_digits[3], type(single_digits[3]),\"\\n\")\n",
    "\n",
    "# replace string with an int\n",
    "single_digits[3] = 3\n",
    "print(\"single_digits: \", single_digits)\n",
    "print(\"single_digits[3]: \", single_digits[3], type(single_digits[3]))"
   ]
  },
  {
   "cell_type": "markdown",
   "metadata": {
    "collapsed": true
   },
   "source": [
    "## Task 1: Replace items in a list\n",
    "- Create a list, **`three_num`**, containing 3 single digit integers\n",
    "- Print three_num\n",
    "- Check if index 0 value is &lt; 5\n",
    "  - if &lt; 5 , replace index 0 with a string: \"small\"\n",
    "  - else, replace index 0 with a string: \"large\"\n",
    "- Print three_num"
   ]
  },
  {
   "cell_type": "code",
   "execution_count": 5,
   "metadata": {},
   "outputs": [
    {
     "name": "stdout",
     "output_type": "stream",
     "text": [
      "[5, 9, 3]\n",
      "['large', 9, 3]\n"
     ]
    }
   ],
   "source": [
    "# [ ] complete \"replace items in a list\" task\n",
    "\n",
    "three_num = [5, 9, 3]\n",
    "print(three_num)\n",
    "\n",
    "if three_num[0]<5:\n",
    "    three_num[0] = \"small\"\n",
    "else:\n",
    "    three_num[0] = \"large\"\n",
    "\n",
    "print(three_num)"
   ]
  },
  {
   "cell_type": "markdown",
   "metadata": {},
   "source": [
    "## Function Challenge: Create replacement function\n",
    "- Create a function, **str_replace**, that takes 2 arguments: int_list and index \n",
    "  - int_list is a list of single digit integers\n",
    "  - index is the index that will be checked - such as with int_list[index]\n",
    "- Function replicates purpose of task \"replace items in a list\" above and replaces an integer with a string \"small\" or \"large\"\n",
    "- Return str_list\n",
    "\n",
    "Test the function!"
   ]
  },
  {
   "cell_type": "code",
   "execution_count": 6,
   "metadata": {},
   "outputs": [
    {
     "name": "stdout",
     "output_type": "stream",
     "text": [
      "[2, 3, 'large']\n"
     ]
    }
   ],
   "source": [
    "# [ ]  create challenge function\n",
    "\n",
    "def str_replace(int_list,index):\n",
    "    \n",
    "    if int_list[index]<5:\n",
    "        int_list[index] = \"small\"\n",
    "    else:\n",
    "        int_list[index] = \"large\"\n",
    "\n",
    "    print(int_list)\n",
    "\n",
    "str_replace([2,3,8],2)"
   ]
  },
  {
   "cell_type": "markdown",
   "metadata": {
    "collapsed": true
   },
   "source": [
    "## Task 2: Modify items in a list\n",
    "- Create a list, **`three_words`**, containing 3 different capitalized word strings\n",
    "- Print three_words\n",
    "- Modify the first item in three_words to uppercase\n",
    "- Modify the third item to swapcase\n",
    "- Print three_words"
   ]
  },
  {
   "cell_type": "code",
   "execution_count": 7,
   "metadata": {},
   "outputs": [
    {
     "name": "stdout",
     "output_type": "stream",
     "text": [
      "['Happy', 'Shoe', 'Rainbow']\n",
      "['HAPPY', 'Shoe', 'rAINBOW']\n"
     ]
    }
   ],
   "source": [
    "# [ ] complete coding task described above\n",
    "\n",
    "three_words = [\"Happy\",\"Shoe\",\"Rainbow\"]\n",
    "print(three_words)\n",
    "\n",
    "three_words[0] = three_words[0].upper()\n",
    "three_words[2] = three_words[2].swapcase()\n",
    "\n",
    "print(three_words)"
   ]
  },
  {
   "cell_type": "markdown",
   "metadata": {},
   "source": [
    "## Concept: Insert items into a list\n",
    "[View Inserting Items into a List video](https://ncvps.yuja.com/V/Video?v=4514565&node=15054701&a=1043664000&autoplay=1)\n",
    "### Use `.insert()` to define an index to insert an item\n",
    "```python\n",
    "party_list.insert(2,\"Tobias\")\n",
    "```\n",
    "- Inserts, **doesn't overwrite**\n",
    "- **Increases index by 1**, at and above the insertion point\n",
    "- **Can** use to **Append** a new index to the end of the list\n"
   ]
  },
  {
   "cell_type": "markdown",
   "metadata": {},
   "source": [
    "### Examples"
   ]
  },
  {
   "cell_type": "code",
   "execution_count": 8,
   "metadata": {},
   "outputs": [
    {
     "name": "stdout",
     "output_type": "stream",
     "text": [
      "party_list before:  ['Joana', 'Alton', 'Tobias']\n",
      "index 1 is Alton \n",
      "index 2 is Tobias \n",
      "\n",
      "party_list after:   ['Joana', 'Colette', 'Alton', 'Tobias']\n",
      "index 1 is Colette \n",
      "index 2 is Alton \n",
      "index 3 is Tobias\n"
     ]
    }
   ],
   "source": [
    "# [ ] review and run example\n",
    "# the list before Insert\n",
    "party_list = [\"Joana\", \"Alton\", \"Tobias\"]\n",
    "print(\"party_list before: \", party_list)\n",
    "print(\"index 1 is\", party_list[1], \"\\nindex 2 is\", party_list[2], \"\\n\")\n",
    "\n",
    "# the list after Insert\n",
    "party_list.insert(1,\"Colette\")\n",
    "print(\"party_list after:  \", party_list)\n",
    "print(\"index 1 is\", party_list[1], \"\\nindex 2 is\", party_list[2], \"\\nindex 3 is\", party_list[3])"
   ]
  },
  {
   "cell_type": "markdown",
   "metadata": {
    "collapsed": true
   },
   "source": [
    "## Task 3: `insert()` input into a list "
   ]
  },
  {
   "cell_type": "code",
   "execution_count": 9,
   "metadata": {},
   "outputs": [
    {
     "name": "stdout",
     "output_type": "stream",
     "text": [
      "party_list before:  ['Joana', 'Alton', 'Tobias']\n",
      "index 1 is Alton \n",
      "index 2 is Tobias \n",
      "\n",
      "party_list after:   ['Joana', 'Colette', 'Alton', 'Tobias']\n",
      "index 1 is Colette \n",
      "index 2 is Alton \n",
      "index 3 is Tobias\n"
     ]
    }
   ],
   "source": [
    "# [ ] insert a name from user input into the party_list in the second position (index 1)\n",
    "party_list = [\"Joana\", \"Alton\", \"Tobias\"]\n",
    "\n",
    "# [ ] print the updated list\n",
    "\n",
    "party_list = [\"Joana\", \"Alton\", \"Tobias\"]\n",
    "print(\"party_list before: \", party_list)\n",
    "print(\"index 1 is\", party_list[1], \"\\nindex 2 is\", party_list[2], \"\\n\")\n",
    "\n",
    "party_list.insert(1,\"Colette\")\n",
    "print(\"party_list after:  \", party_list)\n",
    "print(\"index 1 is\", party_list[1], \"\\nindex 2 is\", party_list[2], \"\\nindex 3 is\", party_list[3])"
   ]
  },
  {
   "cell_type": "markdown",
   "metadata": {},
   "source": [
    "## Task 4: Fix the error\n"
   ]
  },
  {
   "cell_type": "code",
   "execution_count": 10,
   "metadata": {},
   "outputs": [
    {
     "name": "stdout",
     "output_type": "stream",
     "text": [
      "tree_list before = ['oak']\n",
      "tree_list after  = ['oak', 'pine']\n"
     ]
    }
   ],
   "source": [
    "# [ ] Fix the Error\n",
    "tree_list = [\"oak\"]\n",
    "print(\"tree_list before =\", tree_list)\n",
    "tree_list.insert(1,\"pine\")\n",
    "print(\"tree_list after  =\", tree_list)"
   ]
  },
  {
   "cell_type": "markdown",
   "metadata": {},
   "source": [
    "[Terms of use](http://go.microsoft.com/fwlink/?LinkID=206977)   [Privacy &amp; cookies](https://go.microsoft.com/fwlink/?LinkId=521839)   © 2017 Microsoft"
   ]
  }
 ],
 "metadata": {
  "anaconda-cloud": {},
  "kernelspec": {
   "display_name": "Python 3",
   "language": "python",
   "name": "python3"
  },
  "language_info": {
   "codemirror_mode": {
    "name": "ipython",
    "version": 3
   },
   "file_extension": ".py",
   "mimetype": "text/x-python",
   "name": "python",
   "nbconvert_exporter": "python",
   "pygments_lexer": "ipython3",
   "version": "3.10.2"
  }
 },
 "nbformat": 4,
 "nbformat_minor": 1
}
