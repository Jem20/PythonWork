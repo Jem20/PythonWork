{
  "cells": [
    {
      "cell_type": "markdown",
      "metadata": {
        "collapsed": true,
        "id": "c6l78sZfTHNr"
      },
      "source": [
        "#  Module 1 Project\n",
        "# Julian Monsalve 2/2/2022\n",
        "# Learn inputs.\n",
        "# No difficulties.  \n",
        "Course 40460: Introduction to Python, Unit 1\n",
        "\n",
        "The activity is based on Module 1 and is similar to the Jupyter Notebook for Module 1 practice, which you may have completed.\n",
        "\n",
        "> **NOTE:** This program requires print output and code syntax used in Module 1.\n",
        "\n",
        "| Some Assignment Requirements |  \n",
        "|:-------------------------------|  \n",
        "| **NOTE:** This program requires `print` output and using code syntax used in Module 1 such as variable assignment, `input`, `in` keyword, `.lower()` or `.upper()` method.  |  \n",
        "\n",
        "\n",
        "## Program: Allergy Check  \n",
        "\n",
        "1. **[ ]** Get user **`input`** for categories of food eaten in the last 24 hours  \n",
        " save in a variable called **input_test**.  \n",
        " *Example input statement*\n",
        "           food_list = input (\"What foods are you allergic to? \")\n",
        "\n",
        "&nbsp;  \n",
        "2. **[ ]** Print **`True`** if \"dairy\" is in the **input_test** string.  \n",
        "**[ ]** Test the code so far.  \n",
        "&nbsp;\n",
        "3. **[ ]** Modify the print statement to output similar to below.  \n",
        "*Example output*\n",
        "\n",
        "               It is true that you are allergic to nuts.\n",
        "\n",
        "Test the code so far trying input including and without the string \"dairy\".  \n",
        "&nbsp;  \n",
        "\n",
        "4. **[ ]** Repeat the process checking the input for \"nuts\", **challenge** add \"Seafood\" and \"chocolate\".  \n",
        "**[ ]** Test your code.  \n",
        "&nbsp;  \n",
        "  \n",
        "5. **[ ] Challenge:** Make your code work for input regardless of case, e.g. - print **`True`** for \"Nuts\", \"NuTs\", \"NUTS\" or \"nuts\".  \n"
      ]
    },
    {
      "cell_type": "code",
      "execution_count": 3,
      "metadata": {
        "collapsed": true,
        "id": "dHY8mYnoTHN1"
      },
      "outputs": [
        {
          "name": "stdout",
          "output_type": "stream",
          "text": [
            "nuts\n",
            "It is, False that your allergic to: nuts\n",
            "It is, True that your allergic to: nuts\n",
            "It is, False that your allergic to: nuts\n",
            "It is, False that your allergic to: nuts\n"
          ]
        }
      ],
      "source": [
        "# Create Allergy check code\n",
        "# [ ] get input for input_test variable\n",
        "input_test = input (\"What kind of foods are you allergic to? \")\n",
        "print (input_test.lower())\n",
        "# [ ] print \"True\" message if \"dairy\" is in the input or False message if not\n",
        "print (\"It is,\" ,\"dairy\" in input_test.lower(), \"that your allergic to:\", input_test.lower())\n",
        "# [ ] print True message if \"nuts\" is in the input or False if not\n",
        "print (\"It is,\" ,\"nuts\" in input_test.lower(), \"that your allergic to:\", input_test.lower())\n",
        "# [ ] Challenge: Check if \"seafood\" is in the input - print message\n",
        "print (\"It is,\" ,\"seafood\" in input_test.lower(), \"that your allergic to:\", input_test.lower())\n",
        "# [ ] Challenge: Check if \"chocolate\" is in the input - print message\n",
        "print (\"It is,\" ,\"chocolate\" in input_test.lower(), \"that your allergic to:\", input_test.lower())"
      ]
    },
    {
      "cell_type": "markdown",
      "metadata": {
        "id": "suASOVccTHN5"
      },
      "source": [
        "[Terms of use](http://go.microsoft.com/fwlink/?LinkID=206977) &nbsp; [Privacy & cookies](https://go.microsoft.com/fwlink/?LinkId=521839) &nbsp; © 2017 Microsoft"
      ]
    }
  ],
  "metadata": {
    "anaconda-cloud": {},
    "colab": {
      "name": "40460_Mod01_Project1 - M2 Project.ipynb",
      "provenance": []
    },
    "kernelspec": {
      "display_name": "Python 3",
      "language": "python",
      "name": "python3"
    },
    "language_info": {
      "codemirror_mode": {
        "name": "ipython",
        "version": 3
      },
      "file_extension": ".py",
      "mimetype": "text/x-python",
      "name": "python",
      "nbconvert_exporter": "python",
      "pygments_lexer": "ipython3",
      "version": "3.10.2"
    }
  },
  "nbformat": 4,
  "nbformat_minor": 0
}
