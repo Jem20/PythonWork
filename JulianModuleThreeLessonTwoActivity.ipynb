{
  "cells": [
    {
      "cell_type": "markdown",
      "metadata": {},
      "source": [
        "# Module Three Lesson Two Practice Activity\n",
        "# Julian Monsalve 2/9/2022\n",
        "# In this lesson I have learned some more knowledge on creating multiple parameters.\n",
        "# No difficulties.\n",
        "## Function Return and Multi-Parameters\n",
        "- Creating a simple function with a parameter\n",
        "- **Exploring functions with `return` values**  \n",
        "- **Creating functions with multiple parameters**  \n",
        "- Sequence in Python  \n",
        "\n",
        "-----\n",
        "\n",
        "### Student will be able to\n",
        "- Create functions with a parameter  \n",
        "- **Create functions with a `return` value**\n",
        "- **Create functions with multiple parameters**\n",
        "- Use knowledge of sequence in coding tasks \n",
        "- Use coding best practices "
      ]
    },
    {
      "cell_type": "markdown",
      "metadata": {},
      "source": [
        "## Concept: Functions with Return Values\n",
        "\n",
        "[![view video](https://iajupyterprodblobs.blob.core.windows.net/imagecontainer/common/play_video.png)]( http://edxinteractivepage.blob.core.windows.net/edxpages/f7cff1a7-5601-48a1-95a6-fd1fdfabd20e.html?details=[{\"src\":\"http://jupyternootbookwams.streaming.mediaservices.windows.net/db990568-d940-4ede-a063-7e40ed25c978/Unit1_Section3.2-function-return.ism/manifest\",\"type\":\"application/vnd.ms-sstr+xml\"}],[{\"src\":\"http://jupyternootbookwams.streaming.mediaservices.windows.net/db990568-d940-4ede-a063-7e40ed25c978/Unit1_Section3.2-function-return.vtt\",\"srclang\":\"en\",\"kind\":\"subtitles\",\"label\":\"english\"}])\n",
        "- **`type()`** returns an object type.\n",
        "-  **`type()`** can be called with a float the return value can be stored in a variable.\n",
        "```python\n",
        "object_type = type(2.33)\n",
        "```  \n",
        "\n",
        "## Creating a function with a return value  \n",
        "- **`return`** keyword in a function *returns* a value after *exiting* the function.  \n",
        "\n",
        "```python\n",
        "def msg_double(phrase):\n",
        "      double = phrase + \" \" + phrase\n",
        "      return double\n",
        "```  \n"
      ]
    },
    {
      "cell_type": "markdown",
      "metadata": {},
      "source": [
        "### Example \n",
        "  \n",
        "Review and run the code."
      ]
    },
    {
      "cell_type": "code",
      "execution_count": 1,
      "metadata": {
        "trusted": true
      },
      "outputs": [
        {
          "name": "stdout",
          "output_type": "stream",
          "text": [
            "let's go let's go\n"
          ]
        }
      ],
      "source": [
        "# Message double returns the string Argument doubled\n",
        "def msg_double(phrase):\n",
        "      double = phrase + \" \" + phrase\n",
        "      return double\n",
        "\n",
        "# save return value in variable\n",
        "msg_2x = msg_double(\"let's go\")\n",
        "print(msg_2x)"
      ]
    },
    {
      "cell_type": "code",
      "execution_count": 2,
      "metadata": {
        "trusted": true
      },
      "outputs": [
        {
          "name": "stdout",
          "output_type": "stream",
          "text": [
            "Save Now! Save Now!\n"
          ]
        },
        {
          "data": {
            "text/plain": [
              "str"
            ]
          },
          "execution_count": 2,
          "metadata": {},
          "output_type": "execute_result"
        }
      ],
      "source": [
        "# example of functions with return values used in functions\n",
        "def msg_double(phrase):\n",
        "      double = phrase + \" \" + phrase\n",
        "      return double\n",
        "\n",
        "# prints the returned object\n",
        "print(msg_double(\"Save Now!\"))\n",
        "\n",
        "# echo the type of the returned object\n",
        "type(msg_double(\"Save Now!\"))"
      ]
    },
    {
      "cell_type": "markdown",
      "metadata": {},
      "source": [
        "## Task 1: A function that adds the \"Doctor\" title to a name\n",
        "- Define function `make_doctor()`&nbsp; that takes a parameter `name`\n",
        "- Get user **input** for variable **`full_name`**\n",
        "- Call the function using `full_name` &nbsp; as argument\n",
        "- Print the return value"
      ]
    },
    {
      "cell_type": "code",
      "execution_count": 4,
      "metadata": {
        "trusted": true
      },
      "outputs": [
        {
          "name": "stdout",
          "output_type": "stream",
          "text": [
            "Doctor Morgan\n"
          ]
        }
      ],
      "source": [
        "def make_doctor(name):\n",
        "    return \"Doctor \" + name\n",
        "\n",
        "\n",
        "full_name = input()\n",
        "print(make_doctor(full_name))"
      ]
    },
    {
      "cell_type": "markdown",
      "metadata": {
        "collapsed": true
      },
      "source": [
        "## Concept: Functions with Multiple Parameters\n",
        "Functions can have multiple parameters separated by commas.\n",
        "\n",
        "[![view video](https://iajupyterprodblobs.blob.core.windows.net/imagecontainer/common/play_video.png)]( http://edxinteractivepage.blob.core.windows.net/edxpages/f7cff1a7-5601-48a1-95a6-fd1fdfabd20e.html?details=[{\"src\":\"http://jupyternootbookwams.streaming.mediaservices.windows.net/d82c3856-61ff-4fa3-9a20-df8f6ea4dd7a/Unit1_Section3.2-MultiParam_Function.ism/manifest\",\"type\":\"application/vnd.ms-sstr+xml\"}],[{\"src\":\"http://jupyternootbookwams.streaming.mediaservices.windows.net/d82c3856-61ff-4fa3-9a20-df8f6ea4dd7a/Unit1_Section3.2-MultiParam_Function.vtt\",\"srclang\":\"en\",\"kind\":\"subtitles\",\"label\":\"english\"}])"
      ]
    },
    {
      "cell_type": "markdown",
      "metadata": {
        "collapsed": true
      },
      "source": [
        "### Example\n",
        "  \n",
        "Review and run the code."
      ]
    },
    {
      "cell_type": "code",
      "execution_count": 5,
      "metadata": {
        "trusted": true
      },
      "outputs": [
        {
          "name": "stdout",
          "output_type": "stream",
          "text": [
            "SCHEDULE: [1st] Mathematics, [2nd] History\n"
          ]
        }
      ],
      "source": [
        "def make_schedule(period1, period2):\n",
        "    schedule = (\"[1st] \" + period1.title() + \", [2nd] \" + period2.title())\n",
        "    return schedule\n",
        "\n",
        "student_schedule = make_schedule(\"mathematics\", \"history\")\n",
        "print(\"SCHEDULE:\", student_schedule)"
      ]
    },
    {
      "cell_type": "markdown",
      "metadata": {
        "collapsed": true
      },
      "source": [
        "## Task 2: Define `make_schedule()` and add a 3rd period \n",
        "- Start with the above example code\n",
        "- Add a parameter period_3\n",
        "- Update function code to add period_3 to the schedule\n",
        "- Call **`make_schedule()`** with an additional argument such as 'science'\n",
        "- Print the schedule\n",
        "- Challenge - print a schedule for 6 classes (Tip: perhaps let the function make this easy)"
      ]
    },
    {
      "cell_type": "code",
      "execution_count": 6,
      "metadata": {
        "trusted": true
      },
      "outputs": [
        {
          "name": "stdout",
          "output_type": "stream",
          "text": [
            "SCHEDULE: [1st] Mathematics, [2nd] History, [3rd] Science\n"
          ]
        }
      ],
      "source": [
        "def make_schedule(period1, period2, period3):\n",
        "    schedule = (\"[1st] \" + period1.title() + \", [2nd] \" + period2.title() + \", [3rd] \" + period3.title())\n",
        "    return schedule\n",
        "\n",
        "student_schedule = make_schedule(\"mathematics\", \"history\", \"science\")\n",
        "print(\"SCHEDULE:\", student_schedule)"
      ]
    },
    {
      "cell_type": "markdown",
      "metadata": {},
      "source": [
        "[Terms of use](http://go.microsoft.com/fwlink/?LinkID=206977) &nbsp; [Privacy & cookies](https://go.microsoft.com/fwlink/?LinkId=521839) &nbsp; © 2017 Microsoft"
      ]
    }
  ],
  "metadata": {
    "anaconda-cloud": {},
    "kernelspec": {
      "display_name": "Python 3",
      "language": "python",
      "name": "python3"
    },
    "language_info": {
      "codemirror_mode": {
        "name": "ipython",
        "version": 3
      },
      "file_extension": ".py",
      "mimetype": "text/x-python",
      "name": "python",
      "nbconvert_exporter": "python",
      "pygments_lexer": "ipython3",
      "version": "3.10.2"
    }
  },
  "nbformat": 4,
  "nbformat_minor": 1
}
