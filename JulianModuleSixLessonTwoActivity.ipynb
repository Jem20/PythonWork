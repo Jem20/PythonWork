{
  "cells": [
    {
      "cell_type": "markdown",
      "metadata": {
        "id": "ltYr5qak7tAT"
      },
      "source": [
        "# Module Six Lesson Two Activity\n",
        "# Julian Monsalve\n",
        "# In this lesson I've learned how to slice strings into substrings\n",
        "# No difficulties\n",
        "\n",
        "## Index Slicing\n",
        "- Accessing string characters with index\n",
        "- **Accessing substrings with index slicing**\n",
        "- Iterating through characters of a string\n",
        "- More string methods\n",
        "\n",
        "----- \n",
        "\n",
        "### Student will be able to\n",
        "- Work with string characters\n",
        "- **Slice strings into substrings**\n",
        "- Iterate through string characters\n",
        "- Use string methods"
      ]
    },
    {
      "cell_type": "markdown",
      "metadata": {
        "id": "AT5kpUmX7tAW"
      },
      "source": [
        "## Concept: Accessing Substrings \n",
        "[View Accessing Substrings video](https://ncvps.yuja.com/V/Video?v=4514485&node=15054553&a=939740719&autoplay=1)\n",
        "### Index Slicing [start:stop]\n",
        "String slicing returns a string section by addressing the start and stop indexes\n",
        "\n",
        "```python\n",
        "# assign string to student_name\n",
        "student_name = \"Colette\"\n",
        "# addressing the 3rd, 4th and 5th characters\n",
        "student_name[2:5]\n",
        "```\n",
        "The slice starts at index 2 and ends at index 5 (but does not include index 5)"
      ]
    },
    {
      "cell_type": "markdown",
      "metadata": {
        "id": "n64WPKMa7tAW"
      },
      "source": [
        "### Examples"
      ]
    },
    {
      "cell_type": "code",
      "execution_count": 1,
      "metadata": {
        "id": "e1EsNUI57tAX"
      },
      "outputs": [
        {
          "name": "stdout",
          "output_type": "stream",
          "text": [
            "slice student_name[2:5]: let\n"
          ]
        }
      ],
      "source": [
        "# [ ] review and run example\n",
        "# assign string to student_name\n",
        "student_name = \"Colette\"\n",
        "\n",
        "# addressing the 3rd, 4th and 5th characters using a slice\n",
        "print(\"slice student_name[2:5]:\",student_name[2:5])"
      ]
    },
    {
      "cell_type": "code",
      "execution_count": 2,
      "metadata": {
        "id": "M0Ulv2vA7tAY"
      },
      "outputs": [
        {
          "name": "stdout",
          "output_type": "stream",
          "text": [
            "index 2, 3 & 4 of student_name: let\n"
          ]
        }
      ],
      "source": [
        "# [ ] review and run example\n",
        "# assign string to student_name\n",
        "student_name = \"Colette\"\n",
        "\n",
        "# addressing the 3rd, 4th and 5th characters individually\n",
        "print(\"index 2, 3 & 4 of student_name:\", student_name[2] + student_name[3] + student_name[4])"
      ]
    },
    {
      "cell_type": "code",
      "execution_count": 3,
      "metadata": {
        "id": "acXLhfaO7tAY"
      },
      "outputs": [
        {
          "name": "stdout",
          "output_type": "stream",
          "text": [
            "knowledge\n",
            "knowledge is the 3rd char through the 11th char\n",
            "knowledge is the index 2, \"k\", through index 10, \"e\"\n"
          ]
        }
      ],
      "source": [
        "# [ ] review and run example\n",
        "long_word = 'Acknowledgement'\n",
        "print(long_word[2:11])\n",
        "print(long_word[2:11], \"is the 3rd char through the 11th char\")\n",
        "print(long_word[2:11], \"is the index 2, \\\"\" + long_word[2] + \"\\\",\", \"through index 10, \\\"\" + long_word[10] + \"\\\"\")"
      ]
    },
    {
      "cell_type": "markdown",
      "metadata": {
        "collapsed": true,
        "id": "j1t_akNA7tAY"
      },
      "source": [
        "## Task 1: Slice a string\n",
        "### Start &amp; stop index"
      ]
    },
    {
      "cell_type": "code",
      "execution_count": 5,
      "metadata": {
        "id": "TiUzSf917tAZ"
      },
      "outputs": [
        {
          "name": "stdout",
          "output_type": "stream",
          "text": [
            "act\n",
            "tic\n"
          ]
        }
      ],
      "source": [
        "# [ ] slice long_word to print \"act\" and to print \"tic\"\n",
        "long_word = \"characteristics\"\n",
        "print(long_word[4:7])\n",
        "print(long_word[11:14])"
      ]
    },
    {
      "cell_type": "code",
      "execution_count": 6,
      "metadata": {
        "id": "cFKcpzkL7tAa"
      },
      "outputs": [
        {
          "name": "stdout",
          "output_type": "stream",
          "text": [
            "sequence\n"
          ]
        }
      ],
      "source": [
        "# [ ] slice long_word to print \"sequence\"\n",
        "long_word = \"Consequences\"\n",
        "print(long_word[3:11])"
      ]
    },
    {
      "cell_type": "markdown",
      "metadata": {
        "id": "FL_NrQ167tAa"
      },
      "source": [
        "## Concept: Accessing Substring Beginnings \n",
        "[View Accessing Substring Beginnings video](https://ncvps.yuja.com/V/Video?v=4514510&node=15054586&a=856040564&autoplay=1)\n",
        "### Index Slicing [:stop]\n",
        "String slicing returns a string section from index 0 by addressing only the stop index\n",
        "\n",
        "```python\n",
        "student_name = \"Colette\"\n",
        "# addressing the 1st, 2nd &amp; 3rd characters\n",
        "student_name[:3]\n",
        "```\n",
        "**default start for a slice is index 0**"
      ]
    },
    {
      "cell_type": "markdown",
      "metadata": {
        "id": "ir2dF9gn7tAb"
      },
      "source": [
        "### Example"
      ]
    },
    {
      "cell_type": "code",
      "execution_count": 7,
      "metadata": {
        "id": "bOw7ZEb17tAb"
      },
      "outputs": [
        {
          "name": "stdout",
          "output_type": "stream",
          "text": [
            "Col\n"
          ]
        }
      ],
      "source": [
        "# [ ] review and run example\n",
        "student_name = \"Colette\"\n",
        "# addressing the 1st, 2nd & 3rd characters\n",
        "print(student_name[:3])"
      ]
    },
    {
      "cell_type": "markdown",
      "metadata": {
        "collapsed": true,
        "id": "pTGqx5m-7tAb"
      },
      "source": [
        "## Task 2"
      ]
    },
    {
      "cell_type": "code",
      "execution_count": 8,
      "metadata": {
        "id": "FK7_3Bx67tAb"
      },
      "outputs": [
        {
          "name": "stdout",
          "output_type": "stream",
          "text": [
            "Conseq\n",
            "No Parking on C or e streets\n"
          ]
        }
      ],
      "source": [
        "# [ ] print the first half of the long_word\n",
        "long_word = \"Consequences\"\n",
        "print(long_word[0:6])\n",
        "print(\"No Parking on\" ,long_word[0], \"or\" ,long_word[4], \"streets\")"
      ]
    },
    {
      "cell_type": "markdown",
      "metadata": {
        "id": "SGuLT9hh7tAc"
      },
      "source": [
        "## Concept: Accessing Substring Endings \n",
        "[View Accessing Substring Endings video](https://ncvps.yuja.com/V/Video?v=4514514&node=15054599&a=297828556&autoplay=1)\n",
        "### Index Slicing [start:]\n",
        "String slicing returns a string section including by addressing only the start index\n",
        "\n",
        "```python\n",
        "student_name = \"Colette\"\n",
        "# addressing the 4th, 5th and 6th characters\n",
        "student_name[3:]\n",
        "```\n",
        "**default end index returns up to and including the last string character**"
      ]
    },
    {
      "cell_type": "markdown",
      "metadata": {
        "id": "92h63Jpf7tAc"
      },
      "source": [
        "### Example"
      ]
    },
    {
      "cell_type": "code",
      "execution_count": 9,
      "metadata": {
        "id": "OmmbjVoJ7tAc"
      },
      "outputs": [
        {
          "data": {
            "text/plain": [
              "'ette'"
            ]
          },
          "execution_count": 9,
          "metadata": {},
          "output_type": "execute_result"
        }
      ],
      "source": [
        "# [ ] review and run example\n",
        "student_name = \"Colette\"\n",
        "#  4th, 5th, 6th and 7th characters\n",
        "student_name[3:]"
      ]
    },
    {
      "cell_type": "markdown",
      "metadata": {
        "collapsed": true,
        "id": "3_pYP_U_7tAc"
      },
      "source": [
        "## Task 3"
      ]
    },
    {
      "cell_type": "code",
      "execution_count": 10,
      "metadata": {
        "id": "kpotWRdg7tAc"
      },
      "outputs": [
        {
          "name": "stdout",
          "output_type": "stream",
          "text": [
            "Conseq\n",
            "No Parking on C or u streets\n"
          ]
        }
      ],
      "source": [
        "# [ ] print the second half of the long_word\n",
        "long_word = \"Consequences\"\n",
        "print(long_word[0:6])\n",
        "print(\"No Parking on\" ,long_word[0], \"or\" ,long_word[6], \"streets\")"
      ]
    },
    {
      "cell_type": "markdown",
      "metadata": {
        "id": "RI-oUtcK7tAc"
      },
      "source": [
        "## Concept: Accessing Substrings by Step Size\n",
        "[View Accessing Substrings by Step Size video](https://ncvps.yuja.com/V/Video?v=4514518&node=15054608&a=1263524862&autoplay=1)\n",
        "### Index Slicing [:], [::2]\n",
        "- **[:]** returns the entire string\n",
        "- **[::2]** returns the first char and then steps to every other char in the string\n",
        "- **[1::3]** returns the second char and then steps to every third char in the string  \n",
        "\n",
        "the number **2**, in the print statement below, represents the **step** \n",
        "\n",
        "```python\n",
        "print(long_word[::2])\n",
        "```"
      ]
    },
    {
      "cell_type": "markdown",
      "metadata": {
        "id": "GTQN2gUY7tAd"
      },
      "source": [
        "### Examples"
      ]
    },
    {
      "cell_type": "code",
      "execution_count": 11,
      "metadata": {
        "id": "jo9iCE3u7tAd"
      },
      "outputs": [
        {
          "name": "stdout",
          "output_type": "stream",
          "text": [
            "Colette\n"
          ]
        }
      ],
      "source": [
        "# [ ] review and run example\n",
        "student_name = \"Colette\"\n",
        "# return all\n",
        "print(student_name[:])"
      ]
    },
    {
      "cell_type": "code",
      "execution_count": 12,
      "metadata": {
        "id": "feuJiFL57tAd"
      },
      "outputs": [
        {
          "name": "stdout",
          "output_type": "stream",
          "text": [
            "Clte\n"
          ]
        }
      ],
      "source": [
        "# [ ] review and run example\n",
        "student_name = \"Colette\"\n",
        "# return every other\n",
        "print(student_name[::2])"
      ]
    },
    {
      "cell_type": "code",
      "execution_count": 13,
      "metadata": {
        "id": "hDlh4NSD7tAd"
      },
      "outputs": [
        {
          "name": "stdout",
          "output_type": "stream",
          "text": [
            "oet\n"
          ]
        }
      ],
      "source": [
        "# [ ] review and run example\n",
        "student_name = \"Colette\"\n",
        "# return every third, starting at 2nd character\n",
        "print(student_name[1::2])"
      ]
    },
    {
      "cell_type": "code",
      "execution_count": 14,
      "metadata": {
        "id": "zvYLjwaG7tAd"
      },
      "outputs": [
        {
          "name": "stdout",
          "output_type": "stream",
          "text": [
            "osqe\n"
          ]
        }
      ],
      "source": [
        "# [ ] review and run example\n",
        "long_word = \"Consequences\"\n",
        "# starting at 2nd char (index 1) to 9th character, return every other character\n",
        "print(long_word[1:9:2])"
      ]
    },
    {
      "cell_type": "markdown",
      "metadata": {
        "collapsed": true,
        "id": "IaG-cQ9s7tAd"
      },
      "source": [
        "## Task 4"
      ]
    },
    {
      "cell_type": "code",
      "execution_count": 15,
      "metadata": {
        "id": "zzluBVUK7tAd"
      },
      "outputs": [
        {
          "name": "stdout",
          "output_type": "stream",
          "text": [
            "Anlge\n"
          ]
        }
      ],
      "source": [
        "# [ ] print the 1st and every 3rd letter of long_word\n",
        "long_word = \"Acknowledgement\"\n",
        "print(long_word[0::3])"
      ]
    },
    {
      "cell_type": "code",
      "execution_count": 16,
      "metadata": {
        "id": "UKuV0Jsn7tAd"
      },
      "outputs": [
        {
          "name": "stdout",
          "output_type": "stream",
          "text": [
            "koldeet\n"
          ]
        }
      ],
      "source": [
        "# [ ] print every other character of long_word starting at the 3rd character\n",
        "long_word = \"Acknowledgement\"\n",
        "print(long_word[2::2])"
      ]
    },
    {
      "cell_type": "markdown",
      "metadata": {
        "id": "K2i39vCH7tAe"
      },
      "source": [
        "## Concept: Accessing Substrings Continued  \n",
        "[View Accessing Substrings Continued video](https://ncvps.yuja.com/V/Video?v=4514520&node=15054614&a=1429597632&autoplay=1)\n",
        "### Stepping backwards \n",
        "\n",
        "```python\n",
        "print(long_word[::-1])\n",
        "```  \n",
        "\n",
        "Use **[::-1]** to reverse a string."
      ]
    },
    {
      "cell_type": "markdown",
      "metadata": {
        "id": "Y_VxxHio7tAe"
      },
      "source": [
        "### Example"
      ]
    },
    {
      "cell_type": "code",
      "execution_count": 17,
      "metadata": {
        "id": "jahzfGPD7tAe",
        "scrolled": true
      },
      "outputs": [
        {
          "name": "stdout",
          "output_type": "stream",
          "text": [
            "scitsiretcarahc\n"
          ]
        }
      ],
      "source": [
        "# [ ] review and run example of stepping backwards using [::-1]\n",
        "long_word = \"characteristics\"\n",
        "# make the step increment -1 to step backwards\n",
        "print(long_word[::-1])"
      ]
    },
    {
      "cell_type": "code",
      "execution_count": 18,
      "metadata": {
        "id": "RQMv5mXh7tAe"
      },
      "outputs": [
        {
          "name": "stdout",
          "output_type": "stream",
          "text": [
            "tcarahc\n"
          ]
        }
      ],
      "source": [
        "# [ ] review and run example of stepping backwards using [6::-1]\n",
        "long_word = \"characteristics\"\n",
        "# start at the 7th letter backwards to start\n",
        "print(long_word[6::-1])"
      ]
    },
    {
      "cell_type": "markdown",
      "metadata": {
        "collapsed": true,
        "id": "_v7O1CQl7tAe"
      },
      "source": [
        "## Task 5: Use slicing"
      ]
    },
    {
      "cell_type": "code",
      "execution_count": 19,
      "metadata": {
        "id": "gkjuRT1y7tAe"
      },
      "outputs": [
        {
          "name": "stdout",
          "output_type": "stream",
          "text": [
            "desserts\n"
          ]
        }
      ],
      "source": [
        "# [ ] reverse long_word\n",
        "long_word = \"stressed\"\n",
        "print(long_word[-1::-1])"
      ]
    },
    {
      "cell_type": "code",
      "execution_count": 20,
      "metadata": {
        "id": "8cpcnifE7tAe"
      },
      "outputs": [
        {
          "name": "stdout",
          "output_type": "stream",
          "text": [
            "arahc\n"
          ]
        }
      ],
      "source": [
        "# [ ] print the first 5 letters of long_word in reverse\n",
        "long_word = \"characteristics\"\n",
        "print(long_word[-11::-1])"
      ]
    },
    {
      "cell_type": "markdown",
      "metadata": {
        "collapsed": true,
        "id": "ZRjS0hej7tAe"
      },
      "source": [
        "## Task 6: Use slicing"
      ]
    },
    {
      "cell_type": "code",
      "execution_count": 21,
      "metadata": {
        "id": "MPdaQATC7tAe"
      },
      "outputs": [
        {
          "name": "stdout",
          "output_type": "stream",
          "text": [
            "time\n",
            "emit\n",
            "enil\n",
            "nile\n"
          ]
        }
      ],
      "source": [
        "# [ ] print the first 4 letters of long_word\n",
        "# [ ] print the first 4 letters of long_word in reverse\n",
        "# [ ] print the last 4 letters of long_word in reverse\n",
        "# [ ] print the letters spanning indexes 3 to 6 of long_word in Reverse\n",
        "# [ ] Note: all 4 of these will have 4 characters in the display\n",
        "long_word = \"timeline\"\n",
        "print(long_word[0:4])\n",
        "print(long_word[-5::-1])\n",
        "print(long_word[-1:-5:-1])\n",
        "print(long_word[-2:-6:-1])"
      ]
    },
    {
      "cell_type": "markdown",
      "metadata": {
        "id": "y2DSkXKg7tAf"
      },
      "source": [
        "[Terms of use](http://go.microsoft.com/fwlink/?LinkID=206977)   [Privacy &amp; cookies](https://go.microsoft.com/fwlink/?LinkId=521839)   © 2017 Microsoft"
      ]
    }
  ],
  "metadata": {
    "anaconda-cloud": {},
    "colab": {
      "collapsed_sections": [],
      "name": "ModuleSixLessonTwoActivity.ipynb",
      "provenance": []
    },
    "kernelspec": {
      "display_name": "Python 3",
      "language": "python",
      "name": "python3"
    },
    "language_info": {
      "codemirror_mode": {
        "name": "ipython",
        "version": 3
      },
      "file_extension": ".py",
      "mimetype": "text/x-python",
      "name": "python",
      "nbconvert_exporter": "python",
      "pygments_lexer": "ipython3",
      "version": "3.10.2"
    }
  },
  "nbformat": 4,
  "nbformat_minor": 0
}
