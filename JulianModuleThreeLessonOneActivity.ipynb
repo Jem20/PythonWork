{
  "cells": [
    {
      "cell_type": "markdown",
      "metadata": {},
      "source": [
        "# ModuleThree Lesson One Practice Activity\n",
        "# Julian Monsalve 2/8/2022\n",
        "# In this lesson I've learned how to create functions with multiple parameters.\n",
        "# I had difficulties with task 3 it was kind of tricky.\n",
        "\n",
        "\n",
        "## Simple Functions\n",
        "- **Creating a simple function with a parameter**\n",
        "- Exploring functions with `return` values \n",
        "- Creating functions with multiple parameters\n",
        "- Sequence in Python  \n",
        "\n",
        "-----\n",
        "\n",
        "### Student will be able to\n",
        "- **Create functions with a parameter**  \n",
        "- Create functions with a `return` value \n",
        "- Create functions with multiple parameters\n",
        "- Use knowledge of sequence in coding tasks  \n",
        "- Use coding best practices \n",
        "\n",
        "#### Before submission: Remember you need to add descriptive comments in each cell (examples AND tasks) that explains what your code is doing.  "
      ]
    },
    {
      "cell_type": "markdown",
      "metadata": {},
      "source": [
        "## Concept: Functions with Arguments\n",
        "Functions are used for code tasks that are intended to be reused. \n",
        "\n",
        "[![view video](https://iajupyterprodblobs.blob.core.windows.net/imagecontainer/common/play_video.png)]( http://edxinteractivepage.blob.core.windows.net/edxpages/f7cff1a7-5601-48a1-95a6-fd1fdfabd20e.html?details=[{\"src\":\"http://jupyternootbookwams.streaming.mediaservices.windows.net/621d10f8-23d5-4571-b0fd-aa12b0de98d8/Unit1_Section3.1-function-arguments.ism/manifest\",\"type\":\"application/vnd.ms-sstr+xml\"}],[{\"src\":\"http://jupyternootbookwams.streaming.mediaservices.windows.net/621d10f8-23d5-4571-b0fd-aa12b0de98d8/Unit1_Section3.1-function-arguments.vtt\",\"srclang\":\"en\",\"kind\":\"subtitles\",\"label\":\"english\"}])\n",
        "\n",
        "Python allows us to create **User Defined Functions** and provides many **Built-in Functions** such as **`print()`**.  \n",
        "- **`print()`** can be called using arguments (or without) and sends text to standard output, such as the console. \n",
        "- **`print()`** uses **Parameters** to define the variable Arguments that can be passed to the Function. \n",
        "- **`print()`** defines multiple string/numbers parameters which means we can send a long list of Arguments to **`print()`**, separated by commas.   \n",
        "- **`print()`** can also be called directly with just its name and empty parenthesis and it will return a blank line to standard output.\n"
      ]
    },
    {
      "cell_type": "markdown",
      "metadata": {},
      "source": [
        "### Examples"
      ]
    },
    {
      "cell_type": "code",
      "execution_count": 1,
      "metadata": {
        "trusted": false
      },
      "outputs": [
        {
          "name": "stdout",
          "output_type": "stream",
          "text": [
            "Hello World! I am sending string arguments to print \n"
          ]
        }
      ],
      "source": [
        "print('Hello World!', 'I am sending string arguments to print ')"
      ]
    },
    {
      "cell_type": "code",
      "execution_count": 2,
      "metadata": {
        "trusted": false
      },
      "outputs": [
        {
          "name": "stdout",
          "output_type": "stream",
          "text": [
            "Hiroto Yamaguchi will be in the class for 17 year old students.\n"
          ]
        }
      ],
      "source": [
        "student_age = 17\n",
        "student_name = \"Hiroto Yamaguchi\"\n",
        "print(student_name,'will be in the class for',student_age, 'year old students.')"
      ]
    },
    {
      "cell_type": "code",
      "execution_count": 3,
      "metadata": {
        "trusted": false
      },
      "outputs": [
        {
          "name": "stdout",
          "output_type": "stream",
          "text": [
            "line 1\n",
            "line 2\n",
            "\n",
            "line 4\n"
          ]
        }
      ],
      "source": [
        "print(\"line 1\")\n",
        "print(\"line 2\")\n",
        "# line 3 is an empty return - the default when no arguments\n",
        "print()\n",
        "print(\"line 4\")"
      ]
    },
    {
      "cell_type": "markdown",
      "metadata": {},
      "source": [
        "## Task 1: Passing arguments to `print()` \n",
        "### Many arguments can be passed to print \n",
        "\n",
        "- Update the print statement to use **`print()`** with **8** or more arguments"
      ]
    },
    {
      "cell_type": "code",
      "execution_count": 8,
      "metadata": {
        "trusted": false
      },
      "outputs": [
        {
          "name": "stdout",
          "output_type": "stream",
          "text": [
            "\n",
            "Hiroto Yamaguchi and Yixuan will be in the class for python teacher is Brenne Sun when morning end afternoon it is very good\n"
          ]
        }
      ],
      "source": [
        "student_age = 17\n",
        "student_name = \"Hiroto Yamaguchi\"\n",
        "teacher_name = \"Brenne Sun\"\n",
        "class_name = \"python\"\n",
        "class_time = \"morning\"\n",
        "class_end = \"afternoon\"\n",
        "good_class = \"it is very good\"\n",
        "second_studentname = \"Yixuan\"\n",
        "print()\n",
        "print(student_name,'and',second_studentname,'will be in the class for',class_name,'teacher is',teacher_name,\"when\",class_time,\"end\",class_end,good_class)"
      ]
    },
    {
      "cell_type": "markdown",
      "metadata": {
        "collapsed": true
      },
      "source": [
        "#  \n",
        "<font> <b></b></font>\n",
        "## Concept: Simple Functions\n",
        "Creating user-defined functions is at the core of computer programming.  Functions enable code reuse and make code easier to develop and maintain.\n",
        "[![view video](https://iajupyterprodblobs.blob.core.windows.net/imagecontainer/common/play_video.png)]( http://edxinteractivepage.blob.core.windows.net/edxpages/f7cff1a7-5601-48a1-95a6-fd1fdfabd20e.html?details=[{\"src\":\"http://jupyternootbookwams.streaming.mediaservices.windows.net/35458114-6211-4d10-85bc-7c4eb7834c52/Unit1_Section3.1-Simplest_Functions.ism/manifest\",\"type\":\"application/vnd.ms-sstr+xml\"}],[{\"src\":\"http://jupyternootbookwams.streaming.mediaservices.windows.net/35458114-6211-4d10-85bc-7c4eb7834c52/Unit1_Section3.1-Simplest_Functions.vtt\",\"srclang\":\"en\",\"kind\":\"subtitles\",\"label\":\"english\"}])\n",
        "### Basics of a user-defined function\n",
        "- Define a function with **`def`** \n",
        "- Use indentation (4 spaces)\n",
        "- Define parameters\n",
        "- Optional parameters \n",
        "- **`return`** values (or none)\n",
        "- Function scope (basics defaults)  \n"
      ]
    },
    {
      "cell_type": "markdown",
      "metadata": {},
      "source": [
        "### `def some_function():`\n",
        "Use the  **`def`**  statement when creating a **function**.  \n",
        "- Use a function name that **starts with a letter** or underscore (usually a lowercase letter).\n",
        "- Function names can contain **letters, numbers or underscores**.\n",
        "- Parentheses   **()**    follow the function name.\n",
        "- A colon   **:**    follows the parenthesis.\n",
        "- The code for the function is indented under the function definition (use 4 spaces for this course).\n",
        "\n",
        "```python\n",
        "def some_function():\n",
        "   #code the function tasks indented here    \n",
        "```\n",
        "The **end of the function** is denoted by returning to **no indentation**."
      ]
    },
    {
      "cell_type": "markdown",
      "metadata": {},
      "source": [
        "### Examples"
      ]
    },
    {
      "cell_type": "code",
      "execution_count": 4,
      "metadata": {
        "trusted": false
      },
      "outputs": [],
      "source": [
        "# defines a function named say_hi\n",
        "def say_hi():\n",
        "    print(\"Hello there!\")\n",
        "    print(\"goodbye\")"
      ]
    },
    {
      "cell_type": "code",
      "execution_count": 5,
      "metadata": {
        "trusted": false
      },
      "outputs": [],
      "source": [
        "# define three_three \n",
        "def three_three():\n",
        "    print(33) "
      ]
    },
    {
      "cell_type": "markdown",
      "metadata": {},
      "source": [
        "\n",
        "## Concept: Calling Functions\n",
        "Call a simple function using the function name followed by parentheses.  For instance, calling print is  \n",
        "**`print()`**"
      ]
    },
    {
      "cell_type": "markdown",
      "metadata": {},
      "source": [
        "### Examples\n"
      ]
    },
    {
      "cell_type": "code",
      "execution_count": 6,
      "metadata": {
        "trusted": false
      },
      "outputs": [
        {
          "name": "stdout",
          "output_type": "stream",
          "text": [
            "Hello there!\n",
            "goodbye\n",
            "\n",
            "33\n"
          ]
        }
      ],
      "source": [
        "# Program defines and calls the say_hi & three_three functions\n",
        "# [ ] review and run the code\n",
        "\n",
        "def say_hi():\n",
        "    print(\"Hello there!\")\n",
        "    print(\"goodbye\")\n",
        "# end of indentation ends the function\n",
        "\n",
        "# define three_three \n",
        "def three_three():\n",
        "    print(33) \n",
        "\n",
        "# calling the functions\n",
        "say_hi()\n",
        "print()\n",
        "three_three()"
      ]
    },
    {
      "cell_type": "markdown",
      "metadata": {},
      "source": [
        "## Task 2: Define and call a simple function `yell_it()` \n",
        "### `yell_it()`   prints the phrase with \"!\" concatenated to the end\n",
        "- Takes no arguments\n",
        "- Indented function code does the following\n",
        "  - Define a variable for called **`phrase`** and intialize with a short *phrase*\n",
        "  - Prints **`phrase`** as all upper-case letters followed by \"!\"\n",
        "- Call   `yell_it`   at the bottom of the cell after the function  **`def`**.  (**Tip:** no indentation should be used.)\n",
        "- #[ ] define (def) a simple function called yell_it() and call the function"
      ]
    },
    {
      "cell_type": "code",
      "execution_count": 11,
      "metadata": {
        "trusted": false
      },
      "outputs": [
        {
          "name": "stdout",
          "output_type": "stream",
          "text": [
            "PHRASE!\n",
            "\n"
          ]
        }
      ],
      "source": [
        "# define a variable called phrase\n",
        "def yell_it():\n",
        "    print(\"PHRASE!\")\n",
        "# calling the function\n",
        "yell_it()\n",
        "print()"
      ]
    },
    {
      "cell_type": "markdown",
      "metadata": {},
      "source": [
        "## Concept: Function Parameters\n",
        "[![view video](https://iajupyterprodblobs.blob.core.windows.net/imagecontainer/common/play_video.png)]( http://edxinteractivepage.blob.core.windows.net/edxpages/f7cff1a7-5601-48a1-95a6-fd1fdfabd20e.html?details=[{\"src\":\"http://jupyternootbookwams.streaming.mediaservices.windows.net/c84008fa-2ec9-4e4b-8b6b-15b9063852a1/Unit1_Section3.1-funct-parameter.ism/manifest\",\"type\":\"application/vnd.ms-sstr+xml\"}],[{\"src\":\"http://jupyternootbookwams.streaming.mediaservices.windows.net/c84008fa-2ec9-4e4b-8b6b-15b9063852a1/Unit1_Section3.1-funct-parameter.vtt\",\"srclang\":\"en\",\"kind\":\"subtitles\",\"label\":\"english\"}])\n",
        "**`print()`** and **`type()`** are examples of built-in functions that have **parameters** defined.  \n",
        "  \n",
        "**`type()`** has a parameter for a **Python Object** and sends back the *type* of the object.\n",
        "  \n",
        "An **Argument** is a value given for a parameter when calling a function.  \n",
        "- **`type`** is called providing an **Argument** - in this case the string *\"Hello\"*\n",
        "```python\n",
        "type(\"Hello\")\n",
        "```  \n",
        "\n",
        "### Defining function parameters\n",
        "- Parameters are defined inside of the parentheses as part of a function **`def`** statement\n",
        "- Parameters are typically copies of objects that are available for use in function code\n",
        "```python\n",
        "def say_this(phrase):  \n",
        "      print(phrase)\n",
        "```  \n",
        "### Functions can have default arguments\n",
        "- Default arguments are used if no argument is supplied\n",
        "- Default arguments are assigned when creating the parameter list\n",
        "```python\n",
        "def say_this(phrase = \"Hi\"):  \n",
        "      print(phrase)\n",
        "```"
      ]
    },
    {
      "cell_type": "markdown",
      "metadata": {},
      "source": [
        "### Example"
      ]
    },
    {
      "cell_type": "code",
      "execution_count": 12,
      "metadata": {
        "trusted": false
      },
      "outputs": [
        {
          "name": "stdout",
          "output_type": "stream",
          "text": [
            "IT IS TIME TO SAVE THE NOTEBOOK!\n"
          ]
        }
      ],
      "source": [
        "# yell_this() yells the string Argument provided\n",
        "def yell_this(phrase):\n",
        "    print(phrase.upper() + \"!\")\n",
        "    \n",
        "# call function with a string\n",
        "yell_this(\"It is time to save the notebook\")"
      ]
    },
    {
      "cell_type": "code",
      "execution_count": 13,
      "metadata": {
        "trusted": false
      },
      "outputs": [
        {
          "name": "stdout",
          "output_type": "stream",
          "text": [
            "Hi\n",
            "Bye\n"
          ]
        }
      ],
      "source": [
        "# use a default argument\n",
        "def say_this(phrase = \"Hi\"):  \n",
        "    print(phrase)\n",
        "        \n",
        "say_this()\n",
        "say_this(\"Bye\")"
      ]
    },
    {
      "cell_type": "markdown",
      "metadata": {},
      "source": [
        "## Task 3: Define `yell_this()` and call with variable argument \n",
        "- Define variable   **`words_to_yell`**   as a string gathered from user  `input()`\n",
        "- Call  **`yell_this()`**  with   **`words_to_yell`**  as argument\n",
        "- Get user input() for the string words_to_yell"
      ]
    },
    {
      "cell_type": "code",
      "execution_count": 18,
      "metadata": {
        "trusted": false
      },
      "outputs": [
        {
          "name": "stdout",
          "output_type": "stream",
          "text": [
            "HI! HEY YOU!\n"
          ]
        }
      ],
      "source": [
        "def yell_this(phrase = \"Hey you\"):\n",
        "     \n",
        " \n",
        "    words_to_yell = input().upper()\n",
        "    print(words_to_yell + \"! \" + phrase.upper() + \"!\")\n",
        "     \n",
        " \n",
        "yell_this()"
      ]
    },
    {
      "cell_type": "markdown",
      "metadata": {},
      "source": [
        "[Terms of use](http://go.microsoft.com/fwlink/?LinkID=206977)   [Privacy &amp; cookies](https://go.microsoft.com/fwlink/?LinkId=521839)   © 2017 Microsoft"
      ]
    }
  ],
  "metadata": {
    "anaconda-cloud": {},
    "kernelspec": {
      "display_name": "Python 3",
      "language": "python",
      "name": "python3"
    },
    "language_info": {
      "codemirror_mode": {
        "name": "ipython",
        "version": 3
      },
      "file_extension": ".py",
      "mimetype": "text/x-python",
      "name": "python",
      "nbconvert_exporter": "python",
      "pygments_lexer": "ipython3",
      "version": "3.10.2"
    }
  },
  "nbformat": 4,
  "nbformat_minor": 1
}
