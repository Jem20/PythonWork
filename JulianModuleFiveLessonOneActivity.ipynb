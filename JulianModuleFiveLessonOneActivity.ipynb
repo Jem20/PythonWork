{
 "cells": [
  {
   "cell_type": "markdown",
   "metadata": {},
   "source": [
    "# Module Five Lesson One Practice Activity\n",
    "# Julian Monsalve 3/2/2022\n",
    "# In this lesson I've learned how to use forever loops.\n",
    "# No difficulties.\n",
    "## `while()` Loops and Incrementing\n",
    "- **while `True`  or forever loops**\n",
    "- **Incrementing in loops**\n",
    "- Boolean operators in while loops\n",
    "\n",
    "-----\n",
    "\n",
    "### Student will be able to\n",
    "- **Create forever loops using `while` and `break`**\n",
    "- **Use incrementing variables in a while loop**\n",
    "- Control while loops using Boolean operators"
   ]
  },
  {
   "cell_type": "markdown",
   "metadata": {},
   "source": [
    "## Concept: `while True:` Loop\n",
    "### Using the 'while True:' loop\n",
    "[View While Forever Video](https://ncvps.yuja.com/V/Video?v=4514372&node=15054243&a=494667647&autoplay=1)\n",
    "\n",
    "**`while True:`** is known as the **forever loop** because it ...loops forever  \n",
    "\n",
    "Using the **`while True:`** statement results in a loop that continues to run forever   \n",
    "...or, until the loop is interrupted, such as with a **`break`** statement.  \n",
    "\n",
    "## `break`\n",
    "### in a `while` loop, causes code flow to exit the loop  \n",
    "a **conditional** can implement **`break`** to exit a **`while True`** loop  "
   ]
  },
  {
   "cell_type": "markdown",
   "metadata": {},
   "source": [
    "### Examples\n",
    "#### `while True` loops forever unless a `break` statement is used  "
   ]
  },
  {
   "cell_type": "code",
   "execution_count": 1,
   "metadata": {},
   "outputs": [
    {
     "name": "stdout",
     "output_type": "stream",
     "text": [
      "write forever, unless there is a \"break\"\n"
     ]
    }
   ],
   "source": [
    "# Review and run code\n",
    "# this example never loops because the break has no conditions\n",
    "while True:\n",
    "    print('write forever, unless there is a \"break\"')\n",
    "    break"
   ]
  },
  {
   "cell_type": "code",
   "execution_count": 6,
   "metadata": {},
   "outputs": [
    {
     "name": "stdout",
     "output_type": "stream",
     "text": [
      "Yes 5 is correct!\n",
      "\n"
     ]
    }
   ],
   "source": [
    "# [ ] review the NUMBER GUESS code then run - Q. what cause the break statement to run?\n",
    "number_guess = \"0\"\n",
    "secret_number = \"5\"\n",
    "\n",
    "while True:\n",
    "    number_guess = input(\"guess the number 1 to 5: \")\n",
    "    if number_guess == secret_number:\n",
    "        print(\"Yes\", number_guess,\"is correct!\\n\")\n",
    "        break\n",
    "    else:\n",
    "        print(number_guess,\"is incorrect\\n\")"
   ]
  },
  {
   "cell_type": "code",
   "execution_count": 7,
   "metadata": {},
   "outputs": [
    {
     "name": "stdout",
     "output_type": "stream",
     "text": [
      "\n",
      "Wear a warm coat and hat\n"
     ]
    }
   ],
   "source": [
    "# [ ] review WHAT TO WEAR code then run testing different inputs\n",
    "while True:\n",
    "    weather = input(\"Enter weather (sunny, rainy, snowy, or quit): \") \n",
    "    print()\n",
    "\n",
    "    if weather.lower() == \"sunny\":\n",
    "        print(\"Wear a t-shirt and sunscreen\")\n",
    "        break\n",
    "    elif weather.lower() == \"rainy\":\n",
    "        print(\"Bring an umbrella and boots\")\n",
    "        break\n",
    "    elif weather.lower() == \"snowy\":\n",
    "        print(\"Wear a warm coat and hat\")\n",
    "        break\n",
    "    elif weather.lower().startswith(\"q\"):\n",
    "        print('\"quit\" detected, exiting')\n",
    "        break\n",
    "    else:\n",
    "        print(\"Sorry, not sure what to suggest for\", weather +\"\\n\")"
   ]
  },
  {
   "cell_type": "markdown",
   "metadata": {},
   "source": [
    "## Task 1: `while True` \n",
    "### [ ] Program: Get a name forever ...or until done\n",
    "- create variable, familar_name, and assign it an empty string (**`\"\"`**)\n",
    "- use **`while True:`**\n",
    "- ask for user input for familar_name (common name friends/family use) \n",
    "- keep asking until given a non-blank/non-space alphabetical name is received (Hint: Boolean string test)\n",
    "- break loop and print a greeting using familar_name"
   ]
  },
  {
   "cell_type": "code",
   "execution_count": 14,
   "metadata": {},
   "outputs": [
    {
     "name": "stdout",
     "output_type": "stream",
     "text": [
      "Welcome to our group Brother!\n"
     ]
    }
   ],
   "source": [
    "familar_name = (\"\")\n",
    "\n",
    "while True:\n",
    "    familar_name = input(\"Enter a common name friends/family use:\").title()\n",
    "    if familar_name.isalpha():\n",
    "        print(\"Welcome to our group\",familar_name + \"!\")\n",
    "        break\n",
    "    else:\n",
    "        print(familar_name, \"is not a valid name\")\n"
   ]
  },
  {
   "cell_type": "markdown",
   "metadata": {
    "collapsed": true
   },
   "source": [
    "## Concept: Variable Increment\n",
    "### Incrementing a variable\n",
    "[View Increment Video](https://ncvps.yuja.com/V/Video?v=4514367&node=15054236&a=1818796891&autoplay=1)\n",
    "### Incrementing\n",
    "#### `votes = votes + 1`     or    `votes += 1`\n",
    "\n",
    "### Decrementing \n",
    "#### `votes = votes - 1`     or   `votes -= 1`"
   ]
  },
  {
   "cell_type": "markdown",
   "metadata": {},
   "source": [
    "### Examples\n",
    "  \n"
   ]
  },
  {
   "cell_type": "code",
   "execution_count": 15,
   "metadata": {},
   "outputs": [
    {
     "name": "stdout",
     "output_type": "stream",
     "text": [
      "3\n",
      "4\n",
      "6\n"
     ]
    }
   ],
   "source": [
    "# [ ] review and run example\n",
    "votes = 3\n",
    "print(votes)\n",
    "\n",
    "votes = votes + 1\n",
    "print(votes)\n",
    "\n",
    "votes += 2\n",
    "print(votes)"
   ]
  },
  {
   "cell_type": "code",
   "execution_count": 16,
   "metadata": {},
   "outputs": [
    {
     "name": "stdout",
     "output_type": "stream",
     "text": [
      "6\n",
      "5\n"
     ]
    }
   ],
   "source": [
    "print(votes)\n",
    "\n",
    "votes -= 1\n",
    "print(votes)"
   ]
  },
  {
   "cell_type": "code",
   "execution_count": 20,
   "metadata": {},
   "outputs": [
    {
     "name": "stdout",
     "output_type": "stream",
     "text": [
      "seat count: 0\n",
      "seat count: 1\n",
      "seat count: 2\n",
      "seat count: 3\n",
      "seat count: 4\n"
     ]
    }
   ],
   "source": [
    "# [ ] review the SEAT COUNT code then run \n",
    "\n",
    "seat_count = 0\n",
    "while True:\n",
    "    print(\"seat count:\",seat_count)\n",
    "    seat_count = seat_count + 1\n",
    "\n",
    "    if seat_count > 4:\n",
    "        break"
   ]
  },
  {
   "cell_type": "code",
   "execution_count": 22,
   "metadata": {},
   "outputs": [
    {
     "name": "stdout",
     "output_type": "stream",
     "text": [
      "\n",
      "seats are full\n",
      "4 Seats Total:  2 hard and 2 soft\n"
     ]
    }
   ],
   "source": [
    "# [ ] review the SEAT TYPE COUNT code then run entering: hard, soft, medium and exit\n",
    "\n",
    "# initialize variables\n",
    "seat_count = 0\n",
    "soft_seats = 0\n",
    "hard_seats = 0\n",
    "num_seats = 4\n",
    "\n",
    "# loops tallying seats using soft pads vs hard, until seats full or user \"exits\"\n",
    "while True:\n",
    "    seat_type = input('enter seat type of \"hard\",\"soft\" or \"exit\" (to finish): ')\n",
    "    \n",
    "    if seat_type.lower().startswith(\"e\"):\n",
    "        print()\n",
    "        break\n",
    "    elif seat_type.lower() == \"hard\":\n",
    "        hard_seats += 1\n",
    "    elif seat_type.lower() == \"soft\":\n",
    "        soft_seats += 1\n",
    "    else:\n",
    "        print(\"invalid entry: counted as hard\")\n",
    "        hard_seats += 1  \n",
    "    seat_count += 1\n",
    "    if seat_count >= num_seats:\n",
    "        print(\"\\nseats are full\")\n",
    "        break\n",
    "        \n",
    "print(seat_count,\"Seats Total: \",hard_seats,\"hard and\",soft_seats,\"soft\" )"
   ]
  },
  {
   "cell_type": "markdown",
   "metadata": {},
   "source": [
    "## Task 2: Incrementing in a `while()` loop\n",
    "### Program: Shirt Count\n",
    "- Enter a sizes (S, M, L)\n",
    "- Tally the count of each size\n",
    "- Input \"exit\" when finished\n",
    "- Report out the purchase of each shirt size  \n"
   ]
  },
  {
   "cell_type": "code",
   "execution_count": 31,
   "metadata": {},
   "outputs": [
    {
     "name": "stdout",
     "output_type": "stream",
     "text": [
      "Adding a shirt size S\n",
      "Adding a shirt size M\n",
      "Adding a shirt size L\n",
      "Adding a shirt size L\n",
      "No more shirts added.\n",
      "You purchased\n",
      " 1 Small\n",
      " 1 Medium\n",
      " 2 Large\n"
     ]
    }
   ],
   "source": [
    "# [ ] Create the Shirt Count program, run tests\n",
    "\n",
    "def shirt_count():\n",
    "    s = 0\n",
    "    m = 0 \n",
    "    l = 0\n",
    "\n",
    "    while True:\n",
    "        data = input(\"Enter shirt size (S,M,L, or Exit): \").lower()\n",
    "        if data == \"s\":\n",
    "             print(\"Adding a shirt size S\")\n",
    "             s += 1\n",
    "        elif data == \"m\":\n",
    "             print(\"Adding a shirt size M\")\n",
    "             m += 1\n",
    "        elif data == \"l\":\n",
    "            print(\"Adding a shirt size L\")\n",
    "            l += 1\n",
    "        elif data == \"exit\":\n",
    "            print(\"No more shirts added.\")\n",
    "            print(\"You purchased\\n\",s, \"Small\\n\",m,\"Medium\\n\",l,\"Large\")\n",
    "            break\n",
    "        else:\n",
    "            print(\"The shirt size you entered is not valid\\nTry again\")\n",
    "\n",
    "shirt_count()"
   ]
  },
  {
   "cell_type": "markdown",
   "metadata": {},
   "source": [
    "### Challenge: Shirt Register\n",
    "Update the **Shirt Count** program to calculate cost\n",
    "- Use shirt cost (S = 6, M = 7, L = 8)\n",
    "- To calculate and report the subtotal cost for each size \n",
    "- To calculate and report the total cost of all shirts"
   ]
  },
  {
   "cell_type": "code",
   "execution_count": 32,
   "metadata": {},
   "outputs": [
    {
     "name": "stdout",
     "output_type": "stream",
     "text": [
      "Adding a shirt size S\n",
      "Adding a shirt size M\n",
      "Adding a shirt size M\n",
      "Adding a shirt size L\n",
      "Adding a shirt size S\n",
      "No more shirts added.\n",
      "You purchased\n",
      " 2 Small\n",
      " 2 Medium\n",
      " 1 Large\n",
      "\n",
      "Subtotal:\n",
      "Small = $12\n",
      "Medium = $14\n",
      "Large = $8\n",
      "\n",
      "Total: $34\n"
     ]
    }
   ],
   "source": [
    "# [ ] Create the Shirt Register Challenge program, run tests\n",
    "\n",
    "def shirt_register():\n",
    "    s = 0\n",
    "    m = 0 \n",
    "    l = 0\n",
    "\n",
    "    while True:\n",
    "        data = input(\"Enter shirt size (S,M,L, or Exit): \").lower()\n",
    "        if data == \"s\":\n",
    "             print(\"Adding a shirt size S\")\n",
    "             s += 1\n",
    "        elif data == \"m\":\n",
    "             print(\"Adding a shirt size M\")\n",
    "             m += 1\n",
    "        elif data == \"l\":\n",
    "            print(\"Adding a shirt size L\")\n",
    "            l += 1\n",
    "        elif data == \"exit\":\n",
    "            print(\"No more shirts added.\")\n",
    "            print(\"You purchased\\n\",s, \"Small\\n\",m,\"Medium\\n\",l,\"Large\")\n",
    "            print()\n",
    "            print(\"Subtotal:\\nSmall = $\"+str(s*6)+\"\\nMedium = $\"+ str(m*7)+\"\\nLarge = $\"\n",
    "            + str(l*8))\n",
    "            print()\n",
    "            total = (s*6)+(m*7)+(l*8)\n",
    "            print(\"Total: $\"+ str(total))\n",
    "            break\n",
    "        else:\n",
    "            print(\"The shirt size you entered is not valid\\nTry again\")\n",
    "\n",
    "shirt_register()"
   ]
  },
  {
   "cell_type": "markdown",
   "metadata": {},
   "source": [
    "[Terms of use](http://go.microsoft.com/fwlink/?LinkID=206977)   [Privacy &amp; cookies](https://go.microsoft.com/fwlink/?LinkId=521839)   © 2017 Microsoft"
   ]
  }
 ],
 "metadata": {
  "anaconda-cloud": {},
  "kernelspec": {
   "display_name": "Python 3",
   "language": "python",
   "name": "python3"
  },
  "language_info": {
   "codemirror_mode": {
    "name": "ipython",
    "version": 3
   },
   "file_extension": ".py",
   "mimetype": "text/x-python",
   "name": "python",
   "nbconvert_exporter": "python",
   "pygments_lexer": "ipython3",
   "version": "3.10.2"
  }
 },
 "nbformat": 4,
 "nbformat_minor": 1
}
