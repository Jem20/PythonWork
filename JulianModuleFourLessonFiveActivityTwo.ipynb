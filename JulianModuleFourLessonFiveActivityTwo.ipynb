{
  "cells": [
    {
      "cell_type": "markdown",
      "metadata": {},
      "source": [
        "# Module Four Lesson Five Practice Activity Two\n",
        "# Julian Monsalve 2/23/2022\n",
        "# In this lesson I've learned how to create nested conditional logic in code.\n",
        "# No difficulties.\n",
        "\n",
        "## Nested Conditionals\n",
        "- Nested conditionals  \n",
        "- **Print formatting with the (\\) escape sequence** \n",
        "\n",
        "-----\n",
        "\n",
        "### Student will be able to\n",
        "- Create nested conditional logic in code  \n",
        "- **Print format print using escape sequence (\\)**\n",
        "\n",
        "#### Before submission: Remember you need to add descriptive comments in each cell (examples AND tasks) that explains what your code is doing.  "
      ]
    },
    {
      "cell_type": "markdown",
      "metadata": {
        "collapsed": true
      },
      "source": [
        "## Concept: Formatting with Escape Sequences\n",
        "[![view video](https://iajupyterprodblobs.blob.core.windows.net/imagecontainer/common/play_video.png)]( http://edxinteractivepage.blob.core.windows.net/edxpages/f7cff1a7-5601-48a1-95a6-fd1fdfabd20e.html?details=[{\"src\":\"http://jupyternootbookwams.streaming.mediaservices.windows.net/b64e53fd-eb3b-4383-8b5f-4da51fc881c5/Unit1_Section6.2-Escape-Sequences.ism/manifest\",\"type\":\"application/vnd.ms-sstr+xml\"}],[{\"src\":\"http://jupyternootbookwams.streaming.mediaservices.windows.net/b64e53fd-eb3b-4383-8b5f-4da51fc881c5/Unit1_Section6.2-Escape-Sequences.vtt\",\"srclang\":\"en\",\"kind\":\"subtitles\",\"label\":\"english\"}])\n",
        "### Escape Sequences\n",
        "- Escape sequences all start with a backslash (**`\\`**) \n",
        "- Escape sequences can be used to display characters in Python reserved for formatting\n",
        "  - **`\\\\`**   Backslash (**`\\`**)  \n",
        "  - **`\\'`**   Single quote (**'**)  \n",
        "  - **`\\\"`**   Double quote (**\"**)  \n",
        "\n",
        "\n",
        "- Escape sequences are part of special formatting charcters\\n    Linefeed \n",
        "  - **`\\t`**   Tab\n",
        "  - **`\\n`**   return or newline\n",
        "\n",
        "We use escape sequences in strings - usually with `print()` statements. "
      ]
    },
    {
      "cell_type": "markdown",
      "metadata": {},
      "source": [
        "### Examples"
      ]
    },
    {
      "cell_type": "code",
      "execution_count": 1,
      "metadata": {
        "trusted": false
      },
      "outputs": [
        {
          "name": "stdout",
          "output_type": "stream",
          "text": [
            "Hello World!\n",
            "I am formatting print \n"
          ]
        }
      ],
      "source": [
        "# review and run example using \\n (new line)\n",
        "print('Hello World!\\nI am formatting print ')"
      ]
    },
    {
      "cell_type": "code",
      "execution_count": 2,
      "metadata": {
        "trusted": false
      },
      "outputs": [
        {
          "name": "stdout",
          "output_type": "stream",
          "text": [
            "STUDENT NAME\t\tAGE\n",
            "Hiroto Yamaguchi \t17\n"
          ]
        }
      ],
      "source": [
        "# review and run code using \\t (tab)\n",
        "student_age = 17\n",
        "student_name = \"Hiroto Yamaguchi\"\n",
        "print(\"STUDENT NAME\\t\\tAGE\")\n",
        "print(student_name,'\\t' + str(student_age))"
      ]
    },
    {
      "cell_type": "code",
      "execution_count": 3,
      "metadata": {
        "trusted": false
      },
      "outputs": [
        {
          "name": "stdout",
          "output_type": "stream",
          "text": [
            "\"quotes in quotes\"\n",
            "I've said \"save your notebook,\" so let's do it!\n",
            "for a newline use \\n\n"
          ]
        }
      ],
      "source": [
        "# review and run code \n",
        "# using \\\" and \\' (escaped quotes)\n",
        "print(\"\\\"quotes in quotes\\\"\")\n",
        "print(\"I\\'ve said \\\"save your notebook,\\\" so let\\'s do it!\")\n",
        "\n",
        "# using  \\\\ (escaped backslash)\n",
        "print(\"for a newline use \\\\n\")"
      ]
    },
    {
      "cell_type": "markdown",
      "metadata": {},
      "source": [
        "## Task 1: Format using backslash (**`\\`**) escape sequences\n",
        "\n",
        "- _[ ] print \"\\\\\\WARNING!///\"_"
      ]
    },
    {
      "cell_type": "code",
      "execution_count": 5,
      "metadata": {
        "trusted": false
      },
      "outputs": [
        {
          "name": "stdout",
          "output_type": "stream",
          "text": [
            "\"\\\\WARNING!///\"\n"
          ]
        }
      ],
      "source": [
        "print(\"\\\"\\\\\\\\WARNING!///\\\"\")"
      ]
    },
    {
      "cell_type": "markdown",
      "metadata": {},
      "source": [
        "- _[ ] print output that is exactly (with quotes): \"What's that?\" isn't a specific question._"
      ]
    },
    {
      "cell_type": "code",
      "execution_count": 7,
      "metadata": {
        "trusted": false
      },
      "outputs": [
        {
          "name": "stdout",
          "output_type": "stream",
          "text": [
            "\"What's that?\" isn't a specific question.\n"
          ]
        }
      ],
      "source": [
        "print(\"\\\"What\\'s that?\\\" isn\\'t a specific question.\")"
      ]
    },
    {
      "cell_type": "markdown",
      "metadata": {},
      "source": [
        "- _[ ] from 1 print statement output the text commented below using no spaces_\n",
        "- _One     Two     Three_\n",
        "- _Four    Five    Six_\n",
        "\n"
      ]
    },
    {
      "cell_type": "code",
      "execution_count": 8,
      "metadata": {
        "trusted": false
      },
      "outputs": [
        {
          "name": "stdout",
          "output_type": "stream",
          "text": [
            "One\tTwo\tThree\n",
            "Four\tFive\tSix\n"
          ]
        }
      ],
      "source": [
        "print(\"One\\tTwo\\tThree\\nFour\\tFive\\tSix\")"
      ]
    },
    {
      "cell_type": "markdown",
      "metadata": {},
      "source": [
        "## Task 2: Program: `pre_word()` function\n",
        "Function has a single string parameter that it checks is a single word starting with \"pre\".\n",
        "- Check if word starts with \"pre\"\n",
        "- Check if word .isalpha() \n",
        "- If all checks pass: return **`True`**\n",
        "- If any checks fail: return **`False`**\n",
        "- **Test** \n",
        "  - Get input using the directions: *enter a word that starts with \"pre\": *\n",
        "  - Call pre_word() with the input string\n",
        "  - Test **if** return value is **`False`** and print message explaining not a \"pre\" word \n",
        "  - **else** print message explaining is a valid \"pre\" word\n",
        "  "
      ]
    },
    {
      "cell_type": "code",
      "execution_count": 11,
      "metadata": {
        "trusted": false
      },
      "outputs": [
        {
          "name": "stdout",
          "output_type": "stream",
          "text": [
            "You have succesfully entered a word that starts with \"pre\"\n"
          ]
        }
      ],
      "source": [
        "word = input(\"Enter a word that starts with \\\"pre\\\": \").lower()\n",
        "\n",
        "def pre_word(pre):\n",
        "    if word.startswith(\"pre\"):\n",
        "        if word.isalpha():\n",
        "             return True\n",
        "        else: \n",
        "             return False\n",
        "    else: \n",
        "        return False\n",
        "\n",
        "\n",
        "if pre_word(\"press\") == False:\n",
        "    print(\"What you entered is not a valid \\\"pre\\\" word\")\n",
        "else: \n",
        "    print(\"You have succesfully entered a word that starts with \\\"pre\\\"\")"
      ]
    },
    {
      "cell_type": "markdown",
      "metadata": {},
      "source": [
        "## Task 3: Fix the errors"
      ]
    },
    {
      "cell_type": "code",
      "execution_count": 12,
      "metadata": {
        "trusted": false
      },
      "outputs": [
        {
          "name": "stdout",
          "output_type": "stream",
          "text": [
            "Hello\n",
            "World!\n"
          ]
        }
      ],
      "source": [
        "# [ ] review, run, fix comment your fixes\n",
        "print(\"Hello\\nWorld!\")"
      ]
    },
    {
      "cell_type": "markdown",
      "metadata": {},
      "source": [
        "[Terms of use](http://go.microsoft.com/fwlink/?LinkID=206977)   [Privacy &amp; cookies](https://go.microsoft.com/fwlink/?LinkId=521839)   © 2017 Microsoft"
      ]
    }
  ],
  "metadata": {
    "anaconda-cloud": {},
    "kernelspec": {
      "display_name": "Python 3",
      "language": "python",
      "name": "python3"
    },
    "language_info": {
      "codemirror_mode": {
        "name": "ipython",
        "version": 3
      },
      "file_extension": ".py",
      "mimetype": "text/x-python",
      "name": "python",
      "nbconvert_exporter": "python",
      "pygments_lexer": "ipython3",
      "version": "3.5.4"
    }
  },
  "nbformat": 4,
  "nbformat_minor": 1
}
