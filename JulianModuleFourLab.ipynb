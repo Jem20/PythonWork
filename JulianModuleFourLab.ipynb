{
  "cells": [
    {
      "cell_type": "markdown",
      "metadata": {},
      "source": [
        "# Module Four Lab\n",
        "# Julian Monsalve 2/23/2022\n",
        "# In this lesson I've learned how to gather numeric input using type casting.\n",
        "# No difficulties.\n",
        "## Conditionals, Type, and Mathematics Extended   \n",
        "\n",
        "-----\n",
        "\n",
        "### Student will be able to\n",
        "- Code more than two choices using **`elif`**\n",
        "- Gather numeric input using type casting\n",
        "- Perform subtraction, multiplication and division operations in code  \n",
        "\n",
        "### Remember to comment and run each cell for max credit\n",
        "\n",
        "#### Before submission: Remember you need to add descriptive comments in each cell (examples AND tasks) that explains what your code is doing.  "
      ]
    },
    {
      "cell_type": "markdown",
      "metadata": {},
      "source": [
        "## Tasks"
      ]
    },
    {
      "cell_type": "markdown",
      "metadata": {},
      "source": [
        "### Rainbow colors\n",
        "Ask for input of a favorite rainbow color first letter: ROYGBIV.\n",
        "\n",
        "Using `if`, `elif`, and `else`:  \n",
        "- Print the color matching the letter  \n",
        "    - R = Red  \n",
        "    - O = Orange  \n",
        "    - Y = Yellow  \n",
        "    - G = Green\n",
        "    - B = Blue\n",
        "    - I = Indigo\n",
        "    - V = Violet\n",
        "    - Else print \"no match\"\n"
      ]
    },
    {
      "cell_type": "code",
      "execution_count": 1,
      "metadata": {
        "trusted": false
      },
      "outputs": [
        {
          "name": "stdout",
          "output_type": "stream",
          "text": [
            "B = Blue\n"
          ]
        }
      ],
      "source": [
        "# [ ] complete rainbow colors\n",
        "\n",
        "fav_color= input(\"Enter the first letter of your favorite rainbow color (ROYGBIV):\").upper()\n",
        "\n",
        "if fav_color == \"R\":\n",
        "   print(\"R = Red\")\n",
        "elif fav_color == \"O\":\n",
        "   print(\"O = Orange\")\n",
        "elif fav_color == \"Y\":\n",
        "   print(\"Y = Yellow\")\n",
        "elif fav_color == \"G\":\n",
        "   print(\"G = Green\")\n",
        "elif fav_color == \"B\":\n",
        "   print(\"B = Blue\")\n",
        "elif fav_color == \"I\":\n",
        "   print(\"I = Indigo\")\n",
        "elif fav_color == \"V\":\n",
        "   print(\"V = Violet\")\n",
        "else:\n",
        "   print(\"no match\")"
      ]
    },
    {
      "cell_type": "code",
      "execution_count": 2,
      "metadata": {
        "trusted": false
      },
      "outputs": [
        {
          "name": "stdout",
          "output_type": "stream",
          "text": [
            "Your color:\n",
            "B = Blue\n"
          ]
        }
      ],
      "source": [
        "# [ ] make the code above into a function rainbow_color() that has a string parameter, \n",
        "# get input and call the function\n",
        "\n",
        "def rainbow_color(color):\n",
        "    fav_color= input(\"Enter the first letter of your favorite rainbow color (ROYGBIV): \").upper()\n",
        "    if fav_color == \"R\":\n",
        "        return(\"R = Red\")\n",
        "    elif fav_color == \"O\":\n",
        "        return(\"O = Orange\")\n",
        "    elif fav_color == \"Y\":\n",
        "        return(\"Y = Yellow\")\n",
        "    elif fav_color == \"G\":\n",
        "        return(\"G = Green\")\n",
        "    elif fav_color == \"B\":\n",
        "        return(\"B = Blue\")\n",
        "    elif fav_color == \"I\":\n",
        "        return(\"I = Indigo\")\n",
        "    elif fav_color == \"V\":\n",
        "        return(\"V = Violet\")\n",
        "    else:\n",
        "        return(\"no match\")\n",
        "\n",
        "print(\"Your color:\")\n",
        "print(rainbow_color(\"O\"))"
      ]
    },
    {
      "cell_type": "markdown",
      "metadata": {},
      "source": [
        "#    \n",
        "**Create function age_20() that adds or subtracts 20 from your age for a return value based on current age** (use `if`) \n",
        "- Call the function with user input and then use the return value in a sentence  \n",
        "Example `age_20(25)` returns **5**: \n",
        "&gt; \"5 years old, 20 years difference from now\""
      ]
    },
    {
      "cell_type": "code",
      "execution_count": 22,
      "metadata": {
        "trusted": false
      },
      "outputs": [
        {
          "data": {
            "text/plain": [
              "(34, 'years old, 20 years in the future')"
            ]
          },
          "execution_count": 22,
          "metadata": {},
          "output_type": "execute_result"
        }
      ],
      "source": [
        "# [ ] complete age_20()\n",
        "\n",
        "def age_20():\n",
        "        current_age = int(input(\"Enter your current age: \"))\n",
        "        if int(current_age) >= 20:\n",
        "            return (int(current_age)) - 20,\"years old, 20 years difference from now\"\n",
        "        elif int(current_age) <= 20:\n",
        "            return (int(current_age)) + 20,\"years old, 20 years in the future\"\n",
        "\n",
        "(age_20())"
      ]
    },
    {
      "cell_type": "markdown",
      "metadata": {},
      "source": [
        "**Create a function rainbow_or_age that takes a string argument**\n",
        "- If argument is a digit return the value of calling age_20() with the str value cast as **`int`** \n",
        "- If argument is an alphabetical character return the value of calling rainbow_color() with the str\n",
        "- If neither return FALSE"
      ]
    },
    {
      "cell_type": "code",
      "execution_count": 20,
      "metadata": {
        "trusted": false
      },
      "outputs": [
        {
          "name": "stdout",
          "output_type": "stream",
          "text": [
            "4 years old, 20 years difference from now\n",
            "36 years old, 20 years difference from now\n",
            "False\n",
            "R = Red\n"
          ]
        }
      ],
      "source": [
        "# [ ]  create rainbow_or_age()\n",
        "\n",
        "def rainbow_color(color):\n",
        "\tif color == 'R':\n",
        "\t\treturn \"R = Red\"\n",
        "\telif color == 'O':\n",
        "\t\treturn \"O = Orange\"\n",
        "\telif color == 'Y':\n",
        "\t\treturn \"Y = Yellow\"\n",
        "\telif color == 'G':\n",
        "\t\treturn \"G = Green\"\n",
        "\telif color == 'B':\n",
        "\t\treturn \"B = Blue\"\n",
        "\telif color == 'I':\n",
        "\t\treturn \"I = Indigo\"\n",
        "\telif color == 'V':\n",
        "\t\treturn \"V = Violet\"\n",
        "\telse:\n",
        "\t\treturn \"no match\"\n",
        "\n",
        "def age_20(age):\n",
        "\tif age > 20:\n",
        "\t\treturn str(age - 20) + \" years old, 20 years difference from now\"\n",
        "\telse:\n",
        "\t\treturn str(age + 20) + \" years old, 20 years difference from now\"\n",
        "\n",
        "def rainbow_or_age(arg):\n",
        "    if arg.isdigit():\n",
        "        return age_20(int(arg))\n",
        "    elif arg.isalpha():\n",
        "        return rainbow_color(arg)\n",
        "    else:\n",
        "        return False\n",
        "\n",
        "print(rainbow_or_age('24'))\n",
        "print(rainbow_or_age('16'))\n",
        "print(rainbow_or_age('$'))\n",
        "print(rainbow_or_age('R'))"
      ]
    },
    {
      "cell_type": "code",
      "execution_count": 23,
      "metadata": {
        "trusted": false
      },
      "outputs": [
        {
          "name": "stdout",
          "output_type": "stream",
          "text": [
            "This is an addition calculator\n",
            "4 + 6 = 10\n"
          ]
        }
      ],
      "source": [
        "# [ ]  add 2 numbers from input using a cast to integer and display the answer \n",
        "\n",
        "print(\"This is an addition calculator\")\n",
        "num_1= int(input(\"Enter a number:\"))\n",
        "num_2= int(input(\"Enter a second number:\"))\n",
        "\n",
        "total= num_1 + num_2\n",
        "print(num_1,\"+\",num_2,\"=\", total)"
      ]
    },
    {
      "cell_type": "code",
      "execution_count": 24,
      "metadata": {
        "trusted": false
      },
      "outputs": [
        {
          "name": "stdout",
          "output_type": "stream",
          "text": [
            "This is an multiplying calculator\n",
            "The answer is 45\n"
          ]
        }
      ],
      "source": [
        "# [ ] Multiply 2 numbers from input using cast and save the answer as part of a string \"the answer is...\"\n",
        "# display the string using print\n",
        "\n",
        "print(\"This is an multiplying calculator\")\n",
        "one = int(input(\"Enter a number:\"))\n",
        "two = int(input(\"Enter a second number:\"))\n",
        "\n",
        "result = one * two\n",
        "print(\"The answer is\", result)"
      ]
    },
    {
      "cell_type": "code",
      "execution_count": 27,
      "metadata": {
        "trusted": false
      },
      "outputs": [
        {
          "name": "stdout",
          "output_type": "stream",
          "text": [
            "This is an average calculator\n",
            "The average is 3.5\n"
          ]
        }
      ],
      "source": [
        "# [ ] get input of 2 numbers and display the average: (num1 + num2) divided by 2\n",
        "\n",
        "print(\"This is an average calculator\")\n",
        "value1 = int(input(\"Enter a number:\"))\n",
        "value2 = int(input(\"Enter a second number:\"))\n",
        "\n",
        "average = (value1 + value2)/2\n",
        "print(\"The average is\", average)"
      ]
    },
    {
      "cell_type": "code",
      "execution_count": 33,
      "metadata": {
        "trusted": false
      },
      "outputs": [
        {
          "name": "stdout",
          "output_type": "stream",
          "text": [
            "-36\n"
          ]
        }
      ],
      "source": [
        "# [ ] get input of 2 numbers and subtract the largest from the smallest (use an if statement to see which is larger)\n",
        "# show the answer\n",
        "\n",
        "value1 = int(input(\"Enter a number:\"))\n",
        "value2 = int(input(\"Enter a second number:\"))\n",
        "\n",
        "if value1 > value2:\n",
        "    print(value2 - value1)\n",
        "else:\n",
        "    print(value1 - value2)"
      ]
    },
    {
      "cell_type": "code",
      "execution_count": 34,
      "metadata": {
        "trusted": false
      },
      "outputs": [
        {
          "name": "stdout",
          "output_type": "stream",
          "text": [
            "2\n"
          ]
        }
      ],
      "source": [
        "# [ ] Divide a larger number by a smaller number and print the integer part of the result\n",
        "# don't divide by zero! if a zero is input make the result zero\n",
        "# [ ] cast the answer to an integer to cut off the decimals and print the result\n",
        "\n",
        "l_num = 12\n",
        "s_num = 6\n",
        "\n",
        "if s_num == 0:\n",
        "   print(0)\n",
        "else: \n",
        "   division = l_num / s_num\n",
        "   print(int(division))"
      ]
    },
    {
      "cell_type": "markdown",
      "metadata": {},
      "source": [
        "[Terms of use](http://go.microsoft.com/fwlink/?LinkID=206977)   [Privacy &amp; cookies](https://go.microsoft.com/fwlink/?LinkId=521839)   © 2017 Microsoft"
      ]
    }
  ],
  "metadata": {
    "anaconda-cloud": {},
    "kernelspec": {
      "display_name": "Python 3",
      "language": "python",
      "name": "python3"
    },
    "language_info": {
      "codemirror_mode": {
        "name": "ipython",
        "version": 3
      },
      "file_extension": ".py",
      "mimetype": "text/x-python",
      "name": "python",
      "nbconvert_exporter": "python",
      "pygments_lexer": "ipython3",
      "version": "3.10.2"
    }
  },
  "nbformat": 4,
  "nbformat_minor": 1
}
