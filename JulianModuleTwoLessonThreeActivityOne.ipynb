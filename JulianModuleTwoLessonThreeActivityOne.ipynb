{
  "cells": [
    {
      "cell_type": "markdown",
      "metadata": {
        "colab_type": "text",
        "id": "m1MphcSVsR4q"
      },
      "source": [
        "Double Check for complete header and cell comments\n"
      ]
    },
    {
      "cell_type": "markdown",
      "metadata": {
        "colab_type": "text",
        "id": "ThO-MhWesQPf"
      },
      "source": [
        "# Module Two Lesson Three Practice Activity One\n",
        "# Julian Monsalve 1/28/2022\n",
        "# In this lesson I learned how to add numbers to the code and using `print()`\n",
        "# I didn't really have any difficulties.\n",
        "##  Addition and Errors\n",
        "- Python 3 in Jupyter notebooks\n",
        "- `print()`\n",
        "- Comments  \n",
        "- Data types basics\n",
        "- Variables  \n",
        "- **Addition with Strings and Integers**\n",
        "- **Errors**  \n",
        "- Character art  \n",
        "\n",
        "-----\n",
        "\n",
        "### Student will be able to\n",
        "- Use Python 3 in Jupyter notebooks\n",
        "- Write working code using `print()` and `#` comments  \n",
        "- Write working code using `type()` and variables\n",
        "- Combine Strings using string addition (+)\n",
        "- **Add numbers in code (+)**  \n",
        "- **Troubleshoot errors**  \n",
        "- Create character art\n",
        "\n",
        "#### Before submission: Remember you need to add descriptive comments in each cell (examples AND tasks) that explains what your code is doing.  "
      ]
    },
    {
      "cell_type": "markdown",
      "metadata": {
        "colab_type": "text",
        "id": "30WqsG_lsQPi"
      },
      "source": [
        "## Concept: Addition of Numbers and Strings  \n",
        "\n",
        "[![view video](https://iajupyterprodblobs.blob.core.windows.net/imagecontainer/common/play_video.png)]( http://edxinteractivepage.blob.core.windows.net/edxpages/f7cff1a7-5601-48a1-95a6-fd1fdfabd20e.html?details=[{\"src\":\"http://jupyternootbookwams.streaming.mediaservices.windows.net/a8befa5f-b4a5-4081-87c0-8846be85c719/Unit1_Section1.4-Addition.ism/manifest\",\"type\":\"application/vnd.ms-sstr+xml\"}],[{\"src\":\"http://jupyternootbookwams.streaming.mediaservices.windows.net/a8befa5f-b4a5-4081-87c0-8846be85c719/Unit1_Section1.4-Addition.vtt\",\"srclang\":\"en\",\"kind\":\"subtitles\",\"label\":\"english\"}])\n",
        "\n",
        "### Numeric addition\n",
        "**Numeric addition:** Single line *math equations*, run in a code cell, will output a sum. \n",
        "```Python\n",
        "# Adding a pair of single digit Integers\n",
        "3 + 5  \n",
        "```  \n",
        "### String addition\n",
        "**String addition:** Single line *equations*, run in a code cell, will output a single concatenated string.  \n",
        "&gt; **Tip:** all strings must be in quotes  \n",
        "    \n",
        "```Python\n",
        "# Adding a pair of strings\n",
        "\"I wear \" + \"a hat\"  \n",
        "```  \n",
        "We can also **add variables** as long as we add strings to strings and numbers to numbers."
      ]
    },
    {
      "cell_type": "markdown",
      "metadata": {
        "colab_type": "text",
        "id": "aLU8-Jk9sQPj"
      },
      "source": [
        "### Examples: String and Number Addition"
      ]
    },
    {
      "cell_type": "code",
      "execution_count": null,
      "metadata": {
        "colab": {},
        "colab_type": "code",
        "id": "2ibveNyssQPl",
        "trusted": true
      },
      "outputs": [],
      "source": [
        "# [ ] Review and run code  \n",
        "23 + 18"
      ]
    },
    {
      "cell_type": "code",
      "execution_count": null,
      "metadata": {
        "colab": {},
        "colab_type": "code",
        "id": "DiD4TWuhsQPt",
        "trusted": true
      },
      "outputs": [],
      "source": [
        "# [ ] Review and run code \n",
        "\"my name is \" + \"Alyssa\"  "
      ]
    },
    {
      "cell_type": "code",
      "execution_count": null,
      "metadata": {
        "colab": {},
        "colab_type": "code",
        "id": "uQsFxNCNsQPz",
        "trusted": true
      },
      "outputs": [],
      "source": [
        "# [ ] Review and run code\n",
        "shoe_color = \"brown\"\n",
        "\"my shoe color is \" + shoe_color"
      ]
    },
    {
      "cell_type": "markdown",
      "metadata": {
        "colab_type": "text",
        "id": "cNRyubV4sQP4"
      },
      "source": [
        "## Task 1 (multi-part): String and Number Addition\n",
        "\n",
        "Complete the addition below as instructed and display the results"
      ]
    },
    {
      "cell_type": "code",
      "execution_count": 1,
      "metadata": {
        "colab": {},
        "colab_type": "code",
        "id": "6Go54NOqsQP5",
        "trusted": true
      },
      "outputs": [
        {
          "data": {
            "text/plain": [
              "127"
            ]
          },
          "execution_count": 1,
          "metadata": {},
          "output_type": "execute_result"
        }
      ],
      "source": [
        "# [ ] add 3 integer numbers \n",
        "\n",
        "21 + 40 + 66"
      ]
    },
    {
      "cell_type": "code",
      "execution_count": 5,
      "metadata": {
        "colab": {},
        "colab_type": "code",
        "id": "k4WSc_iNsQP8",
        "trusted": true
      },
      "outputs": [
        {
          "data": {
            "text/plain": [
              "88.0"
            ]
          },
          "execution_count": 5,
          "metadata": {},
          "output_type": "execute_result"
        }
      ],
      "source": [
        "# [ ] add a float number and an integer number\n",
        "\n",
        "22.0 + 66"
      ]
    },
    {
      "cell_type": "code",
      "execution_count": 7,
      "metadata": {
        "colab": {},
        "colab_type": "code",
        "id": "2NYgIArnsQQA",
        "trusted": true
      },
      "outputs": [
        {
          "data": {
            "text/plain": [
              "'This notebook belongs to Julian'"
            ]
          },
          "execution_count": 7,
          "metadata": {},
          "output_type": "execute_result"
        }
      ],
      "source": [
        "# [ ] Add the string \"This notebook belongs to \" and a string with your first name\n",
        "\n",
        "\"This notebook belongs to \" \"Julian\""
      ]
    },
    {
      "cell_type": "code",
      "execution_count": 8,
      "metadata": {
        "colab": {},
        "colab_type": "code",
        "id": "1W72p_5NsQQE",
        "trusted": true
      },
      "outputs": [
        {
          "data": {
            "text/plain": [
              "778"
            ]
          },
          "execution_count": 8,
          "metadata": {},
          "output_type": "execute_result"
        }
      ],
      "source": [
        "# [ ] Create variables sm_number and big_number and assign numbers then add the numbers\n",
        "\n",
        "sm_number = 94\n",
        "big_number = 684\n",
        "\n",
        "sm_number + big_number"
      ]
    },
    {
      "cell_type": "code",
      "execution_count": 9,
      "metadata": {
        "colab": {},
        "colab_type": "code",
        "id": "bgOXCWIKsQQJ",
        "trusted": true
      },
      "outputs": [
        {
          "data": {
            "text/plain": [
              "'Remember to save the notebook frequently'"
            ]
          },
          "execution_count": 9,
          "metadata": {},
          "output_type": "execute_result"
        }
      ],
      "source": [
        "# [ ] assign a string value to the variable first_name and add to the string \", remember to save the notebook frequently\"\n",
        "\n",
        "first_name = \"Remember to save the notebook frequently\"\n",
        "\n",
        "first_name"
      ]
    },
    {
      "cell_type": "markdown",
      "metadata": {
        "colab_type": "text",
        "id": "7J7gPXR6sQQM"
      },
      "source": [
        "## Concept: Use Addition in Variable Assignments  \n",
        "It is common to store the results of addition in a variable.  \n",
        "\n",
        "[![view video](https://iajupyterprodblobs.blob.core.windows.net/imagecontainer/common/play_video.png)]( http://edxinteractivepage.blob.core.windows.net/edxpages/f7cff1a7-5601-48a1-95a6-fd1fdfabd20e.html?details=[{\"src\":\"http://jupyternootbookwams.streaming.mediaservices.windows.net/48aefdf7-8f2f-4080-97e9-c25477f71248/Unit1_Section1.4-Assignment.ism/manifest\",\"type\":\"application/vnd.ms-sstr+xml\"}],[{\"src\":\"http://jupyternootbookwams.streaming.mediaservices.windows.net/48aefdf7-8f2f-4080-97e9-c25477f71248/Unit1_Section1.4-Assignment.vtt\",\"srclang\":\"en\",\"kind\":\"subtitles\",\"label\":\"english\"}])\n",
        "\n",
        "### Use addition in `print ()`   \n",
        "Use **`print()`** to show the results of multiple lines of output.  \n",
        " "
      ]
    },
    {
      "cell_type": "markdown",
      "metadata": {
        "colab_type": "text",
        "id": "5czAEJoPsQQN"
      },
      "source": [
        "### Examples: Addition in variable assignments and in `print()`"
      ]
    },
    {
      "cell_type": "code",
      "execution_count": 15,
      "metadata": {
        "colab": {},
        "colab_type": "code",
        "id": "0HXYtbzBsQQN",
        "trusted": true
      },
      "outputs": [
        {
          "name": "stdout",
          "output_type": "stream",
          "text": [
            "2\n",
            "Happy Birthday Alton\n"
          ]
        }
      ],
      "source": [
        "# [ ] review & run code  \n",
        "first_name = \"Alton\"\n",
        "greeting = \"Happy Birthday \" + first_name\n",
        "\n",
        "print(2)\n",
        "print(greeting)"
      ]
    },
    {
      "cell_type": "code",
      "execution_count": 11,
      "metadata": {
        "colab": {},
        "colab_type": "code",
        "id": "7IE8EctIsQQQ",
        "trusted": true
      },
      "outputs": [
        {
          "name": "stdout",
          "output_type": "stream",
          "text": [
            "13\n",
            "26\n",
            "\n"
          ]
        }
      ],
      "source": [
        "#  [ ] review & run code  \n",
        "int_sum = 6 + 7\n",
        "print(int_sum)\n",
        "print(11 + 15)\n",
        "print()"
      ]
    },
    {
      "cell_type": "code",
      "execution_count": 12,
      "metadata": {
        "colab": {},
        "colab_type": "code",
        "id": "R31PvpnLsQQU",
        "trusted": true
      },
      "outputs": [
        {
          "name": "stdout",
          "output_type": "stream",
          "text": [
            "I do not wear a hat\n",
            "at dinner\n"
          ]
        }
      ],
      "source": [
        "# [] review and run code\n",
        "hat_msg = \"I do not wear \" + \"a hat\"  \n",
        "print(hat_msg)\n",
        "print(\"at \" + \"dinner\")"
      ]
    },
    {
      "cell_type": "markdown",
      "metadata": {
        "colab_type": "text",
        "id": "Tm2FfIUVsQQX"
      },
      "source": [
        "## Task 2 (multi-part): Create integer addition and string addition output\n",
        "\n",
        "- perform string addition in the variable named new_msg below (add a string to \"my favorite food is \")"
      ]
    },
    {
      "cell_type": "code",
      "execution_count": 17,
      "metadata": {
        "colab": {},
        "colab_type": "code",
        "id": "IcohW78EsQQY",
        "trusted": true
      },
      "outputs": [
        {
          "name": "stdout",
          "output_type": "stream",
          "text": [
            "my favorite food is pizza\n"
          ]
        }
      ],
      "source": [
        "new_msg = \"my favorite food is \" + \"pizza\"\n",
        "print(new_msg)"
      ]
    },
    {
      "cell_type": "markdown",
      "metadata": {
        "colab_type": "text",
        "id": "1iCZMtinsQQa"
      },
      "source": [
        "- perform Integer addition in the variable named new_sum below (add 2 or more Integers)"
      ]
    },
    {
      "cell_type": "code",
      "execution_count": 19,
      "metadata": {
        "colab": {},
        "colab_type": "code",
        "id": "pJAdxqiIsQQb",
        "trusted": true
      },
      "outputs": [
        {
          "name": "stdout",
          "output_type": "stream",
          "text": [
            "1003\n"
          ]
        }
      ],
      "source": [
        "new_sum = 23 + 66 + 914\n",
        "print(new_sum)\n"
      ]
    },
    {
      "cell_type": "markdown",
      "metadata": {
        "colab_type": "text",
        "id": "s95nwpTmsQQd"
      },
      "source": [
        " - create and print a new string variable, new_msg_2, that concatenates new_msg + a literal string"
      ]
    },
    {
      "cell_type": "code",
      "execution_count": 24,
      "metadata": {
        "colab": {},
        "colab_type": "code",
        "id": "hJNaK1ZUsQQd",
        "trusted": true
      },
      "outputs": [
        {
          "name": "stdout",
          "output_type": "stream",
          "text": [
            "I went to the gas station and bought soda \n"
          ]
        }
      ],
      "source": [
        "new_msg = \"I went to the gas station \"\n",
        "new_msg_2 = new_msg + \"and bought soda \"\n",
        "print(new_msg_2)\n"
      ]
    },
    {
      "cell_type": "markdown",
      "metadata": {
        "colab_type": "text",
        "id": "aw-81InJsQQf"
      },
      "source": [
        "## Concept: Errors!\n",
        "Encountering and troubleshooting errors are fundamental parts of computer programming.\n",
        "\n",
        "[![view video](https://iajupyterprodblobs.blob.core.windows.net/imagecontainer/common/play_video.png)]( http://edxinteractivepage.blob.core.windows.net/edxpages/f7cff1a7-5601-48a1-95a6-fd1fdfabd20e.html?details=[{\"src\":\"http://jupyternootbookwams.streaming.mediaservices.windows.net/7ab2739a-95e6-4399-9b84-19ac5698bbea/Unit1_Section1.4-TypeError.ism/manifest\",\"type\":\"application/vnd.ms-sstr+xml\"}],[{\"src\":\"http://jupyternootbookwams.streaming.mediaservices.windows.net/7ab2739a-95e6-4399-9b84-19ac5698bbea/Unit1_Section1.4-TypeError.vtt\",\"srclang\":\"en\",\"kind\":\"subtitles\",\"label\":\"english\"}])"
      ]
    },
    {
      "cell_type": "markdown",
      "metadata": {
        "colab_type": "text",
        "id": "Qz0N0kDXsQQg"
      },
      "source": [
        "#### Reminder: TypeError\n",
        "The line  **`print(\"my number is \" + 123)`** causes the **`TypeError`** message to appear.  \n",
        "&gt;`TypeError: Can't convert 'int' object to str implicitly`  \n",
        "\n",
        "When adding to the string  `\"my number is \"`  the compiler is experiencing another string, but finds a number ***`123`**.  \n",
        "\n",
        "Python cannot convert the Integer   `123`  to a string without explicit instruction (in code). \n",
        "  \n",
        "In other words, Python only allows combining *like types*.\n",
        "- **`str`** + **`str`**\n",
        "- **`int`** + **`int`**\n"
      ]
    },
    {
      "cell_type": "markdown",
      "metadata": {
        "colab_type": "text",
        "id": "DCXfH_O9sQQg"
      },
      "source": [
        "## Concept: More Errors\n",
        "### SyntaxError &amp; NameError\n",
        "- **SyntaxError** - breaks code formatting rules of Python\n",
        "- **NameError** - object is not defined (can't be found)  \n",
        "\n",
        "Python has a specific grammar that it follows that is referred to as **syntax**.  \n",
        "The print function syntax rules for output of a single string include: \n",
        "- Parentheses **` ( ) `** containing a **string** follow **`print`** (SyntaxError)\n",
        "- Strings have **matching quotation marks** (SyntaxError)\n",
        "- `print` is lowercase and correctly spelled (NameError)\n",
        "\n",
        "Failure to follow any of these rules results in a `SyntaxError` or `NameError` when the code is run.  "
      ]
    },
    {
      "cell_type": "markdown",
      "metadata": {
        "colab_type": "text",
        "id": "6xQilwLAsQQh"
      },
      "source": [
        "## SyntaxError\n",
        "[![view video](https://iajupyterprodblobs.blob.core.windows.net/imagecontainer/common/play_video.png)]( http://edxinteractivepage.blob.core.windows.net/edxpages/f7cff1a7-5601-48a1-95a6-fd1fdfabd20e.html?details=[{\"src\":\"http://jupyternootbookwams.streaming.mediaservices.windows.net/1a1cd6c0-793f-4bcb-a0a0-c9f95a302142/Unit1_Section1.4-SyntaxNameErrors.ism/manifest\",\"type\":\"application/vnd.ms-sstr+xml\"}],[{\"src\":\"http://jupyternootbookwams.streaming.mediaservices.windows.net/1a1cd6c0-793f-4bcb-a0a0-c9f95a302142/Unit1_Section1.4-SyntaxNameErrors.vtt\",\"srclang\":\"en\",\"kind\":\"subtitles\",\"label\":\"english\"}])\n",
        "- Improperly formatted string (quotes don't match) that results in a SyntaxError"
      ]
    },
    {
      "cell_type": "markdown",
      "metadata": {
        "colab_type": "text",
        "id": "6VDhHBVssQQh"
      },
      "source": [
        "### Examples"
      ]
    },
    {
      "cell_type": "code",
      "execution_count": null,
      "metadata": {
        "colab": {},
        "colab_type": "code",
        "id": "81tneCnQsQQh",
        "trusted": true
      },
      "outputs": [],
      "source": [
        "# [ ] Review and run the code \n",
        "print(\"Hi!\")\n",
        "## improper format - non matching quotes\n",
        "print('I like the morning\") "
      ]
    },
    {
      "cell_type": "markdown",
      "metadata": {
        "colab_type": "text",
        "id": "PKHWrxgfsQQj"
      },
      "source": [
        "- Note the misspelling below, \"`prin`\", results in a NameError"
      ]
    },
    {
      "cell_type": "code",
      "execution_count": null,
      "metadata": {
        "colab": {},
        "colab_type": "code",
        "id": "94ua1NXjsQQk",
        "trusted": true
      },
      "outputs": [],
      "source": [
        "# [ ] Review and run the code \n",
        "prin('hi')"
      ]
    },
    {
      "cell_type": "markdown",
      "metadata": {
        "colab_type": "text",
        "id": "1T16xXZCsQQm"
      },
      "source": [
        "- EOF = \"end of file\" found in code below\n",
        "- Python went to the end of the file looking for, but not finding, a closing parenthesis "
      ]
    },
    {
      "cell_type": "code",
      "execution_count": null,
      "metadata": {
        "colab": {},
        "colab_type": "code",
        "id": "tMMVlRiXsQQm",
        "trusted": true
      },
      "outputs": [],
      "source": [
        "# [ ] Review and run the code\n",
        "print(\"where are my socks?\" "
      ]
    },
    {
      "cell_type": "markdown",
      "metadata": {
        "colab_type": "text",
        "id": "1TzGCaCfsQQp"
      },
      "source": [
        "- In the code below: a parenthesis inside quotations will be seen a part of a string and not as a parenthesis"
      ]
    },
    {
      "cell_type": "code",
      "execution_count": null,
      "metadata": {
        "colab": {},
        "colab_type": "code",
        "id": "k8o6N1I5sQQp",
        "trusted": true
      },
      "outputs": [],
      "source": [
        "# { ] Review and run the code \n",
        "print(\"my socks are in the wrong bin)\" "
      ]
    },
    {
      "cell_type": "markdown",
      "metadata": {
        "colab_type": "text",
        "id": "JbFBkpaQsQQr"
      },
      "source": [
        "## Task 4: Fix Errors"
      ]
    },
    {
      "cell_type": "markdown",
      "metadata": {
        "colab_type": "text",
        "id": "exVKZKfrsQQs"
      },
      "source": [
        "- Review the code in each cell below and then run the code\n",
        "- Fix any errors and run until the code no longer shows errors\n",
        "- Indicate in your comments what type of errors you found and how you fixed them. \n",
        "\n",
        "&gt;**Tip**: explaining errors to a partner often reveals a solution (works even if explaining error to a pencil). "
      ]
    },
    {
      "cell_type": "code",
      "execution_count": 26,
      "metadata": {
        "colab": {},
        "colab_type": "code",
        "id": "1bKcRwo0sQQs",
        "trusted": true
      },
      "outputs": [
        {
          "name": "stdout",
          "output_type": "stream",
          "text": [
            "my socks do not match\n"
          ]
        }
      ],
      "source": [
        "# Fixed quotation marks\n",
        "print(\"my socks do not match\") \n",
        "      \n"
      ]
    },
    {
      "cell_type": "code",
      "execution_count": 27,
      "metadata": {
        "colab": {},
        "colab_type": "code",
        "id": "Iu2XwB3qsQQv",
        "trusted": true
      },
      "outputs": [
        {
          "name": "stdout",
          "output_type": "stream",
          "text": [
            "my socks match now\n"
          ]
        }
      ],
      "source": [
        "# Fixed ()\n",
        "print(\"my socks match now\") \n",
        "\n"
      ]
    },
    {
      "cell_type": "code",
      "execution_count": 28,
      "metadata": {
        "colab": {},
        "colab_type": "code",
        "id": "zuktkPUysQQx",
        "trusted": true
      },
      "outputs": [
        {
          "name": "stdout",
          "output_type": "stream",
          "text": [
            "Save the notebook frequently\n"
          ]
        }
      ],
      "source": [
        "# Added a \"t\" to print\n",
        "print(\"Save the notebook frequently\")\n",
        "\n"
      ]
    },
    {
      "cell_type": "code",
      "execution_count": 30,
      "metadata": {
        "colab": {},
        "colab_type": "code",
        "id": "sfaNFSItsQQz",
        "trusted": true
      },
      "outputs": [
        {
          "name": "stdout",
          "output_type": "stream",
          "text": [
            "Alton\n"
          ]
        }
      ],
      "source": [
        "# Fixed student_name from being capital and made it lowercase\n",
        "student_name = \"Alton\"\n",
        "print(student_name)\n",
        "\n"
      ]
    },
    {
      "cell_type": "code",
      "execution_count": 37,
      "metadata": {
        "colab": {},
        "colab_type": "code",
        "id": "dI1yshEgsQQ2",
        "trusted": true
      },
      "outputs": [
        {
          "name": "stdout",
          "output_type": "stream",
          "text": [
            "3 students are signed up for tutoring \n"
          ]
        }
      ],
      "source": [
        "# Fixed the 3 by adding quotation marks since integers and strings cannot be added.\n",
        "total = \"3 \"\n",
        "msg_text = \"students are signed up for tutoring\"\n",
        "print(total + msg_text)\n"
      ]
    },
    {
      "cell_type": "markdown",
      "metadata": {
        "colab_type": "text",
        "id": "Beq7ZZpxsQQ5"
      },
      "source": [
        "A parenthesis inside quotations will be seen a part of a string and not as a parenthesis."
      ]
    },
    {
      "cell_type": "markdown",
      "metadata": {
        "colab_type": "text",
        "id": "5ZtuIbIYsQQ5"
      },
      "source": [
        "[Terms of use](http://go.microsoft.com/fwlink/?LinkID=206977)   [Privacy &amp; cookies](https://go.microsoft.com/fwlink/?LinkId=521839)   © 2017 Microsoft"
      ]
    }
  ],
  "metadata": {
    "anaconda-cloud": {},
    "colab": {
      "name": "ModuleTwoLessonThreePracticeActivityOne.ipynb",
      "provenance": []
    },
    "kernelspec": {
      "display_name": "Python 3",
      "language": "python",
      "name": "python3"
    },
    "language_info": {
      "codemirror_mode": {
        "name": "ipython",
        "version": 3
      },
      "file_extension": ".py",
      "mimetype": "text/x-python",
      "name": "python",
      "nbconvert_exporter": "python",
      "pygments_lexer": "ipython3",
      "version": "3.10.2"
    }
  },
  "nbformat": 4,
  "nbformat_minor": 0
}
