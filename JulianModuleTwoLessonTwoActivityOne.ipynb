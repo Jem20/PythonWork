{
  "cells": [
    {
      "metadata": {
        "id": "EjpZXSUBWvd4"
      },
      "cell_type": "markdown",
      "source": [
        "# Module Two Lesson Two Practice Activity One\n",
        "# Julian Monsalve 1/27/2022\n",
        "# In this lesson I have learned on how to use variables and data types.\n",
        "# I didn't necessarily have any difficulties.\n",
        "##  Types and Variables\n",
        "- Python 3 in Jupyter notebooks\n",
        "- `print()`\n",
        "- Comments  \n",
        "- **Data types basics**\n",
        "- **Variables  **\n",
        "- Addition with Strings and Integers \n",
        "- Errors\n",
        "- Character art  \n",
        "\n",
        "-----\n",
        "\n",
        "### Student will be able to\n",
        "- Use Python 3 in Jupyter notebooks\n",
        "- **Write working code using `print()` and `#` comments**  \n",
        "- Write working code using `type()` and variables\n",
        "- Combine Strings using string addition (+)\n",
        "- Add numbers in code (+) \n",
        "- Troubleshoot errors\n",
        "- Create character art\n",
        "\n",
        "#### Before submission: Remember you need to add descriptive comments in each cell (examples AND tasks) that explains what your code is doing.  "
      ]
    },
    {
      "metadata": {
        "id": "BqR_nvNUWveA"
      },
      "cell_type": "markdown",
      "source": [
        "## Concept: What is a **String?**  \n",
        "[![view video](https://iajupyterprodblobs.blob.core.windows.net/imagecontainer/common/play_video.png)]( http://edxinteractivepage.blob.core.windows.net/edxpages/f7cff1a7-5601-48a1-95a6-fd1fdfabd20e.html?details=[{\"src\":\"http://jupyternootbookwams.streaming.mediaservices.windows.net/cbe90d91-876f-42f3-90df-2955588d02b0/Unit1_Section1.2-String.ism/manifest\",\"type\":\"application/vnd.ms-sstr+xml\"}],[{\"src\":\"http://jupyternootbookwams.streaming.mediaservices.windows.net/cbe90d91-876f-42f3-90df-2955588d02b0/Unit1_Section1.2-String.vtt\",\"srclang\":\"en\",\"kind\":\"subtitles\",\"label\":\"english\"}])\n",
        "Strings were used in \"Hello World!\" print function examples. Strings are sets of characters.  In Python, strings are in double or single quotes like `\"Hello World!\"` or `'after edit, save!'`  \n",
        "  \n",
        "A string is a common **type** of data, used in programming, consisting of a sequence of 1 or more characters. \n",
        "* **A String is a sequence of characters** (aka: a *string* of characters)  \n",
        "    * Character examples: `A, B, C, a, b, c, 1, 2, 3, !, &amp;`\n",
        "* A String in Python is contained in quotes, single(') or double(\")\n",
        "    * String examples:  \"ABC\", 'Joana Dias', 'I have 2 pet cats.', \"item #3 cost \\$3.29 USD\"  \n",
        "    &gt; **Note:** the quotes containing a string must come in matched pairs   \n",
        "    &gt; - `\"Hello\"` or `'Hello'` are correctly formatted strings  \n",
        "    &gt; - `\"Hello'` is incorrectly formatted starting with double \" and ending with single ' Python needs a matching quote to know where the string ends"
      ]
    },
    {
      "metadata": {
        "id": "Vgw5f6KRWveB"
      },
      "cell_type": "markdown",
      "source": [
        "### Example"
      ]
    },
    {
      "metadata": {
        "trusted": false,
        "colab": {
          "base_uri": "https://localhost:8080/"
        },
        "id": "7n1IfIQqWveC",
        "outputId": "bc10a1ee-3579-48a1-9780-ac24bb08f8bd"
      },
      "cell_type": "code",
      "source": [
        "print('strings go in single')\n",
        "print(\"or double quotes\")"
      ],
      "execution_count": 4,
      "outputs": [
        {
          "output_type": "stream",
          "name": "stdout",
          "text": [
            "strings go in single\n",
            "or double quotes\n"
          ]
        }
      ]
    },
    {
      "metadata": {
        "id": "f_Z508rIWveD"
      },
      "cell_type": "markdown",
      "source": [
        "## Task 1: Print messages with \"double quotes\" and 'single' quotes\n",
        "- Add a cell below\n",
        "- Print two different messages - one using double quotes and one using single quotes\n",
        "- Before submission: Remember you always need to add descriptive comments(starting with a #) in the same cell right before your code that explains what your code is doing."
      ]
    },
    {
      "cell_type": "code",
      "source": [
        "# Prints single strings\n",
        "print('single')\n",
        "# Prints double strings\n",
        "print(\"double\")"
      ],
      "metadata": {
        "colab": {
          "base_uri": "https://localhost:8080/"
        },
        "id": "htVZ7s_RZwZl",
        "outputId": "e74e4182-d49b-432c-b366-5ec2450aa1f2"
      },
      "execution_count": 1,
      "outputs": [
        {
          "output_type": "stream",
          "name": "stdout",
          "text": [
            "single\n",
            "double\n"
          ]
        }
      ]
    },
    {
      "metadata": {
        "collapsed": true,
        "id": "KqeyBJPoWveE"
      },
      "cell_type": "markdown",
      "source": [
        "## Concept: Integers are Another Type\n",
        "[![view video](https://iajupyterprodblobs.blob.core.windows.net/imagecontainer/common/play_video.png)]( http://edxinteractivepage.blob.core.windows.net/edxpages/f7cff1a7-5601-48a1-95a6-fd1fdfabd20e.html?details=[{\"src\":\"http://jupyternootbookwams.streaming.mediaservices.windows.net/7b0e6a97-551d-4f98-9646-679d30eb2ce4/Unit1_Section1.2-Integers.ism/manifest\",\"type\":\"application/vnd.ms-sstr+xml\"}],[{\"src\":\"http://jupyternootbookwams.streaming.mediaservices.windows.net/7b0e6a97-551d-4f98-9646-679d30eb2ce4/Unit1_Section1.2-Integers.vtt\",\"srclang\":\"en\",\"kind\":\"subtitles\",\"label\":\"english\"}])\n",
        "- Whole numbers such as `-2, -1, 0, 1, 2, 3` are Integers \n",
        "- Integers are **not placed in quotes**  \n",
        "  \n",
        "A string can contain any character, this includes letters, spaces, punctuation, number digits and formatting. In a string with digits (`\"123\"`), the digits are text images rather than representations of numeric values.  \n",
        "\n",
        "&gt;**Remember** a line of Python code starting with the pound or hash symbol (**#**) indicates a **comment**.  \n",
        "   \n",
        "Comments are for humans to read and are not run by computers.\n",
        "\n"
      ]
    },
    {
      "metadata": {
        "id": "yo2aCfXXWveF"
      },
      "cell_type": "markdown",
      "source": [
        "### Examples"
      ]
    },
    {
      "metadata": {
        "trusted": false,
        "colab": {
          "base_uri": "https://localhost:8080/"
        },
        "id": "tegQh5NnWveG",
        "outputId": "06526d86-57cb-4f63-a405-871804ff1945"
      },
      "cell_type": "code",
      "source": [
        "# [ ] Review code and Run - What is the difference between these 2 statements - are they displaying the same value?\n",
        "\n",
        "print(299)\n",
        "\n",
        "\n",
        "print(\"299\")"
      ],
      "execution_count": 2,
      "outputs": [
        {
          "output_type": "stream",
          "name": "stdout",
          "text": [
            "299\n",
            "299\n"
          ]
        }
      ]
    },
    {
      "metadata": {
        "id": "lC3g4Ot2WveH"
      },
      "cell_type": "markdown",
      "source": [
        "## Task 2: Print integers and integer strings \n",
        "- Add a cell below\n",
        "- Print an Integer\n",
        "- Print a strings made of Integer characters\n",
        "- Before submission: Remember you always need to add descriptive comments(starting with a #) in the same cell right before your code that explains what your code is doing."
      ]
    },
    {
      "cell_type": "code",
      "source": [
        "# Print's a value. \n",
        "print(1234)\n",
        "\n",
        "# Print's text and no actual value is output.\n",
        "print(\"1234\")"
      ],
      "metadata": {
        "colab": {
          "base_uri": "https://localhost:8080/"
        },
        "id": "OXvcCtmdfaAm",
        "outputId": "6ea26c20-4993-4eef-e043-b50554e19f98"
      },
      "execution_count": 3,
      "outputs": [
        {
          "output_type": "stream",
          "name": "stdout",
          "text": [
            "1234\n",
            "1234\n"
          ]
        }
      ]
    },
    {
      "metadata": {
        "id": "QG4wTuIcWveI"
      },
      "cell_type": "markdown",
      "source": [
        "## Concept: Variables and Storing Strings in **Variables**  \n",
        "[![view video](https://iajupyterprodblobs.blob.core.windows.net/imagecontainer/common/play_video.png)]( http://edxinteractivepage.blob.core.windows.net/edxpages/f7cff1a7-5601-48a1-95a6-fd1fdfabd20e.html?details=[{\"src\":\"http://jupyternootbookwams.streaming.mediaservices.windows.net/bc5d7c7c-b30f-41d1-acc3-131fa4bc9634/Unit1_Section1.2-Variables.ism/manifest\",\"type\":\"application/vnd.ms-sstr+xml\"}],[{\"src\":\"http://jupyternootbookwams.streaming.mediaservices.windows.net/bc5d7c7c-b30f-41d1-acc3-131fa4bc9634/Unit1_Section1.2-Variables.vtt\",\"srclang\":\"en\",\"kind\":\"subtitles\",\"label\":\"english\"}])\n",
        "### Variables are named containers\n",
        "Computer programs often create storage for things that are used in repeated processing like item_price, student_name, stock_symbol. In Python a variable  is a type of **object** that can be addressed by name to access the assigned contents.\n",
        "\n",
        "#### Name a variable staring with a letter or underscore \"_\"\n",
        "There are different styles for creating variables this course uses lowercase descriptive names connected by underscores:\n",
        "- item_price\n",
        "- student_name\n",
        "- stock_symbol  \n",
        "\n",
        "Descriptive names reduce the need for comments in the code and make it easier to share code or read code written long ago.\n",
        "\n",
        "### Variables can hold strings\n",
        "once a variable is **assigned**:\n",
        "&gt;**`current_msg = \"I am a string\" `**  \n",
        "  \n",
        "A Python program can refer to the variable,   **`current_msg`**,   in code  \n",
        "so that  **` current_msg `**, can be used like the string value  (**`\"I am a string\"`**)   which it stores.  \n",
        "  \n",
        "### Variable reassignment\n",
        "We can reassign a variable, changing the contents.   **`current_msg = \"new current message\" `**  \n",
        "\n",
        "### Variables can be used in place of literals \n",
        "If we initialize **`current_msg = \"new current message\" `** then  \n",
        "the literal string **` \"new current message\" `** and the variable **` current_msg `** are the same when used in code."
      ]
    },
    {
      "metadata": {
        "id": "MnPO3bx_WveJ"
      },
      "cell_type": "markdown",
      "source": [
        "### Examples\n",
        "- **Initializing variables**\n",
        "- **Literals &amp; variables** in printing\n",
        "- **Variable reassignment**"
      ]
    },
    {
      "metadata": {
        "trusted": false,
        "colab": {
          "base_uri": "https://localhost:8080/"
        },
        "id": "FXF-mB91WveK",
        "outputId": "200e04bc-23c1-4444-eddf-6d39aa1da3db"
      },
      "cell_type": "code",
      "source": [
        "# [ ] Review code and Run\n",
        "current_msg = \"I am a string\"\n",
        "\n",
        "print(\"I am a string\")\n",
        "\n",
        "print(current_msg)"
      ],
      "execution_count": 5,
      "outputs": [
        {
          "output_type": "stream",
          "name": "stdout",
          "text": [
            "I am a string\n",
            "I am a string\n"
          ]
        }
      ]
    },
    {
      "metadata": {
        "scrolled": true,
        "trusted": false,
        "colab": {
          "base_uri": "https://localhost:8080/"
        },
        "id": "p7fGa4AwWveK",
        "outputId": "adf7dd4c-da84-43d0-b101-9dbfd2196693"
      },
      "cell_type": "code",
      "source": [
        "# [ ] Review code and Run\n",
        "\n",
        "current_msg = \"Run this cell using Ctrl+Enter\"\n",
        "\n",
        "print(current_msg)"
      ],
      "execution_count": 10,
      "outputs": [
        {
          "output_type": "stream",
          "name": "stdout",
          "text": [
            "Run this cell using Ctrl+Enter\n"
          ]
        }
      ]
    },
    {
      "metadata": {
        "id": "pW7KZzQ3WveL"
      },
      "cell_type": "markdown",
      "source": [
        "## Task 3: Program: Assigning values to a string\n",
        "- In the cell below:\n",
        "  - Print the variable current_msg.  \n",
        "  - Assign a new string to current_msg.  \n",
        "  - Print the variable  current_msg again.\n",
        "- Run the code cell above and then run the cell below.\n",
        "- Before submission: Remember you always need to add descriptive comments(starting with a #) in the same cell right before your code that explains what your code is doing."
      ]
    },
    {
      "metadata": {
        "trusted": true,
        "colab": {
          "base_uri": "https://localhost:8080/"
        },
        "id": "qQNR8q2iWveL",
        "outputId": "32b9d4df-7ef5-49b2-b09d-bde317be8427"
      },
      "cell_type": "code",
      "source": [
        "current_msg = \"House\"\n",
        "\n",
        "print(current_msg)\n",
        "\n",
        "print(current_msg)"
      ],
      "execution_count": 11,
      "outputs": [
        {
          "output_type": "stream",
          "name": "stdout",
          "text": [
            "House\n",
            "House\n"
          ]
        }
      ]
    },
    {
      "metadata": {
        "id": "qs_odawQWveM"
      },
      "cell_type": "markdown",
      "source": [
        "### Q?: In the cell above, why did the variable have a value to print before it was assigned?  \n",
        "  \n",
        "**A:** Jupyter notebooks run cells individually.  Any cell in the notebook can access a variable assigned from a cell that has been run in the current notebook session."
      ]
    },
    {
      "metadata": {
        "id": "IaKhjOjXWveN"
      },
      "cell_type": "markdown",
      "source": [
        "## Concept: Data Types in Variables\n",
        "[![view video](https://iajupyterprodblobs.blob.core.windows.net/imagecontainer/common/play_video.png)]( http://edxinteractivepage.blob.core.windows.net/edxpages/f7cff1a7-5601-48a1-95a6-fd1fdfabd20e.html?details=[{\"src\":\"http://jupyternootbookwams.streaming.mediaservices.windows.net/85de7ef1-bdd3-4460-849a-41e976bfdf46/Unit1_Section1.2-Types.ism/manifest\",\"type\":\"application/vnd.ms-sstr+xml\"}],[{\"src\":\"http://jupyternootbookwams.streaming.mediaservices.windows.net/85de7ef1-bdd3-4460-849a-41e976bfdf46/Unit1_Section1.2-Types.vtt\",\"srclang\":\"en\",\"kind\":\"subtitles\",\"label\":\"english\"}])\n",
        "Variables can be initialized with different data types.  Below we see item_price is a **decimal** (aka - float) and student_name is **string**. \n",
        "  \n",
        "```Python\n",
        "item_price = 10.25 #item_price initialized as a numeric value (no quotes)\n",
        "student_name =\"Dias, Joana\" #student_name initialized as a string\n",
        "license_plate = \"123A\" #license_plate initialized as a string\n",
        "```\n",
        "\n",
        "Variables can start initialized as an Integer number data type.\n",
        "&gt;```Python \n",
        "x = 22\n",
        "``` \n",
        "Here the Integer `22`  value was assigned to the variable  **`x`**.    \n",
        "\n",
        "The type of data a variable holds can be changed.\n",
        "Python variables can change the **type** of data a variable holds.\n",
        "\n",
        "&gt;```Python\n",
        "x = 22\n",
        "x = \"I am a string\"\n",
        "```  \n",
        "\n",
        "**` x `**  changed type from Integer  **`x = 22`**  to string  **`x = \"I am a string\"`**  \n",
        "   \n",
        "&gt;&gt;|Best Practice: Friendly Names |\n",
        "|------------------------------------------------------------------------------------------|\n",
        "| **Friendly name** examples, (`item_price, student_name,license_plate`), were used above. |  \n",
        "  \n",
        "  \n",
        "#### Variables help us to write code that can be used repeatedly\n",
        "A personalized letter can be sent to every student with individual names by using a name in a variable. Let's start with printing a name based on string variable.\n",
        "\n",
        "Create a variable, `name`, at the top of the next cell. Assign a string value to   `name `. \n",
        "\n",
        "&gt; Remember to use the quotes for string values.\n",
        "\n",
        "Example:\n",
        "\n",
        "```Python\n",
        "name = \"Joana Dias\"\n",
        "print(name)\n",
        "```"
      ]
    },
    {
      "metadata": {
        "id": "637x7QCsWveO"
      },
      "cell_type": "markdown",
      "source": [
        "### Examples"
      ]
    },
    {
      "metadata": {
        "trusted": false,
        "colab": {
          "base_uri": "https://localhost:8080/"
        },
        "id": "1xjPS6SQWveO",
        "outputId": "67f33285-5b40-4e9b-a045-f67c994d4b2c"
      },
      "cell_type": "code",
      "source": [
        "test_value = 22\n",
        "print(test_value)\n",
        "test_value = \"Joana\"\n",
        "print(test_value)"
      ],
      "execution_count": 12,
      "outputs": [
        {
          "output_type": "stream",
          "name": "stdout",
          "text": [
            "22\n",
            "Joana\n"
          ]
        }
      ]
    },
    {
      "metadata": {
        "id": "w_Gwv0BtWveP"
      },
      "cell_type": "markdown",
      "source": [
        "## Task 4 (multi-part): Assign a variable and print the value\n",
        "- Insert a new cell below\n",
        "- Assign a string value to a variable **`student_name`**\n",
        "- Print the value of variable **`student_name`**\n",
        "- Before submission: Remember you always need to add descriptive comments(starting with a #) in the same cell right before your code that explains what your code is doing."
      ]
    },
    {
      "cell_type": "code",
      "source": [
        "# Prints a value's value.\n",
        "test_value = 14\n",
        "print(test_value)\n",
        "test_value = \"Julian\"\n",
        "print(test_value)"
      ],
      "metadata": {
        "colab": {
          "base_uri": "https://localhost:8080/"
        },
        "id": "7_REu_MvgmBr",
        "outputId": "0efcf472-753a-482c-c856-ba578d7e4d0e"
      },
      "execution_count": 13,
      "outputs": [
        {
          "output_type": "stream",
          "name": "stdout",
          "text": [
            "14\n",
            "Julian\n"
          ]
        }
      ]
    },
    {
      "metadata": {
        "id": "QblifnioWveQ"
      },
      "cell_type": "markdown",
      "source": [
        "### Task 4 continued...\n",
        "##  Modify the value of a variable\n",
        "- Insert a new cell below\n",
        "- Assign the **`student_name`** variable  a different string value (a different name)\n",
        "- Print the value of variable **`student_name`**\n",
        "- Assign and print a 3rd value to **`student_name`**\n",
        "- Before submission: Remember you always need to add descriptive comments(starting with a #) in the same cell right before your code that explains what your code is doing."
      ]
    },
    {
      "cell_type": "code",
      "source": [
        "# Prints a integer value of a string but with 2 strings.\n",
        "test_value = 14\n",
        "print(test_value)\n",
        "test_value = \"Julian\"\n",
        "print(test_value)\n",
        "test_value = \"Busy\"\n",
        "print(test_value)"
      ],
      "metadata": {
        "colab": {
          "base_uri": "https://localhost:8080/"
        },
        "id": "LJcaRBi6g8Nn",
        "outputId": "38c6f377-2cfa-482b-864c-93c4d4a0a78b"
      },
      "execution_count": 15,
      "outputs": [
        {
          "output_type": "stream",
          "name": "stdout",
          "text": [
            "14\n",
            "Julian\n",
            "Busy\n"
          ]
        }
      ]
    },
    {
      "metadata": {
        "id": "eim-gVJzWveQ"
      },
      "cell_type": "markdown",
      "source": [
        "### Task 4 continued...\n",
        "##  Change variable type with reassignment\n",
        "- Insert a new cell below\n",
        "- Assign a value to a variable called **`bucket`**\n",
        "- Print the value of **`bucket`**\n",
        "- Assign an Integer value (no quotes) to the variable **`bucket`**\n",
        "- Print the value of **`bucket`** \n",
        "- Before submission: Remember you always need to add descriptive comments(starting with a #) in the same cell right before your code that explains what your code is doing."
      ]
    },
    {
      "cell_type": "code",
      "source": [
        "test_value = \"Bucket\" # test_value refers to the \"Bucket\"\n",
        "print(test_value)\n",
        "test_value = 4 # The value of \"Bucket\"\n",
        "print(test_value)"
      ],
      "metadata": {
        "colab": {
          "base_uri": "https://localhost:8080/"
        },
        "id": "gMT16ofXhQDR",
        "outputId": "b19ccc6a-f7fe-4819-fe31-a68d59c3c916"
      },
      "execution_count": 16,
      "outputs": [
        {
          "output_type": "stream",
          "name": "stdout",
          "text": [
            "Bucket\n",
            "4\n"
          ]
        }
      ]
    },
    {
      "metadata": {
        "id": "Pblc2sGkWveQ"
      },
      "cell_type": "markdown",
      "source": [
        "### Q?: What is the difference between `123` and  `'123'`?  \n",
        "  \n",
        "**A:** A string type **is not** a number, even if it  is all numeric digits\n",
        "* In Python code a number can be assigned to a variable: `x = 31`\n",
        "* A string of digits can be assigned to the variable **`id`**  --&gt; `id = \"001023\"`  the quotations, mean the number symbols should be stored in the variable as **type** string, meaning the digits \"`001023`\"  are treated as text.\n",
        "    \n",
        "The **`print()`** function can print Integer or string values:\n",
        "```Python\n",
        "print(123) #integer, with numeric value\n",
        "print(\"123\") #string, represents text characters\n",
        "```  \n",
        "### Task 4 continued...\n",
        "- In a new cell, run the above code.  \n",
        "- Before submission: Remember you always need to add descriptive comments(starting with a #) in the same cell right before your code that explains what your code is doing."
      ]
    },
    {
      "cell_type": "code",
      "source": [
        "print(123) #integer, with numeric value\n",
        "print(\"123\") #string, represents text characters"
      ],
      "metadata": {
        "colab": {
          "base_uri": "https://localhost:8080/"
        },
        "id": "dmFJbb6vh3JU",
        "outputId": "d00486fb-911b-4d15-c111-30585e51c7c4"
      },
      "execution_count": 17,
      "outputs": [
        {
          "output_type": "stream",
          "name": "stdout",
          "text": [
            "123\n",
            "123\n"
          ]
        }
      ]
    },
    {
      "metadata": {
        "id": "8afFCHl-WveR"
      },
      "cell_type": "markdown",
      "source": [
        "[Terms of use](http://go.microsoft.com/fwlink/?LinkID=206977)   [Privacy &amp; cookies](https://go.microsoft.com/fwlink/?LinkId=521839)   © 2017 Microsoft"
      ]
    }
  ],
  "metadata": {
    "anaconda-cloud": {},
    "kernelspec": {
      "name": "python3",
      "display_name": "Python 3",
      "language": "python"
    },
    "language_info": {
      "mimetype": "text/x-python",
      "nbconvert_exporter": "python",
      "name": "python",
      "file_extension": ".py",
      "version": "3.5.4",
      "pygments_lexer": "ipython3",
      "codemirror_mode": {
        "version": 3,
        "name": "ipython"
      }
    },
    "colab": {
      "name": "JulianModuleTwoLessonTwoActivityOne.ipynb",
      "provenance": []
    }
  },
  "nbformat": 4,
  "nbformat_minor": 0
}