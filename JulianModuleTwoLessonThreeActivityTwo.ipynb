{
  "cells": [
    {
      "cell_type": "markdown",
      "metadata": {
        "collapsed": true
      },
      "source": [
        "# Module Two Lesson Three Practice Activity Two\n",
        "# Julian Monsalve 1/28/2022\n",
        "# I learned how to format string outputs and search for a string in a string.\n",
        "# No difficulties\n",
        "## Print Formatting\n",
        "- input() - gathering user input  \n",
        "- **print() formatting**  \n",
        "- Quotes inside strings\n",
        "- Boolean string tests methods\n",
        "- String formatting methods\n",
        "- Formatting string input()\n",
        "- Boolean `in` keyword \n",
        "\n",
        "-----\n",
        "\n",
        "### Students will be able to\n",
        "- Gather, store and use string `input()`  \n",
        "- **Format `print()` output**  \n",
        "- Test string characteristics\n",
        "- Format string output\n",
        "- Search for a string in a string\n",
        "#### Before submission: Remember you need to add descriptive comments in each cell (examples AND tasks) that explains what your code is doing.  "
      ]
    },
    {
      "cell_type": "markdown",
      "metadata": {
        "collapsed": true
      },
      "source": [
        "## Concept: Comma Print Formatting\n",
        "### print() comma-separated strings \n",
        "Python provides several methods of formatting strings in the **`print()`** function beyond **string addition**.   \n",
        "  \n",
        "**`print()`** provides using **commas** to combine strings for output.\n",
        "By comma-separating strings,  **`print()`** will output each separated by a space by default.\n",
        "\n",
        "[![view video](https://iajupyterprodblobs.blob.core.windows.net/imagecontainer/common/play_video.png)]( http://edxinteractivepage.blob.core.windows.net/edxpages/f7cff1a7-5601-48a1-95a6-fd1fdfabd20e.html?details=[{\"src\":\"http://jupyternootbookwams.streaming.mediaservices.windows.net/ac97f001-e639-494e-aa15-e420efb5a7a8/Unit1_Section2-2-Print-Comma_Format.ism/manifest\",\"type\":\"application/vnd.ms-sstr+xml\"}],[{\"src\":\"http://jupyternootbookwams.streaming.mediaservices.windows.net/ac97f001-e639-494e-aa15-e420efb5a7a8/Unit1_Section2-2-Print-Comma_Format.vtt\",\"srclang\":\"en\",\"kind\":\"subtitles\",\"label\":\"english\"}])\n",
        "\n",
        "#### Comma formatted `print()`\n",
        "- **[ ]** Print 3 strings on the same line using commas inside the `print()` function "
      ]
    },
    {
      "cell_type": "markdown",
      "metadata": {},
      "source": [
        "### Examples"
      ]
    },
    {
      "cell_type": "code",
      "execution_count": 2,
      "metadata": {
        "trusted": true
      },
      "outputs": [
        {
          "name": "stdout",
          "output_type": "stream",
          "text": [
            "Hello Collette!\n",
            "Hello to Collette who is from the city\n"
          ]
        }
      ],
      "source": [
        "# review and run code\n",
        "\n",
        "name = \"Collette\"\n",
        "\n",
        "print(\"Hello \" + name + \"!\")\n",
        "\n",
        "print(\"Hello to\",name,\"who is from the city\")"
      ]
    },
    {
      "cell_type": "markdown",
      "metadata": {},
      "source": [
        "## Task 1\n",
        "**Print 3 strings on the same line using commas inside the print() function.**"
      ]
    },
    {
      "cell_type": "code",
      "execution_count": 1,
      "metadata": {
        "trusted": true
      },
      "outputs": [
        {
          "name": "stdout",
          "output_type": "stream",
          "text": [
            "I walked to my House after school\n",
            "My House is so big\n",
            "The House was spectacular!\n"
          ]
        }
      ],
      "source": [
        "name = \"House\"\n",
        "\n",
        "print(\"I walked to my\",name,\"after school\")\n",
        "\n",
        "print(\"My\",name,\"is so big\")\n",
        "\n",
        "print(\"The\",name,\"was spectacular!\")"
      ]
    },
    {
      "cell_type": "markdown",
      "metadata": {},
      "source": [
        "## Concept: Using Commas in `print()` with Strings and Numbers\n",
        "[![view video](https://iajupyterprodblobs.blob.core.windows.net/imagecontainer/common/play_video.png)]( http://edxinteractivepage.blob.core.windows.net/edxpages/f7cff1a7-5601-48a1-95a6-fd1fdfabd20e.html?details=[{\"src\":\"http://jupyternootbookwams.streaming.mediaservices.windows.net/46b436d7-31ed-4e9a-a4c9-55f9eaacfb84/Unit1_Section2-2-Print-String_Number.ism/manifest\",\"type\":\"application/vnd.ms-sstr+xml\"}],[{\"src\":\"http://jupyternootbookwams.streaming.mediaservices.windows.net/46b436d7-31ed-4e9a-a4c9-55f9eaacfb84/Unit1_Section2-2-Print-String_Number.vtt\",\"srclang\":\"en\",\"kind\":\"subtitles\",\"label\":\"english\"}])\n",
        "- **`print()`** function formatting with comma separation works different than with string addition.\n",
        "- **`print()`**  using comma separation can mix numbers (int & float) and strings without a TypeError.\n",
        "\n",
        "#### `print()` with numbers and strings together using commas\n",
        "- **[ ]** use a **`print()`** function with comma separation to combine 2 numbers and 2 strings"
      ]
    },
    {
      "cell_type": "markdown",
      "metadata": {},
      "source": [
        "### Examples"
      ]
    },
    {
      "cell_type": "code",
      "execution_count": 3,
      "metadata": {
        "trusted": true
      },
      "outputs": [
        {
          "name": "stdout",
          "output_type": "stream",
          "text": [
            "I will pick you up @ 6 for the party\n"
          ]
        }
      ],
      "source": [
        "# review and run code\n",
        "print(\"I will pick you up @\",6,\"for the party\")"
      ]
    },
    {
      "cell_type": "code",
      "execution_count": 4,
      "metadata": {
        "trusted": true
      },
      "outputs": [
        {
          "name": "stdout",
          "output_type": "stream",
          "text": [
            "An Integer of 14 combined with strings causes 0 TypeErrors in comma formatted print!\n"
          ]
        }
      ],
      "source": [
        "# review and run code\n",
        "number_errors = 0\n",
        "print(\"An Integer of\", 14, \"combined with strings causes\",number_errors,\"TypeErrors in comma formatted print!\")"
      ]
    },
    {
      "cell_type": "markdown",
      "metadata": {},
      "source": [
        "## Task 2\n",
        "**Use a print() function with comma separation to combine 2 numbers and 2 strings**"
      ]
    },
    {
      "cell_type": "code",
      "execution_count": 5,
      "metadata": {
        "trusted": true
      },
      "outputs": [
        {
          "name": "stdout",
          "output_type": "stream",
          "text": [
            "I went to the store that had 20 ice creams left and bought 2 to eat!\n"
          ]
        }
      ],
      "source": [
        "ice_cream = 2\n",
        "print(\"I went to the store that had\", 20, \"ice creams left and bought\",ice_cream,\"to eat!\")"
      ]
    },
    {
      "cell_type": "markdown",
      "metadata": {
        "collapsed": true
      },
      "source": [
        "## Task 3  \n",
        "**print() comma separated mixing of strings and variables**  \n",
        "By comma-separating strings and/or string variables **`print()`** will output each separated by a space by default.\n",
        "  \n",
        "**Display text describing an address, made from strings and variables of different types**\n",
        "- Initialize variables \n",
        "  - street\n",
        "  - st_number\n",
        "- Display a message about the street and street number using comma separation formatting"
      ]
    },
    {
      "cell_type": "code",
      "execution_count": 6,
      "metadata": {
        "trusted": true
      },
      "outputs": [
        {
          "name": "stdout",
          "output_type": "stream",
          "text": [
            "I drove to 1240 Mary Lane to meet up with someone\n"
          ]
        }
      ],
      "source": [
        "st_number = 1240\n",
        "street = \"Mary Lane\"\n",
        "print(\"I drove to\",1240,street,\"to meet up with someone\")"
      ]
    },
    {
      "cell_type": "markdown",
      "metadata": {},
      "source": [
        "## Task 4\n",
        "**`print()` number, strings, variables from input**\n",
        "- [ ] Display text made from combining a variable, a literal string and a number\n",
        "    - Define a variable with a string or numeric value\n",
        "    - Display a message combining the variable, 1 or more literal strings and a number"
      ]
    },
    {
      "cell_type": "code",
      "execution_count": 12,
      "metadata": {
        "trusted": true
      },
      "outputs": [
        {
          "name": "stdout",
          "output_type": "stream",
          "text": [
            "I had 82 dollars and bought a toy and now I had 62 dollars left\n"
          ]
        }
      ],
      "source": [
        "cash = 82\n",
        "print(\"I had\",cash,\"dollars \"\"and bought a toy and now I had\",cash-20,\"dollars left\")"
      ]
    },
    {
      "cell_type": "markdown",
      "metadata": {
        "collapsed": true
      },
      "source": [
        "## Task 5 (Program): How many for the training?\n",
        "Create a program that prints out a reservation for a training class. Gather the name of the party, the number attending and the time.\n",
        ">**Example** of what output might look like:\n",
        "```\n",
        "Reminder: Training is scheduled at 3:25 PM for the Hiroto Yamaguchi group of 7 attendees.  \n",
        "Please arrive 10 minutes early for the first class.  \n",
        "```  \n",
        "  \n",
        "Design and create your own reminder style.  \n",
        " - **[ ]** create variables and \"hard code\" the values (e.g. David Smith, - 5, 10 or 15)\n",
        "    - **[ ]** Create string variable.\n",
        "      - **owner**: name of person the reservation is for  \n",
        "    - **[ ]** Create integer variables  \n",
        "      - **min_early**: number of minutes early the party should arrive.\n",
        "      - **training_time**: class time\n",
        "      - **num_people**: how many are attending \n",
        " - **[ ]** Using comma separation, print reminder text.\n",
        "      - Use all of the variables in the text\n",
        "      - Use additional strings as needed\n",
        "      - Use multiple print statements to format message on multiple lines (optional)"
      ]
    },
    {
      "cell_type": "code",
      "execution_count": 20,
      "metadata": {
        "trusted": true
      },
      "outputs": [
        {
          "name": "stdout",
          "output_type": "stream",
          "text": [
            "Reminder: Training will be 1 hour long for the John Brown group of 14 attendees.\n",
            "Please arrive 5 minutes early for training.\n"
          ]
        }
      ],
      "source": [
        "owner = \"John Brown\"\n",
        "min_early = \"5 minutes\"\n",
        "training_time = \"1 hour\"\n",
        "num_people = 14\n",
        "\n",
        "print(\"Reminder: \"\"Training will be\",training_time,\"long for the\",owner,\"group of\",num_people,\"attendees.\")\n",
        "print(\"Please arrive\",min_early,\"early for training.\")"
      ]
    },
    {
      "cell_type": "markdown",
      "metadata": {},
      "source": [
        "[Terms of use](http://go.microsoft.com/fwlink/?LinkID=206977) &nbsp; [Privacy & cookies](https://go.microsoft.com/fwlink/?LinkId=521839) &nbsp; © 2017 Microsoft"
      ]
    }
  ],
  "metadata": {
    "anaconda-cloud": {},
    "kernelspec": {
      "display_name": "Python 3",
      "language": "python",
      "name": "python3"
    },
    "language_info": {
      "codemirror_mode": {
        "name": "ipython",
        "version": 3
      },
      "file_extension": ".py",
      "mimetype": "text/x-python",
      "name": "python",
      "nbconvert_exporter": "python",
      "pygments_lexer": "ipython3",
      "version": "3.10.2"
    }
  },
  "nbformat": 4,
  "nbformat_minor": 1
}
