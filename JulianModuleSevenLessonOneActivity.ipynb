{
  "cells": [
    {
      "cell_type": "markdown",
      "metadata": {
        "id": "PVckqQSaUlkk"
      },
      "source": [
        "# Module Seven Lesson One Practice Activity\n",
        "# Julian Monsalve 3/29/2022\n",
        "# In this lesson I've learned how to import files using the curl command.\n",
        "# No difficulties.\n",
        "## Files Import, Open, and Read\n",
        "- File import in Jupyter Notebooks\n",
        "- File `open(`) and `.read()`\n",
        "\n",
        "----- \n",
        "\n",
        "### Student will be able to\n",
        "- Import files in Jupyter Notebooks using the curl command\n",
        "- `open()` and `.read()` local files in memory\n",
        "- `.read()` a specific number of characters"
      ]
    },
    {
      "cell_type": "markdown",
      "metadata": {
        "id": "COmhrdDYUlkm"
      },
      "source": [
        "## Concept: Import Files to Jupyter\n",
        "[View Import Files to Jupyter video](https://ncvps.yuja.com/V/Video?v=4515337&node=15056529&a=295209679&autoplay=1)\n",
        "### curl imports files to Jupyter session from a web address\n",
        "Below is code using curl to import poem1.txt, the code is in a command line interface syntax.\n",
        "\n",
        "&gt;#### `!curl https://raw.githubusercontent.com/MicrosoftLearning/intropython/master/poem1.txt -o poem1.txt`  \n",
        "\n",
        "The table explains each element of the  command above.  \n",
        "\n",
        "| code | meaning |\n",
        "|-----|---|\n",
        "| **`!`** | runs command interface supporting **curl** | \n",
        "| **`curl`** | enables **curl** that can download files |  \n",
        "| **`https://raw.githubusercontent.com/...`** | is the address for data file to import |  \n",
        "| **`-o`** | tells **`curl`** write data to a file |  \n",
        "| ** *`poem1.txt`* ** | name **`curl`** will give the file  |\n"
      ]
    },
    {
      "cell_type": "markdown",
      "metadata": {
        "id": "X2lQfSz-VSSQ"
      },
      "source": [
        "### IMPORTANT NOTE:\n",
        "The curl! command works perfectly well in Colab. \n",
        "It will not work in Datalore without some tweaks to your code that take a bit of time.  \n",
        "If you can not use Colab, it is suggested that you switch to Deepnote for this unit only. \n",
        "Follow the Deepnote instructions in the course(permantly in the How Do I folder) to see how to log in, upload, name and submit assignments in Deepnote. \n",
        "If you have some extra time and want to play around with adding code to Datalore – email your instructor for how to do that!"
      ]
    },
    {
      "cell_type": "markdown",
      "metadata": {
        "id": "WLzxHZuDUlko"
      },
      "source": [
        "### Examples"
      ]
    },
    {
      "cell_type": "code",
      "execution_count": 19,
      "metadata": {
        "id": "Vu2RmrS3Ulkp"
      },
      "outputs": [
        {
          "name": "stderr",
          "output_type": "stream",
          "text": [
            "  % Total    % Received % Xferd  Average Speed   Time    Time     Time  Current\n",
            "                                 Dload  Upload   Total   Spent    Left  Speed\n",
            "\n",
            "  0     0    0     0    0     0      0      0 --:--:-- --:--:-- --:--:--     0\n",
            "100    56  100    56    0     0    387      0 --:--:-- --:--:-- --:--:--   391\n"
          ]
        }
      ],
      "source": [
        "# [ ] review and run example\n",
        "!curl https://raw.githubusercontent.com/MicrosoftLearning/intropython/master/poem1.txt -o poem1.txt\n"
      ]
    },
    {
      "cell_type": "markdown",
      "metadata": {
        "id": "uTJfKsd-Ulkq"
      },
      "source": [
        "## Concept: Opening a local file in read mode\n",
        "&gt;```python\n",
        "poem_file = open('poem1.txt', 'r') \n",
        "```  \n",
        "[View Opening Files Read Mode video](https://ncvps.yuja.com/V/Video?v=4515341&node=15056537&a=1205714348&autoplay=1)\n",
        "### Read  mode   `'r'`\n",
        "| MODE    |  Description  |\n",
        "|:-------:|:--------------|\n",
        "| **'r'**  | **read only mode** |\n",
        "| 'w'  | write - overwrites file with same name |\n",
        "| 'r+' | read and write mode |\n",
        "| 'a'  | opens for appending to end of file |\n",
        "\n",
        "### `open()` creates an object that can be addressed in python code"
      ]
    },
    {
      "cell_type": "markdown",
      "metadata": {
        "id": "dEsLGQfOUlkr"
      },
      "source": [
        "### Examples"
      ]
    },
    {
      "cell_type": "code",
      "execution_count": 20,
      "metadata": {
        "id": "HHDofhFxUlkr"
      },
      "outputs": [],
      "source": [
        "# [ ]Run to open the file in memory as poem_file\n",
        "poem_file = open('poem1.txt', 'r')"
      ]
    },
    {
      "cell_type": "code",
      "execution_count": 21,
      "metadata": {
        "id": "XQPCM-1yUlks"
      },
      "outputs": [
        {
          "data": {
            "text/plain": [
              "<_io.TextIOWrapper name='poem1.txt' mode='r' encoding='cp1252'>"
            ]
          },
          "execution_count": 21,
          "metadata": {},
          "output_type": "execute_result"
        }
      ],
      "source": [
        "# [ ] run and review code to test if open worked \n",
        "# should display name='poem1.txt' and no errors\n",
        "poem_file"
      ]
    },
    {
      "cell_type": "markdown",
      "metadata": {
        "collapsed": true,
        "id": "xCkWbxkmUlkt"
      },
      "source": [
        "## Task 1: Import and open a local file in read mode\n",
        "1. **Import a list of cities using curl**  \n",
        "  a. Get the list from https://raw.githubusercontent.com/MicrosoftLearning/intropython/master/cities  \n",
        "  b. Name the list cities.txt  \n",
        "2. **Open cities.txt in read mode using a variable = cities_file**  \n",
        "3. **Test that cities_file opened cities.txt with a print statement**  "
      ]
    },
    {
      "cell_type": "code",
      "execution_count": 22,
      "metadata": {
        "id": "co1pJNPoUlku"
      },
      "outputs": [
        {
          "name": "stderr",
          "output_type": "stream",
          "text": [
            "  % Total    % Received % Xferd  Average Speed   Time    Time     Time  Current\n",
            "                                 Dload  Upload   Total   Spent    Left  Speed\n",
            "\n",
            "  0     0    0     0    0     0      0      0 --:--:-- --:--:-- --:--:--     0\n",
            "100    56  100    56    0     0    674      0 --:--:-- --:--:-- --:--:--   682\n"
          ]
        }
      ],
      "source": [
        "# [ ] import cities.txt\n",
        "\n",
        "!curl https://raw.githubusercontent.com/MicrosoftLearning/intropython/master/cities -o cities.txt"
      ]
    },
    {
      "cell_type": "code",
      "execution_count": 23,
      "metadata": {
        "id": "IeZCx_pHUlku"
      },
      "outputs": [
        {
          "data": {
            "text/plain": [
              "<_io.TextIOWrapper name='cities.txt' mode='r' encoding='cp1252'>"
            ]
          },
          "execution_count": 23,
          "metadata": {},
          "output_type": "execute_result"
        }
      ],
      "source": [
        "# [ ] open cities.txt as cities_file\n",
        "# [ ] test cities.txt was opened \n",
        "\n",
        "cities_file = open(\"cities.txt\", \"r\")\n",
        "cities_file"
      ]
    },
    {
      "cell_type": "markdown",
      "metadata": {
        "id": "qdrKMxvhUlkv"
      },
      "source": [
        "## Concept: Read a file using `.read()`\n",
        "[View Reading Files video](https://ncvps.yuja.com/V/Video?v=4515345&node=15056542&a=283470770&autoplay=1)\n",
        "### reading text\n",
        "```python\n",
        "poem_contents = poem_file.read()\n",
        "```\n",
        "### `.read()` loads the content of the file into memory as a string, including formatting such as new line (`\\n`)"
      ]
    },
    {
      "cell_type": "markdown",
      "metadata": {
        "id": "atY8_EV1Ulkv"
      },
      "source": [
        "### Examples\n",
        "Note: The examples expect that the cells that import and open poem1.txt have been run without a read().\n",
        "Run the cells that import and open poem1.txt."
      ]
    },
    {
      "cell_type": "code",
      "execution_count": 24,
      "metadata": {
        "id": "byOtslDlUlkv"
      },
      "outputs": [],
      "source": [
        "# [ ] review and run example\n",
        "poem_contents = poem_file.read()"
      ]
    },
    {
      "cell_type": "code",
      "execution_count": 25,
      "metadata": {
        "id": "l0Su84uDUlkw"
      },
      "outputs": [
        {
          "data": {
            "text/plain": [
              "'Loops I repeat\\nloops\\nloops\\nloops\\nI repeat\\nuntil I\\nbreak\\n'"
            ]
          },
          "execution_count": 25,
          "metadata": {},
          "output_type": "execute_result"
        }
      ],
      "source": [
        "# [ ] review and run example\n",
        "# shows the file as a string with formatting characters such as \"\\n\", output should be non-blank\n",
        "poem_contents"
      ]
    },
    {
      "cell_type": "code",
      "execution_count": 26,
      "metadata": {
        "id": "uAO48ViMUlkw"
      },
      "outputs": [
        {
          "name": "stdout",
          "output_type": "stream",
          "text": [
            "Loops I repeat\n",
            "loops\n",
            "loops\n",
            "loops\n",
            "I repeat\n",
            "until I\n",
            "break\n",
            "\n"
          ]
        }
      ],
      "source": [
        "# [ ] review and run example\n",
        "# since .read() loaded the file as a string it can be printed\n",
        "print(poem_contents)"
      ]
    },
    {
      "cell_type": "markdown",
      "metadata": {
        "collapsed": true,
        "id": "CyV4FavOUlkw"
      },
      "source": [
        "## Task 2: Read a file\n",
        "### Read the file cities.text that was imported in Task 1\n",
        "1. **Import and open cities.txt**  \n",
        "  a. Ensure the code was created and run in **Task 1** to import cities.txt  \n",
        "  b. Create and run code to re-open cities.txt as cities_file  \n",
        "2. **read() cities_file into a variable called cities**\n",
        "3. Test the read() by displaying the string contained in cities\n",
        "4. Test the read() by printing the cities string"
      ]
    },
    {
      "cell_type": "code",
      "execution_count": 27,
      "metadata": {
        "id": "lH2kN8NDUlkx"
      },
      "outputs": [
        {
          "data": {
            "text/plain": [
              "'Beijing\\nCairo\\nLondon\\nNairobi\\nNew York City\\nSydney\\nTokyo\\n'"
            ]
          },
          "execution_count": 27,
          "metadata": {},
          "output_type": "execute_result"
        }
      ],
      "source": [
        "# [ ] after import and open of cities.txt in task 1\n",
        "# [ ] read cities_file as cities\n",
        "# [ ] display the string: cities\n",
        "\n",
        "cities = cities_file.read()\n",
        "cities"
      ]
    },
    {
      "cell_type": "code",
      "execution_count": 28,
      "metadata": {
        "id": "OHpXL03nUlkx"
      },
      "outputs": [
        {
          "name": "stdout",
          "output_type": "stream",
          "text": [
            "Beijing\n",
            "Cairo\n",
            "London\n",
            "Nairobi\n",
            "New York City\n",
            "Sydney\n",
            "Tokyo\n",
            "\n"
          ]
        }
      ],
      "source": [
        "# [ ] print the string: cities\n",
        "\n",
        "print(cities)"
      ]
    },
    {
      "cell_type": "markdown",
      "metadata": {
        "collapsed": true,
        "id": "8YZ6NY06Ulkx"
      },
      "source": [
        "## Concept: Reading a file with `.read(n)` \n",
        "### Where n = number of characters to read\n",
        "[View Reading Number of Characters video](https://ncvps.yuja.com/V/Video?v=4515348&node=15056550&a=1920613668&autoplay=1)\n",
        "### Each time `poem_file.read(10)` runs, the next 10 characters are read.\n",
        "\n",
        "&gt; **Note:** if .read(10) result is = ''  (or empty string with no characters), it is likely that the end of the file has been reached. Perform a fresh **.open()** to reset read() to the beginning of the file."
      ]
    },
    {
      "cell_type": "markdown",
      "metadata": {
        "id": "4_IQej5SUlky"
      },
      "source": [
        "### Examples\n",
        "Note: The examples expect that the cells that import and open poem1.txt have been run without a read().\n",
        "Run the cell at the top of the notebook to ** import poem1.txt**.\n",
        "Each line is a different approach to reading and displaying 10 characters of the poem."
      ]
    },
    {
      "cell_type": "code",
      "execution_count": 29,
      "metadata": {
        "id": "Sov_ickHUlky"
      },
      "outputs": [
        {
          "name": "stdout",
          "output_type": "stream",
          "text": [
            "Loops I re\n"
          ]
        },
        {
          "data": {
            "text/plain": [
              "'Loops I re'"
            ]
          },
          "execution_count": 29,
          "metadata": {},
          "output_type": "execute_result"
        }
      ],
      "source": [
        "# [ ] review and run example to read poem1.txt 10 characters at a time\n",
        "poem_file = open('poem1.txt', 'r')\n",
        "poem_10char = poem_file.read(10)\n",
        "print(poem_10char)\n",
        "poem_10char"
      ]
    },
    {
      "cell_type": "code",
      "execution_count": 30,
      "metadata": {
        "id": "V_RYmohPUlky"
      },
      "outputs": [
        {
          "data": {
            "text/plain": [
              "'peat\\nloops'"
            ]
          },
          "execution_count": 30,
          "metadata": {},
          "output_type": "execute_result"
        }
      ],
      "source": [
        "# [ ] review and run example, + 10 more characters\n",
        "# reads and displays without storing in a variable\n",
        "poem_file.read(10)"
      ]
    },
    {
      "cell_type": "code",
      "execution_count": 31,
      "metadata": {
        "id": "9mAAhzDjUlky"
      },
      "outputs": [
        {
          "name": "stdout",
          "output_type": "stream",
          "text": [
            "\n",
            "loops\n",
            "loo\n"
          ]
        }
      ],
      "source": [
        "# [ ] review and run example, + 10 more characters\n",
        "# reads and stores in variable poem_parts\n",
        "poem_parts = poem_file.read(10)\n",
        "print(poem_parts)"
      ]
    },
    {
      "cell_type": "code",
      "execution_count": 32,
      "metadata": {
        "id": "f9RWgBebUlkz"
      },
      "outputs": [
        {
          "name": "stdout",
          "output_type": "stream",
          "text": [
            "\n",
            "loops\n",
            "loops\n",
            "I \n"
          ]
        }
      ],
      "source": [
        "# [ ] REPEATEDLY RUN this cell,  + 5 more characters each time run are appended using string addition\n",
        "# [ ]  consider why no additional text displays after multiple runs\n",
        "poem_parts += poem_file.read(5)\n",
        "print(poem_parts)\n"
      ]
    },
    {
      "cell_type": "markdown",
      "metadata": {
        "collapsed": true,
        "id": "Ehi0N1h4Ulkz"
      },
      "source": [
        "## Task 3: Digits of pi  \n",
        "### Read a set number of digits with .read(n)\n",
        "### Import, open, read, print\n",
        "1. Import digits_of_pi.txt located at https://raw.githubusercontent.com/MicrosoftLearning/intropython/master/digits_of_pi  \n",
        "2. Open as **digits_of_pi_text** \n",
        "3. Read()the first 4 characters of digits_of_pi_text into a variable called pi_digits  \n",
        "4. Print pi_digits  \n",
        "5. Add to pi_digits string with string addition  \n",
        "  a. Add next 4 characters from digits_of_pi obtained from read()  \n",
        "  b. Run the cell multiple times to get more digits of *pi*  "
      ]
    },
    {
      "cell_type": "code",
      "execution_count": 33,
      "metadata": {
        "id": "AD37KSV3Ulkz"
      },
      "outputs": [
        {
          "name": "stderr",
          "output_type": "stream",
          "text": [
            "  % Total    % Received % Xferd  Average Speed   Time    Time     Time  Current\n",
            "                                 Dload  Upload   Total   Spent    Left  Speed\n",
            "\n",
            "  0     0    0     0    0     0      0      0 --:--:-- --:--:-- --:--:--     0\n",
            "100   303  100   303    0     0   1716      0 --:--:-- --:--:-- --:--:--  1731\n"
          ]
        }
      ],
      "source": [
        "# [ ] digits of pi\n",
        "# 1. import digits_of_pi.txt\n",
        "\n",
        "!curl https://raw.githubusercontent.com/MicrosoftLearning/intropython/master/digits_of_pi -o digits_of_pi.txt"
      ]
    },
    {
      "cell_type": "code",
      "execution_count": 34,
      "metadata": {
        "id": "hzZQOJZ6Ulkz"
      },
      "outputs": [
        {
          "name": "stdout",
          "output_type": "stream",
          "text": [
            "3.14\n"
          ]
        }
      ],
      "source": [
        "# [ ] digits of pi\n",
        "# 2. open as digits_of_pi_text \n",
        "# 3. read() 4 char of digits_of_pi_text to pi_digits variable \n",
        "# 4. print pi_digits  \n",
        "\n",
        "digits_of_pi_text = open('digits_of_pi.txt','r')\n",
        "\n",
        "pi_digits = digits_of_pi_text.read(4)\n",
        "\n",
        "print(pi_digits)"
      ]
    },
    {
      "cell_type": "code",
      "execution_count": 35,
      "metadata": {
        "id": "qogBfjgWUlk0"
      },
      "outputs": [
        {
          "name": "stdout",
          "output_type": "stream",
          "text": [
            "3.141592\n"
          ]
        }
      ],
      "source": [
        "# [ ] digits of pi\n",
        "# 5. add to pi_digits string with string addition  \n",
        "#   a. add next 4 characters from digits_of_pi obtained from read()  \n",
        "#   b. run the cell multiple times to get more digits of *pi*\n",
        "\n",
        "pi_digits += digits_of_pi_text.read(4)\n",
        "print(pi_digits)"
      ]
    },
    {
      "cell_type": "markdown",
      "metadata": {
        "id": "RJ0hd-hAUlk0"
      },
      "source": [
        "## Concept: .read() returns a string \n",
        "### These strings can be manipulated just like any other string\n",
        "[View Read Returns a String video](https://ncvps.yuja.com/V/Video?v=4515370&node=15056576&a=1877539786&autoplay=1)\n",
        "### Boolean tests such as:\n",
        "- .upper()  \n",
        "- .title() \n",
        "- string slices, e.g.- `cities[3:9]`  \n",
        "- etc..  \n",
        "\n",
        "### And string methods can be performed such as:\n",
        "- .isdigit()  \n",
        "- .isalpha()  \n",
        "- etc..."
      ]
    },
    {
      "cell_type": "markdown",
      "metadata": {
        "id": "JbCRZMU6Ulk0"
      },
      "source": [
        "### Examples\n",
        "Note: The examples expect that the cells that import have has been run.\n",
        "It may be necessary to run the cell to **import poem1.txt** at the beginning of this notebook."
      ]
    },
    {
      "cell_type": "code",
      "execution_count": 36,
      "metadata": {
        "id": "Ed3ybcUZUlk0"
      },
      "outputs": [
        {
          "name": "stdout",
          "output_type": "stream",
          "text": [
            "LOOPS I REPEAT\n",
            "\n"
          ]
        }
      ],
      "source": [
        "# [ ] review and run example\n",
        "poem_file = open('poem1.txt', 'r')\n",
        "poem_part = poem_file.read(15).upper()\n",
        "print(poem_part)"
      ]
    },
    {
      "cell_type": "code",
      "execution_count": 37,
      "metadata": {
        "id": "ma29GPHyUlk0"
      },
      "outputs": [
        {
          "name": "stdout",
          "output_type": "stream",
          "text": [
            "Loops\n",
            "\n"
          ]
        }
      ],
      "source": [
        "# [ ] review and run example\n",
        "poem_part = poem_file.read(6).title()\n",
        "print(poem_part)"
      ]
    },
    {
      "cell_type": "code",
      "execution_count": 38,
      "metadata": {
        "id": "6d9qlcC4Ulk0"
      },
      "outputs": [
        {
          "name": "stdout",
          "output_type": "stream",
          "text": [
            "loops\n",
            "\n",
            "False isalpha() because of `\\n`\n"
          ]
        },
        {
          "data": {
            "text/plain": [
              "'loops\\n'"
            ]
          },
          "execution_count": 38,
          "metadata": {},
          "output_type": "execute_result"
        }
      ],
      "source": [
        "# [ ] review and run example\n",
        "poem_part = poem_file.read(6)\n",
        "print(poem_part)\n",
        "print(poem_part.isalpha(), \"isalpha() because of `\\\\n`\")\n",
        "poem_part"
      ]
    },
    {
      "cell_type": "code",
      "execution_count": 39,
      "metadata": {
        "id": "GDqIRpLrUlk1"
      },
      "outputs": [
        {
          "name": "stdout",
          "output_type": "stream",
          "text": [
            "repeat\n",
            "loops\n",
            "loops\n"
          ]
        }
      ],
      "source": [
        "# [ ] review and run example\n",
        "poem_file = open('poem1.txt', 'r')\n",
        "poem_text = poem_file.read()\n",
        "print(poem_text[8:26])"
      ]
    },
    {
      "cell_type": "markdown",
      "metadata": {
        "id": "cpfn8tFfUlk1"
      },
      "source": [
        "## Task 4: City Initials\n",
        "### Read the file cities.text that was imported in Task 1\n",
        "1. Ensure the code was created and run in **Task 1** to import cities.txt  \n",
        "2. Create and run code to re-open cities.txt as cities_file  \n",
        "3. **`read()`** cities_file into a variable called cities  \n",
        "4. Iterate through the characters in cities \n",
        "  a. Test if .isupper(), if True append the character to a string variable: initials\n",
        "  c. Else if (elif) character is \"\\n\", if True append the \"\\n\" to initials  \n",
        "5. Print initials"
      ]
    },
    {
      "cell_type": "code",
      "execution_count": 40,
      "metadata": {
        "id": "E8QFVw8sUlk1"
      },
      "outputs": [
        {
          "name": "stdout",
          "output_type": "stream",
          "text": [
            "Beijing\n",
            "Cairo\n",
            "London\n",
            "Nairobi\n",
            "New York City\n",
            "Sydney\n",
            "Tokyo\n",
            "\n",
            "B\n",
            "C\n",
            "L\n",
            "N\n",
            "NYC\n",
            "S\n",
            "T\n",
            "\n"
          ]
        }
      ],
      "source": [
        "# [ ] complete the task\n",
        "\n",
        "cities_file = open('cities.txt', 'r')\n",
        "cities = cities_file.read()\n",
        "initials=\"\"\n",
        "print(cities)\n",
        "\n",
        "for city in cities:\n",
        "    if city.isupper() == True:\n",
        "        initials += city\n",
        "    elif city == \"\\n\":\n",
        "        initials += city\n",
        "    else: \n",
        "        pass\n",
        "\n",
        "print(initials)"
      ]
    },
    {
      "cell_type": "markdown",
      "metadata": {
        "collapsed": true,
        "id": "SotWOXM3Ulk1"
      },
      "source": [
        "[Terms of use](http://go.microsoft.com/fwlink/?LinkID=206977)   [Privacy &amp; cookies](https://go.microsoft.com/fwlink/?LinkId=521839)   © 2017 Microsoft"
      ]
    }
  ],
  "metadata": {
    "anaconda-cloud": {},
    "colab": {
      "name": "ModuleSevenLessonOneActivity.ipynb",
      "provenance": []
    },
    "kernelspec": {
      "display_name": "Python 3",
      "language": "python",
      "name": "python3"
    },
    "language_info": {
      "codemirror_mode": {
        "name": "ipython",
        "version": 3
      },
      "file_extension": ".py",
      "mimetype": "text/x-python",
      "name": "python",
      "nbconvert_exporter": "python",
      "pygments_lexer": "ipython3",
      "version": "3.10.4"
    }
  },
  "nbformat": 4,
  "nbformat_minor": 0
}
