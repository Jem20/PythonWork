{
  "cells": [
    {
      "cell_type": "markdown",
      "metadata": {},
      "source": [
        "# Module Four Lesson Four Practice Activity\n",
        "# Julian Monsalve 2/17/2022\n",
        "# In this lesson I've learned how to gather numeric input using type casting.\n",
        "# No difficulties.\n",
        "\n",
        "## Conditionals, elif, and Casting  \n",
        "- **Conditionals: `elif`**\n",
        "- **Casting**  \n",
        "- Basic math operators  \n",
        "\n",
        "-----\n",
        "\n",
        "### Student will be able to\n",
        "- **Code more than two choices using `elif`** \n",
        "- **Gather numeric input using type casting**  \n",
        "- Perform subtraction, multiplication and division operations in code \n",
        "\n",
        "#### Before submission: Remember you need to add descriptive comments in each cell (examples AND tasks) that explains what your code is doing.  \n"
      ]
    },
    {
      "cell_type": "markdown",
      "metadata": {},
      "source": [
        "## Concept: Conditional `elif`\n",
        "\n",
        "[![view video](https://iajupyterprodblobs.blob.core.windows.net/imagecontainer/common/play_video.png)]( http://edxinteractivepage.blob.core.windows.net/edxpages/f7cff1a7-5601-48a1-95a6-fd1fdfabd20e.html?details=[{\"src\":\"http://jupyternootbookwams.streaming.mediaservices.windows.net/a2ac5f4b-0400-4a60-91d5-d350c3cc0515/Unit1_Section5.1-elif.ism/manifest\",\"type\":\"application/vnd.ms-sstr+xml\"}],[{\"src\":\"http://jupyternootbookwams.streaming.mediaservices.windows.net/a2ac5f4b-0400-4a60-91d5-d350c3cc0515/Unit1_Section5.1-elif.vtt\",\"srclang\":\"en\",\"kind\":\"subtitles\",\"label\":\"english\"}])\n",
        "### A little review  \n",
        "- **`if`** means \"**if** a condition exists then do some task.\" **`if`** is usually followed by **`else`**.  \n",
        "- **`else`** means \"**or else** after we have tested **if**, then do an alternative task\".  \n",
        "\n",
        "When there  is a need to test for multiple conditions there is  **`elif`**.\n",
        "- **`elif`**  statement follows  **`if`**, and means **\"else, if \"** another condition exists do something else\n",
        "- **`elif`**  can be used many times\n",
        "- **`else`**  is used after the last test condition (**`if`** or **`elif`**)\n",
        "\n",
        "#### In pseudo code  \n",
        "**If** it is raining bring an umbrella  \n",
        "or **Else If**  (`elif`) it is snowing bring a warm coat  \n",
        "or **Else** go as usual  \n",
        "\n",
        "Like **`else`**, the **`elif`** only executes when the previous conditional is False."
      ]
    },
    {
      "cell_type": "markdown",
      "metadata": {
        "collapsed": true
      },
      "source": [
        "### Examples"
      ]
    },
    {
      "cell_type": "code",
      "execution_count": 1,
      "metadata": {
        "trusted": false
      },
      "outputs": [
        {
          "name": "stdout",
          "output_type": "stream",
          "text": [
            "Wear a warm coat and hat\n"
          ]
        }
      ],
      "source": [
        "# [ ] review the code then run testing different inputs\n",
        "# WHAT TO WEAR\n",
        "weather = input(\"Enter weather (sunny, rainy, snowy): \") \n",
        "\n",
        "if weather.lower() == \"sunny\":\n",
        "    print(\"Wear a t-shirt\")\n",
        "elif weather.lower() == \"rainy\":\n",
        "    print(\"Bring an umbrella and boots\")\n",
        "elif weather.lower() == \"snowy\":\n",
        "    print(\"Wear a warm coat and hat\")\n",
        "else:\n",
        "    print(\"Sorry, not sure what to suggest for\", weather)"
      ]
    },
    {
      "cell_type": "code",
      "execution_count": 2,
      "metadata": {
        "trusted": false
      },
      "outputs": [
        {
          "name": "stdout",
          "output_type": "stream",
          "text": [
            "Guess is right\n"
          ]
        }
      ],
      "source": [
        "# [ ] review the code then run testing different inputs\n",
        "# SECRET NUMBER GUESS\n",
        "secret_num = \"2\"\n",
        "\n",
        "guess = input(\"Enter a guess for the secret number (1-3): \")\n",
        "\n",
        "if guess.isdigit() == False:\n",
        "    print(\"Invalid: guess should only use digits\")\n",
        "elif guess == \"1\":\n",
        "    print(\"Guess is too low\")\n",
        "elif guess == secret_num:\n",
        "    print(\"Guess is right\")\n",
        "elif guess == \"3\":\n",
        "    print(\"Guess is too high\")\n",
        "else:\n",
        "    print(guess, \"is not a valid guess (1-3)\")"
      ]
    },
    {
      "cell_type": "markdown",
      "metadata": {},
      "source": [
        "## Task 1 (program): Shirt Sale\n",
        "### Complete the program using `if, elif, else`\n",
        "- Get user input for variable size (S, M, L)\n",
        "- Reply with each shirt size and price (Small = \\$ 6, Medium = \\$ 7, Large = \\$ 8)\n",
        "- If the reply is other than S, M, L, give a message for not available\n",
        "- *Optional*: Add additional sizes\n",
        "\n",
        "\n",
        "- _[ ] code and test SHIRT SALE_"
      ]
    },
    {
      "cell_type": "code",
      "execution_count": 11,
      "metadata": {
        "trusted": false
      },
      "outputs": [
        {
          "name": "stdout",
          "output_type": "stream",
          "text": [
            "Small = $6\n"
          ]
        }
      ],
      "source": [
        "size = input(\"Enter size (S, M, L): \").capitalize()\n",
        "\n",
        "if size == \"S\":\n",
        "    print(\"Small = $6\")\n",
        "elif size == \"M\":\n",
        "    print(\"Medium = $7\")\n",
        "elif size == \"L\":\n",
        "    print(\"Large = $8\")\n",
        "else:\n",
        "    print(\"Sorry, we do not have that type of size.\")"
      ]
    },
    {
      "cell_type": "markdown",
      "metadata": {},
      "source": [
        "## Concept: Casting\n",
        "Casting is the conversion from one data type to another, such as converting from **`str`** to **`int`**.\n",
        "[![view video](https://iajupyterprodblobs.blob.core.windows.net/imagecontainer/common/play_video.png)]( http://edxinteractivepage.blob.core.windows.net/edxpages/f7cff1a7-5601-48a1-95a6-fd1fdfabd20e.html?details=[{\"src\":\"http://jupyternootbookwams.streaming.mediaservices.windows.net/4cbf7f96-9ddd-4962-88a8-71081d7d5ef6/Unit1_Section5.1-casting-input.ism/manifest\",\"type\":\"application/vnd.ms-sstr+xml\"}],[{\"src\":\"http://jupyternootbookwams.streaming.mediaservices.windows.net/4cbf7f96-9ddd-4962-88a8-71081d7d5ef6/Unit1_Section5.1-casting-input.vtt\",\"srclang\":\"en\",\"kind\":\"subtitles\",\"label\":\"english\"}])\n",
        "### `int()`\n",
        "The **`int()`** function can convert strings that represent whole counting numbers into integers and strip decimals to convert float numbers to integers.\n",
        "- `int(\"1\") = 1`   the string representing the integer character `\"1\"`, cast to a number \n",
        "- `int(5.1) = 5`   the decimal (float), `5.1`, truncated into a non-decimal (integer)  \n",
        "- `int(\"5.1\") = ValueError`   `\"5.1\"` isn't a string representation of integer, `int()` can cast only strings representing integer values   \n"
      ]
    },
    {
      "cell_type": "markdown",
      "metadata": {},
      "source": [
        "### Example"
      ]
    },
    {
      "cell_type": "code",
      "execution_count": 12,
      "metadata": {
        "trusted": false
      },
      "outputs": [
        {
          "name": "stdout",
          "output_type": "stream",
          "text": [
            "230\n"
          ]
        }
      ],
      "source": [
        "weight1 = '60' # a string\n",
        "weight2 = 170 # an integer\n",
        "# add 2 integers\n",
        "total_weight = int(weight1) + weight2\n",
        "print(total_weight)"
      ]
    },
    {
      "cell_type": "markdown",
      "metadata": {},
      "source": [
        "## Task 2: Casting with `int()` &amp; `str()`\n",
        "\n",
        "- _[ ] Add the 3 numbers as integers and print the result_"
      ]
    },
    {
      "cell_type": "code",
      "execution_count": 21,
      "metadata": {
        "trusted": false
      },
      "outputs": [
        {
          "name": "stdout",
          "output_type": "stream",
          "text": [
            "36\n"
          ]
        }
      ],
      "source": [
        "str_num_1 = \"11\"\n",
        "str_num_2 = \"15\"\n",
        "int_num_3 = 10\n",
        "\n",
        "total = int(str_num_1) + int(str_num_2) + int_num_3\n",
        "print(total)"
      ]
    },
    {
      "cell_type": "markdown",
      "metadata": {},
      "source": [
        "- _[ ] Add the 3 numbers as test strings and print the result_"
      ]
    },
    {
      "cell_type": "code",
      "execution_count": 22,
      "metadata": {
        "trusted": false
      },
      "outputs": [
        {
          "name": "stdout",
          "output_type": "stream",
          "text": [
            "('11', '15', '10')\n"
          ]
        }
      ],
      "source": [
        "str_num_1 = \"11\"\n",
        "str_num_2 = \"15\"\n",
        "int_num_3 = 10\n",
        "\n",
        "total = str_num_1, str_num_2, str(int_num_3)\n",
        "print(total)"
      ]
    },
    {
      "cell_type": "markdown",
      "metadata": {},
      "source": [
        "### Task 2 continued...\n",
        "## Program: Adding using `int` casting\n",
        "- **[ ]** initialize **`str_integer`** variable to a **string containing characters of an integer** (quotes)   \n",
        "- **[ ]** initialize **`int_number`** variable with an **integer value** (no quotes)\n",
        "- **[ ]** initialize **`number_total`** variable and **add int_number + str_integer** using **`int`** casting\n",
        "- **[ ]** print the sum (**`number_total`**)\n",
        "\n",
        "\n",
        "- _[ ] code and test: adding using int casting_"
      ]
    },
    {
      "cell_type": "code",
      "execution_count": 25,
      "metadata": {
        "trusted": false
      },
      "outputs": [
        {
          "name": "stdout",
          "output_type": "stream",
          "text": [
            "17\n"
          ]
        }
      ],
      "source": [
        "str_integer = \"5\"\n",
        "int_number = 12\n",
        "number_total = int(str_integer) + int_number\n",
        "print(number_total)"
      ]
    },
    {
      "cell_type": "markdown",
      "metadata": {},
      "source": [
        "## Concept: Casting Numeric Input"
      ]
    },
    {
      "cell_type": "markdown",
      "metadata": {},
      "source": [
        "### Example"
      ]
    },
    {
      "cell_type": "code",
      "execution_count": 23,
      "metadata": {
        "trusted": false
      },
      "outputs": [
        {
          "name": "stdout",
          "output_type": "stream",
          "text": [
            "Next year student will be 19\n"
          ]
        }
      ],
      "source": [
        "# [ ] review and run code\n",
        "student_age = input('enter student age (integer): ')\n",
        "age_next_year = int(student_age) + 1\n",
        "print('Next year student will be',age_next_year)"
      ]
    },
    {
      "cell_type": "code",
      "execution_count": 24,
      "metadata": {
        "trusted": false
      },
      "outputs": [
        {
          "name": "stdout",
          "output_type": "stream",
          "text": [
            "In a decade the student will be 24\n"
          ]
        }
      ],
      "source": [
        "# [ ] review and run code\n",
        "# cast to int at input\n",
        "student_age = int(input('enter student age (integer): '))\n",
        "\n",
        "age_in_decade = student_age + 10\n",
        "\n",
        "print('In a decade the student will be', age_in_decade)"
      ]
    },
    {
      "cell_type": "markdown",
      "metadata": {
        "collapsed": true
      },
      "source": [
        "## Task 3 (program): Adding calculator\n",
        "- Get input of 2 **integer** numbers \n",
        "- Cast the input and print the input followed by the result\n",
        "  - Output Example: **`9 + 13 = 22`**  \n",
        "- Check if input .isdigit() before trying integer addition to avoid errors in casting invalid inputs.\n",
        "\n",
        "\n",
        "- _[ ] code and test the adding calculator_"
      ]
    },
    {
      "cell_type": "code",
      "execution_count": 33,
      "metadata": {
        "trusted": false
      },
      "outputs": [
        {
          "name": "stdout",
          "output_type": "stream",
          "text": [
            "22 + 4 = 26\n"
          ]
        }
      ],
      "source": [
        "first = input('Enter first integer number: ')\n",
        "second = input('Enter second integer number: ')\n",
        "\n",
        "adding = int(first) + int(second)\n",
        "print(first,\"+\",second,\"=\",adding)"
      ]
    },
    {
      "cell_type": "markdown",
      "metadata": {},
      "source": [
        "[Terms of use](http://go.microsoft.com/fwlink/?LinkID=206977)   [Privacy &amp; cookies](https://go.microsoft.com/fwlink/?LinkId=521839)   © 2017 Microsoft"
      ]
    }
  ],
  "metadata": {
    "anaconda-cloud": {},
    "kernelspec": {
      "display_name": "Python 3",
      "language": "python",
      "name": "python3"
    },
    "language_info": {
      "codemirror_mode": {
        "name": "ipython",
        "version": 3
      },
      "file_extension": ".py",
      "mimetype": "text/x-python",
      "name": "python",
      "nbconvert_exporter": "python",
      "pygments_lexer": "ipython3",
      "version": "3.10.2"
    }
  },
  "nbformat": 4,
  "nbformat_minor": 1
}
