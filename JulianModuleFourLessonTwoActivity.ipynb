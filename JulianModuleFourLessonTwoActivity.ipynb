{
  "cells": [
    {
      "cell_type": "markdown",
      "metadata": {},
      "source": [
        "# Module Four Lesson Two Practice Activity\n",
        "# Julian Monsalve 2/15/2022\n",
        "# In this lesson I've learned how to use boolean string methods.\n",
        "# No difficulties.\n",
        "## Conditionals: Boolean Strings\n",
        "- **`if`, `else`, `pass`**\n",
        "  - **Conditionals using Boolean string methods**\n",
        "  - Comparison operators\n",
        "  - String comparisons\n",
        "\n",
        "----- \n",
        "\n",
        "### Student will be able to\n",
        "- **Control code flow with `if`... `else` conditional logic**  \n",
        "  - **Using Boolean string methods (`.isupper(), .isalpha(), startswith()...`)**  \n",
        "  - Using comparison (`&gt;, &lt;, &gt;=, &lt;=, ==, !=`)  \n",
        "  - Using Strings in comparisons  \n",
        "\n",
        "#### Before submission: Remember you need to add descriptive comments in each cell (examples AND tasks) that explains what your code is doing.  "
      ]
    },
    {
      "cell_type": "markdown",
      "metadata": {},
      "source": [
        "## Concept: Boolean Conditional\n",
        "### Conditionals use `True` or `False`\n",
        " - **`if`**\n",
        " - **`else`**\n",
        "   - **`pass`**  \n",
        "   \n",
        "[![view video](https://iajupyterprodblobs.blob.core.windows.net/imagecontainer/common/play_video.png)]( http://edxinteractivepage.blob.core.windows.net/edxpages/f7cff1a7-5601-48a1-95a6-fd1fdfabd20e.html?details=[{\"src\":\"http://jupyternootbookwams.streaming.mediaservices.windows.net/c53fdb30-b2b0-4183-9686-64b0e5b46dd2/Unit1_Section4.1-Conditionals.ism/manifest\",\"type\":\"application/vnd.ms-sstr+xml\"}],[{\"src\":\"http://jupyternootbookwams.streaming.mediaservices.windows.net/c53fdb30-b2b0-4183-9686-64b0e5b46dd2/Unit1_Section4.1-Conditonals.vtt\",\"srclang\":\"en\",\"kind\":\"subtitles\",\"label\":\"english\"}])"
      ]
    },
    {
      "cell_type": "markdown",
      "metadata": {},
      "source": [
        "### Examples "
      ]
    },
    {
      "cell_type": "code",
      "execution_count": 1,
      "metadata": {
        "trusted": false
      },
      "outputs": [
        {
          "name": "stdout",
          "output_type": "stream",
          "text": [
            "True means do something\n"
          ]
        }
      ],
      "source": [
        "if True:\n",
        "    print(\"True means do something\")\n",
        "else:\n",
        "    print(\"Not True means do something else\")"
      ]
    },
    {
      "cell_type": "code",
      "execution_count": 4,
      "metadata": {
        "trusted": false
      },
      "outputs": [
        {
          "name": "stdout",
          "output_type": "stream",
          "text": [
            "enjoy some hot tea!\n"
          ]
        }
      ],
      "source": [
        "hot_tea = True\n",
        "\n",
        "if hot_tea:\n",
        "    print(\"enjoy some hot tea!\")\n",
        "else:\n",
        "    print(\"enjoy some tea, and perhaps try hot tea next time.\")"
      ]
    },
    {
      "cell_type": "code",
      "execution_count": 5,
      "metadata": {
        "trusted": false
      },
      "outputs": [],
      "source": [
        "someone_i_know = False\n",
        "if someone_i_know:\n",
        "    print(\"how have you been?\")\n",
        "else:\n",
        "    # use pass if there is no need to execute code \n",
        "    pass"
      ]
    },
    {
      "cell_type": "code",
      "execution_count": 6,
      "metadata": {
        "trusted": false
      },
      "outputs": [
        {
          "name": "stdout",
          "output_type": "stream",
          "text": [
            "how have you been?\n"
          ]
        }
      ],
      "source": [
        "# changed the value of someone_i_know\n",
        "someone_i_know = True\n",
        "if someone_i_know:\n",
        "    print(\"how have you been?\")\n",
        "else:\n",
        "    pass"
      ]
    },
    {
      "cell_type": "markdown",
      "metadata": {
        "collapsed": true
      },
      "source": [
        "## Task 1: Conditionals\n",
        "### Using Boolean with `if, else`\n",
        "\n",
        "- **Give a weather report using `if, else`**\n",
        "\n",
        "_[ ]  In the next cell, test if it is sunny_today and give proper responses using if and else_\n"
      ]
    },
    {
      "cell_type": "code",
      "execution_count": 8,
      "metadata": {
        "trusted": false
      },
      "outputs": [
        {
          "name": "stdout",
          "output_type": "stream",
          "text": [
            "The weather is sunny!\n"
          ]
        }
      ],
      "source": [
        "sunny_today = True\n",
        "\n",
        "if sunny_today:\n",
        "    print(\"The weather is sunny!\")\n",
        "else:\n",
        "    print(\"It's not sunny!\")"
      ]
    },
    {
      "cell_type": "markdown",
      "metadata": {},
      "source": [
        "_use code you created above and test sunny_today = False_"
      ]
    },
    {
      "cell_type": "code",
      "execution_count": 9,
      "metadata": {
        "trusted": false
      },
      "outputs": [
        {
          "name": "stdout",
          "output_type": "stream",
          "text": [
            "It's not sunny!\n"
          ]
        }
      ],
      "source": [
        "sunny_today = False\n",
        "\n",
        "if sunny_today:\n",
        "    print(\"The weather is sunny!\")\n",
        "else:\n",
        "    print(\"It's not sunny!\")"
      ]
    },
    {
      "cell_type": "markdown",
      "metadata": {},
      "source": [
        "## Concept: Conditional with Boolean String Methods\n",
        "### Boolean string test methods with `if`\n",
        "[![view video](https://iajupyterprodblobs.blob.core.windows.net/imagecontainer/common/play_video.png)]( http://edxinteractivepage.blob.core.windows.net/edxpages/f7cff1a7-5601-48a1-95a6-fd1fdfabd20e.html?details=[{\"src\":\"http://jupyternootbookwams.streaming.mediaservices.windows.net/caa56256-733a-4172-96f7-9ecfc12d49d0/Unit1_Section4.1-conditionals-bool.ism/manifest\",\"type\":\"application/vnd.ms-sstr+xml\"}],[{\"src\":\"http://jupyternootbookwams.streaming.mediaservices.windows.net/caa56256-733a-4172-96f7-9ecfc12d49d0/Unit1_Section4.1-conditonals-bool.vtt\",\"srclang\":\"en\",\"kind\":\"subtitles\",\"label\":\"english\"}])\n",
        "```python\n",
        "if student_name.isalpha():\n",
        "```  \n",
        "- **`.isalnum()`**\n",
        "- **`.istitle()`**\n",
        "- **`.isdigit()`**\n",
        "- **`.islower()`**\n",
        "- **`.startswith()`**\n"
      ]
    },
    {
      "cell_type": "markdown",
      "metadata": {},
      "source": [
        "### Examples"
      ]
    },
    {
      "cell_type": "code",
      "execution_count": 14,
      "metadata": {
        "trusted": false
      },
      "outputs": [
        {
          "name": "stdout",
          "output_type": "stream",
          "text": [
            "If You Give a Mouse a Cookie - consider capitalization throughout for book titles.\n"
          ]
        }
      ],
      "source": [
        "# review code and run cell\n",
        "favorite_book = input(\"Enter the title of a favorite book: \")\n",
        "\n",
        "if favorite_book.istitle():\n",
        "    print(favorite_book, \"- nice capitalization in that title!\")\n",
        "else:\n",
        "    print(favorite_book, \"- consider capitalization throughout for book titles.\")"
      ]
    },
    {
      "cell_type": "code",
      "execution_count": 15,
      "metadata": {
        "trusted": false
      },
      "outputs": [
        {
          "name": "stdout",
          "output_type": "stream",
          "text": [
            "18 is a positive integer\n"
          ]
        }
      ],
      "source": [
        "# review code and run cell\n",
        "a_number = input(\"enter a positive integer number: \")\n",
        "\n",
        "if a_number.isdigit():\n",
        "    print(a_number, \"is a positive integer\")\n",
        "else:\n",
        "    print(a_number, \"is not a positive integer\")\n",
        "    \n",
        "# another if\n",
        "if a_number.isalpha():\n",
        "    print(a_number, \"is more like a word\")\n",
        "else:\n",
        "    pass"
      ]
    },
    {
      "cell_type": "code",
      "execution_count": 16,
      "metadata": {
        "trusted": false
      },
      "outputs": [
        {
          "name": "stdout",
          "output_type": "stream",
          "text": [
            "Porsche starts with \"P\"\n"
          ]
        }
      ],
      "source": [
        "# review code and run cell\n",
        "vehicle_type = input('\"enter a type of vehicle that starts with \"P\": ')\n",
        "\n",
        "if vehicle_type.upper().startswith(\"P\"):\n",
        "    print(vehicle_type, 'starts with \"P\"')\n",
        "else:\n",
        "    print(vehicle_type, 'does not start with \"P\"')"
      ]
    },
    {
      "cell_type": "markdown",
      "metadata": {
        "collapsed": true
      },
      "source": [
        "## Task 2 (multi-part): Evaluating Boolean conditionals \n",
        "### Create evaluations for `.islower()`\n",
        "- [ ] Print output describing **if** each of the 2 strings is all lowercase or not\n"
      ]
    },
    {
      "cell_type": "code",
      "execution_count": 17,
      "metadata": {
        "trusted": false
      },
      "outputs": [
        {
          "name": "stdout",
          "output_type": "stream",
          "text": [
            "String 1 is in lower case.\n",
            "String 2 is not in lower case.\n"
          ]
        }
      ],
      "source": [
        "test_string_1 = \"welcome\"\n",
        "test_string_2 = \"I have $3\"\n",
        "\n",
        "if test_string_1.islower():\n",
        "    print(\"String 1 is in lower case.\")\n",
        "else:\n",
        "    print(\"String 1 is not in lower case.\")\n",
        "\n",
        "if test_string_2.islower():\n",
        "     print(\"String 2 is in lower case.\")\n",
        "else:\n",
        "    print(\"String 2 is not in lower case.\")"
      ]
    },
    {
      "cell_type": "markdown",
      "metadata": {},
      "source": [
        "#### Task 2 continued...\n",
        "### Create a function using `startswith('w')`\n",
        "- [ ] create a function w_start_test() use if &amp; else to test with startswith('w')\n",
        "\n",
        "**Function should have a parameter for `test_string` and print the test result**\n",
        "\n",
        " - [ ] Test the 3 string variables provided by calling w_start_test()"
      ]
    },
    {
      "cell_type": "code",
      "execution_count": 18,
      "metadata": {
        "trusted": false
      },
      "outputs": [
        {
          "name": "stdout",
          "output_type": "stream",
          "text": [
            "\"welcome\" Does start with a lowercase w.\n",
            "\"I have $3\" Does not start with a lowercase w.\n",
            "\"With a function it's efficient to repeat code\" Does not start with a lowercase w.\n"
          ]
        }
      ],
      "source": [
        "def w_start_test(test):\n",
        "    if test.startswith('w'):\n",
        "        print('\"' + test + '\"' + \" Does start with a lowercase w.\")\n",
        "    else:\n",
        "        print('\"' + test + '\"' + \" Does not start with a lowercase w.\")\n",
        "\n",
        "test_string_1 = \"welcome\"\n",
        "test_string_2 = \"I have $3\"\n",
        "test_string_3 = \"With a function it's efficient to repeat code\"\n",
        "\n",
        "w_start_test(test_string_1)\n",
        "w_start_test(test_string_2)\n",
        "w_start_test(test_string_3)"
      ]
    },
    {
      "cell_type": "markdown",
      "metadata": {},
      "source": [
        "[Terms of use](http://go.microsoft.com/fwlink/?LinkID=206977)   [Privacy &amp; cookies](https://go.microsoft.com/fwlink/?LinkId=521839)   © 2017 Microsoft"
      ]
    }
  ],
  "metadata": {
    "anaconda-cloud": {},
    "kernelspec": {
      "display_name": "Python 3",
      "language": "python",
      "name": "python3"
    },
    "language_info": {
      "codemirror_mode": {
        "name": "ipython",
        "version": 3
      },
      "file_extension": ".py",
      "mimetype": "text/x-python",
      "name": "python",
      "nbconvert_exporter": "python",
      "pygments_lexer": "ipython3",
      "version": "3.10.2"
    }
  },
  "nbformat": 4,
  "nbformat_minor": 1
}
