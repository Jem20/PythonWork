{
  "cells": [
    {
      "cell_type": "markdown",
      "metadata": {},
      "source": [
        "# Module Four Lesson Three Practice Activity One\n",
        "# Julian Monsalve 2/16/2022\n",
        "# In this lesson I've learned how to use string comparisons.\n",
        "# No difficulties.\n",
        "## Conditionals: Comparison Operators\n",
        "- **`if`, `else`, `pass`**  \n",
        "  - Conditionals using Boolean string methods\n",
        "  - **Comparison operators**\n",
        "  - String comparisons\n",
        "\n",
        "----- \n",
        "\n",
        "### Student will be able to\n",
        "- **Control code flow with `if`... `else` conditional logic**  \n",
        "  - Using Boolean string methods (`.isupper(), .isalpha(), startswith()...`)  \n",
        "  - **Using comparison (`&gt;, &lt;, &gt;=, &lt;=, ==, !=`)**  \n",
        "  - Using strings in comparisons  \n",
        "  \n",
        "#### Before submission: Remember you need to add descriptive comments in each cell (examples AND tasks) that explains what your code is doing.  "
      ]
    },
    {
      "cell_type": "markdown",
      "metadata": {},
      "source": [
        "## Concept: Comparison Operators \n",
        " - **`&gt;`**\n",
        " - **`&lt;`**\n",
        " - **`&gt;=`**, **`&lt;=`**\n",
        " - **`==`**\n",
        " - Assign **`=`** vs compare **`==`**\n",
        " - **`!=`** \n",
        " \n",
        "[![view video](https://iajupyterprodblobs.blob.core.windows.net/imagecontainer/common/play_video.png)]( http://edxinteractivepage.blob.core.windows.net/edxpages/f7cff1a7-5601-48a1-95a6-fd1fdfabd20e.html?details=[{\"src\":\"http://jupyternootbookwams.streaming.mediaservices.windows.net/cf192500-3879-4228-bd50-70dd3f38d831/Unit1_Section4.2-comparison-operators.ism/manifest\",\"type\":\"application/vnd.ms-sstr+xml\"}],[{\"src\":\"http://jupyternootbookwams.streaming.mediaservices.windows.net/cf192500-3879-4228-bd50-70dd3f38d831/Unit1_Section4.2-comparison-operators.vtt\",\"srclang\":\"en\",\"kind\":\"subtitles\",\"label\":\"english\"}])"
      ]
    },
    {
      "cell_type": "markdown",
      "metadata": {},
      "source": [
        "### Examples"
      ]
    },
    {
      "cell_type": "code",
      "execution_count": 1,
      "metadata": {
        "trusted": false
      },
      "outputs": [
        {
          "data": {
            "text/plain": [
              "False"
            ]
          },
          "execution_count": 1,
          "metadata": {},
          "output_type": "execute_result"
        }
      ],
      "source": [
        "# [ ] review and run code \n",
        "3 > 5"
      ]
    },
    {
      "cell_type": "code",
      "execution_count": 2,
      "metadata": {
        "trusted": false
      },
      "outputs": [
        {
          "data": {
            "text/plain": [
              "True"
            ]
          },
          "execution_count": 2,
          "metadata": {},
          "output_type": "execute_result"
        }
      ],
      "source": [
        "# [ ] review and run code \n",
        "3 <= 5"
      ]
    },
    {
      "cell_type": "code",
      "execution_count": 3,
      "metadata": {
        "trusted": false
      },
      "outputs": [
        {
          "data": {
            "text/plain": [
              "False"
            ]
          },
          "execution_count": 3,
          "metadata": {},
          "output_type": "execute_result"
        }
      ],
      "source": [
        "# [ ] review and run code \n",
        "\n",
        "x = 3\n",
        "\n",
        "x == 9"
      ]
    },
    {
      "cell_type": "code",
      "execution_count": 4,
      "metadata": {
        "trusted": false
      },
      "outputs": [
        {
          "name": "stdout",
          "output_type": "stream",
          "text": [
            "x not equal 9 is True\n",
            "x equal 3 is True\n"
          ]
        }
      ],
      "source": [
        "# [ ] review and run code \n",
        "x = 3\n",
        "print(\"x not equal 9 is\", x != 9)\n",
        "print(\"x equal 3 is\", x == 3)"
      ]
    },
    {
      "cell_type": "markdown",
      "metadata": {
        "collapsed": true
      },
      "source": [
        "## Task 1: Comparison operators\n",
        "\n",
        "_[ ] Create a test that will print True or False for x is equal to 13_"
      ]
    },
    {
      "cell_type": "code",
      "execution_count": 13,
      "metadata": {
        "trusted": false
      },
      "outputs": [
        {
          "name": "stdout",
          "output_type": "stream",
          "text": [
            "True\n"
          ]
        }
      ],
      "source": [
        "x = 13\n",
        "print(14 > x)"
      ]
    },
    {
      "cell_type": "markdown",
      "metadata": {},
      "source": [
        "_[ ] Insert a new cell and create a test to print True or False for 3 + 3 is greater than 2 + 4_"
      ]
    },
    {
      "cell_type": "code",
      "execution_count": 1,
      "metadata": {},
      "outputs": [
        {
          "name": "stdout",
          "output_type": "stream",
          "text": [
            "False\n"
          ]
        }
      ],
      "source": [
        "print(3 + 3 > 2 + 4)"
      ]
    },
    {
      "cell_type": "markdown",
      "metadata": {
        "collapsed": true
      },
      "source": [
        "## Concept:  Comparison Operators in Conditionals\n",
        "### Conditionals: Comparison operators with `if`\n",
        "[![view video](https://iajupyterprodblobs.blob.core.windows.net/imagecontainer/common/play_video.png)]( http://edxinteractivepage.blob.core.windows.net/edxpages/f7cff1a7-5601-48a1-95a6-fd1fdfabd20e.html?details=[{\"src\":\"http://jupyternootbookwams.streaming.mediaservices.windows.net/15e3b015-e83b-4ab8-8375-b11e52a348ea/Unit1_Section4.2-conditional-if.ism/manifest\",\"type\":\"application/vnd.ms-sstr+xml\"}],[{\"src\":\"http://jupyternootbookwams.streaming.mediaservices.windows.net/15e3b015-e83b-4ab8-8375-b11e52a348ea/Unit1_Section4.2-conditional-if.vtt\",\"srclang\":\"en\",\"kind\":\"subtitles\",\"label\":\"english\"}])\n",
        "Comparison operators evaluate to Boolean **`True`** and **`False`** to direct the flow of **`if`** conditionals."
      ]
    },
    {
      "cell_type": "markdown",
      "metadata": {},
      "source": [
        "### Examples"
      ]
    },
    {
      "cell_type": "code",
      "execution_count": 10,
      "metadata": {
        "trusted": false
      },
      "outputs": [
        {
          "name": "stdout",
          "output_type": "stream",
          "text": [
            "x was 21\n",
            "now x is 25\n"
          ]
        }
      ],
      "source": [
        "# review code and run cell\n",
        "x = 21\n",
        "if x > 25:\n",
        "    print(\"x is already bigger than 25\")\n",
        "else:\n",
        "    print(\"x was\", x)\n",
        "    x = 25\n",
        "    print(\"now x is\", x)"
      ]
    },
    {
      "cell_type": "code",
      "execution_count": 9,
      "metadata": {
        "trusted": false
      },
      "outputs": [
        {
          "name": "stdout",
          "output_type": "stream",
          "text": [
            "Pass: x + 18 is equal to 36\n"
          ]
        }
      ],
      "source": [
        "# review code and run cell\n",
        "x = 18\n",
        "if x + 18 == x + x:\n",
        "    print(\"Pass: x + 18 is equal to\", x + x)\n",
        "else:\n",
        "    print(\"Fail: x + 18 is not equal to\", x + x)"
      ]
    },
    {
      "cell_type": "code",
      "execution_count": 8,
      "metadata": {
        "trusted": false
      },
      "outputs": [
        {
          "name": "stdout",
          "output_type": "stream",
          "text": [
            "x is 18\n"
          ]
        }
      ],
      "source": [
        "# review code and run cell. \"!\" means \"not\"\n",
        "x = 18\n",
        "test_value = 18\n",
        "if x != test_value:\n",
        "    print('x is not', test_value)\n",
        "else:\n",
        "    print('x is', test_value)\n"
      ]
    },
    {
      "cell_type": "code",
      "execution_count": 7,
      "metadata": {
        "trusted": false
      },
      "outputs": [
        {
          "name": "stdout",
          "output_type": "stream",
          "text": [
            "\"==\" tests for, is equal to\n"
          ]
        }
      ],
      "source": [
        "# review code and run cell\n",
        "# DON'T ASSIGN (x = 2) when you mean to COMPARE (x == 2)\n",
        "x = 2\n",
        "\n",
        "if x == 2:\n",
        "    print('\"==\" tests for, is equal to')\n",
        "else:\n",
        "    pass"
      ]
    },
    {
      "cell_type": "markdown",
      "metadata": {
        "collapsed": true
      },
      "source": [
        "## Task 2: Evaluating a comparison operator in `if`\n",
        "\n",
        "-_[ ] create an if/else statement that tests if y is greater than or equal x + x_\n",
        "\n",
        "-_[ ] print output: \"y greater than or equal x + x is\" True/False ...or a similar output_"
      ]
    },
    {
      "cell_type": "code",
      "execution_count": 14,
      "metadata": {
        "trusted": false
      },
      "outputs": [
        {
          "name": "stdout",
          "output_type": "stream",
          "text": [
            "y lower than or equal x + x is True\n"
          ]
        }
      ],
      "source": [
        "x = 3\n",
        "y = x + 1\n",
        "if y >= x +x:\n",
        "      print (\"y greater than or equal x + x is\" , y >=  x +x )\n",
        "else:\n",
        "      print(\"y lower than or equal x + x is\",  y <= x +x )"
      ]
    },
    {
      "cell_type": "markdown",
      "metadata": {},
      "source": [
        "[Terms of use](http://go.microsoft.com/fwlink/?LinkID=206977)   [Privacy &amp; cookies](https://go.microsoft.com/fwlink/?LinkId=521839)   © 2017 Microsoft"
      ]
    }
  ],
  "metadata": {
    "anaconda-cloud": {},
    "celltoolbar": "Raw Cell Format",
    "kernelspec": {
      "display_name": "Python 3",
      "language": "python",
      "name": "python3"
    },
    "language_info": {
      "codemirror_mode": {
        "name": "ipython",
        "version": 3
      },
      "file_extension": ".py",
      "mimetype": "text/x-python",
      "name": "python",
      "nbconvert_exporter": "python",
      "pygments_lexer": "ipython3",
      "version": "3.10.2"
    }
  },
  "nbformat": 4,
  "nbformat_minor": 1
}
