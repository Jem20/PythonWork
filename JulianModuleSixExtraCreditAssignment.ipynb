{
  "cells": [
    {
      "cell_type": "markdown",
      "metadata": {
        "id": "h-7_i5FeA6o_"
      },
      "source": [
        "\n",
        "#  Module Six Extra Credit Project\n",
        "\n",
        "Course 40461: Introduction to Python, Unit 2 - Canvas Module 6\n",
        "\n",
        "\n",
        "|  Assignment Requirements |  \n",
        "|:-------------------------------|  \n",
        "| **NOTE:** This program requires **`print`** output and using code syntax used in Module 3: **`if`**, **`input`**, **`def`**, **`return`**, **`for`**/**`in`** keywords, **`.lower()`** and **`.upper()`** method, **`.append`**, **`.pop`**, **`.split`** methods, **`range`** and **`len`** functions  |  \n",
        "\n",
        "## Program: Poem mixer  \n",
        "This program takes string input and then prints out a mixed order version of the string.    \n",
        "\n",
        "\n",
        "**Program Parts**  \n",
        "- **program flow** gathers the word list, modifies the case and order, and prints.      \n",
        "  - Get string input, input like a poem, verse or saying \n",
        "  - Split the string into a list of individual words  \n",
        "  - Determine the length of the list\n",
        "  - Loop the length of the list by index number and for each list index:  \n",
        "    - If a word is short (3 letters or less) make the word in the list lowercase \n",
        "    - If a word is long (7 letters or more) make the word in the list uppercase   \n",
        "  - **Call the word_mixer** function with the modified list  \n",
        "  - Print the return value from the word_mixer function  \n",
        "\n",
        "- **word_mixer** Function has one argument: an original list of string words, containing greater than five words, and the function returns a new list.\n",
        "  - Sort the original list  \n",
        "  - Create a new list  \n",
        "  - Loop while the list is longer than 5 words:  \n",
        "    - *In each loop pop a word from the sorted original list and append to the new list*  \n",
        "    - Pop the word 5th from the end of the list and append to the new list  \n",
        "    - Pop the first word in the list and append to the new list  \n",
        "    - Pop the last word in the list and append to the new list  \n",
        "  - **Return** the new list on exiting the loop\n",
        "\n",
        "\n",
        "\n",
        "![TODO: upload image to blob](https://qitcyg-ch3302.files.1drv.com/y4mtK8FJlu7bvNCw_NFrJNnMEX05-bGQKZ-ljIB7ofo8jg14zZKLdYrjXQfPcL1PnNKqaBc_v85pd-47J8BBRN3Eg5LXSmxbhZG99zHmQwVTSQBd6n3S1IXgcG0lqjA8PGW1NVMQyPtX-_m_sGry5j1iCJzjiZmUrFmGckPrEYxvjPIHHelgxQ4oVYG32S32otj0cdV8f9aDv3cnvb9AvDKqg?width=727&amp;height=586&amp;cropmode=none)\n",
        "\n",
        "\n",
        " **input example**  *(beginning of William Blake poem, \"The Fly\")*\n",
        "\n",
        " &gt;enter a saying or poem: `Little fly, Thy summer’s play My thoughtless hand Has brushed away. Am not I A fly like thee? Or art not thou A man like me?`  \n",
        "\n",
        "\n",
        "**output example**   \n",
        "&gt;`or BRUSHED thy not Little thou me? SUMMER’S thee? like THOUGHTLESS play i a not hand a my fly am man`\n",
        "\n",
        "\n",
        "**alternative output** in each loop in the function that creates the new list add a \"\\\\n\" to the list   \n",
        "```\n",
        " or BRUSHED thy \n",
        " not Little thou \n",
        " me? SUMMER’S thee? \n",
        " like THOUGHTLESS play \n",
        " i a not \n",
        " hand a my \n",
        " fly am man\n",
        "```\n",
        "\n"
      ]
    },
    {
      "cell_type": "code",
      "execution_count": 19,
      "metadata": {
        "collapsed": true,
        "id": "FueExzx2A6pB"
      },
      "outputs": [
        {
          "name": "stdout",
          "output_type": "stream",
          "text": [
            "or BRUSHED thy not Little thou me? SUMMER’S thee? like THOUGHTLESS play i a not hand a my fly am man\n"
          ]
        }
      ],
      "source": [
        "# [] create poem mixer\n",
        "\n",
        "def word_mixer(word_list):\n",
        "    word_list.sort()\n",
        "    new_words = []\n",
        "    while len(word_list)>5:\n",
        "        new_words.append(word_list.pop(-5))\n",
        "        new_words.append(word_list.pop(0))\n",
        "        new_words.append(word_list.pop())\n",
        "    else:\n",
        "        return new_words\n",
        "\n",
        "str_value = input(\"enter a sentence: \")\n",
        "words_list = str_value.split()\n",
        "length = len(words_list)\n",
        "for index in range(0, length):\n",
        "    if len(words_list[index])<=3:\n",
        "        words_list[index] = words_list[index].lower()\n",
        "    elif len(words_list[index])>=7:\n",
        "        words_list[index] = words_list[index].upper()\n",
        "print(\" \".join(word_mixer(words_list)))"
      ]
    },
    {
      "cell_type": "markdown",
      "metadata": {
        "id": "Uj0b_3xnA6pC"
      },
      "source": [
        "[Terms of use](http://go.microsoft.com/fwlink/?LinkID=206977)   [Privacy &amp; cookies](https://go.microsoft.com/fwlink/?LinkId=521839)   © 2017 Microsoft"
      ]
    }
  ],
  "metadata": {
    "anaconda-cloud": {},
    "colab": {
      "collapsed_sections": [],
      "name": "ModuleSixExtraCreditAssignment.ipynb",
      "provenance": []
    },
    "kernelspec": {
      "display_name": "Python 3",
      "language": "python",
      "name": "python3"
    },
    "language_info": {
      "codemirror_mode": {
        "name": "ipython",
        "version": 3
      },
      "file_extension": ".py",
      "mimetype": "text/x-python",
      "name": "python",
      "nbconvert_exporter": "python",
      "pygments_lexer": "ipython3",
      "version": "3.10.4"
    }
  },
  "nbformat": 4,
  "nbformat_minor": 0
}
