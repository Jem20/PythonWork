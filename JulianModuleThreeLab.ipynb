{
  "cells": [
    {
      "cell_type": "markdown",
      "metadata": {},
      "source": [
        "# Module Three Lab\n",
        "# Julian Monsalve 2/11/2022\n",
        "# In this lesson I've learned how to use advanced coding.\n",
        "# Had difficulties with programming bookstore.\n",
        "## Functions, Arguments, and Parameters Practice\n",
        "\n",
        "-----\n",
        "\n",
        "### Student will be able to\n",
        "- **Create functions with a parameter**  \n",
        "- **Create functions with a `return` value** \n",
        "- **Create functions with multiple parameters**\n",
        "- **Use knowledge of sequence in coding tasks**  \n",
        "- **Use coding best practices** \n",
        "\n",
        "#### Before submission: Remember you need to add descriptive comments in each cell (examples AND tasks) that explains what your code is doing.  "
      ]
    },
    {
      "cell_type": "markdown",
      "metadata": {},
      "source": [
        "## Tasks"
      ]
    },
    {
      "cell_type": "code",
      "execution_count": 1,
      "metadata": {
        "trusted": false
      },
      "outputs": [
        {
          "name": "stdout",
          "output_type": "stream",
          "text": [
            "I go in my room, and the car goes vroom.\n"
          ]
        }
      ],
      "source": [
        "# [ ] define and call a function short_rhyme() that prints a 2 line rhyme\n",
        "\n",
        "def short_rhyme():\n",
        "    print(\"I go in my room, and the car goes vroom.\")\n",
        "    \n",
        "short_rhyme()"
      ]
    },
    {
      "cell_type": "code",
      "execution_count": 2,
      "metadata": {
        "trusted": false
      },
      "outputs": [
        {
          "name": "stdout",
          "output_type": "stream",
          "text": [
            "Winnie The Pooh\n"
          ]
        }
      ],
      "source": [
        "# [ ] define (def) a simple function: title_it() and call the function\n",
        "# - has a string parameter: msg\n",
        "# - prints msg in Title Case\n",
        "\n",
        "def title_it(msg):\n",
        "\n",
        "  print (msg.title()) \n",
        "\n",
        "title_it(\"Winnie The Pooh\")"
      ]
    },
    {
      "cell_type": "code",
      "execution_count": 5,
      "metadata": {
        "trusted": false
      },
      "outputs": [
        {
          "name": "stdout",
          "output_type": "stream",
          "text": [
            "Diary of a Wimpy Kid\n"
          ]
        }
      ],
      "source": [
        "# [ ] get user input with prompt \"what is the title?\" \n",
        "# [ ] call title_it() using input for the string argument\n",
        "\n",
        "title_it = input (\"What is the title?\")\n",
        "\n",
        "print (title_it)"
      ]
    },
    {
      "cell_type": "code",
      "execution_count": 6,
      "metadata": {
        "trusted": false
      },
      "outputs": [
        {
          "data": {
            "text/plain": [
              "'Harry Potter'"
            ]
          },
          "execution_count": 6,
          "metadata": {},
          "output_type": "execute_result"
        }
      ],
      "source": [
        "# [ ] define title_it_rtn() which returns a titled string instead of printing\n",
        "# [ ] call title_it_rtn() using input for the string argument and print the result\n",
        "\n",
        "def title_it_rtn(msg):\n",
        "    return msg\n",
        "\n",
        "title_it_rtn(input(\"What is the Title?\"))"
      ]
    },
    {
      "cell_type": "markdown",
      "metadata": {},
      "source": [
        "## Program: bookstore()\n",
        "Create and test bookstore().\n",
        "- **bookstore() takes 2 string arguments: book &amp; price**\n",
        "- **bookstore returns a string in sentence form** \n",
        "- **bookstore() should call title_it_rtn()** with book parameter  \n",
        "- **Gather input for book_entry and price_entry to use in calling bookstore()**\n",
        "- **Print the return value of bookstore()**\n",
        "&gt;Example of output: **`Title: The Adventures Of Sherlock Holmes, costs $12.99`**"
      ]
    },
    {
      "cell_type": "code",
      "execution_count": 8,
      "metadata": {
        "trusted": false
      },
      "outputs": [
        {
          "name": "stdout",
          "output_type": "stream",
          "text": [
            "Title: Winnie The Pooh, costs $14.99\n"
          ]
        }
      ],
      "source": [
        "# [ ] create, call and test bookstore() function\n",
        "\n",
        "def bookstore(book, price):\n",
        "  book_title = title_it_rtn(book)\n",
        "  return book_title +  \", costs \" +  price\n",
        "\n",
        "def title_it_rtn(book):\n",
        "  return \"Title: \" +  book.title()\n",
        "\n",
        "book_entry = input(\"What is the title of the book? \")\n",
        "price_entry = input(\"How much is the price of the book? \")\n",
        "\n",
        "book_info = bookstore(book_entry, price_entry)\n",
        "print(book_info)\n"
      ]
    },
    {
      "cell_type": "markdown",
      "metadata": {},
      "source": [
        "## Fix the error"
      ]
    },
    {
      "cell_type": "code",
      "execution_count": 9,
      "metadata": {
        "trusted": false
      },
      "outputs": [
        {
          "name": "stdout",
          "output_type": "stream",
          "text": [
            "Whats up Julian!\n"
          ]
        }
      ],
      "source": [
        "def make_greeting(name, greeting = \"Hello\"):\n",
        "    return (greeting + \" \" + name + \"!\")\n",
        "\n",
        "def get_name():\n",
        "    name_entry = input(\"enter a name: \")\n",
        "    return name_entry\n",
        "\n",
        "def get_greeting():\n",
        "    greeting_entry = input(\"enter a greeting: \")\n",
        "    return greeting_entry\n",
        "\n",
        "\n",
        "# get name and greeting, send to make_greeting \n",
        "print(make_greeting(get_name(), get_greeting()))"
      ]
    },
    {
      "cell_type": "markdown",
      "metadata": {},
      "source": [
        "\n",
        "[Terms of use](http://go.microsoft.com/fwlink/?LinkID=206977)   [Privacy &amp; cookies](https://go.microsoft.com/fwlink/?LinkId=521839)   © 2017 Microsoft"
      ]
    }
  ],
  "metadata": {
    "anaconda-cloud": {},
    "kernelspec": {
      "display_name": "Python 3",
      "language": "python",
      "name": "python3"
    },
    "language_info": {
      "codemirror_mode": {
        "name": "ipython",
        "version": 3
      },
      "file_extension": ".py",
      "mimetype": "text/x-python",
      "name": "python",
      "nbconvert_exporter": "python",
      "pygments_lexer": "ipython3",
      "version": "3.10.2"
    }
  },
  "nbformat": 4,
  "nbformat_minor": 1
}
