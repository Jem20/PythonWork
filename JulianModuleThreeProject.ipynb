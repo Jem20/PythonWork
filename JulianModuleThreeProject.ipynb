{
  "cells": [
    {
      "cell_type": "markdown",
      "metadata": {
        "collapsed": true
      },
      "source": [
        "#  Module 3 Project  \n",
        "Course 40460: Introduction to Python, Unit 1  \n",
        "\n",
        "The activity is based on Modules 1 - 3 and is similar to the Jupyter Notebook for Module 3 practice, which you may have completed.\n",
        "\n",
        "| Some Assignment Requirements |  \n",
        "|:-------------------------------|  \n",
        "| **NOTE:** This program requires that a **function** be defined, created and called. The call will send values based on user input.  The function call must capture a `return` value that is used in print output.  The function will have parameters and `return` a string and should otherwise use code syntax covered in Module 2.  |  \n",
        " \n",
        "## Program: fishstore()\n",
        "Create and test fishstore().\n",
        "- **fishstore() takes 2 string arguments: fish &amp; price**\n",
        "- **fishstore returns a string in sentence form**  \n",
        "- **Gather input for fish_entry and price_entry to use in calling fishstore()**\n",
        "- **Print the return value of fishstore()**\n",
        "&gt;Example of output: **`Fish Type: Guppy costs $1`**\n",
        "\n",
        "#### Before submission: Remember you need to add descriptive comments in each cell (examples AND tasks) that explains what your code is doing.  "
      ]
    },
    {
      "cell_type": "code",
      "execution_count": 3,
      "metadata": {
        "trusted": false
      },
      "outputs": [
        {
          "name": "stdout",
          "output_type": "stream",
          "text": [
            "Fish Type: Goldfish costs $7\n"
          ]
        }
      ],
      "source": [
        "# [] Prints fish type and how much it costs.\n",
        "def fishstore(fish, price):\n",
        "  return('Fish Type: ' + fish + ' costs $' + price)\n",
        " \n",
        "# [] Returns what fish you would like.\n",
        "def fish_entry():\n",
        "  fish = input('Enter fish type:')\n",
        "  return fish\n",
        "\n",
        "# [] Returns the price of the fish.\n",
        "def price_entry():\n",
        "  price = input('Enter price:')\n",
        "  return price\n",
        "\n",
        "# [] Prints all of the values.\n",
        "print(fishstore( fish_entry(), price_entry()))"
      ]
    },
    {
      "cell_type": "markdown",
      "metadata": {},
      "source": [
        "[Terms of use](http://go.microsoft.com/fwlink/?LinkID=206977)   [Privacy &amp; cookies](https://go.microsoft.com/fwlink/?LinkId=521839)   © 2017 Microsoft"
      ]
    }
  ],
  "metadata": {
    "anaconda-cloud": {},
    "kernelspec": {
      "display_name": "Python 3",
      "language": "python",
      "name": "python3"
    },
    "language_info": {
      "codemirror_mode": {
        "name": "ipython",
        "version": 3
      },
      "file_extension": ".py",
      "mimetype": "text/x-python",
      "name": "python",
      "nbconvert_exporter": "python",
      "pygments_lexer": "ipython3",
      "version": "3.10.2"
    }
  },
  "nbformat": 4,
  "nbformat_minor": 1
}
