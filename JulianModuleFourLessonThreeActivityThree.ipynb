{
  "cells": [
    {
      "cell_type": "markdown",
      "metadata": {},
      "source": [
        "# Module Four Lesson Three Practice Activity Three\n",
        "# Julian Monsalve 2/17/2022\n",
        "# In this lesson I've learned how to code more than two choices using `elif`\n",
        "# No difficulties.\n",
        "## Conditionals, Type, and Mathematics Extended\n",
        "- Conditionals: `elif`  \n",
        "- Casting   \n",
        "- **Basic math operators**  \n",
        "\n",
        "-----\n",
        "\n",
        "### Student will be able to\n",
        "- Code more than two choices using `elif`  \n",
        "- Gather numeric input using type casting   \n",
        "- **Perform subtraction, multiplication and division operations in code** \n",
        "\n",
        "#### Before submission: Remember you need to add descriptive comments in each cell (examples AND tasks) that explains what your code is doing.  \n"
      ]
    },
    {
      "cell_type": "markdown",
      "metadata": {
        "collapsed": true
      },
      "source": [
        "## Concept: Basic Math Operators\n",
        "### `+` addition\n",
        "### `-` subtraction\n",
        "### `*` multiplication\n",
        "### `/` division  \n",
        "[![view video](https://iajupyterprodblobs.blob.core.windows.net/imagecontainer/common/play_video.png)]( http://edxinteractivepage.blob.core.windows.net/edxpages/f7cff1a7-5601-48a1-95a6-fd1fdfabd20e.html?details=[{\"src\":\"http://jupyternootbookwams.streaming.mediaservices.windows.net/5bc97f7e-3015-4178-ac20-371a5302def1/Unit1_Section5.2-Math-operators.ism/manifest\",\"type\":\"application/vnd.ms-sstr+xml\"}],[{\"src\":\"http://jupyternootbookwams.streaming.mediaservices.windows.net/5bc97f7e-3015-4178-ac20-371a5302def1/Unit1_Section5.2-Math-operators.vtt\",\"srclang\":\"en\",\"kind\":\"subtitles\",\"label\":\"english\"}])"
      ]
    },
    {
      "cell_type": "markdown",
      "metadata": {
        "collapsed": true
      },
      "source": [
        "### Examples"
      ]
    },
    {
      "cell_type": "code",
      "execution_count": 1,
      "metadata": {
        "trusted": false
      },
      "outputs": [
        {
          "name": "stdout",
          "output_type": "stream",
          "text": [
            "3 + 5 = 8\n",
            "3 + 5 - 9 = -1\n",
            "48/9 = 5.333333333333333\n",
            "5*5 = 25\n",
            "(14 - 8)*(19/4) = 28.5\n"
          ]
        }
      ],
      "source": [
        "# [ ] review and run example\n",
        "print(\"3 + 5 =\",3 + 5)\n",
        "print(\"3 + 5 - 9 =\", 3 + 5 - 9)\n",
        "print(\"48/9 =\", 48/9)\n",
        "print(\"5*5 =\", 5*5)\n",
        "print(\"(14 - 8)*(19/4) =\", (14 - 8)*(19/4))"
      ]
    },
    {
      "cell_type": "code",
      "execution_count": 2,
      "metadata": {
        "trusted": false
      },
      "outputs": [
        {
          "name": "stdout",
          "output_type": "stream",
          "text": [
            "Now you have 7000000\n"
          ]
        }
      ],
      "source": [
        "# [ ] review and run example - 'million_maker'\n",
        "def million_maker():\n",
        "    make_big = input(\"enter a non-decimal number you wish were bigger: \")\n",
        "    return int(make_big)*1000000\n",
        "\n",
        "print(\"Now you have\", million_maker())\n"
      ]
    },
    {
      "cell_type": "markdown",
      "metadata": {},
      "source": [
        "## Task 1: Use math operators to solve the set of tasks below\n",
        "\n",
        "Insert a new code cell for each of the following tasks:\n",
        "\n",
        "- _[ ] print the result of subtracting 15 from 43_\n",
        "- _[ ] print the result of multiplying 15 and 43_\n",
        "- _[ ] print the result of dividing 156 by 12_\n",
        "- _[ ] print the result of dividing 21 by 0.5_\n",
        "- _[ ] print the result of adding 111 plus 84 and then subtracting 45_\n",
        "- _[ ] print the result of adding 21 and 4 and then multiplying that sum by 4_"
      ]
    },
    {
      "cell_type": "code",
      "execution_count": 3,
      "metadata": {},
      "outputs": [
        {
          "name": "stdout",
          "output_type": "stream",
          "text": [
            "15 - 43 = -28\n",
            "15 * 43 = 645\n",
            "156 / 12 = 13.0\n",
            "21 / 0.5 = 42.0\n",
            "111 + 84 - 45 = 150\n",
            "(21 + 4)*4 = 100\n"
          ]
        }
      ],
      "source": [
        "# [ ] review and run example\n",
        "print(\"15 - 43 =\",15 - 43)\n",
        "print(\"15 * 43 =\",15 * 43)\n",
        "print(\"156 / 12 =\",156 / 12)\n",
        "print(\"21 / 0.5 =\",21 / 0.5)\n",
        "print(\"111 + 84 - 45 =\",111 + 84 - 45)\n",
        "print(\"(21 + 4)*4 =\",(21 + 4)*4)"
      ]
    },
    {
      "cell_type": "markdown",
      "metadata": {
        "collapsed": true
      },
      "source": [
        "## Task 2: Multiplying calculator function\n",
        "- Define function **`multiply()`**, and within the function:\n",
        "  - Get user input() of two *strings* made of whole numbers\n",
        "  - Cast the input to **`int()`**\n",
        "  - Multiply the integers and **return** the equation with result as a **`str()`**\n",
        "    - **return** example \n",
        "     ```python\n",
        "     9 * 13 = 117\n",
        "     ```\n",
        "     \n",
        "- _[ ] create and test multiply() function_"
      ]
    },
    {
      "cell_type": "code",
      "execution_count": 4,
      "metadata": {
        "trusted": false
      },
      "outputs": [
        {
          "name": "stdout",
          "output_type": "stream",
          "text": [
            "4 * 7 = 28\n"
          ]
        }
      ],
      "source": [
        "def multiply():\n",
        "    one_num = int(input(\"enter 1 whole number: \"))\n",
        "    two_num = int(input(\"enter another whole number you want to multiply by the previous one: \"))\n",
        "    calc = one_num * two_num\n",
        "    display = print(one_num,\"*\",two_num,\"=\",str(calc))\n",
        "    return display\n",
        "\n",
        "multiply()"
      ]
    },
    {
      "cell_type": "markdown",
      "metadata": {
        "collapsed": true
      },
      "source": [
        "## Task 3: Improved multiplying calculator function\n",
        "### Putting together conditionals, input casting and math\n",
        "- #### Update the multiply() function to multiply or divide \n",
        "  - Single parameter is **`operator`** with arguments of **`*`** or **`/`** operator\n",
        "  - Default operator is \"*\" (multiply)\n",
        "  - **Return** the result of multiplication or division\n",
        "  - If operator other than **`\"*\"`** or **`\"/\"`**  then **` return \"Invalid Operator\"`**\n",
        "  \n",
        "  \n",
        "- _[ ] create improved multiply() function and test with /, no argument, and an invalid operator ($)_"
      ]
    },
    {
      "cell_type": "code",
      "execution_count": 9,
      "metadata": {
        "trusted": false
      },
      "outputs": [
        {
          "name": "stdout",
          "output_type": "stream",
          "text": [
            "This a calculator for multiplication and division\n"
          ]
        },
        {
          "data": {
            "text/plain": [
              "5.0"
            ]
          },
          "execution_count": 9,
          "metadata": {},
          "output_type": "execute_result"
        }
      ],
      "source": [
        "def multiply(operator= \"*\"):\n",
        "    print(\"This a calculator for multiplication and division\")\n",
        "    one_num = int(input(\"enter first whole number: \"))\n",
        "    two_num = int(input(\"enter second whole number: \"))\n",
        "    \n",
        "    if operator == \"/\":\n",
        "       return one_num / two_num\n",
        "    elif operator == \"*\":\n",
        "       return one_num * two_num\n",
        "    else:\n",
        "       return \"Invalid Operator\"\n",
        "\n",
        "multiply(\"/\")"
      ]
    },
    {
      "cell_type": "markdown",
      "metadata": {},
      "source": [
        "## Task 4: Fix the errors"
      ]
    },
    {
      "cell_type": "code",
      "execution_count": 11,
      "metadata": {
        "trusted": false
      },
      "outputs": [
        {
          "name": "stdout",
          "output_type": "stream",
          "text": [
            "Juan please wait for students with names staring with 'F' and 'G' to go first today.\n"
          ]
        }
      ],
      "source": [
        "# Review, run, fix \n",
        "student_name = input(\"enter name: \").capitalize()\n",
        "if student_name.startswith(\"F\"):\n",
        "    print(student_name,\"Congratulations, names starting with 'F' get to go first today!\")\n",
        "elif student_name.startswith(\"G\"):\n",
        "    print(student_name,\"Congratulations, names starting with 'G' get to go second today!\")\n",
        "else:\n",
        "    print(student_name, \"please wait for students with names staring with 'F' and 'G' to go first today.\")"
      ]
    },
    {
      "cell_type": "markdown",
      "metadata": {
        "collapsed": true
      },
      "source": [
        "[Terms of use](http://go.microsoft.com/fwlink/?LinkID=206977)   [Privacy &amp; cookies](https://go.microsoft.com/fwlink/?LinkId=521839)   © 2017 Microsoft"
      ]
    }
  ],
  "metadata": {
    "anaconda-cloud": {},
    "kernelspec": {
      "display_name": "Python 3",
      "language": "python",
      "name": "python3"
    },
    "language_info": {
      "codemirror_mode": {
        "name": "ipython",
        "version": 3
      },
      "file_extension": ".py",
      "mimetype": "text/x-python",
      "name": "python",
      "nbconvert_exporter": "python",
      "pygments_lexer": "ipython3",
      "version": "3.10.2"
    }
  },
  "nbformat": 4,
  "nbformat_minor": 1
}
