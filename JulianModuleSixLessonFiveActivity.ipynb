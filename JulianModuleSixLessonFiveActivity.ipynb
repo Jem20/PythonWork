{
 "cells": [
  {
   "cell_type": "markdown",
   "metadata": {},
   "source": [
    "# Module Six Lesson Five Practice Activity\n",
    "# Julian Monsalve 3/21/2022\n",
    "# In this lesson I've learned how to deleted items from a list.\n",
    "# No difficulties.\n",
    "## List Delete\n",
    "- List Creation\n",
    "- List Access\n",
    "- List Append\n",
    "- List Insert\n",
    "- **List Delete (`del`, `.pop()` and `.remove()`)**\n",
    "\n",
    "----- \n",
    "\n",
    "### Student will be able to\n",
    "\n",
    "- Create lists\n",
    "- Access items in a list\n",
    "- Add items to the end of a list\n",
    "- Modify and insert items into a list\n",
    "- **Delete items from a list with `del`, `.pop()` &amp; `.remove()`**"
   ]
  },
  {
   "cell_type": "markdown",
   "metadata": {},
   "source": [
    "## Concept: Delete a specific list index\n",
    "[View Deleting Specific Index video](https://ncvps.yuja.com/V/Video?v=4514568&node=15054708&a=1145831690&autoplay=1)\n",
    "### `del ` statement  \n",
    "```python\n",
    "del party_list[2]\n",
    "```"
   ]
  },
  {
   "cell_type": "markdown",
   "metadata": {},
   "source": [
    "### Examples"
   ]
  },
  {
   "cell_type": "code",
   "execution_count": 1,
   "metadata": {},
   "outputs": [
    {
     "name": "stdout",
     "output_type": "stream",
     "text": [
      "sample_list before:  [11, 21, 13, 14, 51, 161, 117, 181]\n",
      "sample_list after:   [11, 13, 14, 51, 161, 117, 181]\n"
     ]
    }
   ],
   "source": [
    "# [ ] review and run example\n",
    "# the list before delete\n",
    "sample_list = [11, 21, 13, 14, 51, 161, 117, 181]\n",
    "print(\"sample_list before: \", sample_list)\n",
    "\n",
    "del sample_list[1]\n",
    "# the list after delete\n",
    "print(\"sample_list after:  \", sample_list)"
   ]
  },
  {
   "cell_type": "code",
   "execution_count": 2,
   "metadata": {},
   "outputs": [
    {
     "name": "stdout",
     "output_type": "stream",
     "text": [
      "sample_list before: [11, 13, 14, 51, 161, 117, 181]\n",
      "sample_list after: [13, 14, 51, 161, 117, 181]\n"
     ]
    }
   ],
   "source": [
    "# [ ] review and run example Multiple Times\n",
    "# [ ] consider how to reset the list values?\n",
    "print(\"sample_list before:\", sample_list)\n",
    "del sample_list[0]\n",
    "print(\"sample_list after:\", sample_list)"
   ]
  },
  {
   "cell_type": "code",
   "execution_count": 3,
   "metadata": {},
   "outputs": [
    {
     "name": "stdout",
     "output_type": "stream",
     "text": [
      "mixed_types list:  [1, 'cat', 3]\n",
      "mixed_types list:  [1, 'cat', 3, 'turtle']\n"
     ]
    }
   ],
   "source": [
    "# [ ] review and run example\n",
    "mixed_types = [1, \"cat\"]\n",
    "# append number\n",
    "mixed_types.append(3)\n",
    "print(\"mixed_types list: \", mixed_types)\n",
    "\n",
    "# append string\n",
    "mixed_types.append(\"turtle\")\n",
    "print(\"mixed_types list: \", mixed_types)"
   ]
  },
  {
   "cell_type": "markdown",
   "metadata": {
    "collapsed": true
   },
   "source": [
    "## Task 1: `del` statement"
   ]
  },
  {
   "cell_type": "code",
   "execution_count": 6,
   "metadata": {},
   "outputs": [
    {
     "name": "stdout",
     "output_type": "stream",
     "text": [
      "['calcaneus', 'talus', 'cuboid', 'navicular', 'lateral cuneiform', 'intermediate cuneiform', 'medial cuneiform']\n",
      "['calcaneus', 'talus', 'navicular', 'lateral cuneiform', 'intermediate cuneiform', 'medial cuneiform']\n"
     ]
    }
   ],
   "source": [
    "# [ ] print ft_bones list\n",
    "# [ ] delete \"cuboid\" from ft_bones\n",
    "# [ ] reprint list\n",
    "ft_bones = [\"calcaneus\", \"talus\", \"cuboid\", \"navicular\", \"lateral cuneiform\", \n",
    "            \"intermediate cuneiform\", \"medial cuneiform\"]\n",
    "print(ft_bones)\n",
    "del ft_bones[2]\n",
    "print(ft_bones)"
   ]
  },
  {
   "cell_type": "markdown",
   "metadata": {},
   "source": [
    "## Task 2: Multiple `del` statements "
   ]
  },
  {
   "cell_type": "code",
   "execution_count": 20,
   "metadata": {},
   "outputs": [
    {
     "name": "stdout",
     "output_type": "stream",
     "text": [
      "['calcaneus', 'talus', 'cuboid', 'navicular', 'lateral cuneiform', 'intermediate cuneiform', 'medial cuneiform']\n",
      "['calcaneus', 'talus', 'lateral cuneiform', 'intermediate cuneiform', 'medial cuneiform']\n",
      "3rd item deleted\n",
      "4th item deleted\n"
     ]
    }
   ],
   "source": [
    "# [ ] print ft_bones list\n",
    "# [ ] delete \"cuboid\" from ft_bones\n",
    "# [ ] delete \"navicular\" from list\n",
    "# [ ] reprint list\n",
    "# [ ] check for deletion of \"cuboid\" and \"navicular\"\n",
    "ft_bones = [\"calcaneus\", \"talus\", \"cuboid\", \"navicular\", \"lateral cuneiform\", \n",
    "            \"intermediate cuneiform\", \"medial cuneiform\"]\n",
    "print(ft_bones)\n",
    "del ft_bones[2]\n",
    "del ft_bones[2]\n",
    "print(ft_bones)\n",
    "\n",
    "if ft_bones[2] == \"cuboid\":\n",
    "   print(\"3rd item not deleted\")\n",
    "else:\n",
    "    print(\"3rd item deleted\")\n",
    "\n",
    "if ft_bones[3] == \"navicular\":\n",
    "   print(\"4th item not deleted\")\n",
    "else:\n",
    "    print(\"4th item deleted\")"
   ]
  },
  {
   "cell_type": "markdown",
   "metadata": {},
   "source": [
    "## Concept: .pop() gets and deletes item in list\n",
    "[View List Pop Method video](https://ncvps.yuja.com/V/Video?v=4514576&node=15054716&a=1520495345&autoplay=1)\n",
    "### `.pop()`  method default is last item in a list\n",
    "```python\n",
    "last_item = party_list.pop()\n",
    "first_item = party_list.pop(0)\n",
    "```"
   ]
  },
  {
   "cell_type": "markdown",
   "metadata": {},
   "source": [
    "### Examples"
   ]
  },
  {
   "cell_type": "code",
   "execution_count": 21,
   "metadata": {},
   "outputs": [
    {
     "name": "stdout",
     "output_type": "stream",
     "text": [
      "['Joana', 'Alton', 'Tobias']\n",
      "Hello, Tobias\n",
      "\n",
      " ['Joana', 'Alton']\n",
      "Hello, Alton\n",
      "\n",
      " ['Joana']\n",
      "Hello, Joana\n",
      "\n",
      " []\n"
     ]
    }
   ],
   "source": [
    "# [ ] review and run example\n",
    "# pop() gets the last item by default\n",
    "party_list = [\"Joana\", \"Alton\", \"Tobias\"]\n",
    "print(party_list)\n",
    "print(\"Hello,\", party_list.pop())\n",
    "\n",
    "print(\"\\n\", party_list)\n",
    "print(\"Hello,\", party_list.pop())\n",
    "\n",
    "print(\"\\n\", party_list)\n",
    "print(\"Hello,\", party_list.pop())\n",
    "\n",
    "print(\"\\n\", party_list)"
   ]
  },
  {
   "cell_type": "code",
   "execution_count": 22,
   "metadata": {},
   "outputs": [
    {
     "name": "stdout",
     "output_type": "stream",
     "text": [
      "before: [11, 21, 13, 14, 51, 161, 117, 181]\n",
      "after : [11, 21, 13, 51, 161, 117, 181]\n"
     ]
    }
   ],
   "source": [
    "# [ ] review and run example\n",
    "# can pop specific index like pop(3)\n",
    "number_list = [11, 21, 13, 14, 51, 161, 117, 181]\n",
    "print(\"before:\", number_list)\n",
    "number_list.pop(3)\n",
    "print(\"after :\", number_list)\n"
   ]
  },
  {
   "cell_type": "code",
   "execution_count": 23,
   "metadata": {},
   "outputs": [
    {
     "name": "stdout",
     "output_type": "stream",
     "text": [
      "list before: [11, 21, 13, 14, 51, 161, 117, 181]\n",
      "list after : [11, 21, 13, 14, 51, 161]\n",
      "add the popped values: 181 + 117 = 298\n"
     ]
    }
   ],
   "source": [
    "# [ ] review and run example\n",
    "# set a variable to a poped value\n",
    "number_list = [11, 21, 13, 14, 51, 161, 117, 181]\n",
    "print(\"list before:\", number_list)\n",
    "num_1 = number_list.pop()\n",
    "num_2 = number_list.pop()\n",
    "print(\"list after :\", number_list)\n",
    "print(\"add the popped values:\", num_1, \"+\", num_2, \"=\", num_1 + num_2)"
   ]
  },
  {
   "cell_type": "markdown",
   "metadata": {
    "collapsed": true
   },
   "source": [
    "## Task 3: `pop()`"
   ]
  },
  {
   "cell_type": "code",
   "execution_count": 24,
   "metadata": {},
   "outputs": [
    {
     "name": "stdout",
     "output_type": "stream",
     "text": [
      "calcaneus\n",
      "medial cuneiform\n",
      "['talus', 'cuboid', 'navicular', 'lateral cuneiform', 'intermediate cuneiform']\n"
     ]
    }
   ],
   "source": [
    "# [ ] pop() and print the first and last items from the ft_bones list\n",
    "ft_bones = [\"calcaneus\", \"talus\", \"cuboid\", \"navicular\", \"lateral cuneiform\", \n",
    "            \"intermediate cuneiform\", \"medial cuneiform\"]\n",
    "            \n",
    "print(ft_bones.pop(0))\n",
    "print(ft_bones.pop())\n",
    "\n",
    "print(ft_bones)"
   ]
  },
  {
   "cell_type": "markdown",
   "metadata": {},
   "source": [
    "## Concept: An empty list is False\n",
    "[View Empty List is False video](https://ncvps.yuja.com/V/Video?v=4514578&node=15054718&a=1598039909&autoplay=1])\n",
    "### in a conditional an empty list will evaluate `False`\n",
    "This allows creating a while loop that runs until a list is empty\n",
    "```python\n",
    "while dog_types: \n",
    "```"
   ]
  },
  {
   "cell_type": "markdown",
   "metadata": {},
   "source": [
    "### Example"
   ]
  },
  {
   "cell_type": "code",
   "execution_count": 25,
   "metadata": {},
   "outputs": [
    {
     "name": "stdout",
     "output_type": "stream",
     "text": [
      "Poodle\n",
      "Pug\n",
      "Lab\n"
     ]
    }
   ],
   "source": [
    "dog_types = [\"Lab\", \"Pug\", \"Poodle\"]\n",
    "\n",
    "while dog_types: \n",
    "    print(dog_types.pop())"
   ]
  },
  {
   "cell_type": "markdown",
   "metadata": {},
   "source": [
    "## Task 4 (Part 1): Cash Register Input\n",
    "- Create a empty list `purchase_amounts`\n",
    "- Populate the list with user input for the price of items\n",
    "- Continue adding to list with `while` until \"done\" is entered\n",
    "  - Can use `while True:` with `break`\n",
    "- Print `purchase_amounts`\n",
    "- Continue to Part 2"
   ]
  },
  {
   "cell_type": "code",
   "execution_count": 26,
   "metadata": {},
   "outputs": [
    {
     "name": "stdout",
     "output_type": "stream",
     "text": [
      "['4']\n"
     ]
    }
   ],
   "source": [
    "#[ ] complete the Register Input task above\n",
    "\n",
    "purchase_amounts = []\n",
    "\n",
    "while True:\n",
    "    item_price = input(\"Enter the price of item or 'done' to finish: \")\n",
    "    if item_price != 'done':\n",
    "        purchase_amounts += item_price\n",
    "    else:\n",
    "        print(purchase_amounts)\n",
    "        break"
   ]
  },
  {
   "cell_type": "markdown",
   "metadata": {},
   "source": [
    "## Task 4 (Part 2): Cash Register Total\n",
    "- Create a **`subtotal`** variable = 0\n",
    "- Create a while loop that runs **`while`** purchase_amount (is not empty)\n",
    "- Inside the loop: \n",
    "  - **`pop()`** the last list value cast as a float type\n",
    "  - Add the float value to a **`subtotal`** variable\n",
    "- After exiting the loop print **`subtotal`**  \n",
    "  \n",
    "  *Be sure to populate purchase_amounts by running Part 1 above.*"
   ]
  },
  {
   "cell_type": "code",
   "execution_count": 27,
   "metadata": {},
   "outputs": [
    {
     "name": "stdout",
     "output_type": "stream",
     "text": [
      "4.0\n"
     ]
    }
   ],
   "source": [
    "# [ ] complete the Register Total task above\n",
    "\n",
    "subtotal = 0 \n",
    "\n",
    "while purchase_amounts != []:\n",
    "      float_price = float(purchase_amounts.pop())\n",
    "      subtotal += float_price\n",
    "\n",
    "print(subtotal)"
   ]
  },
  {
   "cell_type": "markdown",
   "metadata": {},
   "source": [
    "## Concept: Delete a specific object from a list with `.remove()`\n",
    "[View Removing Object from List video](https://ncvps.yuja.com/V/Video?v=4514584&node=15054733&a=265709563&autoplay=1)\n",
    "### `.remove(object)` removes the 1st item that matches\n",
    "\n",
    "```python\n",
    "dog_types.remove(\"Pug\")\n",
    "```\n",
    "&gt;**`ValueError`** occurs if the object is not available to be removed.  "
   ]
  },
  {
   "cell_type": "markdown",
   "metadata": {},
   "source": [
    "### Examples"
   ]
  },
  {
   "cell_type": "code",
   "execution_count": 28,
   "metadata": {},
   "outputs": [
    {
     "name": "stdout",
     "output_type": "stream",
     "text": [
      "['Lab', 'Poodle']\n"
     ]
    }
   ],
   "source": [
    "# [ ] review and run example\n",
    "dog_types = [\"Lab\", \"Pug\", \"Poodle\"]\n",
    "\n",
    "if \"Pug\" in dog_types:\n",
    "    dog_types.remove(\"Pug\")\n",
    "else:\n",
    "    print(\"no Pug found\")\n",
    "print(dog_types)"
   ]
  },
  {
   "cell_type": "code",
   "execution_count": 29,
   "metadata": {},
   "outputs": [
    {
     "name": "stdout",
     "output_type": "stream",
     "text": [
      "['Lab', 'Pug', 'Poodle', 'Poodle', 'Pug', 'Poodle']\n",
      "['Lab', 'Pug', 'Poodle', 'Pug', 'Poodle']\n",
      "['Lab', 'Pug', 'Pug', 'Poodle']\n",
      "['Lab', 'Pug', 'Pug']\n"
     ]
    }
   ],
   "source": [
    "# [ ] review and run example\n",
    "dogs = [\"Lab\", \"Pug\", \"Poodle\", \"Poodle\", \"Pug\", \"Poodle\"]\n",
    "\n",
    "print(dogs)\n",
    "while \"Poodle\" in dogs:\n",
    "    dogs.remove(\"Poodle\")\n",
    "    print(dogs)"
   ]
  },
  {
   "cell_type": "markdown",
   "metadata": {},
   "source": [
    "### ValueError"
   ]
  },
  {
   "cell_type": "code",
   "execution_count": 30,
   "metadata": {},
   "outputs": [
    {
     "ename": "ValueError",
     "evalue": "list.remove(x): x not in list",
     "output_type": "error",
     "traceback": [
      "\u001b[1;31m---------------------------------------------------------------------------\u001b[0m",
      "\u001b[1;31mValueError\u001b[0m                                Traceback (most recent call last)",
      "\u001b[1;32mc:\\Users\\Jem\\Desktop\\School Work (Python)\\ModuleSixLessonFiveActivity.ipynb Cell 30'\u001b[0m in \u001b[0;36m<cell line: 3>\u001b[1;34m()\u001b[0m\n\u001b[0;32m      <a href='vscode-notebook-cell:/c%3A/Users/Jem/Desktop/School%20Work%20%28Python%29/ModuleSixLessonFiveActivity.ipynb#ch0000029?line=0'>1</a>\u001b[0m \u001b[39m# [ ] review and run example\u001b[39;00m\n\u001b[0;32m      <a href='vscode-notebook-cell:/c%3A/Users/Jem/Desktop/School%20Work%20%28Python%29/ModuleSixLessonFiveActivity.ipynb#ch0000029?line=1'>2</a>\u001b[0m \u001b[39m# Change to \"Lab\", etc... to fix error\u001b[39;00m\n\u001b[1;32m----> <a href='vscode-notebook-cell:/c%3A/Users/Jem/Desktop/School%20Work%20%28Python%29/ModuleSixLessonFiveActivity.ipynb#ch0000029?line=2'>3</a>\u001b[0m dogs\u001b[39m.\u001b[39;49mremove(\u001b[39m\"\u001b[39;49m\u001b[39mCollie\u001b[39;49m\u001b[39m\"\u001b[39;49m)\n\u001b[0;32m      <a href='vscode-notebook-cell:/c%3A/Users/Jem/Desktop/School%20Work%20%28Python%29/ModuleSixLessonFiveActivity.ipynb#ch0000029?line=3'>4</a>\u001b[0m \u001b[39mprint\u001b[39m(dogs)\n",
      "\u001b[1;31mValueError\u001b[0m: list.remove(x): x not in list"
     ]
    }
   ],
   "source": [
    "# [ ] review and run example\n",
    "# Change to \"Lab\", etc... to fix error\n",
    "dogs.remove(\"Collie\")\n",
    "print(dogs)"
   ]
  },
  {
   "cell_type": "markdown",
   "metadata": {
    "collapsed": true
   },
   "source": [
    "## Task 3: `.remove()`"
   ]
  },
  {
   "cell_type": "code",
   "execution_count": 31,
   "metadata": {},
   "outputs": [
    {
     "name": "stdout",
     "output_type": "stream",
     "text": [
      "['Lab', 'Pug', 'Poodle', 'Poodle', 'Pug', 'Poodle']\n",
      "['Lab', 'Pug', 'Poodle', 'Pug', 'Poodle']\n"
     ]
    }
   ],
   "source": [
    "# [ ] remove one \"Poodle\" from the list: dogs , or print \"no Poodle found\"\n",
    "# [ ] print list before and after\n",
    "dogs = [\"Lab\", \"Pug\", \"Poodle\", \"Poodle\", \"Pug\", \"Poodle\"]\n",
    "\n",
    "print(dogs)\n",
    "\n",
    "if \"Poodle\" in dogs:\n",
    "    dogs.remove(\"Poodle\")\n",
    "    print(dogs)\n",
    "else:\n",
    "    print(\"no Poodle found\")"
   ]
  },
  {
   "cell_type": "markdown",
   "metadata": {},
   "source": [
    "[Terms of use](http://go.microsoft.com/fwlink/?LinkID=206977)   [Privacy &amp; cookies](https://go.microsoft.com/fwlink/?LinkId=521839)   © 2017 Microsoft"
   ]
  }
 ],
 "metadata": {
  "anaconda-cloud": {},
  "kernelspec": {
   "display_name": "Python 3",
   "language": "python",
   "name": "python3"
  },
  "language_info": {
   "codemirror_mode": {
    "name": "ipython",
    "version": 3
   },
   "file_extension": ".py",
   "mimetype": "text/x-python",
   "name": "python",
   "nbconvert_exporter": "python",
   "pygments_lexer": "ipython3",
   "version": "3.5.4"
  }
 },
 "nbformat": 4,
 "nbformat_minor": 1
}
