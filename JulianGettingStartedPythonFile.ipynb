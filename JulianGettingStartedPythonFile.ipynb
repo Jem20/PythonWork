{
 "cells": [
  {
   "cell_type": "markdown",
   "metadata": {
    "slideshow": {
     "slide_type": "slide"
    }
   },
   "source": [
    "# Section 1.1\n",
    "##  Getting Started with Python in Jupyter Notebooks\n",
    "- **Python 3 in Jupyter notebooks**\n",
    "- **`print()`**\n",
    "- **Comments** \n",
    "- Data types basics\n",
    "- Variables\n",
    "- Addition with Strings and Integers \n",
    "- Errors\n",
    "- Character art  \n",
    "\n",
    "-----\n",
    "\n",
    "### Students will be able to\n",
    "- **Use Python 3 in Jupyter notebooks**  \n",
    "- **Write working code using `print()` and `#` comments**  \n",
    "- Combine Strings using string addition (`+`)\n",
    "- Add numbers in code (`+`) \n",
    "- Troubleshoot errors\n",
    "- Create character art"
   ]
  },
  {
   "cell_type": "markdown",
   "metadata": {},
   "source": [
    "## Concept: Hello World! - Python `print()` Statement\n",
    "Using code to write \"Hello World!\" on the screen is the traditional first program when learning a new language in computer science.\n",
    "\n",
    "Python has a very simple implementation: \n",
    "```Python\n",
    "print(\"Hello World!\")\n",
    "```  "
   ]
  },
  {
   "cell_type": "markdown",
   "metadata": {
    "slideshow": {
     "slide_type": "subslide"
    }
   },
   "source": [
    "## \"Hello World!\" \n",
    "[![view video](https://iajupyterprodblobs.blob.core.windows.net/imagecontainer/common/play_video.png)]( http://edxinteractivepage.blob.core.windows.net/edxpages/f7cff1a7-5601-48a1-95a6-fd1fdfabd20e.html?details=[{\"src\":\"http://jupyternootbookwams.streaming.mediaservices.windows.net/6f5784c6-eece-4dfe-a14e-9dcf6ee81a7f/Unit1_Section1.1-Hello_World.ism/manifest\",\"type\":\"application/vnd.ms-sstr+xml\"}],[{\"src\":\"http://jupyternootbookwams.streaming.mediaservices.windows.net/6f5784c6-eece-4dfe-a14e-9dcf6ee81a7f/Unit1_Section1.1-Hello_World.vtt\",\"srclang\":\"en\",\"kind\":\"subtitles\",\"label\":\"english\"}])\n",
    "\n",
    "Our \"Hello World!\" program worked because this notebook hosts a Python interpreter that can run Python code cells.   \n",
    "\n",
    "Try showing:\n",
    "```Python \n",
    "\"Hello programmer!\" \n",
    "``` \n",
    "Enter new text inside the quotations in the cell above. Click on the cell to edit the code. \n",
    "\n",
    "What happens if any part of &nbsp;`print`&nbsp; is capitalized or what happens there are no quotation marks around the greeting?\n",
    "## Methods for running the code in a cell\n",
    "1. **Click in the cell below** and **press \"Ctrl+Enter\"** to run the code.  \n",
    "2. **Click in the cell below** and **press \"Shift+Enter\"** to run the code and move to the next cell.  \n",
    "3. **Menu: Cell**...  \n",
    "  a. **> Run Cells** runs the highlighted cell(s).  \n",
    "  b. **> Run All Above** runs the highlighted cell and above.  \n",
    "  c. **> Run All Below** runs the highlighted cell and below. "
   ]
  },
  {
   "cell_type": "markdown",
   "metadata": {},
   "source": [
    "### Example"
   ]
  },
  {
   "cell_type": "code",
   "execution_count": 1,
   "metadata": {
    "collapsed": false,
    "slideshow": {
     "slide_type": "subslide"
    }
   },
   "outputs": [
    {
     "name": "stdout",
     "output_type": "stream",
     "text": [
      "Hello world\n"
     ]
    }
   ],
   "source": [
    "# [ ] Review the code, run the code\n",
    "print(\"Hello world\")"
   ]
  },
  {
   "cell_type": "markdown",
   "metadata": {},
   "source": [
    "## Concept: Comments\n",
    "[![view video](https://iajupyterprodblobs.blob.core.windows.net/imagecontainer/common/play_video.png)]( http://edxinteractivepage.blob.core.windows.net/edxpages/f7cff1a7-5601-48a1-95a6-fd1fdfabd20e.html?details=[{\"src\":\"http://jupyternootbookwams.streaming.mediaservices.windows.net/34e2afb1-d07a-44ca-8860-bba1a5476caa/Unit1_Section1.1-Comments.ism/manifest\",\"type\":\"application/vnd.ms-sstr+xml\"}],[{\"src\":\"http://jupyternootbookwams.streaming.mediaservices.windows.net/34e2afb1-d07a-44ca-8860-bba1a5476caa/Unit1_Section1.1-Comments.vtt\",\"srclang\":\"en\",\"kind\":\"subtitles\",\"label\":\"english\"}])\n",
    "When coding, programmers include comments for explanation of how code works for reminders and to help others who encounter the code.\n",
    "### Comments start with the  `#`  symbol"
   ]
  },
  {
   "cell_type": "markdown",
   "metadata": {},
   "source": [
    "### Example"
   ]
  },
  {
   "cell_type": "code",
   "execution_count": 2,
   "metadata": {
    "collapsed": true
   },
   "outputs": [],
   "source": [
    "# This is how a comment looks in Python code\n",
    "# Every comment line starts with the # symbol"
   ]
  },
  {
   "cell_type": "markdown",
   "metadata": {},
   "source": [
    "## Task 1: Program: \"Hello World!\" with comment\n",
    "- Add a comment describing the code purpose\n",
    "- Create an original \"Hello World\" style message"
   ]
  },
  {
   "cell_type": "code",
   "execution_count": 3,
   "metadata": {
    "collapsed": false
   },
   "outputs": [
    {
     "name": "stdout",
     "output_type": "stream",
     "text": [
      "Hello everyone!\n"
     ]
    }
   ],
   "source": [
    "# Prints hello everyone!\n",
    "print(\"Hello everyone!\")"
   ]
  },
  {
   "cell_type": "markdown",
   "metadata": {},
   "source": [
    "## Concept: Notebooks and Libraries\n",
    "Jupyter Notebooks provide a balance of jotting down important summary information along with proving a live code development environment where we can write and run Python code.  This course uses cloud hosted Jupyter [Notebooks](https://notebooks.azure.com) on Microsoft Azure and we will walk through the basics and some best practices for notebook use.  \n",
    "\n",
    "### Add a notebook library\n",
    "- New: https://notebooks.azure.com/library > New Library\n",
    "- Link: from a shared Azure Notebook library link > open link, sign in> clone and Run\n",
    "- Add: open library > Add Notebooks > from computer > navigate to file(s)\n",
    "\n",
    "### Work in notebook cells  \n",
    "- **Markdown cells** display text in a web page format. Markdown is code that formats the way the cell displays (*this cell is Markdown*).\n",
    "&nbsp;  \n",
    "- **Code cells** contain Python code and can be interpreted and run from a cell. Code cells display code and output.  \n",
    "&nbsp;  \n",
    "- **In edit** or **previously run:** cells can display in editing mode or cells can display results of *code* having been run. \n",
    "  \n",
    "[![view video](https://iajupyterprodblobs.blob.core.windows.net/imagecontainer/common/play_video.png)]( http://edxinteractivepage.blob.core.windows.net/edxpages/f7cff1a7-5601-48a1-95a6-fd1fdfabd20e.html?details=[{\"src\":\"http://jupyternootbookwams.streaming.mediaservices.windows.net/6b9134fc-c7d7-4d25-b0a7-bdb79d3e1a5b/Unit1_Section1.1-EditRunSave.ism/manifest\",\"type\":\"application/vnd.ms-sstr+xml\"}],[{\"src\":\"http://jupyternootbookwams.streaming.mediaservices.windows.net/6b9134fc-c7d7-4d25-b0a7-bdb79d3e1a5b/Unit1_Section1.1-EditRunSave.vtt\",\"srclang\":\"en\",\"kind\":\"subtitles\",\"label\":\"english\"}])\n",
    " \n",
    "### Edit mode  \n",
    "- **Text** cells in editing mode show markdown code.\n",
    "- Markdown cells keep editing mode appearance until the cell is run.\n",
    "- **Code** (Python 3) cells in editing look the same after editing, but may show different run output.\n",
    "- Clicking another cell moves the green highlight that indicates which cell has active editing focus. \n",
    "  \n",
    "### Cells need to be saved\n",
    "- The notebook will frequently autosave.\n",
    "- **Best practice** is to manually save after editing a cell using **\"Ctrl + S\"** or alternatively, **Menu: File > Save and Checkpoint**.\n"
   ]
  },
  {
   "cell_type": "markdown",
   "metadata": {},
   "source": [
    "## Concept: Altering Notebook Structure\n",
    "[![view video](https://iajupyterprodblobs.blob.core.windows.net/imagecontainer/common/play_video.png)]( http://edxinteractivepage.blob.core.windows.net/edxpages/f7cff1a7-5601-48a1-95a6-fd1fdfabd20e.html?details=[{\"src\":\"http://jupyternootbookwams.streaming.mediaservices.windows.net/cb195105-eee8-4068-9007-64b2392cd9ff/Unit1_Section1.1-Language_Cells.ism/manifest\",\"type\":\"application/vnd.ms-sstr+xml\"}],[{\"src\":\"http://jupyternootbookwams.streaming.mediaservices.windows.net/cb195105-eee8-4068-9007-64b2392cd9ff/Unit1_Section1.1-Language_Cells.vtt\",\"srclang\":\"en\",\"kind\":\"subtitles\",\"label\":\"english\"}])\n",
    "### Add a cell\n",
    "- Highlight any cell and then... add a new cell using **Menu: Insert > Insert Cell Below** or **Insert Cell Above**.\n",
    "- Add with Keyboard Shortcut: **\"ESC + A\"** to insert above or **\"ESC + B\"** to insert below.\n",
    "\n",
    "### Choose cell type\n",
    "- Format cells as Markdown or Code via the toolbar dropdown or **Menu: Cell > Cell Type > Code** or **Markdown**. \n",
    "- Cells default to Code when created but can be reformatted from Code to Markdown and vice versa.  \n",
    "\n",
    "### Change notebook page language\n",
    "- The course uses Python 3 but Jupyter Notebooks can be in Python 2 or 3 (and a language called R).\n",
    "- To change a notebook to Python 3 go to **\"Menu: Kernel > Change Kernel> Python 3\"**.\n"
   ]
  },
  {
   "cell_type": "markdown",
   "metadata": {},
   "source": [
    "## Task 2: Insert a new cell\n",
    "-  Insert a new Code cell below with a comment describing the task.\n",
    "-  Edit the cell: add print() with the message \"after edit, save!\"\n",
    "-  Run the cell."
   ]
  },
  {
   "cell_type": "code",
   "execution_count": 4,
   "metadata": {
    "collapsed": false
   },
   "outputs": [
    {
     "name": "stdout",
     "output_type": "stream",
     "text": [
      "after edit, save!\n"
     ]
    }
   ],
   "source": [
    "# Prints \"after edit, save!\"\n",
    "print(\"after edit, save!\")"
   ]
  },
  {
   "cell_type": "markdown",
   "metadata": {},
   "source": [
    "### Insert another new cell\n",
    "- Insert a new Code cell below.\n",
    "- Edit the cell: add print() with the message showing the keyboard Shortcut to save **Ctrl + S**.\n",
    "- Run the cell."
   ]
  },
  {
   "cell_type": "code",
   "execution_count": 5,
   "metadata": {
    "collapsed": false
   },
   "outputs": [
    {
     "name": "stdout",
     "output_type": "stream",
     "text": [
      "Save with Ctrl + S!\n"
     ]
    }
   ],
   "source": [
    "print(\"Save with Ctrl + S!\")"
   ]
  },
  {
   "cell_type": "markdown",
   "metadata": {},
   "source": [
    "[Terms of use](http://go.microsoft.com/fwlink/?LinkID=206977) &nbsp; [Privacy & cookies](https://go.microsoft.com/fwlink/?LinkId=521839) &nbsp; © 2017 Microsoft"
   ]
  }
 ],
 "metadata": {
  "anaconda-cloud": {},
  "kernelspec": {
   "display_name": "Python 3",
   "language": "python",
   "name": "python3"
  },
  "language_info": {
   "codemirror_mode": {
    "name": "ipython",
    "version": 3
   },
   "file_extension": ".py",
   "mimetype": "text/x-python",
   "name": "python",
   "nbconvert_exporter": "python",
   "pygments_lexer": "ipython3",
   "version": "3.10.2"
  }
 },
 "nbformat": 4,
 "nbformat_minor": 0
}
