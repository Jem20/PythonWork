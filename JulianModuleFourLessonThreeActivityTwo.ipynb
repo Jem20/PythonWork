{
  "cells": [
    {
      "cell_type": "markdown",
      "metadata": {},
      "source": [
        "# Module Four Lesson Three Practice Activity Two\n",
        "# Julian Monsalve 2/16/2022\n",
        "# In this lesson I've learned how to compare operators.\n",
        "# No difficulties.\n",
        "## Conditionals: String Comparison\n",
        "- **`if`, `else`, `pass`**\n",
        "  - Conditionals using Boolean string methods\n",
        "  - Comparison operators\n",
        "  - **String comparisons**\n",
        "\n",
        "----- \n",
        "\n",
        "### Student will be able to\n",
        "- **Control code flow with `if`... `else` conditional logic**  \n",
        "  - Using Boolean string methods (`.isupper(), .isalpha(), startswith()...`)  \n",
        "  - Using comparison (`&gt;, &lt;, &gt;=, &lt;=, ==, !=`)  \n",
        "  - **Using strings in comparisons**  \n",
        "\n",
        "\n",
        "## Concept: String Comparisons\n",
        "- ### Strings can be equal `==` or unequal `!=`\n",
        "- ### Strings can be greater than `&gt;` or less than `&lt;` \n",
        "- ### Alphabetically `\"A\"` is less than `\"B\"`\n",
        "- ### Lowercase `\"a\"` is greater than uppercase `\"A\"`\n",
        "\n",
        "#### Before submission: Remember you need to add descriptive comments in each cell (examples AND tasks) that explains what your code is doing.  "
      ]
    },
    {
      "cell_type": "markdown",
      "metadata": {},
      "source": [
        "### Examples"
      ]
    },
    {
      "cell_type": "code",
      "execution_count": 1,
      "metadata": {
        "trusted": false
      },
      "outputs": [
        {
          "data": {
            "text/plain": [
              "False"
            ]
          },
          "execution_count": 1,
          "metadata": {},
          "output_type": "execute_result"
        }
      ],
      "source": [
        "# review and run code\n",
        "\"hello\" < \"Hello\""
      ]
    },
    {
      "cell_type": "code",
      "execution_count": 2,
      "metadata": {
        "trusted": false
      },
      "outputs": [
        {
          "data": {
            "text/plain": [
              "False"
            ]
          },
          "execution_count": 2,
          "metadata": {},
          "output_type": "execute_result"
        }
      ],
      "source": [
        "# review and run code\n",
        "\"Aardvark\" > \"Zebra\""
      ]
    },
    {
      "cell_type": "code",
      "execution_count": 3,
      "metadata": {
        "trusted": false
      },
      "outputs": [
        {
          "data": {
            "text/plain": [
              "True"
            ]
          },
          "execution_count": 3,
          "metadata": {},
          "output_type": "execute_result"
        }
      ],
      "source": [
        "# review and run code\n",
        "'student' != 'Student'"
      ]
    },
    {
      "cell_type": "code",
      "execution_count": 4,
      "metadata": {
        "trusted": false
      },
      "outputs": [
        {
          "name": "stdout",
          "output_type": "stream",
          "text": [
            "'student' >= 'Student' is True\n",
            "'student' != 'Student' is True\n"
          ]
        }
      ],
      "source": [
        "# review and run code\n",
        "print(\"'student' >= 'Student' is\", 'student' >= 'Student')\n",
        "print(\"'student' != 'Student' is\", 'student' != 'Student')"
      ]
    },
    {
      "cell_type": "code",
      "execution_count": 5,
      "metadata": {
        "trusted": false
      },
      "outputs": [
        {
          "data": {
            "text/plain": [
              "True"
            ]
          },
          "execution_count": 5,
          "metadata": {},
          "output_type": "execute_result"
        }
      ],
      "source": [
        "# review and run code\n",
        "\"Hello \" + \"World!\" == \"Hello World!\""
      ]
    },
    {
      "cell_type": "markdown",
      "metadata": {},
      "source": [
        "## Task 1: String Comparisons\n",
        "\n",
        "- _[ ] print the True/False results of testing if msg string equals \"Hello\" string_"
      ]
    },
    {
      "cell_type": "code",
      "execution_count": 6,
      "metadata": {
        "trusted": false
      },
      "outputs": [
        {
          "name": "stdout",
          "output_type": "stream",
          "text": [
            "True\n"
          ]
        }
      ],
      "source": [
        "msg = \"Hello\"\n",
        "print(msg == \"Hello\")"
      ]
    },
    {
      "cell_type": "markdown",
      "metadata": {},
      "source": [
        "- _[ ] get input for variable named msg, and ask user to 'Say \"Hello\"'_\n",
        "- _[ ] print the results of testing if msg string equals greeting string_"
      ]
    },
    {
      "cell_type": "code",
      "execution_count": 13,
      "metadata": {
        "trusted": false
      },
      "outputs": [
        {
          "name": "stdout",
          "output_type": "stream",
          "text": [
            "msg string equals greeting string: True\n"
          ]
        }
      ],
      "source": [
        "greeting = \"Hello\"\n",
        "msg = input('Say \"Hello\"')\n",
        "\n",
        "print('msg string equals greeting string:', msg==greeting)"
      ]
    },
    {
      "cell_type": "markdown",
      "metadata": {},
      "source": [
        "## Concept: String Comparisons with `if`\n",
        "[![view video](https://iajupyterprodblobs.blob.core.windows.net/imagecontainer/common/play_video.png)]( http://edxinteractivepage.blob.core.windows.net/edxpages/f7cff1a7-5601-48a1-95a6-fd1fdfabd20e.html?details=[{\"src\":\"http://jupyternootbookwams.streaming.mediaservices.windows.net/d66365b5-03fa-4d0d-a455-5adba8b8fb1b/Unit1_Section4.3-string-compare-if.ism/manifest\",\"type\":\"application/vnd.ms-sstr+xml\"}],[{\"src\":\"http://jupyternootbookwams.streaming.mediaservices.windows.net/d66365b5-03fa-4d0d-a455-5adba8b8fb1b/Unit1_Section4.3-string-compare-if.vtt\",\"srclang\":\"en\",\"kind\":\"subtitles\",\"label\":\"english\"}])\n"
      ]
    },
    {
      "cell_type": "markdown",
      "metadata": {},
      "source": [
        "### Examples"
      ]
    },
    {
      "cell_type": "code",
      "execution_count": 14,
      "metadata": {
        "trusted": false
      },
      "outputs": [
        {
          "name": "stdout",
          "output_type": "stream",
          "text": [
            "message as expected\n"
          ]
        }
      ],
      "source": [
        "# [ ] review and run code\n",
        "msg = \"Save the notebook\"\n",
        "\n",
        "if msg.lower() == \"save the notebook\":\n",
        "    print(\"message as expected\")\n",
        "else:\n",
        "    print(\"message not as expected\")"
      ]
    },
    {
      "cell_type": "code",
      "execution_count": 15,
      "metadata": {
        "trusted": false
      },
      "outputs": [
        {
          "name": "stdout",
          "output_type": "stream",
          "text": [
            "message as expected\n"
          ]
        }
      ],
      "source": [
        "# [ ] review and run code\n",
        "msg = \"Save the notebook\"\n",
        "prediction = \"save the notebook\"\n",
        "\n",
        "if msg.lower() == prediction.lower():\n",
        "    print(\"message as expected\")\n",
        "else:\n",
        "    print(\"message not as expected\")"
      ]
    },
    {
      "cell_type": "markdown",
      "metadata": {},
      "source": [
        "## Task 2: Using Comparison Operators with `if`\n",
        "\n",
        " - _[ ] get input for a variable, answer, and ask user 'What is 8 + 13? : '_\n",
        " - _[ ] print messages for correct answer \"21\" or incorrect answer using if/else_\n",
        "\n",
        "note: input returns a \"string\"\n"
      ]
    },
    {
      "cell_type": "code",
      "execution_count": 32,
      "metadata": {
        "trusted": false
      },
      "outputs": [
        {
          "name": "stdout",
          "output_type": "stream",
          "text": [
            "You got that right!\n"
          ]
        }
      ],
      "source": [
        "variable = input('What is 8 + 13? : ')\n",
        "answer = '21'\n",
        "if answer == variable:\n",
        "    print ('You got that right!')\n",
        "else:\n",
        "    print ('You got that wrong!')"
      ]
    },
    {
      "cell_type": "markdown",
      "metadata": {
        "collapsed": true
      },
      "source": [
        "## Task 3 (program): True False Quiz Function\n",
        "Call the tf_quiz function with two arguments.\n",
        "- T/F question string \n",
        "- answer key string like \"T\"  \n",
        "\n",
        "Return a string: \"correct\" or incorrect\"\n",
        "[![view video](https://iajupyterprodblobs.blob.core.windows.net/imagecontainer/common/play_video.png)]( http://edxinteractivepage.blob.core.windows.net/edxpages/f7cff1a7-5601-48a1-95a6-fd1fdfabd20e.html?details=[{\"src\":\"http://jupyternootbookwams.streaming.mediaservices.windows.net/3805cc48-f5c9-4ec8-86ad-1e1db45788e4/Unit1_Section4.3-TF-quiz.ism/manifest\",\"type\":\"application/vnd.ms-sstr+xml\"}],[{\"src\":\"http://jupyternootbookwams.streaming.mediaservices.windows.net/3805cc48-f5c9-4ec8-86ad-1e1db45788e4/Unit1_Section4.3-TF-quiz.vtt\",\"srclang\":\"en\",\"kind\":\"subtitles\",\"label\":\"english\"}])\n",
        "### Define and use `tf_quiz()` function  \n",
        "- **`tf_quiz()`** has **2 parameters** which are both string arguments  \n",
        "  - **`question`**: a string containg a T/F question like \"Should save your notebook after edit?(T/F): \"  \n",
        "  - **`correct_ans`**: a string indicating the *correct answer*, either **\"T\"** or **\"F\"** \n",
        "- **`tf_quiz()`** returns a string:  \"correct\" or \"incorrect\"\n",
        "- Test tf_quiz(): **create a T/F question** (*or several!*) to **call tf_quiz()**  \n",
        "\n",
        "_[ ] Create the program, run tests_\n"
      ]
    },
    {
      "cell_type": "code",
      "execution_count": 36,
      "metadata": {
        "trusted": false
      },
      "outputs": [
        {
          "name": "stdout",
          "output_type": "stream",
          "text": [
            "your answer is correct\n"
          ]
        }
      ],
      "source": [
        "def tf_quiz(question, correct_ans):\n",
        "    answer = input(question)\n",
        "    if answer.upper() == correct_ans:\n",
        "        return(\"correct\")\n",
        "    else:\n",
        "        return(\"incorrect\")\n",
        "    \n",
        "\n",
        "quiz_eval = tf_quiz(\"(T/F) Plants grow without water\", \"F\")\n",
        "print(\"your answer is\", quiz_eval)"
      ]
    },
    {
      "cell_type": "markdown",
      "metadata": {},
      "source": [
        "[Terms of use](http://go.microsoft.com/fwlink/?LinkID=206977)   [Privacy &amp; cookies](https://go.microsoft.com/fwlink/?LinkId=521839)   © 2017 Microsoft"
      ]
    }
  ],
  "metadata": {
    "anaconda-cloud": {},
    "kernelspec": {
      "display_name": "Python 3",
      "language": "python",
      "name": "python3"
    },
    "language_info": {
      "codemirror_mode": {
        "name": "ipython",
        "version": 3
      },
      "file_extension": ".py",
      "mimetype": "text/x-python",
      "name": "python",
      "nbconvert_exporter": "python",
      "pygments_lexer": "ipython3",
      "version": "3.10.2"
    }
  },
  "nbformat": 4,
  "nbformat_minor": 1
}
