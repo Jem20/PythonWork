{
 "cells": [
  {
   "cell_type": "markdown",
   "metadata": {},
   "source": [
    "# Module Six Lesson Three Practice Activity Two\n",
    "# Julian Monsalve 3/16/2022\n",
    "# In this lesson I've learned how to use string methods.\n",
    "# No difficulties.\n",
    "## String Methods\n",
    "- Accessing string characters with index\n",
    "- Accessing substrings with index slicing\n",
    "- Iterating through characters of a string\n",
    "- **More string methods**\n",
    "\n",
    "----- \n",
    "\n",
    "### Student will be able to\n",
    "- Work with string characters\n",
    "- Slice strings into substrings\n",
    "- Iterate through string characters\n",
    "- **Use string methods**\n",
    "  - `len()`\n",
    "  - `.count()`\n",
    "  - `.find()`"
   ]
  },
  {
   "cell_type": "markdown",
   "metadata": {},
   "source": [
    "## Concept: Methods of Returning String Information\n",
    "[View String Methods Length video](https://ncvps.yuja.com/V/Video?v=4514535&node=15054638&a=10986160&autoplay=1)\n",
    "### len()  \n",
    "Returns a string's length. \n",
    "### .count()  \n",
    "Returns the number of times a character or substring occurs.\n",
    "### .find()   \n",
    "Returns index of first character or substring match.\n",
    "Returns **-1** if no match found.\n",
    "\n",
    "```python\n",
    "work_tip = \"save your code\"\n",
    "\n",
    "# number of characters\n",
    "len(work_tip)\n",
    "\n",
    "# letter \"e\" occurrences\n",
    "work_tip.count(\"e\")\n",
    "\n",
    "# find the index of the first space\n",
    "work_tip.find(\" \")\n",
    "\n",
    "# find the index of \"u\" searching a slice work_tip[3:6]\n",
    "work_tip.find(\"u\",3,6)\n",
    "```  \n",
    "These methods **return** information that we can use to sort or manipulate strings."
   ]
  },
  {
   "cell_type": "markdown",
   "metadata": {},
   "source": [
    "### Examples  \n",
    "Run each example cell in order."
   ]
  },
  {
   "cell_type": "code",
   "execution_count": 1,
   "metadata": {},
   "outputs": [
    {
     "name": "stdout",
     "output_type": "stream",
     "text": [
      "number of characters in string\n",
      "14 \n",
      "\n",
      "letter \"e\" occurrences\n",
      "2 \n",
      "\n",
      "find the index of the first space\n",
      "4 \n",
      "\n",
      "find the index of \"u\" searching a slice work_tip[3:9] - e your\n",
      "7 \n",
      "\n",
      "find the index of \"e\" searching a slice work_tip[4:] -  your code\n",
      "13\n"
     ]
    }
   ],
   "source": [
    "# [ ] review and run example\n",
    "work_tip = \"save your code\"\n",
    "\n",
    "print(\"number of characters in string\")\n",
    "print(len(work_tip),\"\\n\")\n",
    "\n",
    "print('letter \"e\" occurrences')\n",
    "print(work_tip.count(\"e\"),\"\\n\")\n",
    "\n",
    "print(\"find the index of the first space\")\n",
    "print(work_tip.find(\" \"),\"\\n\")\n",
    "\n",
    "print('find the index of \"u\" searching a slice work_tip[3:9] -', work_tip[3:9])\n",
    "print(work_tip.find(\"u\",3,9),\"\\n\")\n",
    "\n",
    "print('find the index of \"e\" searching a slice work_tip[4:] -', work_tip[4:])\n",
    "print(work_tip.find(\"e\",4))"
   ]
  },
  {
   "cell_type": "markdown",
   "metadata": {},
   "source": [
    "### len()  \n",
    "Returns a string's length."
   ]
  },
  {
   "cell_type": "code",
   "execution_count": 2,
   "metadata": {},
   "outputs": [
    {
     "name": "stdout",
     "output_type": "stream",
     "text": [
      "The sentence: \"good code is commented code\" has character length =  27\n"
     ]
    }
   ],
   "source": [
    "# [ ] review and run example\n",
    "work_tip = \"good code is commented code\"\n",
    "\n",
    "print(\"The sentence: \\\"\" + work_tip + \"\\\" has character length = \", len(work_tip) )"
   ]
  },
  {
   "cell_type": "code",
   "execution_count": 3,
   "metadata": {},
   "outputs": [
    {
     "name": "stdout",
     "output_type": "stream",
     "text": [
      "good code is \n",
      "commented code\n"
     ]
    }
   ],
   "source": [
    "# [ ] review and run example\n",
    "# find the middle index\n",
    "work_tip = \"good code is commented code\"\n",
    "mid_pt = int(len(work_tip)/2)\n",
    "\n",
    "# print 1st half of sentence\n",
    "print(work_tip[:mid_pt])\n",
    "\n",
    "# print the 2nd half of sentence\n",
    "print(work_tip[mid_pt:])"
   ]
  },
  {
   "cell_type": "markdown",
   "metadata": {},
   "source": [
    "### .count()  \n",
    "Returns the number of times a character or substring occurs."
   ]
  },
  {
   "cell_type": "code",
   "execution_count": 4,
   "metadata": {},
   "outputs": [
    {
     "name": "stdout",
     "output_type": "stream",
     "text": [
      "good code is commented code\n",
      "how many w's?  0\n",
      "how many o's?  5\n",
      "uses 'code', how many times?  2\n"
     ]
    }
   ],
   "source": [
    "# [ ] review and run example\n",
    "print(work_tip)\n",
    "print(\"how many w's? \", work_tip.count(\"w\"))\n",
    "print(\"how many o's? \", work_tip.count(\"o\"))\n",
    "print(\"uses 'code', how many times? \", work_tip.count(\"code\"))"
   ]
  },
  {
   "cell_type": "code",
   "execution_count": 5,
   "metadata": {},
   "outputs": [
    {
     "name": "stdout",
     "output_type": "stream",
     "text": [
      "good code is \n",
      "# o's in first half\n",
      "3\n",
      "\n",
      "commented code\n",
      "# o's in second half\n",
      "2\n"
     ]
    }
   ],
   "source": [
    "# [ ] review and run example \n",
    "print(work_tip[:mid_pt])\n",
    "print(\"# o's in first half\")\n",
    "print(work_tip[:mid_pt].count(\"o\"))\n",
    "\n",
    "print()\n",
    "print(work_tip[mid_pt:])\n",
    "print(\"# o's in second half\")\n",
    "print(work_tip[mid_pt:].count(\"o\"))"
   ]
  },
  {
   "cell_type": "markdown",
   "metadata": {},
   "source": [
    "### .find(*string*) \n",
    "Returns index of first character or substring match  .\n",
    "Returns **-1** if no match found.\n",
    "#### .find(*string*, *start index*, *end index*)\n",
    "Same as above .find() but searches from optional start and to optional end index."
   ]
  },
  {
   "cell_type": "code",
   "execution_count": 6,
   "metadata": {},
   "outputs": [
    {
     "name": "stdout",
     "output_type": "stream",
     "text": [
      "good code has meaningful variable names\n",
      "5 = starting index for \"code\"\n"
     ]
    }
   ],
   "source": [
    "# [ ] review and run example \n",
    "work_tip = \"good code has meaningful variable names\"\n",
    "print(work_tip)\n",
    "# index where first instance of \"code\" starts\n",
    "code_here = work_tip.find(\"code\")\n",
    "print(code_here, '= starting index for \"code\"')"
   ]
  },
  {
   "cell_type": "code",
   "execution_count": 7,
   "metadata": {},
   "outputs": [
    {
     "name": "stdout",
     "output_type": "stream",
     "text": [
      "search for \"meaning\" in the sub-string:  meaningful variable \n",
      "\n",
      "\"meaning\" found in work_tip[13:33] sub-string search at index 14\n"
     ]
    }
   ],
   "source": [
    "# [ ] review and run example \n",
    "# set start index = 13 and end index = 33\n",
    "print('search for \"meaning\" in the sub-string:', work_tip[13:33],\"\\n\")\n",
    "meaning_here = work_tip.find(\"meaning\",13,33)\n",
    "print('\"meaning\" found in work_tip[13:33] sub-string search at index', meaning_here)"
   ]
  },
  {
   "cell_type": "code",
   "execution_count": 8,
   "metadata": {},
   "outputs": [
    {
     "name": "stdout",
     "output_type": "stream",
     "text": [
      "work_tip: good code has meaningful variable names\n",
      "'o' at index = 1\n",
      "'o' at index = 2\n",
      "'o' at index = 6\n",
      "no more o's\n"
     ]
    }
   ],
   "source": [
    "# [ ] review and run example \n",
    "# if .find(\"o\") has No Match, -1 is returned\n",
    "print (\"work_tip:\" , work_tip)\n",
    "location = work_tip.find(\"o\")\n",
    "\n",
    "# keeps looping until location = -1 (no \"o\" found)\n",
    "while location >= 0:\n",
    "    print(\"'o' at index =\", location)\n",
    "    # find(\"o\", location + 1) looks for a \"o\" after index the first \"o\" was found\n",
    "    location = work_tip.find(\"o\", location + 1)\n",
    "print(\"no more o's\")"
   ]
  },
  {
   "cell_type": "markdown",
   "metadata": {
    "collapsed": true
   },
   "source": [
    "## Task 1: `len()`"
   ]
  },
  {
   "cell_type": "code",
   "execution_count": 9,
   "metadata": {},
   "outputs": [
    {
     "name": "stdout",
     "output_type": "stream",
     "text": [
      "wear a hat w\n",
      "hen it rains\n"
     ]
    }
   ],
   "source": [
    "# [ ] use len() to find the midpoint of the string \n",
    "# [ ] print the halves on separate lines\n",
    "random_tip = \"wear a hat when it rains\"\n",
    "mid_pt = int(len(random_tip)/2)\n",
    "\n",
    "print(random_tip[:mid_pt])\n",
    "print(random_tip[mid_pt:])"
   ]
  },
  {
   "cell_type": "markdown",
   "metadata": {},
   "source": [
    "## Task 2: `.count()`"
   ]
  },
  {
   "cell_type": "code",
   "execution_count": 10,
   "metadata": {},
   "outputs": [
    {
     "name": "stdout",
     "output_type": "stream",
     "text": [
      "'e'appears 2 times\n",
      "'a'appears 4 times\n",
      "\n",
      "'a' appears the most in random_tip\n"
     ]
    }
   ],
   "source": [
    "# for letters: \"e\" and \"a\" in random_tip\n",
    "# [ ] print letter counts \n",
    "# [ ] BONUS: print which letter is most frequent\n",
    "random_tip = \"wear a hat when it rains\"\n",
    "\n",
    "print(\"\\'e\\'appears\",random_tip.count('e'),'times')\n",
    "print(\"\\'a\\'appears\",random_tip.count('a'),'times')\n",
    "print()\n",
    "if random_tip.count('e') > random_tip.count('a'):\n",
    "    print(\"\\'e\\' appears the most in random_tip\")\n",
    "else:\n",
    "    print(\"\\'a\\' appears the most in random_tip\")"
   ]
  },
  {
   "cell_type": "markdown",
   "metadata": {
    "collapsed": true
   },
   "source": [
    "## Task 3: `.find()`"
   ]
  },
  {
   "cell_type": "code",
   "execution_count": 11,
   "metadata": {},
   "outputs": [
    {
     "name": "stdout",
     "output_type": "stream",
     "text": [
      "taposi\n",
      "tion\n"
     ]
    }
   ],
   "source": [
    "# [ ] print long_word from the location of the first and second \"t\"\n",
    "long_word = \"juxtaposition\"\n",
    "first_t = long_word.find(\"t\",0,4)\n",
    "second_t = long_word.find(\"t\",4,-1)\n",
    "\n",
    "print(long_word[first_t:9])\n",
    "print(long_word[second_t:])"
   ]
  },
  {
   "cell_type": "markdown",
   "metadata": {
    "collapsed": true
   },
   "source": [
    "## Task 4 (program): Print each word in a quote\n",
    "```python\n",
    "start = 0\n",
    "space_index = quote.find(\" \")\n",
    "while space_index != -1:\n",
    "    # code to print word (index slice start:space_index)\n",
    "```"
   ]
  },
  {
   "cell_type": "code",
   "execution_count": 12,
   "metadata": {},
   "outputs": [
    {
     "name": "stdout",
     "output_type": "stream",
     "text": [
      "they\n",
      "stumble\n",
      "who\n",
      "run\n",
      "fast\n"
     ]
    }
   ],
   "source": [
    "quote = \"they stumble who run fast\"\n",
    "start = 0\n",
    "space_index = quote.find(\" \")\n",
    "\n",
    "while space_index != -1:\n",
    "      print(quote[start:space_index])\n",
    "      start = space_index + 1\n",
    "      space_index = quote.find(\" \", space_index + 1)\n",
    "else:\n",
    "      print (quote[start::1])"
   ]
  },
  {
   "cell_type": "markdown",
   "metadata": {},
   "source": [
    "[Terms of use](http://go.microsoft.com/fwlink/?LinkID=206977)   [Privacy &amp; cookies](https://go.microsoft.com/fwlink/?LinkId=521839)   © 2017 Microsoft"
   ]
  }
 ],
 "metadata": {
  "anaconda-cloud": {},
  "kernelspec": {
   "display_name": "Python 3",
   "language": "python",
   "name": "python3"
  },
  "language_info": {
   "codemirror_mode": {
    "name": "ipython",
    "version": 3
   },
   "file_extension": ".py",
   "mimetype": "text/x-python",
   "name": "python",
   "nbconvert_exporter": "python",
   "pygments_lexer": "ipython3",
   "version": "3.10.2"
  }
 },
 "nbformat": 4,
 "nbformat_minor": 1
}
