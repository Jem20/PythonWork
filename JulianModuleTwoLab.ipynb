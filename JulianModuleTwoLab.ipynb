{
  "cells": [
    {
      "cell_type": "markdown",
      "metadata": {
        "collapsed": true
      },
      "source": [
        "# Module Two Lab\n",
        "# Julian Monsalve 2/2/2022\n",
        "# In this lesson I've learned how to create character art.\n",
        "# No difficulties.\n",
        "## Basics Practice: Notebooks, Comments, print(), type(), Addition, Errors and Art\n",
        "\n",
        "### Student will be able to\n",
        "- Use Python 3 in Jupyter notebooks\n",
        "- Write working code using `print()` and `#` comments  \n",
        "- Write working code using `type()` and variables\n",
        "- Combine Strings using string addition (+)\n",
        "- Add numbers in code (+)\n",
        "- Troubleshoot errors\n",
        "- Create character art  \n",
        "\n",
        "\n",
        "\n",
        "#### Notebook use\n",
        "- [ ] Insert a **code cell** below   \n",
        "- [ ] Enter the following Python code, including the comment: \n",
        "```Python \n",
        "# [ ] print 'Hello!' and remember to save notebook!\n",
        "print('Hello!')\n",
        "```\n",
        "Then run the code - the output should be:  \n",
        "`Hello!`\n",
        "\n",
        "#### Before submission: Remember you need to add descriptive comments in each cell (examples AND tasks) that explains what your code is doing.  "
      ]
    },
    {
      "cell_type": "markdown",
      "metadata": {},
      "source": [
        "#### Run the cell below   \n",
        "- [ ] Use **Ctrl + Enter**  \n",
        "- [ ] Use **Shift + Enter**    \n",
        "- [ ] Use **Alt + Enter** \n",
        "\n",
        "- [ ] Explain what each method does in your comments"
      ]
    },
    {
      "cell_type": "code",
      "execution_count": 5,
      "metadata": {
        "trusted": true
      },
      "outputs": [
        {
          "name": "stdout",
          "output_type": "stream",
          "text": [
            "watch for the cat\n"
          ]
        }
      ],
      "source": [
        "# Ctrl + Enter adds a extra line to the cell\n",
        "# Shift + Enter runs the code\n",
        "# Alt + Enter creates another cell\n",
        "print('watch for the cat')\n"
      ]
    },
    {
      "cell_type": "code",
      "execution_count": null,
      "metadata": {},
      "outputs": [],
      "source": []
    },
    {
      "cell_type": "markdown",
      "metadata": {},
      "source": [
        "#### Julian's Notebook editing\n",
        "- [ ] Edit **this** notebook Markdown cell replacing the word \"Student's\" above with your name\n",
        "- [ ] Run the cell to display the formatted text\n",
        "- [ ] Run any 'markdown' cells that are in edit mode, so they are easier to read"
      ]
    },
    {
      "cell_type": "markdown",
      "metadata": {},
      "source": [
        "#### [ ] Convert \\*this\\* cell from markdown to a code cell, then run it  \n",
        "print('Run as a code cell')\n"
      ]
    },
    {
      "cell_type": "code",
      "execution_count": 8,
      "metadata": {},
      "outputs": [
        {
          "name": "stdout",
          "output_type": "stream",
          "text": [
            "Run as a code cell\n"
          ]
        }
      ],
      "source": [
        "#### [ ] Convert \\*this\\* cell from markdown to a code cell, then run it  \n",
        "print('Run as a code cell')"
      ]
    },
    {
      "cell_type": "markdown",
      "metadata": {},
      "source": [
        "##  # Comments\n",
        "Create a code comment that identifies this notebook, containing your name and the date."
      ]
    },
    {
      "cell_type": "code",
      "execution_count": 9,
      "metadata": {
        "trusted": true
      },
      "outputs": [],
      "source": [
        "# This is Julian Monsalve's note book.\n",
        "# It is currently 2/2/2022 as of writing this."
      ]
    },
    {
      "cell_type": "markdown",
      "metadata": {},
      "source": [
        "#### Use print() to \n",
        "- [ ] print [**your_name**]\n",
        "- [ ] print **is using Python!**"
      ]
    },
    {
      "cell_type": "code",
      "execution_count": 11,
      "metadata": {
        "trusted": true
      },
      "outputs": [
        {
          "name": "stdout",
          "output_type": "stream",
          "text": [
            "Julian Monsalve is using Python!\n"
          ]
        }
      ],
      "source": [
        "print(\"Julian Monsalve is using Python!\")"
      ]
    },
    {
      "cell_type": "markdown",
      "metadata": {},
      "source": [
        "Output above should be:  \n",
        "`Your Name  \n",
        "is using Python!`  "
      ]
    },
    {
      "cell_type": "markdown",
      "metadata": {},
      "source": [
        "#### Use variables in print()\n",
        "- [ ] Create a variable **your_name** and assign it a string containing your name\n",
        "- [ ] Print **your_name**"
      ]
    },
    {
      "cell_type": "code",
      "execution_count": 12,
      "metadata": {
        "trusted": true
      },
      "outputs": [
        {
          "name": "stdout",
          "output_type": "stream",
          "text": [
            "Julian\n"
          ]
        }
      ],
      "source": [
        "your_name = \"Julian\"\n",
        "print(your_name)"
      ]
    },
    {
      "cell_type": "markdown",
      "metadata": {},
      "source": [
        "#### Create more string variables\n",
        "- **[ ]** Create variables and assign values for: favorite_song, show_size, lucky_number\n",
        "- **[ ]** Print the variables"
      ]
    },
    {
      "cell_type": "code",
      "execution_count": 38,
      "metadata": {
        "trusted": true
      },
      "outputs": [
        {
          "name": "stdout",
          "output_type": "stream",
          "text": [
            "Euro Light\n",
            "455\n",
            "33\n"
          ]
        }
      ],
      "source": [
        "favorite_song = \"Euro Light\"\n",
        "show_size = \"455\"\n",
        "lucky_number = \"33\"\n",
        "\n",
        "print(favorite_song)\n",
        "print(show_size)\n",
        "print(lucky_number)"
      ]
    },
    {
      "cell_type": "markdown",
      "metadata": {},
      "source": [
        "#### Use string addition\n",
        "- **[ ]**  Print the above string variables (favorite_song, shoe_size, lucky_number) combined with a description by using **string addition**\n",
        "&gt;For example, favorite_song displayed as:  \n",
        "`favorite song is happy birthday`"
      ]
    },
    {
      "cell_type": "code",
      "execution_count": 40,
      "metadata": {
        "trusted": true
      },
      "outputs": [
        {
          "name": "stdout",
          "output_type": "stream",
          "text": [
            "Favorite song is Euro Light\n",
            "Shoe size is 14\n",
            "Lucky number is 33\n"
          ]
        }
      ],
      "source": [
        "favorite_song = \"Euro Light\"\n",
        "shoe_size = \"14\"\n",
        "lucky_number = \"33\"\n",
        "\n",
        "print(\"Favorite song is \" + favorite_song)\n",
        "print(\"Shoe size is \" + shoe_size)\n",
        "print(\"Lucky number is \" + lucky_number)"
      ]
    },
    {
      "cell_type": "markdown",
      "metadata": {},
      "source": [
        "##### More string addition\n",
        "- **[ ]** Make a single string (sentence) in a variable called favorite_lucky_shoe using **string addition** with favorite_song, shoe_size, lucky_number variables and other strings as needed \n",
        "- **[ ]** Print the value of the favorite_lucky_shoe variable string\n",
        "&gt; Sample output:  \n",
        "`For singing happy birthday 8.5 times, you will be fined $25`"
      ]
    },
    {
      "cell_type": "code",
      "execution_count": 56,
      "metadata": {
        "trusted": true
      },
      "outputs": [
        {
          "name": "stdout",
          "output_type": "stream",
          "text": [
            "Euro Light will never be a person that hates the number 33 and wears a size 14\n"
          ]
        }
      ],
      "source": [
        "favorite_song = \"Euro Light\"\n",
        "shoe_size = \"14\"\n",
        "lucky_number = \"33\"\n",
        "favorite_lucky_shoe = (favorite_song + \" will never be a person that hates the number \" + lucky_number + \" and wears a size \" + shoe_size)\n",
        "\n",
        "print(favorite_lucky_shoe)"
      ]
    },
    {
      "cell_type": "markdown",
      "metadata": {},
      "source": [
        "### print() art"
      ]
    },
    {
      "cell_type": "markdown",
      "metadata": {},
      "source": [
        "#### Use `print()` spaces and the asterisk **\\*** to create the following shapes:\n",
        "- [ ] Diagonal line  \n",
        "- [ ] Rectangle  \n",
        "- [ ] Smiley face\n",
        "\n",
        "Check out the video if you are unsure of ASCII Art (it was the extra credit assignment)\n",
        "\n",
        "[![view video](https://iajupyterprodblobs.blob.core.windows.net/imagecontainer/common/play_video.png)]( http://edxinteractivepage.blob.core.windows.net/edxpages/f7cff1a7-5601-48a1-95a6-fd1fdfabd20e.html?details=[{\"src\":\"http://jupyternootbookwams.streaming.mediaservices.windows.net/d7a3d1b4-8d8d-4e9e-a984-a6920bcd7ca1/Unit1_Section1.5-ASCII_Art.ism/manifest\",\"type\":\"application/vnd.ms-sstr+xml\"}],[{\"src\":\"http://jupyternootbookwams.streaming.mediaservices.windows.net/d7a3d1b4-8d8d-4e9e-a984-a6920bcd7ca1/Unit1_Section1.5-ASCII_Art.vtt\",\"srclang\":\"en\",\"kind\":\"subtitles\",\"label\":\"english\"}])"
      ]
    },
    {
      "cell_type": "code",
      "execution_count": 61,
      "metadata": {
        "trusted": true
      },
      "outputs": [
        {
          "name": "stdout",
          "output_type": "stream",
          "text": [
            "*\n",
            " *\n",
            "  *\n",
            "   *\n",
            "    *\n",
            "***********\n",
            "*         *\n",
            "*         *\n",
            "***********\n",
            "*         *\n",
            "     *     \n",
            "*         *\n",
            " *       * \n",
            "  *******  \n"
          ]
        }
      ],
      "source": [
        "print(\"*\")\n",
        "print(\" *\")\n",
        "print(\"  *\")\n",
        "print(\"   *\")    \n",
        "print(\"    *\")\n",
        "\n",
        "print(\"***********\")\n",
        "print(\"*         *\")\n",
        "print(\"*         *\")\n",
        "print(\"***********\")\n",
        "\n",
        "print(\"*         *\")\n",
        "print(\"     *     \")\n",
        "print(\"*         *\")\n",
        "print(\" *       * \")\n",
        "print(\"  *******  \")"
      ]
    },
    {
      "cell_type": "markdown",
      "metadata": {},
      "source": [
        "### Using `type()`\n",
        "#### Calculate the *type* using `print(type())`"
      ]
    },
    {
      "cell_type": "code",
      "execution_count": 62,
      "metadata": {
        "trusted": true
      },
      "outputs": [
        {
          "name": "stdout",
          "output_type": "stream",
          "text": [
            "<class 'str'>\n"
          ]
        }
      ],
      "source": [
        "print(type('Julian Monsalve'))"
      ]
    },
    {
      "cell_type": "code",
      "execution_count": 63,
      "metadata": {
        "trusted": true
      },
      "outputs": [
        {
          "name": "stdout",
          "output_type": "stream",
          "text": [
            "<class 'str'>\n"
          ]
        }
      ],
      "source": [
        "print(type(\"save your notebook!\"))"
      ]
    },
    {
      "cell_type": "code",
      "execution_count": 64,
      "metadata": {
        "trusted": true
      },
      "outputs": [
        {
          "name": "stdout",
          "output_type": "stream",
          "text": [
            "<class 'str'>\n"
          ]
        }
      ],
      "source": [
        "print(type(\"25\"))"
      ]
    },
    {
      "cell_type": "code",
      "execution_count": 65,
      "metadata": {
        "trusted": true
      },
      "outputs": [
        {
          "name": "stdout",
          "output_type": "stream",
          "text": [
            "<class 'str'>\n"
          ]
        }
      ],
      "source": [
        "print(type(\"save your notebook \" + \"Julian Monsalve\"))"
      ]
    },
    {
      "cell_type": "code",
      "execution_count": 66,
      "metadata": {
        "trusted": true
      },
      "outputs": [
        {
          "name": "stdout",
          "output_type": "stream",
          "text": [
            "<class 'int'>\n"
          ]
        }
      ],
      "source": [
        "print(type(25))"
      ]
    },
    {
      "cell_type": "code",
      "execution_count": 67,
      "metadata": {
        "trusted": true
      },
      "outputs": [
        {
          "name": "stdout",
          "output_type": "stream",
          "text": [
            "<class 'int'>\n"
          ]
        }
      ],
      "source": [
        "print(type(25 + 10))"
      ]
    },
    {
      "cell_type": "code",
      "execution_count": 68,
      "metadata": {
        "trusted": true
      },
      "outputs": [
        {
          "name": "stdout",
          "output_type": "stream",
          "text": [
            "<class 'float'>\n"
          ]
        }
      ],
      "source": [
        "print(type(1.55))"
      ]
    },
    {
      "cell_type": "code",
      "execution_count": 69,
      "metadata": {
        "trusted": true
      },
      "outputs": [
        {
          "name": "stdout",
          "output_type": "stream",
          "text": [
            "<class 'float'>\n"
          ]
        }
      ],
      "source": [
        "print(type(1.55 + 25))"
      ]
    },
    {
      "cell_type": "markdown",
      "metadata": {},
      "source": [
        "#### Find the type of variables\n",
        "- **[ ]** Run the cell below to make the variables: **student_name, student_age, student_grade, student_id** available to be used in other code\n",
        "- **[ ]** Display the data type as directed in the cells that follow"
      ]
    },
    {
      "cell_type": "code",
      "execution_count": 70,
      "metadata": {
        "trusted": true
      },
      "outputs": [],
      "source": [
        "# assignments ***RUN THIS CELL*** before starting the section - add your variables and assign values here\n",
        "\n",
        "\n"
      ]
    },
    {
      "cell_type": "code",
      "execution_count": 71,
      "metadata": {
        "trusted": true
      },
      "outputs": [
        {
          "name": "stdout",
          "output_type": "stream",
          "text": [
            "<class 'str'>\n"
          ]
        }
      ],
      "source": [
        "# [ ] display the current type of the variable student_name\n",
        "\n",
        "print(type(\"Julian\"))"
      ]
    },
    {
      "cell_type": "code",
      "execution_count": 72,
      "metadata": {
        "trusted": true
      },
      "outputs": [
        {
          "name": "stdout",
          "output_type": "stream",
          "text": [
            "<class 'int'>\n"
          ]
        }
      ],
      "source": [
        "# [ ] display the type of student_age\n",
        "\n",
        "print(type(14))"
      ]
    },
    {
      "cell_type": "code",
      "execution_count": 73,
      "metadata": {
        "trusted": true
      },
      "outputs": [
        {
          "name": "stdout",
          "output_type": "stream",
          "text": [
            "<class 'int'>\n"
          ]
        }
      ],
      "source": [
        "# [ ] display the type of student_grade\n",
        "\n",
        "print(type(10))"
      ]
    },
    {
      "cell_type": "code",
      "execution_count": 74,
      "metadata": {
        "trusted": true
      },
      "outputs": [
        {
          "name": "stdout",
          "output_type": "stream",
          "text": [
            "<class 'int'>\n"
          ]
        }
      ],
      "source": [
        "# [ ] display the type of student_age + student_grade\n",
        "\n",
        "print(type(15 + 10))"
      ]
    },
    {
      "cell_type": "code",
      "execution_count": 75,
      "metadata": {
        "trusted": true
      },
      "outputs": [
        {
          "name": "stdout",
          "output_type": "stream",
          "text": [
            "<class 'int'>\n"
          ]
        }
      ],
      "source": [
        "# [ ] display the current type of student_id\n",
        "\n",
        "print(type(8617128496))"
      ]
    },
    {
      "cell_type": "code",
      "execution_count": 76,
      "metadata": {
        "trusted": true
      },
      "outputs": [
        {
          "name": "stdout",
          "output_type": "stream",
          "text": [
            "<class 'str'>\n"
          ]
        }
      ],
      "source": [
        "# assign new value to student_id \n",
        "\n",
        "student_id = \"8617128496\"\n",
        "\n",
        "# [ ] display the current of student_id\n",
        "\n",
        "print(type(student_id))"
      ]
    },
    {
      "cell_type": "markdown",
      "metadata": {
        "collapsed": true
      },
      "source": [
        "#### Number integer addition\n",
        "\n",
        "- **[ ]** Create variables (x, y, z) with integer values and assign them 1-3 digit integers (no decimals - no quotes)"
      ]
    },
    {
      "cell_type": "code",
      "execution_count": 77,
      "metadata": {
        "trusted": true
      },
      "outputs": [
        {
          "name": "stdout",
          "output_type": "stream",
          "text": [
            "141\n"
          ]
        }
      ],
      "source": [
        "x=(43)\n",
        "y=(91)\n",
        "z=(7)\n",
        "xyz_sum=(x + y + z)\n",
        "print(xyz_sum)"
      ]
    },
    {
      "cell_type": "markdown",
      "metadata": {},
      "source": [
        "- **[ ]** Insert a **code cell** below\n",
        "- **[ ]** Create an integer variable named **xyz_sum** equal to the sum of x, y, and z\n",
        "- **[ ]** Print the value of **xyz_sum** "
      ]
    },
    {
      "cell_type": "markdown",
      "metadata": {},
      "source": [
        "### Errors\n",
        "- **[ ]** Troubleshoot and fix the errors below - in your comments, explain what the error was and how you fixed it. "
      ]
    },
    {
      "cell_type": "code",
      "execution_count": 78,
      "metadata": {
        "trusted": true
      },
      "outputs": [
        {
          "name": "stdout",
          "output_type": "stream",
          "text": [
            "Hello World!\n"
          ]
        }
      ],
      "source": [
        "# Removed a quotation mark.\n",
        "print(\"Hello World!\")"
      ]
    },
    {
      "cell_type": "code",
      "execution_count": 79,
      "metadata": {
        "trusted": true
      },
      "outputs": [
        {
          "name": "stdout",
          "output_type": "stream",
          "text": [
            "strings have quotes and variables have names\n"
          ]
        }
      ],
      "source": [
        "# Added 2 quotation marks.\n",
        "print(\"strings have quotes and variables have names\")"
      ]
    },
    {
      "cell_type": "code",
      "execution_count": 83,
      "metadata": {
        "trusted": true
      },
      "outputs": [
        {
          "name": "stdout",
          "output_type": "stream",
          "text": [
            "I have $5\n"
          ]
        }
      ],
      "source": [
        "# Added 2 quotation marks to the number 5.\n",
        "print( \"I have $\" + \"5\")"
      ]
    },
    {
      "cell_type": "code",
      "execution_count": 84,
      "metadata": {
        "trusted": true
      },
      "outputs": [
        {
          "name": "stdout",
          "output_type": "stream",
          "text": [
            "always save the notebook\n"
          ]
        }
      ],
      "source": [
        "# Removed \" and replaced it with '.\n",
        "print('always save the notebook')"
      ]
    },
    {
      "cell_type": "markdown",
      "metadata": {
        "collapsed": true
      },
      "source": [
        "## ASCII art\n",
        "\n",
        "- **[ ]** Display first name or initials as ASCII Art\n",
        "- **[ ]** Challenge: insert an additional code cell to make an ASCII picture\n",
        "\n",
        "\n"
      ]
    },
    {
      "cell_type": "code",
      "execution_count": 87,
      "metadata": {
        "trusted": true
      },
      "outputs": [
        {
          "name": "stdout",
          "output_type": "stream",
          "text": [
            "                    JJJJJJJJJJJ                lllllll   iiii                                                         \n",
            "                    J:::::::::J                l:::::l  i::::i                                                        \n",
            "                    J:::::::::J                l:::::l   iiii                                                         \n",
            "                    JJ:::::::JJ                l:::::l                                                                \n",
            "                      J:::::Juuuuuu    uuuuuu   l::::l iiiiiii   aaaaaaaaaaaaa  nnnn  nnnnnnnn                        \n",
            "                      J:::::Ju::::u    u::::u   l::::l i:::::i   a::::::::::::a n:::nn::::::::nn                      \n",
            "                      J:::::Ju::::u    u::::u   l::::l  i::::i   aaaaaaaaa:::::an::::::::::::::nn                     \n",
            "                      J:::::ju::::u    u::::u   l::::l  i::::i            a::::ann:::::::::::::::n                    \n",
            "                      J:::::Ju::::u    u::::u   l::::l  i::::i     aaaaaaa:::::a  n:::::nnnn:::::n                    \n",
            "          JJJJJJJ     J:::::Ju::::u    u::::u   l::::l  i::::i   aa::::::::::::a  n::::n    n::::n                    \n",
            "          J:::::J     J:::::Ju::::u    u::::u   l::::l  i::::i  a::::aaaa::::::a  n::::n    n::::n                    \n",
            "          J::::::J   J::::::Ju:::::uuuu:::::u   l::::l  i::::i a::::a    a:::::a  n::::n    n::::n                    \n",
            "          J:::::::JJJ:::::::Ju:::::::::::::::uul::::::li::::::ia::::a    a:::::a  n::::n    n::::n                    \n",
            "           JJ:::::::::::::JJ  u:::::::::::::::ul::::::li::::::ia:::::aaaa::::::a  n::::n    n::::n                    \n",
            "            JJ:::::::::JJ     uu::::::::uu:::ul::::::li::::::i a::::::::::aa:::a n::::n    n::::n                     \n",
            "              JJJJJJJJJ         uuuuuuuu  uuuulllllllliiiiiiii  aaaaaaaaaa  aaaa nnnnnn    nnnnnn                     \n"
          ]
        }
      ],
      "source": [
        "# [ ] ASCII ART\n",
        "\n",
        "print(\"                    JJJJJJJJJJJ                lllllll   iiii                                                         \") \n",
        "print(\"                    J:::::::::J                l:::::l  i::::i                                                        \")\n",
        "print(\"                    J:::::::::J                l:::::l   iiii                                                         \")\n",
        "print(\"                    JJ:::::::JJ                l:::::l                                                                \")\n",
        "print(\"                      J:::::Juuuuuu    uuuuuu   l::::l iiiiiii   aaaaaaaaaaaaa  nnnn  nnnnnnnn                        \")\n",
        "print(\"                      J:::::Ju::::u    u::::u   l::::l i:::::i   a::::::::::::a n:::nn::::::::nn                      \")\n",
        "print(\"                      J:::::Ju::::u    u::::u   l::::l  i::::i   aaaaaaaaa:::::an::::::::::::::nn                     \")\n",
        "print(\"                      J:::::ju::::u    u::::u   l::::l  i::::i            a::::ann:::::::::::::::n                    \")\n",
        "print(\"                      J:::::Ju::::u    u::::u   l::::l  i::::i     aaaaaaa:::::a  n:::::nnnn:::::n                    \")\n",
        "print(\"          JJJJJJJ     J:::::Ju::::u    u::::u   l::::l  i::::i   aa::::::::::::a  n::::n    n::::n                    \")\n",
        "print(\"          J:::::J     J:::::Ju::::u    u::::u   l::::l  i::::i  a::::aaaa::::::a  n::::n    n::::n                    \")\n",
        "print(\"          J::::::J   J::::::Ju:::::uuuu:::::u   l::::l  i::::i a::::a    a:::::a  n::::n    n::::n                    \")\n",
        "print(\"          J:::::::JJJ:::::::Ju:::::::::::::::uul::::::li::::::ia::::a    a:::::a  n::::n    n::::n                    \")\n",
        "print(\"           JJ:::::::::::::JJ  u:::::::::::::::ul::::::li::::::ia:::::aaaa::::::a  n::::n    n::::n                    \")\n",
        "print(\"            JJ:::::::::JJ     uu::::::::uu:::ul::::::li::::::i a::::::::::aa:::a n::::n    n::::n                     \")\n",
        "print(\"              JJJJJJJJJ         uuuuuuuu  uuuulllllllliiiiiiii  aaaaaaaaaa  aaaa nnnnnn    nnnnnn                     \")\n",
        "                               \n"
      ]
    },
    {
      "cell_type": "markdown",
      "metadata": {},
      "source": [
        "[Terms of use](http://go.microsoft.com/fwlink/?LinkID=206977)   [Privacy &amp; cookies](https://go.microsoft.com/fwlink/?LinkId=521839)   © 2017 Microsoft"
      ]
    }
  ],
  "metadata": {
    "anaconda-cloud": {},
    "kernelspec": {
      "display_name": "Python 3",
      "language": "python",
      "name": "python3"
    },
    "language_info": {
      "codemirror_mode": {
        "name": "ipython",
        "version": 3
      },
      "file_extension": ".py",
      "mimetype": "text/x-python",
      "name": "python",
      "nbconvert_exporter": "python",
      "pygments_lexer": "ipython3",
      "version": "3.10.2"
    }
  },
  "nbformat": 4,
  "nbformat_minor": 1
}
