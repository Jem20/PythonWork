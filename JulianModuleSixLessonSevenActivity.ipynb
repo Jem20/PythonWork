{
  "cells": [
    {
      "cell_type": "markdown",
      "metadata": {},
      "source": [
        "# Module Six Lesson Seven Practice Activity\n",
        "# Julian Monsalve 3/23/2022\n",
        "# In this lesson I've learned how to use list methods.\n",
        "# No difficulties.\n",
        "## .extend(), +, .reverse(), .sort(),  reversed() and sorted() \n",
        "- for in: `for` loop using `in`\n",
        "- for range: `for range(start,stop,step)` \n",
        "- **More list methods and functions: `.extend()`, `+, .reverse(), reversed(), sorted(),  .sort()`**\n",
        "- Strings to lists,`.split()`, and list to strings, `.join()`\n",
        "\n",
        "----- \n",
        "\n",
        "### Student will be able to\n",
        "- Iterate through lists using `for` with `in`\n",
        "- Use `for range()` in looping operations\n",
        "- **Use list methods `.extend()`, `+, .reverse(), .sort()`**\n",
        "- Convert between lists and strings using `.split()` and `.join()` "
      ]
    },
    {
      "cell_type": "markdown",
      "metadata": {},
      "source": [
        "## Concept: Combine Lists\n",
        " \n",
        "  [View Concatenate List video](https://ncvps.yuja.com/V/Video?v=4515298&node=15056464&a=181150718&autoplay=1)\n",
        "  ### `+`  list addition\n",
        "###  `.extend()` list method   \n",
        "\n",
        "#### Combine lists with `+` and `.extend()`\n",
        "```python\n",
        "visited_cities = [\"New York\", \"Shanghai\", \"Munich\", \"Toyko\", \"Dubai\", \"Mexico City\", \"São Paulo\", \"Hyderabad\"]\n",
        "wish_cities = [\"Reykjavík\", \"Moscow\", \"Beijing\", \"Lamu\"]\n",
        "# combine in a new list\n",
        "all_cities = visited_cities + wish_cities\n",
        "\n",
        "# add a list to an existing list\n",
        "visited_cities.extend(wish_cities)\n",
        "```"
      ]
    },
    {
      "cell_type": "markdown",
      "metadata": {},
      "source": [
        "### Examples"
      ]
    },
    {
      "cell_type": "code",
      "execution_count": 1,
      "metadata": {
        "trusted": false
      },
      "outputs": [
        {
          "name": "stdout",
          "output_type": "stream",
          "text": [
            "ALL CITIES ['New York', 'Shanghai', 'Munich', 'Toyko', 'Dubai', 'Mexico City', 'São Paulo', 'Hyderabad', 'Reykjavík', 'Moscow', 'Beijing', 'Lamu']\n"
          ]
        }
      ],
      "source": [
        "# [ ] review and run example\n",
        "visited_cities = [\"New York\", \"Shanghai\", \"Munich\", \"Toyko\", \"Dubai\", \"Mexico City\", \"São Paulo\", \"Hyderabad\"]\n",
        "wish_cities = [\"Reykjavík\", \"Moscow\", \"Beijing\", \"Lamu\"]\n",
        "\n",
        "# .extend() \n",
        "# extending visited_cities list (IN PLACE) by concatenating wish_cities\n",
        "visited_cities.extend(wish_cities)\n",
        "print(\"ALL CITIES\",visited_cities)"
      ]
    },
    {
      "cell_type": "code",
      "execution_count": 2,
      "metadata": {
        "trusted": false
      },
      "outputs": [
        {
          "name": "stdout",
          "output_type": "stream",
          "text": [
            "ALL CITIES\n",
            "New York\n",
            "Shanghai\n",
            "Munich\n",
            "Toyko\n",
            "Dubai\n",
            "Mexico City\n",
            "São Paulo\n",
            "Hyderabad\n",
            "Reykjavík\n",
            "Moscow\n",
            "Beijing\n",
            "Lamu\n"
          ]
        }
      ],
      "source": [
        "# [ ] review and run example\n",
        "visited_cities = [\"New York\", \"Shanghai\", \"Munich\", \"Toyko\", \"Dubai\", \"Mexico City\", \"São Paulo\", \"Hyderabad\"]\n",
        "wish_cities = [\"Reykjavík\", \"Moscow\", \"Beijing\", \"Lamu\"]\n",
        "\n",
        "# (+) Addition operator for lists creates a (NEW) combined List\n",
        "all_cities = visited_cities + wish_cities\n",
        "\n",
        "print(\"ALL CITIES\")\n",
        "for city in all_cities:\n",
        "    print(city)"
      ]
    },
    {
      "cell_type": "code",
      "execution_count": 3,
      "metadata": {
        "trusted": false
      },
      "outputs": [
        {
          "name": "stdout",
          "output_type": "stream",
          "text": [
            "Team A: [0, 2, 2, 2, 4, 4, 4, 5, 6, 6, 6] \n",
            "Team B: [0, 0, 0, 1, 1, 2, 3, 3, 3, 6, 8]\n",
            "Team Totals [0, 2, 2, 2, 4, 4, 4, 5, 6, 6, 6, 0, 0, 0, 1, 1, 2, 3, 3, 3, 6, 8]\n"
          ]
        }
      ],
      "source": [
        "# [ ] review and run example\n",
        "team_a = [0,2,2,2,4,4,4,5,6,6,6]\n",
        "team_b = [0,0,0,1,1,2,3,3,3,6,8]\n",
        "print(\"Team A:\", team_a, \"\\nTeam B:\",team_b)\n",
        "\n",
        "# (+) Addition operator \n",
        "team_totals = team_a + team_b\n",
        "print(\"Team Totals\", team_totals)"
      ]
    },
    {
      "cell_type": "code",
      "execution_count": 4,
      "metadata": {
        "trusted": false
      },
      "outputs": [
        {
          "name": "stdout",
          "output_type": "stream",
          "text": [
            "Team_a extended [0, 2, 2, 2, 4, 4, 4, 5, 6, 6, 6, 0, 0, 0, 1, 1, 2, 3, 3, 3, 6, 8]\n"
          ]
        }
      ],
      "source": [
        "# [ ] review and run example after running cell above\n",
        "# .extend() \n",
        "team_a.extend(team_b)\n",
        "print(\"Team_a extended\", team_a)\n",
        "\n",
        "# what happens if you keep running this cell?"
      ]
    },
    {
      "cell_type": "markdown",
      "metadata": {
        "collapsed": true
      },
      "source": [
        "## Task 1: Combine lists"
      ]
    },
    {
      "cell_type": "code",
      "execution_count": 5,
      "metadata": {
        "trusted": false
      },
      "outputs": [
        {
          "name": "stdout",
          "output_type": "stream",
          "text": [
            "['chicken', 'blue jay', 'crow', 'pigeon', ['blue jay', 'crow']]\n"
          ]
        }
      ],
      "source": [
        "# [ ] extend the list common_birds with list birds_seen which you must create\n",
        "common_birds = [\"chicken\", \"blue jay\", \"crow\", \"pigeon\"]\n",
        "\n",
        "birds_seen = [\"blue jay\", \"crow\"]\n",
        "common_birds.append(birds_seen)\n",
        "print(common_birds)"
      ]
    },
    {
      "cell_type": "code",
      "execution_count": 6,
      "metadata": {
        "trusted": false
      },
      "outputs": [
        {
          "name": "stdout",
          "output_type": "stream",
          "text": [
            "[[1, 2, 3, 4, 5, 6, 7, 8, 9], [10, 20, 30, 40, 50, 60, 70, 80, 90, 100]]\n"
          ]
        }
      ],
      "source": [
        "# [ ] Create 2 lists zero_nine and ten_onehundred that contain 1-9, and 10 - 100 by 10's.\n",
        "# [ ] use list addition to concatenate the lists into all_num and print\n",
        "\n",
        "zero_nine = [1, 2, 3, 4, 5, 6, 7, 8, 9]\n",
        "ten_onehundred = [10, 20 , 30, 40 ,50, 60, 70, 80, 90, 100]\n",
        "all_num = []\n",
        "all_num.append(zero_nine)\n",
        "all_num.append(ten_onehundred)\n",
        "print(all_num)"
      ]
    },
    {
      "cell_type": "markdown",
      "metadata": {},
      "source": [
        "## Concept: Reverse a list in place\n",
        "### .reverse()\n",
        " \n",
        "  [View Reverse Lists video](https://ncvps.yuja.com/V/Video?v=4515302&node=15056468&a=361498094&autoplay=1)\n",
        "\n",
        "```python\n",
        "cities_1 = [\"Dubai\", \"Mexico City\", \"São Paulo\", \"Hyderabad\"]\n",
        "\n",
        "print(\"regular\", cities_1)\n",
        "cities_1.reverse()\n",
        "print(\"reversed\", cities_1)\n",
        "```\n",
        "You may use .reverse() for the purposes of this activity, but if you want to explore using reversed(), here is an important note:\n",
        "\n",
        "The reversed() function allows us to process the items in a sequence in reverse order. It accepts a sequence and returns an iterator. As you usually are interested in reversing the list and having it be a list, you need to cast it. \n",
        "\n",
        "Example: \n",
        "\n",
        "reversed(my_list) would return a message like: list_reverseiterator object at 0x7f457d8bd5f8 \n",
        "\n",
        "list(reversed(my_list)) would return my_list in reverse order."
      ]
    },
    {
      "cell_type": "markdown",
      "metadata": {},
      "source": [
        "### Examples"
      ]
    },
    {
      "cell_type": "code",
      "execution_count": 7,
      "metadata": {
        "trusted": false
      },
      "outputs": [
        {
          "name": "stdout",
          "output_type": "stream",
          "text": [
            "regular ['Dubai', 'Mexico City', 'São Paulo', 'Hyderabad']\n",
            "reversed ['Hyderabad', 'São Paulo', 'Mexico City', 'Dubai']\n"
          ]
        }
      ],
      "source": [
        "# [ ] review and run example\n",
        "cities_1 = [\"Dubai\", \"Mexico City\", \"São Paulo\", \"Hyderabad\"]\n",
        "\n",
        "print(\"regular\", cities_1)\n",
        "cities_1.reverse()\n",
        "print(\"reversed\", cities_1)"
      ]
    },
    {
      "cell_type": "code",
      "execution_count": 8,
      "metadata": {
        "trusted": false
      },
      "outputs": [
        {
          "name": "stdout",
          "output_type": "stream",
          "text": [
            "regular list [0, 1, 2, 3, 4, 5, 6, 7, 8, 9, 10, 20, 30, 40, 50, 60, 70, 80, 90, 100] \n",
            "\n",
            "reverse list [100, 90, 80, 70, 60, 50, 40, 30, 20, 10, 9, 8, 7, 6, 5, 4, 3, 2, 1, 0] \n",
            "\n",
            "Three Multiple\n",
            "90\n",
            "60\n",
            "30\n",
            "9\n",
            "6\n",
            "3\n",
            "0\n"
          ]
        }
      ],
      "source": [
        "# [ ] review and run example\n",
        "all_num = [0, 1, 2, 3, 4, 5, 6, 7, 8, 9, 10, 20, 30, 40, 50, 60, 70, 80, 90, 100]\n",
        "print(\"regular list\",all_num, \"\\n\")\n",
        "all_num.reverse()\n",
        "print(\"reverse list\",all_num, \"\\n\")\n",
        "num_len = len(all_num)\n",
        "\n",
        "print(\"Three Multiple\")\n",
        "for num in all_num:\n",
        "    if num/3 == int(num/3):\n",
        "        print(num)\n",
        "    else:\n",
        "        pass\n",
        "    "
      ]
    },
    {
      "cell_type": "code",
      "execution_count": 9,
      "metadata": {
        "trusted": false
      },
      "outputs": [
        {
          "name": "stdout",
          "output_type": "stream",
          "text": [
            "before list [0, 1, 2, 3, 4, 5, 6, 7, 8, 9, 10, 11, 12, 13, 14, 15, 16, 17, 18, 19, 20]\n",
            "after list [20, 19, 18, 17, 16, 15, 14, 13, 12, 11, 10, 9, 8, 7, 6, 5, 4, 3, 2, 1, 0]\n"
          ]
        }
      ],
      "source": [
        "# [ ] review and run example\n",
        "# create a list of  numbers by casting a range \n",
        "count_list = list(range(21))\n",
        "print(\"before list\", count_list)\n",
        "\n",
        "# and reverse\n",
        "count_list.reverse()\n",
        "print(\"after list\", count_list)"
      ]
    },
    {
      "cell_type": "markdown",
      "metadata": {
        "collapsed": true
      },
      "source": [
        "## Task 2: .reverse()"
      ]
    },
    {
      "cell_type": "code",
      "execution_count": 10,
      "metadata": {
        "trusted": false
      },
      "outputs": [
        {
          "name": "stdout",
          "output_type": "stream",
          "text": [
            "[100, 95, 90, 85, 80, 75, 70, 65, 60, 55, 50, 45, 40, 35, 30, 25, 20, 15, 10, 5]\n"
          ]
        }
      ],
      "source": [
        "# [ ] create and  print a list of multiples of 5 from 5 to 100\n",
        "# { ] reverse the list and print\n",
        "\n",
        "multiples_list = [5, 10, 15, 20, 25, 30, 35, 40, 45, 50, 55, 60, 65, 70, 75, 80, 85, 90, 95, 100]\n",
        "multiples_list.reverse()\n",
        "print(multiples_list)"
      ]
    },
    {
      "cell_type": "code",
      "execution_count": 11,
      "metadata": {
        "trusted": false
      },
      "outputs": [
        {
          "name": "stdout",
          "output_type": "stream",
          "text": [
            "[44, 40, 36, 32, 28, 24, 20, 16, 12, 8, 4, [4, 8, 12, 16, 20, 24, 28, 32, 36, 40, 44]]\n"
          ]
        }
      ],
      "source": [
        "# [ ] Create two lists: fours & more_fours containing multiples of four from 4 to 44\n",
        "# [ ] combine and print so that the output is mirrored [44, 40,...8, 4, 4, 8, ...40, 44]\n",
        "\n",
        "fours = [4, 8, 12, 16, 20, 24, 28, 32, 36, 40 ,44]\n",
        "more_fours = [4, 8, 12, 16, 20, 24, 28, 32, 36, 40 ,44]\n",
        "fours.reverse()\n",
        "fours.append(more_fours)\n",
        "print(fours)"
      ]
    },
    {
      "cell_type": "markdown",
      "metadata": {},
      "source": [
        "## Concept: .sort() and sorted()\n",
        "  \n",
        "  [View Sort and Sorted Lists video](https://ncvps.yuja.com/V/Video?v=4515310&node=15056485&a=1975437971&autoplay=1)\n",
        "\n",
        " \n",
        "\n",
        "### .sort() in place  \n",
        "**.sort()** - orders a list in place \n",
        "```python\n",
        "quiz_scores = [20, 19, 20, 15, 20, 20, 20, 18, 18, 18, 19]\n",
        "quiz_scores.sort()\n",
        "```  \n",
        "\n",
        "### sorted() copy\n",
        "**sorted()** - creates an ordered list copy \n",
        "```python\n",
        "game_points = [3, 14, 0, 8, 21, 1, 3, 8]\n",
        "sorted_points = sorted(game_points)\n",
        "```"
      ]
    },
    {
      "cell_type": "markdown",
      "metadata": {},
      "source": [
        "### Examples: .sort() and sorted()"
      ]
    },
    {
      "cell_type": "code",
      "execution_count": 12,
      "metadata": {
        "trusted": false
      },
      "outputs": [
        {
          "name": "stdout",
          "output_type": "stream",
          "text": [
            "quiz_scores: [15, 18, 18, 18, 19, 19, 20, 20, 20, 20, 20]\n"
          ]
        }
      ],
      "source": [
        "# [ ] review and run example\n",
        "quiz_scores = [20, 19, 20, 15, 20, 20, 20, 18, 18, 18, 19]\n",
        "\n",
        "# use .sort()\n",
        "quiz_scores.sort()\n",
        "\n",
        "print(\"quiz_scores:\", quiz_scores)"
      ]
    },
    {
      "cell_type": "code",
      "execution_count": 13,
      "metadata": {
        "trusted": false
      },
      "outputs": [
        {
          "name": "stdout",
          "output_type": "stream",
          "text": [
            "game_points: [3, 14, 0, 8, 21, 1, 3, 8]\n",
            "sorted_points: [0, 1, 3, 3, 8, 8, 14, 21]\n"
          ]
        }
      ],
      "source": [
        "# [ ] review and run example\n",
        "game_points = [3, 14, 0, 8, 21, 1, 3, 8]\n",
        "\n",
        "# use sorted()\n",
        "sorted_points = sorted(game_points)\n",
        "\n",
        "print(\"game_points:\", game_points)\n",
        "print(\"sorted_points:\", sorted_points)"
      ]
    },
    {
      "cell_type": "code",
      "execution_count": 14,
      "metadata": {
        "trusted": false
      },
      "outputs": [
        {
          "name": "stdout",
          "output_type": "stream",
          "text": [
            "Unsorted ['Dubai', 'Mexico City', 'São Paulo', 'Hyderabad']\n",
            "Sorted ['Dubai', 'Hyderabad', 'Mexico City', 'São Paulo']\n"
          ]
        }
      ],
      "source": [
        "# [ ] review and run example\n",
        "cities_1 = [\"Dubai\", \"Mexico City\", \"São Paulo\", \"Hyderabad\"]\n",
        "\n",
        "print(\"Unsorted\", cities_1)\n",
        "cities_1.sort()\n",
        "print(\"Sorted\", cities_1)"
      ]
    },
    {
      "cell_type": "markdown",
      "metadata": {
        "collapsed": true
      },
      "source": [
        "## Task 3: .sort() &amp; sorted()"
      ]
    },
    {
      "cell_type": "code",
      "execution_count": 16,
      "metadata": {
        "trusted": false
      },
      "outputs": [
        {
          "name": "stdout",
          "output_type": "stream",
          "text": [
            "New York\n",
            "Munich\n",
            "Dubai\n",
            "Mexico City\n",
            "Hyderabad\n"
          ]
        }
      ],
      "source": [
        "# [ ] print cites from visited_cities list in alphbetical order using .sort()\n",
        "# [ ] only print cities that names start \"Q\" or earlier\n",
        "visited_cities = [\"New York\", \"Shanghai\", \"Munich\", \"Toyko\", \"Dubai\", \"Mexico City\", \"São Paulo\", \"Hyderabad\"]\n",
        "\n",
        "for city in visited_cities:\n",
        "     first_character = city[0]\n",
        "     if ord(first_character) >= ord('A') and ord(first_character) <= ord('Q'):\n",
        "             print(city)"
      ]
    },
    {
      "cell_type": "code",
      "execution_count": 17,
      "metadata": {
        "trusted": false
      },
      "outputs": [
        {
          "name": "stdout",
          "output_type": "stream",
          "text": [
            "['Dubai', 'Hyderabad', 'Mexico City', 'Munich', 'New York', 'Shanghai', 'São Paulo', 'Toyko']\n",
            "['Dubai', 'Hyderabad', 'Mexico City', 'Munich', 'New York']\n"
          ]
        }
      ],
      "source": [
        "# [ ] make a sorted copy (sorted_cities) of visited_cities list\n",
        "# [ ] remove city names 5 characters or less from sorted_cities \n",
        "# [ ] print visitied cites and sorted cities\n",
        "visited_cities = [\"New York\", \"Shanghai\", \"Munich\", \"Toyko\", \"Dubai\", \"Mexico City\", \"São Paulo\", \"Hyderabad\"]\n",
        "\n",
        "sorted_cities = sorted(visited_cities)\n",
        "print(sorted_cities)\n",
        "print(sorted_cities[0:5])"
      ]
    },
    {
      "cell_type": "markdown",
      "metadata": {
        "collapsed": true
      },
      "source": [
        "## Task 4 (program): Merge &amp; Sort Animals\n",
        "Create a program that \n",
        "- takes user to build a list: add_animals \n",
        "- merges add_anmials with exisiting list: anmimals\n",
        "- provides a sorted list to view in alpa or reverse alpha order"
      ]
    },
    {
      "cell_type": "markdown",
      "metadata": {},
      "source": [
        "\n",
        "<font> <b>step 1 </b></font> get user input to build add_animals list\n"
      ]
    },
    {
      "cell_type": "code",
      "execution_count": 18,
      "metadata": {
        "trusted": false
      },
      "outputs": [
        {
          "name": "stdout",
          "output_type": "stream",
          "text": [
            "['cheetah', 'bear', 'lion']\n"
          ]
        }
      ],
      "source": [
        "# [ ] build a list (add_animals) using a while loop, stop adding when an empty string is entered\n",
        "add_animals = []\n",
        "\n",
        "user_add = input(\"enter some animals: \")\n",
        "while user_add != \"\":\n",
        "    add_animals.append(user_add)\n",
        "    user_add = input(\"enter some animals: \")\n",
        "print(add_animals)"
      ]
    },
    {
      "cell_type": "markdown",
      "metadata": {},
      "source": [
        "\n",
        "<font> <b>step 2 </b></font> Merge the lists: add_animals into animals\n"
      ]
    },
    {
      "cell_type": "code",
      "execution_count": 19,
      "metadata": {
        "trusted": false
      },
      "outputs": [
        {
          "name": "stdout",
          "output_type": "stream",
          "text": [
            "['Chimpanzee', 'Panther', 'Wolf', 'Armadillo', 'cheetah', 'bear', 'lion']\n"
          ]
        }
      ],
      "source": [
        "# [ ] extend the lists into animals, then sort \n",
        "animals = [\"Chimpanzee\", \"Panther\", \"Wolf\", \"Armadillo\"]\n",
        "animals.extend(add_animals)\n",
        "print(animals)"
      ]
    },
    {
      "cell_type": "markdown",
      "metadata": {},
      "source": [
        "\n",
        "<font> <b>step 3 </b></font> Allow animals list to be viewed alpha or reverse alpha order\n"
      ]
    },
    {
      "cell_type": "code",
      "execution_count": 20,
      "metadata": {
        "trusted": false
      },
      "outputs": [
        {
          "name": "stdout",
          "output_type": "stream",
          "text": [
            "['lion', 'cheetah', 'bear', 'Wolf', 'Panther', 'Chimpanzee', 'Armadillo']\n"
          ]
        }
      ],
      "source": [
        "# [ ] get input if list should be viewed alpha or reverse alpha and display list\n",
        "\n",
        "animals.sort()\n",
        "animals.reverse()\n",
        "print(animals)"
      ]
    },
    {
      "cell_type": "markdown",
      "metadata": {
        "collapsed": true
      },
      "source": [
        "[Terms of use](http://go.microsoft.com/fwlink/?LinkID=206977)   [Privacy &amp; cookies](https://go.microsoft.com/fwlink/?LinkId=521839)   © 2017 Microsoft"
      ]
    }
  ],
  "metadata": {
    "anaconda-cloud": {},
    "kernelspec": {
      "display_name": "Python 3",
      "language": "python",
      "name": "python3"
    },
    "language_info": {
      "codemirror_mode": {
        "name": "ipython",
        "version": 3
      },
      "file_extension": ".py",
      "mimetype": "text/x-python",
      "name": "python",
      "nbconvert_exporter": "python",
      "pygments_lexer": "ipython3",
      "version": "3.10.3"
    }
  },
  "nbformat": 4,
  "nbformat_minor": 1
}
