{
  "cells": [
    {
      "cell_type": "markdown",
      "metadata": {
        "id": "BnQm8OSytqNm"
      },
      "source": [
        "#  Module 2 Project  \n",
        "\n",
        "Course 40461: Introduction to Python, Unit 2\n",
        "\n",
        "This is an activity based on the Module 2 Lab, which you may have already completed.\n",
        "\n",
        "| Important Assignment Requirements |  \n",
        "|:-------------------------------|  \n",
        "| **NOTE:** This program requires creating a function using **`def`** and **`return`**, using **`print`** output, **`input`**, **`if`**, **`in`** keywords, **`.append()`**, **`.pop()`**, **`.remove()`** list methods.  As well as other standard Python. |   \n",
        "\n",
        "## Program: list-o-matic  \n",
        "This program takes string input and checks if that string is in a list of strings.    \n",
        "- If the string is in the list it removes the first instance from list  \n",
        "- If the string is not in the list the input gets appended to the list  \n",
        "- If the string is empty then the last item is popped from the list \n",
        "- If the **list becomes empty** the program ends  \n",
        "- If the user enters \"quit\" then the program ends  \n",
        "\n",
        "The program has two parts:  \n",
        "- **program flow** which can be modified to ask for a specific type of item.  This is the programmers choice.  Add a list of fish, trees, books, movies, songs.... your choice.  \n",
        "- **list-o-matic** Function which takes arguments of a string and a list.  The function modifies the list and returns a message as seen below.  \n",
        "\n",
        "![TODO: upload image to blob](https://q4tiyg-ch3302.files.1drv.com/y4mkvwrxHSIqinTvp_nNGFiMn_yyJ0dsEtCzPpG_hsFMRdyEED4ExPdsWmbdPIKRpgU25VxFIUAGBdz0yzqumtxw7wy_pAJMJ3MeZ6PJQKyej6UwN6N6zOmnRq6106aqvXJB43RKRJgB2oMmidb9Zl0OBjmvFVowm-XtD2wUW5bJrgd4LS8I5Nso_vXqfpNCANRYcKe4WnjIWds4KoV4sjPIg?width=717&height=603&cropmode=none)\n",
        "\n",
        "**[ ]** initialize a list with several strings at the beginning of the program flow and follow the flow chart and output examples\n",
        "\n",
        " *example input/output*  \n",
        " ```\n",
        "look at all the animals ['cat', 'goat', 'cat']\n",
        "enter the name of an animal: horse\n",
        "1 instance of horse appended to list\n",
        "\n",
        "look at all the animals ['cat', 'goat', 'cat', 'horse']\n",
        "enter the name of an animal: cat\n",
        "1 instance of cat removed from list\n",
        "\n",
        "look at all the animals ['goat', 'cat', 'horse']\n",
        "enter the name of an animal: cat\n",
        "1 instance of cat removed from list\n",
        "\n",
        "look at all the animals ['goat', 'horse']\n",
        "enter the name of an animal:          (<-- entered empty string)\n",
        "horse popped from list\n",
        "\n",
        "look at all the animals ['goat']\n",
        "enter the name of an animal:          (<-- entered empty string)\n",
        "goat popped from list\n",
        "\n",
        "Goodbye!\n",
        "```  \n",
        "\n",
        "*example 2*\n",
        "```\n",
        "look at all the animals ['cat', 'goat', 'cat']\n",
        "enter the name of an animal: Quit\n",
        "Goodbye!\n",
        "```  \n",
        "\n"
      ]
    },
    {
      "cell_type": "code",
      "execution_count": 5,
      "metadata": {
        "collapsed": true,
        "id": "rnpG-jUXtqNu"
      },
      "outputs": [
        {
          "name": "stdout",
          "output_type": "stream",
          "text": [
            "Look at my list of fish: ['salmon', 'cod']\n",
            "Look at my list of fish: ['salmon', 'cod']\n",
            "1 instance of puffer appended to list\n",
            "['salmon', 'cod', 'puffer']\n",
            "Look at my list of fish: ['salmon', 'cod', 'puffer']\n",
            "cod has been removed from list\n",
            "['salmon', 'puffer']\n",
            "Goodbye, and thanks for all the fish!\n",
            "Goodbye!\n"
          ]
        }
      ],
      "source": [
        "# [] create list-o-matic\n",
        "\n",
        "fish_list = [\"salmon\", \"cod\"]\n",
        "print(\"Look at my list of fish: \" + str(fish_list))\n",
        "\n",
        "def list_o_matic(fstring):\n",
        "  if fstring == \"\":\n",
        "    fstring = fish_list.pop()\n",
        "    print(fstring.lower() + \" popped from list\")\n",
        "    return fish_list.pop()\n",
        "  elif fstring.lower() in fish_list:\n",
        "    print(fstring.lower() + \" has been removed from list\")\n",
        "    return fish_list.remove(fstring)\n",
        "  else:\n",
        "    print(\"1 instance of \" + fstring.lower() + \" appended to list\")\n",
        "    return fish_list.append(fstring)\n",
        "\n",
        "while fish_list:\n",
        "  new_fish = input(\"Enter any type of fish or Q to quit: \")\n",
        "  if new_fish.upper() == \"Q\":\n",
        "    print(\"Goodbye, and thanks for all the fish!\")\n",
        "    break\n",
        "  else:\n",
        "    print(\"Look at my list of fish: \" + str(fish_list))\n",
        "    list_o_matic(new_fish)\n",
        "    print(fish_list)\n",
        "print(\"Goodbye!\")"
      ]
    },
    {
      "cell_type": "markdown",
      "metadata": {
        "id": "KAdLZreotqNv"
      },
      "source": [
        "[Terms of use](http://go.microsoft.com/fwlink/?LinkID=206977) &nbsp; [Privacy & cookies](https://go.microsoft.com/fwlink/?LinkId=521839) &nbsp; © 2017 Microsoft"
      ]
    }
  ],
  "metadata": {
    "anaconda-cloud": {},
    "colab": {
      "name": "ModuleSixTakeTwoActivity.ipynb",
      "provenance": []
    },
    "kernelspec": {
      "display_name": "Python 3",
      "language": "python",
      "name": "python3"
    },
    "language_info": {
      "codemirror_mode": {
        "name": "ipython",
        "version": 3
      },
      "file_extension": ".py",
      "mimetype": "text/x-python",
      "name": "python",
      "nbconvert_exporter": "python",
      "pygments_lexer": "ipython3",
      "version": "3.10.4"
    }
  },
  "nbformat": 4,
  "nbformat_minor": 0
}
