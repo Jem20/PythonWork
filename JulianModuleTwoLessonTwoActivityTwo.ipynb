{
  "cells": [
    {
      "metadata": {
        "id": "z4MzPtcKjZme"
      },
      "cell_type": "markdown",
      "source": [
        "# Module Two Lesson Two Practice Activity Two\n",
        "# Julian Monsalve 1/27/2022\n",
        "# I've learned how to combine strings and write code using variables.\n",
        "# No difficulties.\n",
        "##  Type() Function\n",
        "- Python 3 in Jupyter notebooks\n",
        "- `print()`\n",
        "- Comments  \n",
        "- **Data types basics**\n",
        "- **Variables**  \n",
        "- Addition with Strings and Integers\n",
        "- Errors  \n",
        "- Character art  \n",
        "\n",
        "-----\n",
        "\n",
        "\n",
        "### Student will be able to\n",
        "- Use Python 3 in Jupyter notebooks\n",
        "- Write working code using `print()` and `#` comments  \n",
        "- **Write working code using `type()` and variables**\n",
        "- Combine Strings using string addition (+)\n",
        "- Add numbers in code (+)\n",
        "- Troubleshoot errors\n",
        "- Create character art\n",
        "\n",
        "#### Before submission: Remember you need to add descriptive comments in each cell (examples AND tasks) that explains what your code is doing.  "
      ]
    },
    {
      "metadata": {
        "id": "7TGmOOVajZmh"
      },
      "cell_type": "markdown",
      "source": [
        "## Concept: Using the Python `type()` Function\n",
        "**`type()`** returns the data type of Python objects.\n",
        "\n",
        "[![view video](https://iajupyterprodblobs.blob.core.windows.net/imagecontainer/common/play_video.png)]( http://edxinteractivepage.blob.core.windows.net/edxpages/f7cff1a7-5601-48a1-95a6-fd1fdfabd20e.html?details=[{\"src\":\"http://jupyternootbookwams.streaming.mediaservices.windows.net/b8fbc662-a42e-4a4a-8cfc-564cb240576e/Unit1_Section1.3-Type.ism/manifest\",\"type\":\"application/vnd.ms-sstr+xml\"}],[{\"src\":\"http://jupyternootbookwams.streaming.mediaservices.windows.net/b8fbc662-a42e-4a4a-8cfc-564cb240576e/Unit1_Section1.3-Type.vtt\",\"srclang\":\"en\",\"kind\":\"subtitles\",\"label\":\"english\"}])\n",
        "\n",
        "### `str`, `int`, `float`  \n",
        "#### What does using `type()` reveal?\n",
        "- **`str`**: when **type()** returns **str** that means it has evaluated a **string** characters (numbers, letters, punctuation...) in quotes \n",
        "- **`int`**: when **type()** returns **int** that means it has evaluated an **Integer** (+/- whole numbers) \n",
        "- **`float`**: when **type()** returns **`float`** that means it has evaluated decimal numbers (e.g. 3.33, 0.01, 9.9999 and 3.0), ...more later in the course\n",
        "\n",
        "### **Important Note**: \n",
        "- Most Python interpreters do not return anything from the type() command alone. You must use print(type()) to get output.  While Juypter Notebooks does, we will adopt best practice in this course and expect you to always use print(type()) when you are determining the data type of a variable. "
      ]
    },
    {
      "metadata": {
        "id": "GYAyP2n1jZmi"
      },
      "cell_type": "markdown",
      "source": [
        "### Examples\n",
        "- Read and run the code for each example.  \n",
        "- Before submission: Remember you always need to add descriptive comments(starting with a #) in the same cell right before your code that explains what your code is doing.  This is true for ALL examples AND Tasks. "
      ]
    },
    {
      "metadata": {
        "trusted": true,
        "colab": {
          "base_uri": "https://localhost:8080/"
        },
        "id": "sAQW-MLyjZmj",
        "outputId": "1902cca1-199c-477c-c18f-a813d40477b1"
      },
      "cell_type": "code",
      "source": [
        "print(type(\"Hello World!\"))"
      ],
      "execution_count": 1,
      "outputs": [
        {
          "output_type": "stream",
          "name": "stdout",
          "text": [
            "<class 'str'>\n"
          ]
        }
      ]
    },
    {
      "metadata": {
        "trusted": true,
        "colab": {
          "base_uri": "https://localhost:8080/"
        },
        "id": "R0W33FBbjZmk",
        "outputId": "7b520675-82b0-4f18-caec-afad9d4eb841"
      },
      "cell_type": "code",
      "source": [
        "print(type(501))"
      ],
      "execution_count": 2,
      "outputs": [
        {
          "output_type": "stream",
          "name": "stdout",
          "text": [
            "<class 'int'>\n"
          ]
        }
      ]
    },
    {
      "metadata": {
        "trusted": true,
        "colab": {
          "base_uri": "https://localhost:8080/"
        },
        "id": "vNdVOkwLjZmk",
        "outputId": "cce316a8-4c5b-409a-fc46-8c6ecd81e074"
      },
      "cell_type": "code",
      "source": [
        "print(type(8.33333))"
      ],
      "execution_count": 3,
      "outputs": [
        {
          "output_type": "stream",
          "name": "stdout",
          "text": [
            "<class 'float'>\n"
          ]
        }
      ]
    },
    {
      "metadata": {
        "trusted": true,
        "colab": {
          "base_uri": "https://localhost:8080/"
        },
        "id": "FPFWcTF0jZml",
        "outputId": "4da84eb8-e7af-478a-8823-e33a60cb4fd9"
      },
      "cell_type": "code",
      "source": [
        "student_name = \"Colette Browning\"\n",
        "print(type(student_name))"
      ],
      "execution_count": 4,
      "outputs": [
        {
          "output_type": "stream",
          "name": "stdout",
          "text": [
            "<class 'str'>\n"
          ]
        }
      ]
    },
    {
      "metadata": {
        "id": "kEQhIGrCjZml"
      },
      "cell_type": "markdown",
      "source": [
        "## Task 1 (multi-part): Using `type()`\n",
        "- Complete the \"identify data types\" tasks by assigning  values to the variable  **`bucket`** and using **`type()`**.\n",
        "- Before submission: Remember you always need to add descriptive comments(starting with a #) in the same cell right before your code that explains what your code is doing.  This is true for ALL examples AND Tasks. "
      ]
    },
    {
      "metadata": {
        "trusted": true,
        "id": "TWgDbO3ajZms"
      },
      "cell_type": "code",
      "source": [
        "# [ ] show the type after assigning bucket = a whole number value such as 16 \n",
        "\n",
        "\n"
      ],
      "execution_count": 5,
      "outputs": []
    },
    {
      "metadata": {
        "trusted": true,
        "id": "VdwEsnsIjZmt"
      },
      "cell_type": "code",
      "source": [
        "# [ ] show  the type after assigning bucket = a word in \"double quotes\"\n",
        "\n",
        "\n"
      ],
      "execution_count": 6,
      "outputs": []
    },
    {
      "metadata": {
        "trusted": true,
        "id": "FIYDWWxfjZmt"
      },
      "cell_type": "code",
      "source": [
        "# [ ] display the type of 'single quoting' (use single quotes) \n",
        "\n",
        "\n"
      ],
      "execution_count": 7,
      "outputs": []
    },
    {
      "metadata": {
        "trusted": true,
        "id": "er5iTHGmjZmt"
      },
      "cell_type": "code",
      "source": [
        "# [ ] display the type of \"double quoting\" (use double quotes)\n",
        "\n"
      ],
      "execution_count": 8,
      "outputs": []
    },
    {
      "metadata": {
        "trusted": true,
        "id": "SMhxgmCRjZmu"
      },
      "cell_type": "code",
      "source": [
        "# [ ] display the type of \"12\" (use quotes)\n",
        "\n"
      ],
      "execution_count": 9,
      "outputs": []
    },
    {
      "metadata": {
        "trusted": true,
        "id": "3p9iDGFSjZmu"
      },
      "cell_type": "code",
      "source": [
        "# [ ] display the type of 12 (no quotes)\n",
        "\n"
      ],
      "execution_count": 10,
      "outputs": []
    },
    {
      "metadata": {
        "trusted": true,
        "id": "L0a-6L_2jZmu"
      },
      "cell_type": "code",
      "source": [
        "# [ ] display the type of -12 (no quotes)\n",
        "\n"
      ],
      "execution_count": 11,
      "outputs": []
    },
    {
      "metadata": {
        "trusted": true,
        "id": "pn-qRDfvjZmu"
      },
      "cell_type": "code",
      "source": [
        "# [ ] display the type of 12.0 (no quotes)\n",
        "\n"
      ],
      "execution_count": 12,
      "outputs": []
    },
    {
      "metadata": {
        "trusted": true,
        "id": "OWuFZhR-jZmv"
      },
      "cell_type": "code",
      "source": [
        "# [ ] display the type of 1.55\n",
        "\n"
      ],
      "execution_count": 13,
      "outputs": []
    },
    {
      "metadata": {
        "trusted": true,
        "id": "Xd5_gb8sjZmv"
      },
      "cell_type": "code",
      "source": [
        "# [ ] find the type of the type(3) statement (no quotes) - just for fun\n",
        "\n"
      ],
      "execution_count": 15,
      "outputs": []
    },
    {
      "metadata": {
        "id": "jzh0ftABjZmv"
      },
      "cell_type": "markdown",
      "source": [
        "## Concept: Errors!\n",
        "Encountering and troubleshooting errors are fundamental parts of computer programming.\n",
        "\n",
        "### Example"
      ]
    },
    {
      "metadata": {
        "trusted": true,
        "colab": {
          "base_uri": "https://localhost:8080/",
          "height": 217
        },
        "id": "9oagTjTHjZmw",
        "outputId": "9a76edc8-64e8-4013-d16b-0337c367d9ca"
      },
      "cell_type": "code",
      "source": [
        "# [ ] Review & run code\n",
        "print(\"my number is \" + \"123\") \n",
        "print(\"my number is \" + 123) "
      ],
      "execution_count": 53,
      "outputs": [
        {
          "output_type": "stream",
          "name": "stdout",
          "text": [
            "my number is 123\n"
          ]
        },
        {
          "output_type": "error",
          "ename": "TypeError",
          "evalue": "ignored",
          "traceback": [
            "\u001b[0;31m---------------------------------------------------------------------------\u001b[0m",
            "\u001b[0;31mTypeError\u001b[0m                                 Traceback (most recent call last)",
            "\u001b[0;32m<ipython-input-53-8b32f310c55a>\u001b[0m in \u001b[0;36m<module>\u001b[0;34m()\u001b[0m\n\u001b[1;32m      1\u001b[0m \u001b[0;31m# [ ] Review & run code\u001b[0m\u001b[0;34m\u001b[0m\u001b[0;34m\u001b[0m\u001b[0;34m\u001b[0m\u001b[0m\n\u001b[1;32m      2\u001b[0m \u001b[0mprint\u001b[0m\u001b[0;34m(\u001b[0m\u001b[0;34m\"my number is \"\u001b[0m \u001b[0;34m+\u001b[0m \u001b[0;34m\"123\"\u001b[0m\u001b[0;34m)\u001b[0m\u001b[0;34m\u001b[0m\u001b[0;34m\u001b[0m\u001b[0m\n\u001b[0;32m----> 3\u001b[0;31m \u001b[0mprint\u001b[0m\u001b[0;34m(\u001b[0m\u001b[0;34m\"my number is \"\u001b[0m \u001b[0;34m+\u001b[0m \u001b[0;36m123\u001b[0m\u001b[0;34m)\u001b[0m\u001b[0;34m\u001b[0m\u001b[0;34m\u001b[0m\u001b[0m\n\u001b[0m",
            "\u001b[0;31mTypeError\u001b[0m: can only concatenate str (not \"int\") to str"
          ]
        }
      ]
    },
    {
      "metadata": {
        "id": "b-_Ei-LsjZmw"
      },
      "cell_type": "markdown",
      "source": [
        "#### TypeError\n",
        "The line  **`print(\"my number is \" + 123)`** causes the **`TypeError`** message to appear.  \n",
        "&gt;`TypeError: Can't convert 'int' object to str implicitly`  \n",
        "\n",
        "When adding to the string  `\"my number is \"`  the compiler is experiencing another string, but finds a number ***`123`**.  \n",
        "\n",
        "Python cannot convert the Integer   `123`  to a string without explicit instruction (in code). \n",
        "  \n",
        "In other words, Python only allows combining *like types*.\n",
        "- **`str`** + **`str`**\n",
        "- **`int`** + **`int`**\n"
      ]
    },
    {
      "metadata": {
        "id": "t2gw89mqjZmw"
      },
      "cell_type": "markdown",
      "source": [
        "## Task 2: Fix `TypeError` \n",
        "- Review the code in each cell below and then run the code\n",
        "- Fix any errors and run until the code no longer shows errors\n",
        "- Indicate in your comments what, if any, errors you found and how you fixed them. "
      ]
    },
    {
      "metadata": {
        "trusted": true,
        "colab": {
          "base_uri": "https://localhost:8080/"
        },
        "id": "dhxo2CFvjZmw",
        "outputId": "8ecccb7f-5e5e-40ce-f7d0-d938212dd65b"
      },
      "cell_type": "code",
      "source": [
        "total_cost = 3 + 45\n",
        "print(total_cost)"
      ],
      "execution_count": 18,
      "outputs": [
        {
          "output_type": "stream",
          "name": "stdout",
          "text": [
            "48\n"
          ]
        }
      ]
    },
    {
      "metadata": {
        "trusted": true,
        "colab": {
          "base_uri": "https://localhost:8080/"
        },
        "id": "6aqhA0jMjZmx",
        "outputId": "371f54e0-8ec0-4e2e-e5b6-88b6528a6056"
      },
      "cell_type": "code",
      "source": [
        "school_num = 123\n",
        "print('The street number of Central School is + ')\n",
        "print(school_num)"
      ],
      "execution_count": 54,
      "outputs": [
        {
          "output_type": "stream",
          "name": "stdout",
          "text": [
            "The street number of Central School is + \n",
            "123\n"
          ]
        }
      ]
    },
    {
      "metadata": {
        "id": "9CNKHyFRjZmx"
      },
      "cell_type": "markdown",
      "source": [
        "## Task 2 (cont.) \n",
        "- Check out the code below\n",
        "- In your comments write a hypothesis for what predict will happen when you add float + int \n",
        "- Run the code - were you correct?"
      ]
    },
    {
      "metadata": {
        "trusted": true,
        "id": "sFkTHGEnjZmy"
      },
      "cell_type": "code",
      "source": [
        "# Hypothesis: Would return as 6.3?\n",
        "# Edit: I was correct."
      ],
      "execution_count": 57,
      "outputs": []
    },
    {
      "metadata": {
        "trusted": true,
        "colab": {
          "base_uri": "https://localhost:8080/"
        },
        "id": "NiX8LA7XjZmy",
        "outputId": "24a21680-8e51-480a-ed33-2ecbb86145a5"
      },
      "cell_type": "code",
      "source": [
        "print(type(3.3))\n",
        "print(type(3))\n",
        "print(3.3 + 3)"
      ],
      "execution_count": 56,
      "outputs": [
        {
          "output_type": "stream",
          "name": "stdout",
          "text": [
            "<class 'float'>\n",
            "<class 'int'>\n",
            "6.3\n"
          ]
        }
      ]
    },
    {
      "metadata": {
        "id": "0w57cq7QjZmy"
      },
      "cell_type": "markdown",
      "source": [
        "[Terms of use](http://go.microsoft.com/fwlink/?LinkID=206977)   [Privacy &amp; cookies](https://go.microsoft.com/fwlink/?LinkId=521839)   © 2017 Microsoft"
      ]
    }
  ],
  "metadata": {
    "anaconda-cloud": {},
    "kernelspec": {
      "name": "python3",
      "display_name": "Python 3",
      "language": "python"
    },
    "language_info": {
      "mimetype": "text/x-python",
      "nbconvert_exporter": "python",
      "name": "python",
      "pygments_lexer": "ipython3",
      "version": "3.5.4",
      "file_extension": ".py",
      "codemirror_mode": {
        "version": 3,
        "name": "ipython"
      }
    },
    "colab": {
      "name": "JulianModuleTwoLessonTwoActivityTwo.ipynb",
      "provenance": []
    }
  },
  "nbformat": 4,
  "nbformat_minor": 0
}