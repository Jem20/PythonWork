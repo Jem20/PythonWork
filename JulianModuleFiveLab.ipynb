{
 "cells": [
  {
   "cell_type": "markdown",
   "metadata": {},
   "source": [
    "# Module Five Lab\n",
    "# Julian Monsalve 3/4/2022\n",
    "# In this lesson I've learned how to use variables in a while loop.\n",
    "# No difficulties.\n",
    "## `while()` Loops and Increments\n",
    "\n",
    "-----\n",
    "\n",
    "### Student will be able to\n",
    "- Create forever loops using `while` and `break`\n",
    "- Use incrementing variables in a while loop\n",
    "- Control while loops using Boolean operators"
   ]
  },
  {
   "cell_type": "markdown",
   "metadata": {},
   "source": [
    "## Tasks"
   ]
  },
  {
   "cell_type": "code",
   "execution_count": 5,
   "metadata": {},
   "outputs": [
    {
     "name": "stdout",
     "output_type": "stream",
     "text": [
      "12\n"
     ]
    }
   ],
   "source": [
    "# [ ] use a \"forever\" while loop to get user input of integers to add to sum, \n",
    "# until a non-digit is entered, then break the loop and print sum\n",
    "\n",
    "sum = 0\n",
    "\n",
    "while True:\n",
    "   int_input = input(\"Enter a whole number to make a sum: \")\n",
    "   if int_input.isdigit():\n",
    "      int_input = int(int_input)\n",
    "      sum += int_input\n",
    "\n",
    "   else: \n",
    "        print(sum)\n",
    "        break"
   ]
  },
  {
   "cell_type": "code",
   "execution_count": 22,
   "metadata": {},
   "outputs": [
    {
     "name": "stdout",
     "output_type": "stream",
     "text": [
      "Correct!\n"
     ]
    }
   ],
   "source": [
    "# [ ] use a while True loop (forever loop) to give 4 chances for input of a correct color in a rainbow\n",
    "# rainbow = \"red orange yellow green blue indigo violet\"\n",
    "\n",
    "rainbow = \"red orange yellow green blue indigo violet\"\n",
    "tries = 0\n",
    "while True:\n",
    "    color = input(\"Try your color: \")\n",
    "    tries += 1\n",
    "    if tries == 4:\n",
    "        break\n",
    "    elif color in rainbow.split():\n",
    "            print (\"Correct!\")\n",
    "            break"
   ]
  },
  {
   "cell_type": "code",
   "execution_count": 24,
   "metadata": {},
   "outputs": [
    {
     "name": "stdout",
     "output_type": "stream",
     "text": [
      "The Robbery is in the correct format!\n"
     ]
    }
   ],
   "source": [
    "# [ ] Get input for a book title, keep looping while input is Not in title format (title is every word capitalized)\n",
    "title = \"\"\n",
    "\n",
    "while True:\n",
    "    book = input(\"Enter a correct book title (the first letter of each word should be capitalized): \")\n",
    "    if book.istitle():\n",
    "        print(book, \"is in the correct format!\")\n",
    "        break\n",
    "    else: \n",
    "        title += book"
   ]
  },
  {
   "cell_type": "code",
   "execution_count": 37,
   "metadata": {},
   "outputs": [
    {
     "name": "stdout",
     "output_type": "stream",
     "text": [
      "Keep trying\n",
      "Keep trying\n",
      "Keep trying\n",
      "Keep trying\n",
      "Keep trying\n",
      "\n",
      "Nice Job!! 20 is correct.\n"
     ]
    }
   ],
   "source": [
    "# [ ] create a math quiz question and ask for the solution until the input is correct\n",
    "\n",
    "solution = \"20\"\n",
    "\n",
    "while True:\n",
    "    quiz = input(\"Enter the result of 10 times 2: \")\n",
    "    if quiz.isdigit() != True:\n",
    "       print(\"You have to enter a number solution. Try again\")\n",
    "    elif quiz == solution:\n",
    "        print(\"\\nNice Job!! 20 is correct.\")\n",
    "        break\n",
    "    else: \n",
    "        print(\"Keep trying\")"
   ]
  },
  {
   "cell_type": "markdown",
   "metadata": {},
   "source": [
    "## Fix the Error"
   ]
  },
  {
   "cell_type": "code",
   "execution_count": 42,
   "metadata": {},
   "outputs": [
    {
     "name": "stdout",
     "output_type": "stream",
     "text": [
      "you win!\n",
      "Game ended\n"
     ]
    }
   ],
   "source": [
    "# [ ] review the code, run, fix the error\n",
    "\n",
    "tickets = int(input(\"enter tickets remaining (0 to quit): \"))\n",
    "\n",
    "while tickets > 0:\n",
    "        # if tickets are multiple of 3 then \"winner\"\n",
    "    if tickets/3 == tickets/3:\n",
    "        print(\"you win!\")\n",
    "    else:\n",
    "        print(\"sorry, not a winner.\")\n",
    "    tickets = int(input(\"enter tickets remaining (0 to quit): \"))\n",
    "\n",
    "print(\"Game ended\")"
   ]
  },
  {
   "cell_type": "markdown",
   "metadata": {},
   "source": [
    "## Create a function: quiz_item()  that asks a question and tests if input is correct  \n",
    "- quiz_item()has 2 parameter **strings**: question and solution  \n",
    "- shows question, gets answer input  \n",
    "- returns True if `answer == solution` or continues to ask question until correct answer is provided  \n",
    "- use a while loop\n",
    "\n",
    "create 2 or more quiz questions that call quiz_item()  \n",
    "**Hint**: provide multiple choice or T/F answers"
   ]
  },
  {
   "cell_type": "code",
   "execution_count": 44,
   "metadata": {},
   "outputs": [
    {
     "name": "stdout",
     "output_type": "stream",
     "text": [
      "Try again\n",
      "Try again\n",
      "Try again\n",
      "Try again\n",
      "Try again\n"
     ]
    },
    {
     "data": {
      "text/plain": [
       "True"
      ]
     },
     "execution_count": 44,
     "metadata": {},
     "output_type": "execute_result"
    }
   ],
   "source": [
    "# Create quiz_item() and 2 or more quiz questions that call quiz_item()\n",
    "\n",
    "def quiz_item(question, solution):\n",
    "    answer = input(question)\n",
    "    while True: \n",
    "        if answer == solution:\n",
    "            return True\n",
    "            break\n",
    "        else: \n",
    "            print(\"Try again\")\n",
    "            answer = input(question)\n",
    "\n",
    "quiz_item(\"Are potato chips good for you?\",\"F\")\n",
    "\n",
    "quiz_item(\"Do you need to eat fruits and veggies?\",\"T\")\n",
    "\n",
    "quiz_item(\"Do you need to drink at least 6 glasses of water per day?\",\"T\")"
   ]
  },
  {
   "cell_type": "markdown",
   "metadata": {
    "collapsed": true
   },
   "source": [
    "[Terms of use](http://go.microsoft.com/fwlink/?LinkID=206977)   [Privacy &amp; cookies](https://go.microsoft.com/fwlink/?LinkId=521839)   © 2017 Microsoft"
   ]
  }
 ],
 "metadata": {
  "anaconda-cloud": {},
  "kernelspec": {
   "display_name": "Python 3",
   "language": "python",
   "name": "python3"
  },
  "language_info": {
   "codemirror_mode": {
    "name": "ipython",
    "version": 3
   },
   "file_extension": ".py",
   "mimetype": "text/x-python",
   "name": "python",
   "nbconvert_exporter": "python",
   "pygments_lexer": "ipython3",
   "version": "3.10.2"
  }
 },
 "nbformat": 4,
 "nbformat_minor": 1
}
