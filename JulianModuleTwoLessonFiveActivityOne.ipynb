{
  "cells": [
    {
      "cell_type": "markdown",
      "metadata": {
        "collapsed": true
      },
      "source": [
        "# Module Two Lesson Five Activity One\n",
        "# Julian Monsalve 2/1/2022\n",
        "# In this lesson I've learned how to gather and store use string `input()`.\n",
        "# No difficulties.\n",
        "## Quote Display and Boolean\n",
        "- input() - gathering user input  \n",
        "- print() formatting  \n",
        "- **Quotes inside strings** \n",
        "- **Boolean string tests methods**  \n",
        "- String formatting methods\n",
        "- Formatting string input()\n",
        "- Boolean `in` keyword \n",
        "\n",
        "-----\n",
        "\n",
        "### Student will be able to\n",
        "- Gather, store and use string `input()`  \n",
        "- Format `print()` output  \n",
        "- **Test string characteristics**  \n",
        "- Format string output\n",
        "- Search for a string in a string\n",
        "\n",
        "#### Before submission: Remember you need to add descriptive comments in each cell (examples AND tasks) that explains what your code is doing.  "
      ]
    },
    {
      "cell_type": "markdown",
      "metadata": {
        "collapsed": true
      },
      "source": [
        "## Concept: Quotes Inside Strings \n",
        "[![view video](https://iajupyterprodblobs.blob.core.windows.net/imagecontainer/common/play_video.png)]( http://edxinteractivepage.blob.core.windows.net/edxpages/f7cff1a7-5601-48a1-95a6-fd1fdfabd20e.html?details=[{\"src\":\"http://jupyternootbookwams.streaming.mediaservices.windows.net/c21bfb29-21f6-4bef-b00e-25d2f7440153/Unit1_Section2-3-Quotes_in_Strings.ism/manifest\",\"type\":\"application/vnd.ms-sstr+xml\"}],[{\"src\":\"http://jupyternootbookwams.streaming.mediaservices.windows.net/c21bfb29-21f6-4bef-b00e-25d2f7440153/Unit1_Section2-3-Quotes_in_Strings.vtt\",\"srclang\":\"en\",\"kind\":\"subtitles\",\"label\":\"english\"}])\n",
        "### Single quotes in double quotes\n",
        "To display single quotes **`'`** in a string - double quotes can be used as the outer quotes: **`\"it's time\"`**.\n",
        "### Double quotes in single quotes\n",
        "To display double quotes **`\"`** in a string- single quotes can be used as the outer quotes: **`'Alton said \"Hello\"'`**."
      ]
    },
    {
      "cell_type": "markdown",
      "metadata": {},
      "source": [
        "### Examples"
      ]
    },
    {
      "cell_type": "code",
      "execution_count": 14,
      "metadata": {
        "trusted": false
      },
      "outputs": [
        {
          "name": "stdout",
          "output_type": "stream",
          "text": [
            "It's time to save your code\n",
            "I said to the class \"sometimes you need to shut down and restart a notebook when cells refuse to run\"\n"
          ]
        }
      ],
      "source": [
        "# review and run the code\n",
        "\n",
        "print(\"It's time to save your code\")\n",
        "\n",
        "print('I said to the class \"sometimes you need to shut down and restart a notebook when cells refuse to run\"')"
      ]
    },
    {
      "cell_type": "markdown",
      "metadata": {},
      "source": [
        "## Task 1: Print with quotes\n",
        "- **[ ] using a print statement, display the text: Where's the homework?**"
      ]
    },
    {
      "cell_type": "code",
      "execution_count": 1,
      "metadata": {
        "trusted": false
      },
      "outputs": [
        {
          "name": "stdout",
          "output_type": "stream",
          "text": [
            "Wheres the homework?\n"
          ]
        }
      ],
      "source": [
        "print(\"Where's the homework?\")"
      ]
    },
    {
      "cell_type": "markdown",
      "metadata": {},
      "source": [
        " - **[ ] output with double quotes: \"Education is what remains after one has forgotten what one has learned in school\" - Albert Einstein**"
      ]
    },
    {
      "cell_type": "code",
      "execution_count": 2,
      "metadata": {
        "trusted": false
      },
      "outputs": [
        {
          "name": "stdout",
          "output_type": "stream",
          "text": [
            "Education is what remains after one has forgotten what one has learned in school\" - Albert Einstein\n"
          ]
        }
      ],
      "source": [
        "print('Education is what remains after one has forgotten what one has learned in school\" - Albert Einstein')"
      ]
    },
    {
      "cell_type": "markdown",
      "metadata": {
        "collapsed": true
      },
      "source": [
        "&gt;**Note:** Quotes in quotes handles only simple cases of displaying quotation marks.  More complex cases are covered later under *escape sequences.*"
      ]
    },
    {
      "cell_type": "markdown",
      "metadata": {
        "collapsed": true
      },
      "source": [
        "## Concept: Boolean String Tests\n",
        "[![view video](https://iajupyterprodblobs.blob.core.windows.net/imagecontainer/common/play_video.png)]( http://edxinteractivepage.blob.core.windows.net/edxpages/f7cff1a7-5601-48a1-95a6-fd1fdfabd20e.html?details=[{\"src\":\"https://jupyternootbookwams.streaming.mediaservices.windows.net/dfe6e85f-8022-471c-8d92-0b1d61ebffbd/Unit1_Section2-3-Boolean_String_Methods.ism/manifest\",\"type\":\"application/vnd.ms-sstr+xml\"}],[{\"src\":\"https://jupyternootbookwams.streaming.mediaservices.windows.net/dfe6e85f-8022-471c-8d92-0b1d61ebffbd/Unit1_Section2-3-Boolean_String_Methods.vtt\",\"srclang\":\"en\",\"kind\":\"subtitles\",\"label\":\"english\"}])\n",
        "Methods:\n",
        "- .isalpha()\n",
        "- .isalnum()\n",
        "- .istitle()\n",
        "- .isdigit()\n",
        "- .islower()\n",
        "- .isupper()\n",
        "- .startswith()\n",
        "\n",
        "Type **`str`** has methods that return a Boolean (True or False) for different tests on the properties of strings.\n",
        "&gt;```Python\n",
        "\"Hello\".isapha()\n",
        "```\n",
        "out:[ ]     `True`  \n",
        "  \n",
        "`.isalpha()` returns True if all characters in the string (\"Hello\") are alphabetical, otherwise returns False.\n"
      ]
    },
    {
      "cell_type": "markdown",
      "metadata": {},
      "source": [
        "### Examples: Boolean String Tests\n",
        "- **[ ] Review and run code in each cell**"
      ]
    },
    {
      "cell_type": "code",
      "execution_count": 3,
      "metadata": {
        "trusted": false
      },
      "outputs": [
        {
          "data": {
            "text/plain": [
              "True"
            ]
          },
          "execution_count": 3,
          "metadata": {},
          "output_type": "execute_result"
        }
      ],
      "source": [
        "\"Python\".isalpha()"
      ]
    },
    {
      "cell_type": "code",
      "execution_count": 4,
      "metadata": {
        "trusted": false
      },
      "outputs": [
        {
          "data": {
            "text/plain": [
              "True"
            ]
          },
          "execution_count": 4,
          "metadata": {},
          "output_type": "execute_result"
        }
      ],
      "source": [
        "\"3rd\".isalnum()"
      ]
    },
    {
      "cell_type": "code",
      "execution_count": 5,
      "metadata": {
        "trusted": false
      },
      "outputs": [
        {
          "data": {
            "text/plain": [
              "True"
            ]
          },
          "execution_count": 5,
          "metadata": {},
          "output_type": "execute_result"
        }
      ],
      "source": [
        "\"A Cold Stromy Night\".istitle()"
      ]
    },
    {
      "cell_type": "code",
      "execution_count": 6,
      "metadata": {
        "trusted": false
      },
      "outputs": [
        {
          "data": {
            "text/plain": [
              "True"
            ]
          },
          "execution_count": 6,
          "metadata": {},
          "output_type": "execute_result"
        }
      ],
      "source": [
        "\"1003\".isdigit()"
      ]
    },
    {
      "cell_type": "code",
      "execution_count": 7,
      "metadata": {
        "trusted": false
      },
      "outputs": [
        {
          "name": "stdout",
          "output_type": "stream",
          "text": [
            "cm height: 176 is all digits = True\n"
          ]
        }
      ],
      "source": [
        "cm_height = \"176\"\n",
        "print(\"cm height:\",cm_height, \"is all digits =\",cm_height.isdigit())"
      ]
    },
    {
      "cell_type": "code",
      "execution_count": 8,
      "metadata": {
        "trusted": false
      },
      "outputs": [
        {
          "name": "stdout",
          "output_type": "stream",
          "text": [
            "False\n",
            "True\n"
          ]
        }
      ],
      "source": [
        "print(\"SAVE\".islower())\n",
        "print(\"SAVE\".isupper())"
      ]
    },
    {
      "cell_type": "code",
      "execution_count": 9,
      "metadata": {
        "trusted": false
      },
      "outputs": [
        {
          "data": {
            "text/plain": [
              "True"
            ]
          },
          "execution_count": 9,
          "metadata": {},
          "output_type": "execute_result"
        }
      ],
      "source": [
        "\"Boolean\".startswith(\"Bo\")"
      ]
    },
    {
      "cell_type": "markdown",
      "metadata": {},
      "source": [
        "## Task 2 (multi-part): Test strings with **`.isalpha()`**\n",
        " - **[ ] Use .isalpha() on the string \"alphabetical\"**"
      ]
    },
    {
      "cell_type": "code",
      "execution_count": 11,
      "metadata": {
        "trusted": false
      },
      "outputs": [
        {
          "data": {
            "text/plain": [
              "True"
            ]
          },
          "execution_count": 11,
          "metadata": {},
          "output_type": "execute_result"
        }
      ],
      "source": [
        "\"alphabetical\".isalpha()"
      ]
    },
    {
      "cell_type": "markdown",
      "metadata": {},
      "source": [
        " - **[ ] Use .isalpha() on the string \"Are spaces and punctuation Alphabetical?\"**"
      ]
    },
    {
      "cell_type": "code",
      "execution_count": 12,
      "metadata": {
        "trusted": false
      },
      "outputs": [
        {
          "data": {
            "text/plain": [
              "False"
            ]
          },
          "execution_count": 12,
          "metadata": {},
          "output_type": "execute_result"
        }
      ],
      "source": [
        "\"Are spaces and punctuation Alphabetical?\".isalpha()"
      ]
    },
    {
      "cell_type": "markdown",
      "metadata": {},
      "source": [
        " - **[ ] Initailize variable alpha_test with input**\n",
        " - **[ ] Use .isalpha() on string variable alpha_test**"
      ]
    },
    {
      "cell_type": "code",
      "execution_count": 13,
      "metadata": {
        "trusted": false
      },
      "outputs": [
        {
          "data": {
            "text/plain": [
              "True"
            ]
          },
          "execution_count": 13,
          "metadata": {},
          "output_type": "execute_result"
        }
      ],
      "source": [
        "alpha_test = \"Hello\"\n",
        "alpha_test.isalpha()"
      ]
    },
    {
      "cell_type": "markdown",
      "metadata": {},
      "source": [
        "[Terms of use](http://go.microsoft.com/fwlink/?LinkID=206977)   [Privacy &amp; cookies](https://go.microsoft.com/fwlink/?LinkId=521839)   © 2017 Microsoft"
      ]
    }
  ],
  "metadata": {
    "anaconda-cloud": {},
    "kernelspec": {
      "display_name": "Python 3",
      "language": "python",
      "name": "python3"
    },
    "language_info": {
      "codemirror_mode": {
        "name": "ipython",
        "version": 3
      },
      "file_extension": ".py",
      "mimetype": "text/x-python",
      "name": "python",
      "nbconvert_exporter": "python",
      "pygments_lexer": "ipython3",
      "version": "3.10.2"
    }
  },
  "nbformat": 4,
  "nbformat_minor": 1
}
