{
  "cells": [
    {
      "cell_type": "markdown",
      "metadata": {
        "collapsed": true
      },
      "source": [
        "# Module Two Lesson Four Practice Activity\n",
        "# Julian Monsalve 1/31/2022\n",
        "# In this lesson I have learned how to format `print()` output and search for a string in a string.\n",
        "# No difficulties at all.\n",
        "## Input\n",
        "- **input() - gathering user input**  \n",
        "- print() formatting \n",
        "- Quotes inside strings\n",
        "- Boolean string tests methods\n",
        "- String formatting methods\n",
        "- Formatting string input()\n",
        "- Boolean `in` keyword \n",
        "\n",
        "-----\n",
        "\n",
        "### Student will be able to\n",
        "- **Gather, store and use string `input()`**  \n",
        "- Format `print()` output\n",
        "- Test string characteristics\n",
        "- Format string output\n",
        "- Search for a string in a string\n",
        "\n",
        "#### Before submission: Remember you need to add descriptive comments in each cell (examples AND tasks) that explains what your code is doing.  "
      ]
    },
    {
      "cell_type": "markdown",
      "metadata": {
        "collapsed": true
      },
      "source": [
        "## Concept: Get Information from Users with `input()`  \n",
        "The **`input()`** function prompts the user to supply data returning that data as a string.\n",
        "\n",
        "[![view video](https://iajupyterprodblobs.blob.core.windows.net/imagecontainer/common/play_video.png)]( http://edxinteractivepage.blob.core.windows.net/edxpages/f7cff1a7-5601-48a1-95a6-fd1fdfabd20e.html?details=[{\"src\":\"http://jupyternootbookwams.streaming.mediaservices.windows.net/7a8881cb-0bdd-493c-b1a1-9849a95d05e6/Unit1_Section2-1-input-basic.ism/manifest\",\"type\":\"application/vnd.ms-sstr+xml\"}],[{\"src\":\"http://jupyternootbookwams.streaming.mediaservices.windows.net/7a8881cb-0bdd-493c-b1a1-9849a95d05e6/Unit1_Section2-1-input-basic.vtt\",\"srclang\":\"en\",\"kind\":\"subtitles\",\"label\":\"english\"}])\n"
      ]
    },
    {
      "cell_type": "markdown",
      "metadata": {},
      "source": [
        "### Examples"
      ]
    },
    {
      "cell_type": "code",
      "execution_count": 1,
      "metadata": {
        "trusted": false
      },
      "outputs": [
        {
          "name": "stdout",
          "output_type": "stream",
          "text": [
            "enter a small int: \n",
            "small int: \n",
            "e\n"
          ]
        }
      ],
      "source": [
        "# review and run code \n",
        "print(\"enter a small int: \")\n",
        "small_int = input()\n",
        "print(\"small int: \")\n",
        "print(small_int)"
      ]
    },
    {
      "cell_type": "markdown",
      "metadata": {},
      "source": [
        "## Task 1: Storing input in a variable\n",
        "- **[ ]** Create code to store input in student_name variable  \n",
        "An input box should when run:\n",
        "- **[ ]** type a name in the input box and press **Enter**\n",
        "- **[ ]** determine the **`type()`** of **student_name**"
      ]
    },
    {
      "cell_type": "code",
      "execution_count": 6,
      "metadata": {
        "trusted": false
      },
      "outputs": [
        {
          "name": "stdout",
          "output_type": "stream",
          "text": [
            "student name: \n",
            "katie\n"
          ]
        }
      ],
      "source": [
        "student_name = input(\"Katie\")\n",
        "print(\"student name: \")\n",
        "print(student_name)"
      ]
    },
    {
      "cell_type": "markdown",
      "metadata": {},
      "source": [
        "### Task 1 continued...\n",
        "&gt; **Note**: **`input()`** returns a string (type = str) regardless of entry\n",
        "- If a string is entered **`input()`** returns a string\n",
        "- If a number is entered **`input()`** returns a string  \n",
        "  \n",
        "- **[ ]** Determine the **`type()`**  of input below by entering\n",
        "  - A name\n",
        "  - An integer (whole number no decimal)\n",
        "  - A float number with a decimal point"
      ]
    },
    {
      "cell_type": "code",
      "execution_count": 23,
      "metadata": {
        "trusted": false
      },
      "outputs": [
        {
          "name": "stdout",
          "output_type": "stream",
          "text": [
            "Andy\n",
            "20\n",
            "6.2\n"
          ]
        }
      ],
      "source": [
        "test_input = input(\"Name: \")\n",
        "test_input2 = input(\"Age: \")\n",
        "test_input3 = input(\"Height: \")\n",
        "print(test_input)\n",
        "print(test_input2)\n",
        "print(test_input3)"
      ]
    },
    {
      "cell_type": "markdown",
      "metadata": {},
      "source": [
        "## Concept: User Prompts using `input()`\n",
        "\n",
        "The **`input()`** function has an optional string argument which displays the string intended to inform a user what to enter  \n",
        "**`input()`** works similar to **`print()`** in the way it displays arguments as output.\n",
        "\n",
        "[![view video](https://iajupyterprodblobs.blob.core.windows.net/imagecontainer/common/play_video.png)]( http://edxinteractivepage.blob.core.windows.net/edxpages/f7cff1a7-5601-48a1-95a6-fd1fdfabd20e.html?details=[{\"src\":\"http://jupyternootbookwams.streaming.mediaservices.windows.net/c607aa57-b18b-4f29-a317-7b13db66d8e8/Unit1_Section2-1-input-prompt.ism/manifest\",\"type\":\"application/vnd.ms-sstr+xml\"}],[{\"src\":\"http://jupyternootbookwams.streaming.mediaservices.windows.net/c607aa57-b18b-4f29-a317-7b13db66d8e8/Unit1_Section2-1-input-prompt.vtt\",\"srclang\":\"en\",\"kind\":\"subtitles\",\"label\":\"english\"}])\n"
      ]
    },
    {
      "cell_type": "markdown",
      "metadata": {},
      "source": [
        "### Examples"
      ]
    },
    {
      "cell_type": "code",
      "execution_count": 13,
      "metadata": {
        "trusted": false
      },
      "outputs": [
        {
          "name": "stdout",
          "output_type": "stream",
          "text": [
            "Hi John\n"
          ]
        }
      ],
      "source": [
        "student_name = input(\"enter the student name: \")  \n",
        "print(\"Hi \" + student_name)"
      ]
    },
    {
      "cell_type": "markdown",
      "metadata": {},
      "source": [
        "## Task 2: Prompting the user for input\n",
        "- **[ ]** create a variable named **city** to store input, add a prompt for the name of a city\n",
        "- **[ ]** get user input for a city name in the variable named city\n",
        "- **[ ]** print \"the city name is \" followed by the value stored in **city**"
      ]
    },
    {
      "cell_type": "code",
      "execution_count": 30,
      "metadata": {
        "trusted": false
      },
      "outputs": [
        {
          "name": "stdout",
          "output_type": "stream",
          "text": [
            "The city name is New York\n"
          ]
        }
      ],
      "source": [
        "city = input(\"Enter city name: \")  \n",
        "print(\"The city name is \" + city)"
      ]
    },
    {
      "cell_type": "markdown",
      "metadata": {
        "collapsed": true
      },
      "source": [
        "### Task 2 continued \n",
        "## Multiple prompts for user input\n",
        "Often programs need information on multiple items.\n",
        "- **[ ]** create variables to store input: **name**, **age**, **get_mail**\n",
        "- **[ ]** create prompts for name, age and yes/no to being on an email list\n",
        "- **[ ]** print description + input values for each variable\n",
        "\n",
        "&gt;Example print output:  \n",
        "`name = Alton`  \n",
        "`age =  17`  \n",
        "`wants email = yes`  \n",
        "  \n",
        "**Tip:** With multiple input statements, after each prompt, **click 'in' the input box** to continue entering input. "
      ]
    },
    {
      "cell_type": "code",
      "execution_count": 35,
      "metadata": {
        "trusted": false
      },
      "outputs": [
        {
          "name": "stdout",
          "output_type": "stream",
          "text": [
            "name = Jem\n",
            "age = 14\n",
            "wants email = No\n"
          ]
        }
      ],
      "source": [
        "name = input(\"Name: \")\n",
        "age = input(\"Age: \")\n",
        "get_mail = input(\"Wants mail? \")\n",
        "\n",
        "print(\"name =\",name)\n",
        "print(\"age =\",age)\n",
        "print(\"wants email =\",get_mail)"
      ]
    },
    {
      "cell_type": "markdown",
      "metadata": {},
      "source": [
        "[Terms of use](http://go.microsoft.com/fwlink/?LinkID=206977)   [Privacy &amp; cookies](https://go.microsoft.com/fwlink/?LinkId=521839)   © 2017 Microsoft"
      ]
    }
  ],
  "metadata": {
    "anaconda-cloud": {},
    "kernelspec": {
      "display_name": "Python 3",
      "language": "python",
      "name": "python3"
    },
    "language_info": {
      "codemirror_mode": {
        "name": "ipython",
        "version": 3
      },
      "file_extension": ".py",
      "mimetype": "text/x-python",
      "name": "python",
      "nbconvert_exporter": "python",
      "pygments_lexer": "ipython3",
      "version": "3.10.2"
    }
  },
  "nbformat": 4,
  "nbformat_minor": 1
}
